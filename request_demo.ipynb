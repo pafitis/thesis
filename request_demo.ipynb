{
 "metadata": {
  "language_info": {
   "codemirror_mode": {
    "name": "ipython",
    "version": 3
   },
   "file_extension": ".py",
   "mimetype": "text/x-python",
   "name": "python",
   "nbconvert_exporter": "python",
   "pygments_lexer": "ipython3",
   "version": "3.9.2"
  },
  "orig_nbformat": 2,
  "kernelspec": {
   "name": "python39264bitcomp0087conda439ae987b69d4c2b958b538715e3f45b",
   "display_name": "Python 3.9.2 64-bit ('comp0087': conda)"
  },
  "metadata": {
   "interpreter": {
    "hash": "6b9679e1c6c858221750b0560d352a46169916bc602dce44bbd2a48d631c8c5d"
   }
  }
 },
 "nbformat": 4,
 "nbformat_minor": 2,
 "cells": [
  {
   "cell_type": "code",
   "execution_count": 317,
   "metadata": {},
   "outputs": [],
   "source": [
    "import requests\n",
    "import json\n",
    "import re\n",
    "import numpy as np\n",
    "import pandas as pd\n",
    "\n",
    "from bs4 import BeautifulSoup\n",
    "from lxml import etree\n"
   ]
  },
  {
   "cell_type": "code",
   "execution_count": 89,
   "metadata": {},
   "outputs": [],
   "source": [
    "API_URL = 'https://api.beta.ons.gov.uk/v1/datasets'\n",
    "RSS_URL = 'https://backfeed.strangecode.com/DxbyswYRHTXxwBFbsk/http://www.ons.gov.uk/releasecalendar%3Frss'\n",
    "RSS_URL2 = 'https://www.ons.gov.uk/releasecalendar?rss'"
   ]
  },
  {
   "cell_type": "code",
   "execution_count": 341,
   "metadata": {},
   "outputs": [],
   "source": [
    "def get_publications_and_datasets(link):\n",
    "    log = requests.get(link)\n",
    "    soup = BeautifulSoup(log.content, features= 'html')\n",
    "    \n",
    "    h3_source = soup.findAll('h3') # Publications under an h3 header\n",
    "    publications = soup.find_all('a', {'data-gtm-type': 'related-publications'})\n",
    "    datasets = soup.find_all('a', {'data-gtm-type': 'related-datasets'})\n",
    "\n",
    "    related_publications = {x.getText(): 'https://www.ons.gov.uk/'+x['href'] for x in publications}\n",
    "    related_datasets = {x.getText(): 'https://www.ons.gov.uk/'+x['href'] for x in datasets}\n",
    "    \n",
    "    return related_publications, related_datasets\n",
    "\n",
    "def read_publication(\n",
    "    link, \n",
    "    min_text_len = 3, return_ptags = True, return_litags = False,\n",
    "    remove_duplicates = True, preprocess = True):\n",
    "\n",
    "    '''\n",
    "    link: url of ONS publication\n",
    "    min_text_len: minimum number of words in each sentence\n",
    "    return_ptags: return any text that was in <p> tags\n",
    "    return_litags: return any text that was in <li> tags\n",
    "    remove_duplicates: checks and removes duplicate text\n",
    "    preprocess: \n",
    "        removes text with links,\n",
    "\n",
    "    '''\n",
    "\n",
    "    log = requests.get(link)\n",
    "    soup = BeautifulSoup(log.content, features = 'html')\n",
    "\n",
    "    # the reason I am checking for no additional styling attributes\n",
    "    # is because the ONS data uses the default for the content of interest\n",
    "    if return_ptags:\n",
    "        ptags = soup.find_all(lambda tag: tag.name == 'p' and not tag.attrs)\n",
    "        \n",
    "    if return_litags:\n",
    "        litags = soup.find_all(lambda tag: tag.name == 'li' and not tag.attrs)\n",
    "    \n",
    "    # concat together\n",
    "    if return_ptags and return_litags:\n",
    "        all_text = [x.get_text() for x in (ptags + litags) if len(x.get_text().split()) > min_text_len]\n",
    "    elif return_ptags and not return_litags:\n",
    "        all_text = [x.get_text() for x in ptags if len(x.get_text().split()) > min_text_len]\n",
    "    elif return_litags and not return_ptags:\n",
    "        all_text = [x.get_text() for x in litags if len(x.get_text().split()) > min_text_len]\n",
    "    else:\n",
    "        raise ValueError('Did you set both return_ptag and return_litag to False?')\n",
    "        \n",
    "    # remove duplicates\n",
    "    if remove_duplicates:\n",
    "        all_text = np.unique(all_text)\n",
    "    \n",
    "    # preprocess\n",
    "    if preprocess:\n",
    "        preprocessed = []\n",
    "        for string in all_text:\n",
    "\n",
    "            # remove | because its only present in related_links\n",
    "            # remove all references to twitter as these are only for following X account\n",
    "            # remove all self references to ONS, as these are contact details\n",
    "            if not any(bad_terms in string for bad_terms in [\n",
    "                '|', 'twitter', 'Twitter', 'Office for National Statistics', 'Totals may not sum due to rounding'\n",
    "                ]):\n",
    "\n",
    "                # remove trailing whitespace\n",
    "                string = string.strip()\n",
    "                # remove urls\n",
    "                string = re.sub(r'http\\S+', '', string)\n",
    "                # remove \\\" symbol \n",
    "                string = re.sub('\\\"', '', string)\n",
    "                preprocessed.append(string)\n",
    "\n",
    "        return preprocessed\n",
    "\n",
    "    return all_text"
   ]
  },
  {
   "cell_type": "code",
   "execution_count": 343,
   "metadata": {},
   "outputs": [],
   "source": [
    "log = requests.get(RSS_URL)\n",
    "soup = BeautifulSoup(log.content, features = 'xml')\n",
    "\n",
    "articles = soup.findAll('item')\n",
    "result_list = []\n",
    "for article in articles:\n",
    "    title = article.find('title').text\n",
    "    link = article.find('link').text\n",
    "    date = article.find('pubDate').text\n",
    "\n",
    "    publications, datasets = get_publications_and_datasets(link)\n",
    "\n",
    "    entry = {\n",
    "        'title': title,\n",
    "        'link': link,\n",
    "        'publications': publications,\n",
    "        'datasets': datasets,\n",
    "        'date': date\n",
    "    }\n",
    "\n",
    "    result_list.append(entry)"
   ]
  },
  {
   "cell_type": "code",
   "execution_count": 344,
   "metadata": {},
   "outputs": [
    {
     "output_type": "execute_result",
     "data": {
      "text/plain": [
       "[{'title': 'Sexual orientation, UK: 2019',\n",
       "  'link': 'https://www.ons.gov.uk/releases/sexualorientationuk2019',\n",
       "  'publications': {'Sexual orientation, UK: 2019': 'https://www.ons.gov.uk//peoplepopulationandcommunity/culturalidentity/sexuality/bulletins/sexualidentityuk/2019'},\n",
       "  'datasets': {'Sexual orientation, UK': 'https://www.ons.gov.uk//peoplepopulationandcommunity/culturalidentity/sexuality/datasets/sexualidentityuk'},\n",
       "  'date': 'Thu, 27 May 2021 08:30:00 GMT'},\n",
       " {'title': 'Economic activity and social change in the UK, real-time indicators: 27 May 2021',\n",
       "  'link': 'https://www.ons.gov.uk/releases/economicactivityandsocialchangeintheukrealtimeindicators27may2021',\n",
       "  'publications': {'Economic activity and social change in the UK, real-time indicators: 27 May 2021': 'https://www.ons.gov.uk//economy/economicoutputandproductivity/output/bulletins/economicactivityandsocialchangeintheukrealtimeindicators/27may2021'},\n",
       "  'datasets': {'Weekly shipping indicators': 'https://www.ons.gov.uk//economy/economicoutputandproductivity/output/datasets/weeklyshippingindicators',\n",
       "   'Online weekly price changes': 'https://www.ons.gov.uk//economy/inflationandpriceindices/datasets/onlineweeklypricechanges',\n",
       "   'Online job advert estimates': 'https://www.ons.gov.uk//economy/economicoutputandproductivity/output/datasets/onlinejobadvertestimates',\n",
       "   'Traffic camera activity': 'https://www.ons.gov.uk//economy/economicoutputandproductivity/output/datasets/trafficcameraactivity',\n",
       "   'UK spending on credit and debit cards': 'https://www.ons.gov.uk//economy/economicoutputandproductivity/output/datasets/ukspendingoncreditanddebitcards',\n",
       "   'Company incorporations and voluntary dissolutions': 'https://www.ons.gov.uk//economy/economicoutputandproductivity/output/datasets/companyincorporationsandvoluntarydissolutions',\n",
       "   'Vehicle flows around ports ': 'https://www.ons.gov.uk//economy/economicoutputandproductivity/output/datasets/vehicleflowsaroundports'},\n",
       "  'date': 'Thu, 27 May 2021 08:30:00 GMT'},\n",
       " {'title': 'EU Exit and the social impacts on adults in Great Britain: 7 January to 14 March 2021',\n",
       "  'link': 'https://www.ons.gov.uk/releases/euexitandthesocialimpactsonadultsingreatbritain7januaryto14march2021',\n",
       "  'publications': {},\n",
       "  'datasets': {},\n",
       "  'date': 'Thu, 27 May 2021 08:30:00 GMT'},\n",
       " {'title': 'COVID-19 Schools Infection Survey, antibody data for Round 4: March 2021',\n",
       "  'link': 'https://www.ons.gov.uk/releases/covid19schoolsinfectionsurveyantibodydataforround4march2020',\n",
       "  'publications': {'COVID-19 Schools Infection Survey Round 4, England: antibody data, March 2021': 'https://www.ons.gov.uk//peoplepopulationandcommunity/healthandsocialcare/conditionsanddiseases/bulletins/covid19schoolsinfectionsurveyround4england/antibodydatamarch2021'},\n",
       "  'datasets': {'COVID-19 Schools Infection Survey Round 4': 'https://www.ons.gov.uk//peoplepopulationandcommunity/healthandsocialcare/conditionsanddiseases/datasets/covid19schoolsinfectionsurveyround4'},\n",
       "  'date': 'Thu, 27 May 2021 08:30:00 GMT'},\n",
       " {'title': 'Young people not in education, employment or training (NEET), UK: May 2021',\n",
       "  'link': 'https://www.ons.gov.uk/releases/youngpeoplenotineducationemploymentortrainingneetukmay2021',\n",
       "  'publications': {'Young people not in education, employment or training (NEET), UK: May 2021': 'https://www.ons.gov.uk//employmentandlabourmarket/peoplenotinwork/unemployment/bulletins/youngpeoplenotineducationemploymentortrainingneet/may2021'},\n",
       "  'datasets': {'Sampling variability for estimates of young people not in education, employment or training (NEET)': 'https://www.ons.gov.uk//employmentandlabourmarket/peoplenotinwork/unemployment/datasets/youngpeoplenotineducationemploymentortrainingneettable2samplingvariabilities',\n",
       "   'Young people not in education, employment or training (NEET)': 'https://www.ons.gov.uk//employmentandlabourmarket/peoplenotinwork/unemployment/datasets/youngpeoplenotineducationemploymentortrainingneettable1'},\n",
       "  'date': 'Thu, 27 May 2021 08:30:00 GMT'},\n",
       " {'title': 'Coronavirus (COVID-19) in charts: What we learned over the past month (May 2021)',\n",
       "  'link': 'https://www.ons.gov.uk/releases/coronaviruscovid19inchartswhatwelearnedoverthepastmonthmay2021',\n",
       "  'publications': {'Coronavirus (COVID-19) in charts: What we learned over the past month (May 2021) ': 'https://www.ons.gov.uk//peoplepopulationandcommunity/healthandsocialcare/conditionsanddiseases/articles/coronaviruscovid19inchartswhatwelearnedoverthepastmonthmay2021/2021-05-27'},\n",
       "  'datasets': {},\n",
       "  'date': 'Thu, 27 May 2021 08:30:00 GMT'},\n",
       " {'title': 'Short-Term International Migration for England and Wales: year ending June 2019',\n",
       "  'link': 'https://www.ons.gov.uk/releases/shortterminternationalmigrationforenglandandwalesyearendingjune2019',\n",
       "  'publications': {'Short-Term International Migration for England and Wales: year ending June 2019': 'https://www.ons.gov.uk//peoplepopulationandcommunity/populationandmigration/internationalmigration/bulletins/shortterminternationalmigrationannualreport/yearendingjune2019'},\n",
       "  'datasets': {'Short-term international migration 01, Citizenship by main reason for migration - flows, England and Wales': 'https://www.ons.gov.uk//peoplepopulationandcommunity/populationandmigration/internationalmigration/datasets/shorttermmigrationestimatesforenglandandwalesstim01citizenshipbymainreasonformigrationflows'},\n",
       "  'date': 'Thu, 27 May 2021 08:30:00 GMT'},\n",
       " {'title': 'Coronavirus and contributors to subnational wellbeing, January to March 2021',\n",
       "  'link': 'https://www.ons.gov.uk/releases/coronavirusandcontributorstosubnationalwellbeingjanuarytomarch2021',\n",
       "  'publications': {'Coronavirus and contributors to subnational well-being: January to March 2021': 'https://www.ons.gov.uk//peoplepopulationandcommunity/wellbeing/bulletins/coronavirusandcontributorstosubnationalwellbeing/januarytomarch2021'},\n",
       "  'datasets': {'Coronavirus and contributors to subnational well-being by local authority, January to March 2021': 'https://www.ons.gov.uk//peoplepopulationandcommunity/wellbeing/datasets/coronavirusandcontributorstosubnationalwellbeingbylocalauthorityjanuarytomarch2021',\n",
       "   'Coronavirus and contributors to subnational well-being, percentage estimates January to March 2021': 'https://www.ons.gov.uk//peoplepopulationandcommunity/wellbeing/datasets/coronavirusandcontributorstosubnationalwellbeingpercentageestimatesjanuarytomarch2021',\n",
       "   'Coronavirus and contributors to subnational well-being, mean happiness January to March 2021': 'https://www.ons.gov.uk//peoplepopulationandcommunity/wellbeing/datasets/coronavirusandcontributorstosubnationalwellbeingmeanhappinessjanuarytomarch2021'},\n",
       "  'date': 'Wed, 26 May 2021 08:30:00 GMT'},\n",
       " {'title': 'Births and infant mortality by ethnicity in England and Wales: 2007 to 2019',\n",
       "  'link': 'https://www.ons.gov.uk/releases/birthsandinfantmortalitybyethnicityinenglandandwales2007to2019',\n",
       "  'publications': {'Births and infant mortality by ethnicity in England and Wales: 2007 to 2019': 'https://www.ons.gov.uk//peoplepopulationandcommunity/healthandsocialcare/childhealth/articles/birthsandinfantmortalitybyethnicityinenglandandwales/2007to2019'},\n",
       "  'datasets': {'Births and infant mortality by ethnicity, England and Wales': 'https://www.ons.gov.uk//peoplepopulationandcommunity/healthandsocialcare/childhealth/datasets/birthsandinfantmortalitybyethnicityenglandandwales'},\n",
       "  'date': 'Wed, 26 May 2021 08:30:00 GMT'},\n",
       " {'title': 'Coronavirus and self-isolation after being in contact with a positive case in England: 4 to 8 May 2021',\n",
       "  'link': 'https://www.ons.gov.uk/releases/coronavirusandselfisolationafterbeingincontactwithapositivecaseinengland4to8may2021',\n",
       "  'publications': {'Coronavirus and self-isolation after being in contact with a positive case in England: 4 to 8 May 2021': 'https://www.ons.gov.uk//peoplepopulationandcommunity/healthandsocialcare/conditionsanddiseases/bulletins/coronavirusandselfisolationafterbeingincontactwithapositivecaseinengland/4to8may2021'},\n",
       "  'datasets': {'Coronavirus and self-isolation after being in contact with a positive case in England': 'https://www.ons.gov.uk//peoplepopulationandcommunity/healthandsocialcare/conditionsanddiseases/datasets/coronavirusandselfisolationafterbeingincontactwithapositivecaseinengland'},\n",
       "  'date': 'Wed, 26 May 2021 08:30:00 GMT'}]"
      ]
     },
     "metadata": {},
     "execution_count": 344
    }
   ],
   "source": [
    "result_list"
   ]
  },
  {
   "cell_type": "code",
   "execution_count": 353,
   "metadata": {},
   "outputs": [
    {
     "output_type": "execute_result",
     "data": {
      "text/plain": [
       "{'COVID-19 Schools Infection Survey Round 4, England: antibody data, March 2021': 'https://www.ons.gov.uk//peoplepopulationandcommunity/healthandsocialcare/conditionsanddiseases/bulletins/covid19schoolsinfectionsurveyround4england/antibodydatamarch2021'}"
      ]
     },
     "metadata": {},
     "execution_count": 353
    }
   ],
   "source": [
    "result_list[3]['publications']"
   ]
  },
  {
   "cell_type": "code",
   "execution_count": 354,
   "metadata": {},
   "outputs": [],
   "source": [
    "test = read_publication('https://www.ons.gov.uk//peoplepopulationandcommunity/healthandsocialcare/conditionsanddiseases/bulletins/covid19schoolsinfectionsurveyround4england/antibodydatamarch2021')"
   ]
  },
  {
   "cell_type": "code",
   "execution_count": 356,
   "metadata": {},
   "outputs": [
    {
     "output_type": "execute_result",
     "data": {
      "text/plain": [
       "['A confidence interval gives an indication of the degree of uncertainty of an estimate, showing the precision of a sample estimate. The 95% confidence intervals are calculated so that if we repeated the study many times, 95% of the time the true unknown value would lie between the lower and upper confidence limits. A wider interval indicates more uncertainty in the estimate. Overlapping confidence intervals indicate that there may not be a true difference between two estimates. For more information, see our methodology page on statistical uncertainty.',\n",
       " 'A result is said to be statistically significant if it is likely not caused by chance or the variable nature of the samples. For more information, see our methodology page on statistical uncertainty.',\n",
       " 'As at 16 April 2021, in Round 4 of testing, 4,154 staff participated in at least one current COVID-19 infection or COVID-19 antibody test. This is around 35% of eligible staff in the sampled schools.',\n",
       " 'As our vaccination rates relate to school staff in 14 local authorities and are not generalisable to all school staff in England the data in this bulletin will differ from the administrative data on vaccinations published by NHS England weekly, which cover all vaccinations given to individuals who have an NHS number and are currently alive in the resident population.',\n",
       " 'Data cleaning and quality assurance is being carried out on data collected as part of the study on an ongoing basis. All estimates presented in this bulletin are provisional results. Estimates may therefore be revised in future publications.',\n",
       " 'Data presented are not intended to be generally applicable to all schools in England. The study was originally designed to oversample schools in areas of England where COVID-19 infection was highest at the start of the academic year (September 2020). Further information can be found in the methodology article.',\n",
       " 'Data presented in this bulletin are from Round 4 (with comparisons with Round 1 and Round 2) of the COVID-19 Schools Infection Survey (SIS). These findings are from testing for antibodies to SARS-CoV-2 only. Results on current infection can be found in our bulletin published on 4 May 2021.',\n",
       " 'Figure 1 shows the percentage of staff testing positive for SARS-CoV-2 antibodies in Round 4 (15 to 31 March 2021); 21.52% of primary school staff tested positive (95% confidence intervals: 17.54% to 25.94%) compared with 18.66% of secondary school staff (95% confidence intervals: 16.47% to 21.00%).',\n",
       " 'For comparison between rounds, we have used data from the 11 local authorities with at least two primary and two secondary schools participating in all testing rounds. These are not necessarily the same schools or participants tested between the rounds.',\n",
       " 'For more information, please visit the SIS participant\\xa0guidance page.',\n",
       " 'For primary school staff, although the seroconversion rate was higher between rounds 2 and 4 compared with the rate seen between Rounds 1 and 2 (7.8 and 4.5 respectively per 1,000 person-weeks), this difference was not statistically significant.',\n",
       " 'For primary school staff, in Round 2, 14.61% tested positive for antibodies (95% confidence interval: 11.86% to 17.72%); this increased to 24.95% in Round 4 (95% confidence interval: 21.07% to 29.15%). For secondary school staff, in Round 2, 15.72% tested positive for antibodies (95% confidence interval: 14.01% to 17.55%); this increased to 22.72% in Round 4 (95% confidence interval: 20.31% to 25.27%).',\n",
       " 'For secondary staff, the seroconversion rates between Rounds 1 and 2 and between Rounds 2 and 4 was similar (5.4 and 5.0 respectively per 1,000 person-weeks). For primary staff the seroconversion rate was higher between Rounds 2 and 4 compared with Rounds 1 and 2, at 7.8 and 4.5 respectively, however, this difference was not statistically significant.',\n",
       " 'Further quality and methodology information on strengths, limitations, appropriate uses, and how the data were created is available in our methodology article.',\n",
       " 'Have you been asked to take part in the study?',\n",
       " 'If you have any further questions on the COVID-19 Schools Infection Survey (SIS), you can telephone IQVIA helpline on 0800 917 9679 or email\\xa0iqvia.schoolinfectionsurvey@nhs.net.',\n",
       " 'In December 2020 (Round 2), 13.45% of secondary school pupils (95% confidence interval: 11.67% to 15.40%) tested positive to SARS-CoV-2 antibodies, this was significantly higher than primary school pupils at 9.05% (95% confidence interval: 7.33% to 11.00%); however, there was no significant difference in the seroconversion rate between primary and secondary pupils between November (Round 1) and December (Round 2).',\n",
       " 'In March 2021 (Round 4), 21.52% of primary school staff (95% confidence intervals: 17.54% to 25.94%) and 18.66% of secondary school staff (95% confidence intervals: 16.47% to 21.00%) tested positive to SARS-CoV-2 antibodies.',\n",
       " 'In the case of the coronavirus (COVID-19), antibody seroconversion is the incidence of antibody test results changing from negative to positive and will capture both symptomatic and asymptomatic infections that may have been missed between testing rounds.',\n",
       " 'Local authority results can be found in the accompanying dataset.',\n",
       " 'Local authority results can be found in the accompanying dataset. Confidence intervals are wide, so all estimates should be interpreted with caution, however, the general trends observed are in line with expectations given infection trends in the wider community.',\n",
       " 'Of the 1,775 staff who tested negative for antibodies in Round 2 and also tested in Round 4, 158 staff seroconverted from negative to positive. Taking into account the time period between the testing rounds, this gives a seroconversion rate of 5.9 per 1,000 person-weeks (95% confidence interval: 5.0 to 6.9).',\n",
       " 'Of the 2,276 staff who tested negative for antibodies in Round 1 and also tested in Round 2, 37 seroconverted from negative to positive. Taking into account the time between the two rounds, this gives a seroconversion rate of 5.1 per 1,000 person-weeks (95% confidence interval: 3.6 to 7.1).',\n",
       " 'Of the 3,927 pupils who tested negative in Round 1 and tested in Round 2, 97 were positive in Round 2. Taking into account the time between the two rounds, this gives a seroconversion rate of 7.9 per 1,000 person-weeks (95% confidence interval: 6.4 to 9.6).',\n",
       " 'Please refer to the Strengths and limitations section of the COVID-19 Schools Infection Survey, Round 2 bulletin.',\n",
       " 'Prior to the commencement of Round 4, participation was offered to all year groups in secondary schools (excluding year 11) to improve the sample size; 42 out of the 80 secondary schools that took part in Round 4 testing had extended participation to other year groups. In Round 4 of testing, 11,033 pupils (3,762 primary and 7,271 secondary) participated in at least one current COVID-19 infection or COVID-19 antibody test. The estimated response rate for secondary school pupils, in the year groups that participation was offered to, was 17%. The estimated response rate for primary school pupils was 20%. Details of previous rounds response rates can be found in the accompanying dataset.',\n",
       " 'Pupil antibody data are only available for Round 1 (3 to 20 November 2020) and Round 2 (30 November to 11 December 2020). Data for Round 4 pupil antibody tests are not yet available because of the longer time needed to process the tests.',\n",
       " 'Round 3 was due to take place in late January 2021. Testing within schools for this round was cancelled because of schools in England being shut to the majority of pupils during lockdown.',\n",
       " 'Round 4 of the study took place from 15 to 31 March 2021 shortly after schools in England reopened following the third coronavirus (COVID-19) lockdown; pupil antibody results are only available up to Round 2 (which took place in December 2020).',\n",
       " 'Staff vaccination data were obtained by linking to the National Immunisation Management System (NIMS). Details of the data matching can be found in our methodology article. Of the staff where immunisation status was available, 63.74% had received at least one vaccination before the end of Round 4 (31 March 2021).',\n",
       " 'The antibody tests used in this study detect antibodies produced following natural infection and not vaccination.',\n",
       " 'The percentage of pupils testing positive to SARS-CoV-2 did not increase significantly for either primary or secondary pupils between Round 1 (November 2020) and Round 2 (December 2020).',\n",
       " 'The percentage of secondary school pupils testing positive in Round 2 was significantly higher than primary pupils (13.45% compared with 9.05%).',\n",
       " 'The percentage of staff testing positive for SARS-CoV-2 antibodies increased significantly for both primary school and secondary school staff between Round 2 (December) and Round 4; this can be seen in Figure 2.',\n",
       " 'The point estimate for the percentage testing positive increased in all local authorities between Rounds 2 and 4. Staff in Norfolk and Bournemouth (both local authorities with some of the lowest levels of COVID-19 infection in the community over the course of the pandemic), have statistically significantly lower rates of antibodies in Round 4 compared with staff in Liverpool, Lancashire, and Barking and Dagenham (areas where prevalence has been high at certain points during the course of the pandemic).',\n",
       " 'The results presented in this bulletin are from antibody tests conducted in schools in England between 15 and 31 March 2021 – referred to as Round 4 for staff, and antibody results for pupils between 30 November and 11 December 2020 – referred to as Round 2.',\n",
       " 'The seroconversion rates (converting from negative antibody test to positive) between Round 1 (November) and Round 2 (December), and between Rounds 2 and 4 were similar for secondary school staff (5.4 and 5.0 respectively per 1,000 person-weeks).',\n",
       " 'The seroconversion rates for pupils are higher than those seen for staff during the same time period. However, caution should be taken when comparing staff and pupils as the method of sampling and testing platform for antibodies differed. The oral fluid test was used to test for antibodies in pupils as it is non-invasive, however, it does have a lower sensitivity than the finger prick blood test used for staff.',\n",
       " 'There was no significant difference between seroconversion rates of primary school pupils (8.4 per 1,000 person-weeks) and secondary pupils (7.5 per 1,000 person-weeks).',\n",
       " 'To account for the different follow-up times between the rounds (on average the follow-up time between Rounds 1 and 2 was three weeks and between Rounds 2 and 4 was 15 weeks), the seroconversion rate has been calculated and expressed per 1,000 person-weeks. More details on this methodology are available. These seroconversion figures do not control for other factors that may affect the probability of seroconverting, for example, different distributions between local authorities of those sampled and different age distributions.',\n",
       " 'Vaccination data by age and local authority results can be found in the accompanying dataset.']"
      ]
     },
     "metadata": {},
     "execution_count": 356
    }
   ],
   "source": [
    "test"
   ]
  },
  {
   "cell_type": "code",
   "execution_count": null,
   "metadata": {},
   "outputs": [],
   "source": []
  }
 ]
}