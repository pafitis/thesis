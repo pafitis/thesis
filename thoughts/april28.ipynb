{
 "metadata": {
  "language_info": {
   "codemirror_mode": {
    "name": "ipython",
    "version": 3
   },
   "file_extension": ".py",
   "mimetype": "text/x-python",
   "name": "python",
   "nbconvert_exporter": "python",
   "pygments_lexer": "ipython3",
   "version": 3
  },
  "orig_nbformat": 2
 },
 "nbformat": 4,
 "nbformat_minor": 2,
 "cells": [
  {
   "source": [
    "# April - Wed 28"
   ],
   "cell_type": "markdown",
   "metadata": {}
  },
  {
   "source": [
    "### To be discussed:\n",
    "- Data Acquisition\n",
    "- Data Processing\n",
    "- Baseline model\n",
    "\n",
    "\n",
    "### Rough thoughts\n",
    "    \n",
    "- *What is the minimal thing that I can do to get going?*\n",
    "    - *Read more.*\n",
    "    - *Get data NOW.*\n",
    "    - *Is it realistic to get TabFact-like model working fast?*\n",
    "    - *If not, what should my baseline be?*\n",
    "    - *Figure out metrics to log, informative diagnostics.*"
   ],
   "cell_type": "markdown",
   "metadata": {}
  },
  {
   "source": [
    "- here is a sentence\n",
    "- here is a table\n",
    "- true/ false?\n",
    "\n",
    "\n",
    "-baseline easy:\n",
    "    - ignore table\n",
    "    - predict T/F purely based on patterns \n",
    "    - (train variant bert) \n",
    "    - one head or smthng as baseline\n",
    "\n",
    "    - if very high, then negative data is not very good\n",
    "    - if very low, still good\n",
    "\n",
    "- get in touch with somebody at ONS,\n",
    "    - can it be easier to get the data, from scraping\n",
    "\n",
    "\n",
    "- look @ tabfact, new variants\n",
    "    - do u want to have a model that  maps claim to symbolic computation and executes computation??\n",
    "    - do we want something purely neural, take claim, take table, concat (for example) and then it would figure it out\n",
    "        - easier, how it works, how it doesnt work\n",
    "\n",
    "    - READ tabfact\n",
    "        - two models, one neural and one symbolic\n",
    "        - issue with symb models, harder to train\n",
    "        - another trajectory to follow, go generic, go narrow\n",
    "        - narrow: can be one category/ domain, can only be numeric, can only contain one \"claim\"/predicate, can separate complicated claims into multiple (not trivial).\n",
    "    "
   ],
   "cell_type": "markdown",
   "metadata": {}
  },
  {
   "source": [
    "- https://www.ons.gov.uk/releasecalendar\n",
    "- proceed nicely, just go through result pages, query list, scrape quickly,\n",
    "- many have bulletin + additional text and csv"
   ],
   "cell_type": "markdown",
   "metadata": {}
  },
  {
   "source": [
    "## Data Acquisition\n",
    "- Data Acquisition\n",
    "    - ONS API is available, HTTP, open and unrestricted / can use get requests\n",
    "    - Would also need to build a scraper, to get the \"bulletin\" text on the landing page. I have an idea how to do this.\n",
    "    - Is there another source I am missing?\n",
    "\n",
    "- ONS API\n",
    "    - Digital.Publishing@ons.gov.uk"
   ],
   "cell_type": "markdown",
   "metadata": {}
  },
  {
   "source": [
    "## Data Processing\n",
    "- Generating false examples\n",
    "    - Can we establish a method of simplifying the \"query\"? (subject, predicate, object)? If so we can use this triplet to our advantage and modify?\n",
    "    - For numeric statements, this can be to add noise. (*future*: we might want to allow some slack though, think about a threshold/interval)\n",
    "    - For declarative statements, we can use a [MASK]? What about swapping of alternative words via POS tags?\n",
    "    - *...*\n",
    "\n",
    "- Figure out how the mapping to true or false should be handled\n",
    "    - Is it reallistic to do both SQL/Query matching and NLP approach?"
   ],
   "cell_type": "markdown",
   "metadata": {}
  },
  {
   "source": [
    "## Baseline model\n",
    "- What is our baseline?\n",
    "    - Should I be implementing the techniques described in TabFact/ OpenFact?"
   ],
   "cell_type": "markdown",
   "metadata": {}
  }
 ]
}