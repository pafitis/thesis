{
 "metadata": {
  "language_info": {
   "codemirror_mode": {
    "name": "ipython",
    "version": 3
   },
   "file_extension": ".py",
   "mimetype": "text/x-python",
   "name": "python",
   "nbconvert_exporter": "python",
   "pygments_lexer": "ipython3",
   "version": "3.9.2"
  },
  "orig_nbformat": 4,
  "kernelspec": {
   "name": "python3",
   "display_name": "Python 3.9.2 64-bit ('comp0087': conda)"
  },
  "interpreter": {
   "hash": "6b9679e1c6c858221750b0560d352a46169916bc602dce44bbd2a48d631c8c5d"
  }
 },
 "nbformat": 4,
 "nbformat_minor": 2,
 "cells": [
  {
   "source": [
    "# June 15th"
   ],
   "cell_type": "markdown",
   "metadata": {}
  },
  {
   "cell_type": "code",
   "execution_count": 1,
   "metadata": {},
   "outputs": [],
   "source": [
    "import pandas as pd\n",
    "import numpy as np\n",
    "import requests\n",
    "from bs4 import BeautifulSoup"
   ]
  },
  {
   "cell_type": "code",
   "execution_count": 2,
   "metadata": {},
   "outputs": [],
   "source": [
    "API_URL = 'https://api.beta.ons.gov.uk/v1/datasets'\n",
    "RSS_URL = 'https://www.ons.gov.uk/releasecalendar?rss'"
   ]
  },
  {
   "source": [
    "DATASETS = requests.get(API_URL + '?limit=1000')"
   ],
   "cell_type": "code",
   "metadata": {},
   "execution_count": 3,
   "outputs": []
  },
  {
   "cell_type": "code",
   "execution_count": 4,
   "metadata": {},
   "outputs": [
    {
     "output_type": "execute_result",
     "data": {
      "text/plain": [
       "{'contacts': [{'email': '+44 (0)1329 444661',\n",
       "   'name': 'Population Statistics Division',\n",
       "   'telephone': 'pop.info@ons.gov.uk'}],\n",
       " 'description': 'Indicators included have been derived from the published 2019 mid-year population estimates for the UK, England, Wales, Scotland and Northern Ireland. These are the number of persons and percentage of the population aged 65 years and over, 85 years and over, 0 to 15 years, 16 to 64 years, 16 years to State Pension age, State Pension age and over, median age and the Old Age Dependency Ratio (the number of people of State Pension age per 1000 of those aged 16 years to below State Pension age).\\n\\nThis dataset has been produced by the Ageing Analysis Team for inclusion in a subnational ageing tool, which was published in July 2020. The tool enables users to compare latest and projected measures of ageing for up to four different areas through selection on a map or from a drop-down menu.',\n",
       " 'id': 'ageing-population-estimates',\n",
       " 'keywords': ['ageing', 'population'],\n",
       " 'links': {'editions': {'href': 'https://api.beta.ons.gov.uk/v1/datasets/ageing-population-estimates/editions'},\n",
       "  'latest_version': {'href': 'https://api.beta.ons.gov.uk/v1/datasets/ageing-population-estimates/editions/time-series/versions/1',\n",
       "   'id': '1'},\n",
       "  'self': {'href': 'https://api.beta.ons.gov.uk/v1/datasets/ageing-population-estimates'},\n",
       "  'taxonomy': {'href': 'https://api.beta.ons.gov.uk/v1/peoplepopulationandcommunity/birthsdeathsandmarriages/ageing'}},\n",
       " 'next_release': '1 June 2021',\n",
       " 'qmi': {'href': 'https://www.ons.gov.uk/peoplepopulationandcommunity/populationandmigration/populationestimates/methodologies/annualmidyearpopulationestimatesqmi'},\n",
       " 'related_datasets': [{'href': 'https://www.ons.gov.uk/peoplepopulationandcommunity/populationandmigration/populationestimates/datasets/populationestimatesforukenglandandwalesscotlandandnorthernireland',\n",
       "   'title': 'Estimates of the population for the UK, England and Wales, Scotland and Northern Ireland'}],\n",
       " 'release_frequency': 'Annual',\n",
       " 'state': 'published',\n",
       " 'title': 'Local authority ageing statistics, based on annual mid-year population estimates'}"
      ]
     },
     "metadata": {},
     "execution_count": 4
    }
   ],
   "source": [
    "DATASETS.json()['items'][0]"
   ]
  },
  {
   "source": [
    "Here I am getting all the URLS for the subsections. I will be using these to scrape the publications / datasets"
   ],
   "cell_type": "markdown",
   "metadata": {}
  },
  {
   "cell_type": "code",
   "execution_count": 5,
   "metadata": {},
   "outputs": [],
   "source": [
    "log = requests.get('https://www.ons.gov.uk')\n",
    "soup = BeautifulSoup(log.content, features = 'html')"
   ]
  },
  {
   "cell_type": "code",
   "execution_count": 6,
   "metadata": {},
   "outputs": [
    {
     "output_type": "execute_result",
     "data": {
      "text/plain": [
       "['/businessindustryandtrade/business',\n",
       " '/businessindustryandtrade/changestobusiness',\n",
       " '/businessindustryandtrade/constructionindustry',\n",
       " '/businessindustryandtrade/itandinternetindustry',\n",
       " '/businessindustryandtrade/internationaltrade',\n",
       " '/businessindustryandtrade/manufacturingandproductionindustry',\n",
       " '/businessindustryandtrade/retailindustry',\n",
       " '/businessindustryandtrade/tourismindustry',\n",
       " '/economy/economicoutputandproductivity',\n",
       " '/economy/environmentalaccounts',\n",
       " '/economy/governmentpublicsectorandtaxes',\n",
       " '/economy/grossdomesticproductgdp',\n",
       " '/economy/grossvalueaddedgva',\n",
       " '/economy/inflationandpriceindices',\n",
       " '/economy/investmentspensionsandtrusts',\n",
       " '/economy/nationalaccounts',\n",
       " '/economy/regionalaccounts',\n",
       " '/employmentandlabourmarket/peopleinwork',\n",
       " '/employmentandlabourmarket/peoplenotinwork',\n",
       " '/peoplepopulationandcommunity/birthsdeathsandmarriages',\n",
       " '/peoplepopulationandcommunity/crimeandjustice',\n",
       " '/peoplepopulationandcommunity/culturalidentity',\n",
       " '/peoplepopulationandcommunity/educationandchildcare',\n",
       " '/peoplepopulationandcommunity/elections',\n",
       " '/peoplepopulationandcommunity/healthandsocialcare',\n",
       " '/peoplepopulationandcommunity/householdcharacteristics',\n",
       " '/peoplepopulationandcommunity/housing',\n",
       " '/peoplepopulationandcommunity/leisureandtourism',\n",
       " '/peoplepopulationandcommunity/personalandhouseholdfinances',\n",
       " '/peoplepopulationandcommunity/populationandmigration',\n",
       " '/peoplepopulationandcommunity/wellbeing']"
      ]
     },
     "metadata": {},
     "execution_count": 6
    }
   ],
   "source": [
    "ALL_SECTIONS = [x['href'] for x in soup.find_all('a', {'class' : 'primary-nav__child-link'})]\n",
    "ALL_SECTIONS"
   ]
  },
  {
   "cell_type": "code",
   "execution_count": 32,
   "metadata": {},
   "outputs": [
    {
     "output_type": "execute_result",
     "data": {
      "text/plain": [
       "['business',\n",
       " 'changestobusiness',\n",
       " 'constructionindustry',\n",
       " 'itandinternetindustry',\n",
       " 'internationaltrade',\n",
       " 'manufacturingandproductionindustry',\n",
       " 'retailindustry',\n",
       " 'tourismindustry',\n",
       " 'economicoutputandproductivity',\n",
       " 'environmentalaccounts',\n",
       " 'governmentpublicsectorandtaxes',\n",
       " 'grossdomesticproductgdp',\n",
       " 'grossvalueaddedgva',\n",
       " 'inflationandpriceindices',\n",
       " 'investmentspensionsandtrusts',\n",
       " 'nationalaccounts',\n",
       " 'regionalaccounts',\n",
       " 'peopleinwork',\n",
       " 'peoplenotinwork',\n",
       " 'birthsdeathsandmarriages',\n",
       " 'crimeandjustice',\n",
       " 'culturalidentity',\n",
       " 'educationandchildcare',\n",
       " 'elections',\n",
       " 'healthandsocialcare',\n",
       " 'householdcharacteristics',\n",
       " 'housing',\n",
       " 'leisureandtourism',\n",
       " 'personalandhouseholdfinances',\n",
       " 'populationandmigration',\n",
       " 'wellbeing']"
      ]
     },
     "metadata": {},
     "execution_count": 32
    }
   ],
   "source": [
    "[x.split('/')[2] for x in ALL_SECTIONS]"
   ]
  },
  {
   "cell_type": "code",
   "execution_count": 11,
   "metadata": {},
   "outputs": [],
   "source": [
    "with open('secondary/subsection_urls.txt', 'w') as f:\n",
    "    f.write(\"\\n\".join(ALL_SECTIONS))"
   ]
  },
  {
   "cell_type": "code",
   "execution_count": 7,
   "metadata": {},
   "outputs": [],
   "source": [
    "path = ALL_SECTIONS[0]\n",
    "url = 'https://www.ons.gov.uk' + path\n",
    "datasets_url = url + '/datalist?filter=datasets'\n",
    "bulletins_url = url + '/publications?sortBy=release_date&query=&filter=bulletin&size=100'"
   ]
  },
  {
   "cell_type": "code",
   "execution_count": 8,
   "metadata": {},
   "outputs": [],
   "source": [
    "datasets_log = requests.get(datasets_url)\n",
    "soup = BeautifulSoup(datasets_log.content, features = 'html')\n",
    "h3s = soup.find_all('h3', {'class':'search-results__title'})"
   ]
  },
  {
   "cell_type": "code",
   "execution_count": 9,
   "metadata": {},
   "outputs": [
    {
     "output_type": "execute_result",
     "data": {
      "text/plain": [
       "'/businessindustryandtrade/business/businessservices/datasets/servicesturnoverintheuk'"
      ]
     },
     "metadata": {},
     "execution_count": 9
    }
   ],
   "source": [
    "soup.find_all('a', {'data-gtm-uri':True})[0]['data-gtm-uri']"
   ]
  },
  {
   "cell_type": "code",
   "execution_count": 19,
   "metadata": {},
   "outputs": [
    {
     "output_type": "execute_result",
     "data": {
      "text/plain": [
       "['/businessindustryandtrade/business/businessservices/datasets/servicesturnoverintheuk',\n",
       " '/businessindustryandtrade/business/activitysizeandlocation/datasets/businessformsmanagementpracticesandenterpriselifecyclesadissectionoftheukbusinesspopulation1999to2020',\n",
       " '/businessindustryandtrade/business/businessservices/datasets/businessinsightsanalysisovertimeuk',\n",
       " '/businessindustryandtrade/business/activitysizeandlocation/datasets/businessdemographyquarterlyexperimentalstatisticsuk',\n",
       " '/businessindustryandtrade/business/activitysizeandlocation/datasets/industriesandfirmswhereturnoverwasresilientduringthecoronaviruscovid19pandemicfirmlevelregressiontables',\n",
       " '/businessindustryandtrade/business/businessinnovation/datasets/foreigndirectinvestmentinvolvingukcompanies2013inwardtables',\n",
       " '/businessindustryandtrade/business/businessinnovation/datasets/foreigndirectinvestmentinvolvingukcompaniesoutwardtables',\n",
       " '/businessindustryandtrade/business/activitysizeandlocation/datasets/publichousesandbarsrespondingbusinessescashreservesandconfidence',\n",
       " '/businessindustryandtrade/business/activitysizeandlocation/datasets/businessdemographyreferencetable',\n",
       " '/businessindustryandtrade/business/activitysizeandlocation/datasets/ukbusinessactivitysizeandlocation']"
      ]
     },
     "metadata": {},
     "execution_count": 19
    }
   ],
   "source": [
    "[x['data-gtm-uri'] for x in soup.find_all('a', {'data-gtm-uri':True})]"
   ]
  },
  {
   "cell_type": "code",
   "execution_count": 23,
   "metadata": {},
   "outputs": [],
   "source": [
    "with open('test.txt', 'w') as f:\n",
    "    f.write(soup.prettify())"
   ]
  },
  {
   "cell_type": "code",
   "execution_count": 23,
   "metadata": {},
   "outputs": [],
   "source": [
    "def get_datasets_and_publications(path):\n",
    "    # construct url\n",
    "    # path is expected to be of the format\n",
    "    # businessindustryandtrade/business\n",
    "    url = 'https://www.ons.gov.uk' + path\n",
    "\n",
    "    # thankfully you can append /datalist?filter=datasets\n",
    "    # or append /publications?sortBy=release_date&query=&filter=bulletin&size=10\n",
    "    # thankful because there is another landing page before actually seeing the data/bulletins\n",
    "    # but we can bypass it...\n",
    "\n",
    "    datasets_url = url + '/datalist?filter=datasets'\n",
    "    bulletins_url = url + '/publications?sortBy=release_date&query=&filter=bulletin&size=100'\n",
    "\n",
    "    datalog = requests.get(datasets_url)\n",
    "    datasoup = BeautifulSoup(datalog.content, features = 'html')\n",
    "    bulletinlog = requests.get(bulletins_url)\n",
    "    bulletinsoup = BeautifulSoup(bulletinlog.content, features = 'html')\n",
    "\n",
    "    datasets = [x['data-gtm-uri'] for x in datasoup.find_all('a', {'data-gtm-uri':True})]\n",
    "    bulletins = [x['data-gtm-uri'] for x in bulletinsoup.find_all('a', {'data-gtm-uri':True})]\n",
    "    \n",
    "    return datasets, bulletins"
   ]
  },
  {
   "cell_type": "code",
   "execution_count": 25,
   "metadata": {},
   "outputs": [],
   "source": [
    "datasets, bulletins= get_datasets_and_publications('/peoplepopulationandcommunity/wellbeing')"
   ]
  },
  {
   "source": [
    "# I am re-writting the above function to only return bulletins\n",
    "\n",
    "I think thats a better approach. Previously I was reading the whole list of available datasets/bulletins but that was no way to actually know how to link the two. \n",
    "\n",
    "I need to go into each bulletin and utilise the \"View all data used in this statistical bulletin\" to see exactly what tables are needed to answer the questions."
   ],
   "cell_type": "markdown",
   "metadata": {}
  },
  {
   "cell_type": "code",
   "execution_count": null,
   "metadata": {},
   "outputs": [],
   "source": []
  }
 ]
}