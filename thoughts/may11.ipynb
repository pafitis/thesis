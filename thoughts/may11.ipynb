{
 "metadata": {
  "language_info": {
   "codemirror_mode": {
    "name": "ipython",
    "version": 3
   },
   "file_extension": ".py",
   "mimetype": "text/x-python",
   "name": "python",
   "nbconvert_exporter": "python",
   "pygments_lexer": "ipython3",
   "version": "3.9.2"
  },
  "orig_nbformat": 2,
  "kernelspec": {
   "name": "python39264bitcomp0087conda439ae987b69d4c2b958b538715e3f45b",
   "display_name": "Python 3.9.2 64-bit ('comp0087': conda)"
  },
  "metadata": {
   "interpreter": {
    "hash": "6b9679e1c6c858221750b0560d352a46169916bc602dce44bbd2a48d631c8c5d"
   }
  }
 },
 "nbformat": 4,
 "nbformat_minor": 2,
 "cells": [
  {
   "source": [
    "import requests\n",
    "import json\n",
    "import re\n",
    "import numpy as np\n",
    "import pandas as pd\n",
    "\n",
    "from bs4 import BeautifulSoup\n",
    "from lxml import etree"
   ],
   "cell_type": "code",
   "metadata": {},
   "execution_count": 3,
   "outputs": []
  },
  {
   "cell_type": "code",
   "execution_count": 4,
   "metadata": {},
   "outputs": [],
   "source": [
    "API_URL = 'https://api.beta.ons.gov.uk/v1/datasets'\n",
    "RSS_URL2 = 'https://www.ons.gov.uk/releasecalendar?rss'"
   ]
  },
  {
   "cell_type": "code",
   "execution_count": 6,
   "metadata": {},
   "outputs": [],
   "source": [
    "ALL_DATASETS = requests.get(API_URL)"
   ]
  },
  {
   "cell_type": "code",
   "execution_count": 11,
   "metadata": {},
   "outputs": [
    {
     "output_type": "execute_result",
     "data": {
      "text/plain": [
       "dict_keys(['@context', 'count', 'items', 'limit', 'offset', 'total_count'])"
      ]
     },
     "metadata": {},
     "execution_count": 11
    }
   ],
   "source": [
    "ALL_DATASETS.json().keys()"
   ]
  },
  {
   "cell_type": "code",
   "execution_count": 18,
   "metadata": {},
   "outputs": [
    {
     "output_type": "execute_result",
     "data": {
      "text/plain": [
       "20"
      ]
     },
     "metadata": {},
     "execution_count": 18
    }
   ],
   "source": [
    "ALL_DATASETS.json()['count']"
   ]
  },
  {
   "cell_type": "code",
   "execution_count": 25,
   "metadata": {},
   "outputs": [
    {
     "output_type": "execute_result",
     "data": {
      "text/plain": [
       "{'href': 'https://api.beta.ons.gov.uk/v1/datasets/ageing-population-estimates/editions/time-series/versions/1',\n",
       " 'id': '1'}"
      ]
     },
     "metadata": {},
     "execution_count": 25
    }
   ],
   "source": [
    "ALL_DATASETS.json()['items'][0]['links']['']"
   ]
  },
  {
   "cell_type": "code",
   "execution_count": 24,
   "metadata": {},
   "outputs": [
    {
     "output_type": "execute_result",
     "data": {
      "text/plain": [
       "{'editions': {'href': 'https://api.beta.ons.gov.uk/v1/datasets/ageing-population-estimates/editions'},\n",
       " 'latest_version': {'href': 'https://api.beta.ons.gov.uk/v1/datasets/ageing-population-estimates/editions/time-series/versions/1',\n",
       "  'id': '1'},\n",
       " 'self': {'href': 'https://api.beta.ons.gov.uk/v1/datasets/ageing-population-estimates'},\n",
       " 'taxonomy': {'href': 'https://api.beta.ons.gov.uk/v1/peoplepopulationandcommunity/birthsdeathsandmarriages/ageing'}}"
      ]
     },
     "metadata": {},
     "execution_count": 24
    }
   ],
   "source": [
    "ALL_DATASETS.json()['items'][0]['links']"
   ]
  },
  {
   "cell_type": "code",
   "execution_count": 28,
   "metadata": {},
   "outputs": [
    {
     "output_type": "execute_result",
     "data": {
      "text/plain": [
       "{'@context': 'https://cdn.ons.gov.uk/assets/json-ld/context.json',\n",
       " 'alerts': [],\n",
       " 'collection_id': 'cmdageingpopulationestimates-c155b6f8c8431bc67905ff252cc3f52f681509aa6dd4e685a77be28d22461b35',\n",
       " 'dimensions': [{'href': 'https://api.beta.ons.gov.uk/v1/code-lists/calendar-years',\n",
       "   'id': 'calendar-years',\n",
       "   'label': 'Time',\n",
       "   'links': {'code_list': {}, 'options': {}, 'version': {}},\n",
       "   'name': 'time'},\n",
       "  {'description': 'Data are available at a local authority, region and country level for England, Wales, Scotland and Northern Ireland.',\n",
       "   'href': 'https://api.beta.ons.gov.uk/v1/code-lists/administrative-geography',\n",
       "   'id': 'administrative-geography',\n",
       "   'label': 'Geography',\n",
       "   'links': {'code_list': {}, 'options': {}, 'version': {}},\n",
       "   'name': 'geography'},\n",
       "  {'description': 'Data are available for All Persons, Males and Females.',\n",
       "   'href': 'https://api.beta.ons.gov.uk/v1/code-lists/sex',\n",
       "   'id': 'sex',\n",
       "   'label': 'Sex',\n",
       "   'links': {'code_list': {}, 'options': {}, 'version': {}},\n",
       "   'name': 'sex'},\n",
       "  {'description': 'Number and % 15 years and under, number and % 16-64 years, number and % 65 years and over, number and % 85 years and over, number and % 16 years and up to State Pension age, number and % State Pension age and over, Median age, Old Age Dependency Ratio (the number of people of State Pension age per 1000 of those aged 16 years to below State Pension age)',\n",
       "   'href': 'https://api.beta.ons.gov.uk/v1/code-lists/age-groups',\n",
       "   'id': 'age-groups',\n",
       "   'label': 'Age groups',\n",
       "   'links': {'code_list': {}, 'options': {}, 'version': {}},\n",
       "   'name': 'agegroups'},\n",
       "  {'description': 'Data are available for the number of persons and percentage of the population.',\n",
       "   'href': 'https://api.beta.ons.gov.uk/v1/code-lists/unit-of-measure',\n",
       "   'id': 'unit-of-measure',\n",
       "   'label': 'Unit of measure',\n",
       "   'links': {'code_list': {}, 'options': {}, 'version': {}},\n",
       "   'name': 'unitofmeasure'}],\n",
       " 'downloads': {'csv': {'href': 'https://download.beta.ons.gov.uk/downloads/datasets/ageing-population-estimates/editions/time-series/versions/1.csv',\n",
       "   'size': '1740234'},\n",
       "  'csvw': {'href': 'https://download.beta.ons.gov.uk/downloads/datasets/ageing-population-estimates/editions/time-series/versions/1.csv-metadata.json',\n",
       "   'size': '3251'},\n",
       "  'xls': {'href': 'https://download.beta.ons.gov.uk/downloads/datasets/ageing-population-estimates/editions/time-series/versions/1.xlsx',\n",
       "   'size': '571663'}},\n",
       " 'edition': 'time-series',\n",
       " 'id': '61f78310-4066-48be-9226-36dba40fba46',\n",
       " 'links': {'dataset': {'href': 'https://api.beta.ons.gov.uk/v1/datasets/ageing-population-estimates',\n",
       "   'id': 'ageing-population-estimates'},\n",
       "  'edition': {'href': 'https://api.beta.ons.gov.uk/v1/datasets/ageing-population-estimates/editions/time-series',\n",
       "   'id': 'time-series'},\n",
       "  'self': {'href': 'https://api.beta.ons.gov.uk/v1/datasets/ageing-population-estimates/editions/time-series/versions/1'}},\n",
       " 'release_date': '2020-06-30T00:00:00.000Z',\n",
       " 'state': 'published',\n",
       " 'usage_notes': [{'title': \"In the data marking column an 'X' means that data isn’t available for the area specified and a '.' means that data isn’t available for the gender or unit of measure specified.\"}],\n",
       " 'version': 1}"
      ]
     },
     "metadata": {},
     "execution_count": 28
    }
   ],
   "source": [
    "requests.get('https://api.beta.ons.gov.uk/v1/datasets/ageing-population-estimates/editions/time-series/versions/1').json()"
   ]
  },
  {
   "cell_type": "code",
   "execution_count": 31,
   "metadata": {},
   "outputs": [
    {
     "output_type": "execute_result",
     "data": {
      "text/plain": [
       "{'contacts': [{'email': '+44 (0)1329 444661',\n",
       "   'name': 'Population Statistics Division',\n",
       "   'telephone': 'pop.info@ons.gov.uk'}],\n",
       " 'description': 'Indicators included have been derived from the published 2019 mid-year population estimates for the UK, England, Wales, Scotland and Northern Ireland. These are the number of persons and percentage of the population aged 65 years and over, 85 years and over, 0 to 15 years, 16 to 64 years, 16 years to State Pension age, State Pension age and over, median age and the Old Age Dependency Ratio (the number of people of State Pension age per 1000 of those aged 16 years to below State Pension age).\\n\\nThis dataset has been produced by the Ageing Analysis Team for inclusion in a subnational ageing tool, which was published in July 2020. The tool enables users to compare latest and projected measures of ageing for up to four different areas through selection on a map or from a drop-down menu.',\n",
       " 'id': 'ageing-population-estimates',\n",
       " 'keywords': ['ageing', 'population'],\n",
       " 'links': {'editions': {'href': 'https://api.beta.ons.gov.uk/v1/datasets/ageing-population-estimates/editions'},\n",
       "  'latest_version': {'href': 'https://api.beta.ons.gov.uk/v1/datasets/ageing-population-estimates/editions/time-series/versions/1',\n",
       "   'id': '1'},\n",
       "  'self': {'href': 'https://api.beta.ons.gov.uk/v1/datasets/ageing-population-estimates'},\n",
       "  'taxonomy': {'href': 'https://api.beta.ons.gov.uk/v1/peoplepopulationandcommunity/birthsdeathsandmarriages/ageing'}},\n",
       " 'next_release': '1 June 2021',\n",
       " 'qmi': {'href': 'https://www.ons.gov.uk/peoplepopulationandcommunity/populationandmigration/populationestimates/methodologies/annualmidyearpopulationestimatesqmi'},\n",
       " 'related_datasets': [{'href': 'https://www.ons.gov.uk/peoplepopulationandcommunity/populationandmigration/populationestimates/datasets/populationestimatesforukenglandandwalesscotlandandnorthernireland',\n",
       "   'title': 'Estimates of the population for the UK, England and Wales, Scotland and Northern Ireland'}],\n",
       " 'release_frequency': 'Annual',\n",
       " 'state': 'published',\n",
       " 'title': 'Local authority ageing statistics, based on annual mid-year population estimates'}"
      ]
     },
     "metadata": {},
     "execution_count": 31
    }
   ],
   "source": [
    "ALL_DATASETS.json()['items'][0]"
   ]
  },
  {
   "cell_type": "code",
   "execution_count": 32,
   "metadata": {},
   "outputs": [
    {
     "output_type": "execute_result",
     "data": {
      "text/plain": [
       "{'href': 'https://www.ons.gov.uk/peoplepopulationandcommunity/populationandmigration/populationestimates/methodologies/annualmidyearpopulationestimatesqmi'}"
      ]
     },
     "metadata": {},
     "execution_count": 32
    }
   ],
   "source": [
    "ALL_DATASETS.json()['items'][0]['qmi']"
   ]
  },
  {
   "cell_type": "code",
   "execution_count": null,
   "metadata": {},
   "outputs": [],
   "source": []
  }
 ]
}