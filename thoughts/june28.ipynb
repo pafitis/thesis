{
 "metadata": {
  "language_info": {
   "codemirror_mode": {
    "name": "ipython",
    "version": 3
   },
   "file_extension": ".py",
   "mimetype": "text/x-python",
   "name": "python",
   "nbconvert_exporter": "python",
   "pygments_lexer": "ipython3",
   "version": "3.9.2"
  },
  "orig_nbformat": 4,
  "kernelspec": {
   "name": "python3",
   "display_name": "Python 3.9.2 64-bit ('comp0087': conda)"
  },
  "interpreter": {
   "hash": "6b9679e1c6c858221750b0560d352a46169916bc602dce44bbd2a48d631c8c5d"
  }
 },
 "nbformat": 4,
 "nbformat_minor": 2,
 "cells": [
  {
   "source": [
    "# June 28th"
   ],
   "cell_type": "markdown",
   "metadata": {}
  },
  {
   "cell_type": "code",
   "execution_count": 3,
   "metadata": {},
   "outputs": [],
   "source": [
    "import pandas as pd\n",
    "import numpy as np\n",
    "import pickle, logging, spacy\n",
    "import matplotlib.pyplot as plt\n",
    "# from helpers.classes import Collection\n",
    "from tqdm import tqdm\n",
    "\n",
    "import sys\n",
    "sys.path.append('..')\n",
    "from helpers.classes import Collection\n",
    "from datetime import datetime\n",
    "import json"
   ]
  },
  {
   "cell_type": "code",
   "execution_count": 15,
   "metadata": {},
   "outputs": [],
   "source": [
    "with open('../pickles/collection_20210624_194932.pkl', 'rb') as f:\n",
    "    collection = pickle.load(f)\n",
    "with open('../pickles/dataset_20210625_184837.pkl', 'rb') as f:\n",
    "    df = pickle.load(f)"
   ]
  },
  {
   "source": [
    "## The dataset\n",
    "\n",
    "I've re-scrapped the ONS website because I saw that I was limitting the number of reports per subject. \n",
    "- Now 395 unique bulletins that are usable (with main-points and datasets)\n",
    "- with 2011 unique main-points\n",
    "- I follow what Patrick was doing in the \"Unsupervised Question Answering by Cloze Translation\" paper to create our Clozes"
   ],
   "cell_type": "markdown",
   "metadata": {}
  },
  {
   "cell_type": "code",
   "execution_count": 20,
   "metadata": {},
   "outputs": [
    {
     "output_type": "execute_result",
     "data": {
      "text/plain": [
       "                                            bulletin              type  \\\n",
       "0  businessindustryandtrade/business/businessserv...  date_and_percent   \n",
       "1  businessindustryandtrade/business/businessserv...  date_and_percent   \n",
       "2  businessindustryandtrade/business/businessserv...  date_and_percent   \n",
       "3  businessindustryandtrade/business/businessserv...  date_and_percent   \n",
       "4  businessindustryandtrade/business/businessserv...  date_and_percent   \n",
       "\n",
       "                                               point  \\\n",
       "0  In 2019, approximate gross value added at basi...   \n",
       "1  The non-financial services sector, which accou...   \n",
       "2  Total turnover and purchases of the UK non-fin...   \n",
       "3  Out of the 12 UK regions, 8 regions experience...   \n",
       "4  West Midlands, Yorkshire and The Humber, Scotl...   \n",
       "\n",
       "                                                data  \n",
       "0  [/businessindustryandtrade/business/businessse...  \n",
       "1  [/businessindustryandtrade/business/businessse...  \n",
       "2  [/businessindustryandtrade/business/businessse...  \n",
       "3  [/businessindustryandtrade/business/businessse...  \n",
       "4  [/businessindustryandtrade/business/businessse...  "
      ],
      "text/html": "<div>\n<style scoped>\n    .dataframe tbody tr th:only-of-type {\n        vertical-align: middle;\n    }\n\n    .dataframe tbody tr th {\n        vertical-align: top;\n    }\n\n    .dataframe thead th {\n        text-align: right;\n    }\n</style>\n<table border=\"1\" class=\"dataframe\">\n  <thead>\n    <tr style=\"text-align: right;\">\n      <th></th>\n      <th>bulletin</th>\n      <th>type</th>\n      <th>point</th>\n      <th>data</th>\n    </tr>\n  </thead>\n  <tbody>\n    <tr>\n      <th>0</th>\n      <td>businessindustryandtrade/business/businessserv...</td>\n      <td>date_and_percent</td>\n      <td>In 2019, approximate gross value added at basi...</td>\n      <td>[/businessindustryandtrade/business/businessse...</td>\n    </tr>\n    <tr>\n      <th>1</th>\n      <td>businessindustryandtrade/business/businessserv...</td>\n      <td>date_and_percent</td>\n      <td>The non-financial services sector, which accou...</td>\n      <td>[/businessindustryandtrade/business/businessse...</td>\n    </tr>\n    <tr>\n      <th>2</th>\n      <td>businessindustryandtrade/business/businessserv...</td>\n      <td>date_and_percent</td>\n      <td>Total turnover and purchases of the UK non-fin...</td>\n      <td>[/businessindustryandtrade/business/businessse...</td>\n    </tr>\n    <tr>\n      <th>3</th>\n      <td>businessindustryandtrade/business/businessserv...</td>\n      <td>date_and_percent</td>\n      <td>Out of the 12 UK regions, 8 regions experience...</td>\n      <td>[/businessindustryandtrade/business/businessse...</td>\n    </tr>\n    <tr>\n      <th>4</th>\n      <td>businessindustryandtrade/business/businessserv...</td>\n      <td>date_and_percent</td>\n      <td>West Midlands, Yorkshire and The Humber, Scotl...</td>\n      <td>[/businessindustryandtrade/business/businessse...</td>\n    </tr>\n  </tbody>\n</table>\n</div>"
     },
     "metadata": {},
     "execution_count": 20
    }
   ],
   "source": [
    "df.head()"
   ]
  },
  {
   "source": [
    "## Generating CLOZES"
   ],
   "cell_type": "markdown",
   "metadata": {}
  },
  {
   "cell_type": "code",
   "execution_count": 21,
   "metadata": {},
   "outputs": [],
   "source": [
    "from generate_cloze import generate_clozes_from_point, named_entity_answer_generator as answer_generator"
   ]
  },
  {
   "source": [
    "Here I show a few samples from our Cloze generation process:"
   ],
   "cell_type": "markdown",
   "metadata": {}
  },
  {
   "cell_type": "code",
   "execution_count": 36,
   "metadata": {},
   "outputs": [
    {
     "output_type": "stream",
     "name": "stdout",
     "text": [
      "ORIGINAL TEXT:\nIn 2019, approximate gross value added at basic prices (aGVA) of the UK non-financial business economy was estimated to be £1,313.9 billion; an increase of £42.8 billion (3.4%) compared with 2018. \n\n\n\nCLOZES:\n0. In TEMPORALMASK, approximate gross value added at basic prices (aGVA) of the UK non-financial business economy was estimated to be £1,313.9 billion; an increase of £42.8 billion (3.4%) compared with 2018. \n\n1. In 2019, approximate gross value added at basic prices (aGVA) of the UK non-financial business economy was estimated to be NUMERICMASK; an increase of £42.8 billion (3.4%) compared with 2018. \n\n2. In 2019, approximate gross value added at basic prices (aGVA) of the UK non-financial business economy was estimated to be £1,313.9 billion; an increase of NUMERICMASK (3.4%) compared with 2018. \n\n3. In 2019, approximate gross value added at basic prices (aGVA) of the UK non-financial business economy was estimated to be £1,313.9 billion; an increase of £42.8 billion (NUMERICMASK) compared with 2018. \n\n4. In 2019, approximate gross value added at basic prices (aGVA) of the UK non-financial business economy was estimated to be £1,313.9 billion; an increase of £42.8 billion (3.4%) compared with TEMPORALMASK. \n\n"
     ]
    }
   ],
   "source": [
    "clozes = [c.cloze_text for c in generate_clozes_from_point(df['point'][0], answer_generator)]\n",
    "print('ORIGINAL TEXT:')\n",
    "print(df['point'][0], '\\n')\n",
    "print('\\n')\n",
    "print('CLOZES:')\n",
    "for i, point in enumerate(clozes):\n",
    "    print(f'{i}. {point} \\n')"
   ]
  },
  {
   "cell_type": "code",
   "execution_count": 37,
   "metadata": {},
   "outputs": [
    {
     "output_type": "stream",
     "name": "stdout",
     "text": [
      "ORIGINAL TEXT:\nThe biggest component of services imported into NUTS1 areas was travel, as it received 28% (£50.6 billion) of UK total imports of services (£180.9 billion). \n\n\n\nCLOZES:\n0. The biggest component of services imported into NUTS1 areas was travel, as it received NUMERICMASK (£50.6 billion) of UK total imports of services (£180.9 billion). \n\n1. The biggest component of services imported into NUTS1 areas was travel, as it received 28% (NUMERICMASK) of UK total imports of services (£180.9 billion). \n\n2. The biggest component of services imported into NUTS1 areas was travel, as it received 28% (£50.6 billion) of UK total imports of services (NUMERICMASK). \n\n"
     ]
    }
   ],
   "source": [
    "clozes = [c.cloze_text for c in generate_clozes_from_point(df['point'][96], answer_generator)]\n",
    "print('ORIGINAL TEXT:')\n",
    "print(df['point'][96], '\\n')\n",
    "print('\\n')\n",
    "print('CLOZES:')\n",
    "for i, point in enumerate(clozes):\n",
    "    print(f'{i}. {point} \\n')"
   ]
  },
  {
   "cell_type": "code",
   "execution_count": 39,
   "metadata": {},
   "outputs": [
    {
     "output_type": "stream",
     "name": "stdout",
     "text": [
      "ORIGINAL TEXT:\nIn the UK, 14.1% of people reported struggling to make ends meet in 2017, below the EU-28 average of 21.6%, and one-fifth reported that they were “very satisfied” with their household income in 2018, above the EU-28 average. \n\n\n\nCLOZES:\n0. In the UK, NUMERICMASK of people reported struggling to make ends meet in 2017, below the EU-28 average of 21.6%, and one-fifth reported that they were “very satisfied” with their household income in 2018, above the EU-28 average. \n\n1. In the UK, 14.1% of people reported struggling to make ends meet in TEMPORALMASK, below the EU-28 average of 21.6%, and one-fifth reported that they were “very satisfied” with their household income in 2018, above the EU-28 average. \n\n2. In the UK, 14.1% of people reported struggling to make ends meet in 2017, below the EU-28 average of NUMERICMASK, and one-fifth reported that they were “very satisfied” with their household income in 2018, above the EU-28 average. \n\n3. In the UK, 14.1% of people reported struggling to make ends meet in 2017, below the EU-28 average of 21.6%, and NUMERICMASK reported that they were “very satisfied” with their household income in 2018, above the EU-28 average. \n\n4. In the UK, 14.1% of people reported struggling to make ends meet in 2017, below the EU-28 average of 21.6%, and one-fifth reported that they were “very satisfied” with their household income in TEMPORALMASK, above the EU-28 average. \n\n"
     ]
    }
   ],
   "source": [
    "clozes = [c.cloze_text for c in generate_clozes_from_point(df['point'][1996], answer_generator)]\n",
    "print('ORIGINAL TEXT:')\n",
    "print(df['point'][1996], '\\n')\n",
    "print('\\n')\n",
    "print('CLOZES:')\n",
    "for i, point in enumerate(clozes):\n",
    "    print(f'{i}. {point} \\n')"
   ]
  },
  {
   "cell_type": "code",
   "execution_count": 41,
   "metadata": {},
   "outputs": [
    {
     "output_type": "stream",
     "name": "stdout",
     "text": [
      "ORIGINAL TEXT:\nGeneral government saw a decrease in its net borrowing position to £59.7 billion in Quarter 4 which equates to 11.0% of GDP compared to 12.9% in Quarter 3. \n\n\n\nCLOZES:\n0. General government saw a decrease in its net borrowing position to NUMERICMASK in Quarter 4 which equates to 11.0% of GDP compared to 12.9% in Quarter 3. \n\n1. General government saw a decrease in its net borrowing position to £59.7 billion in TEMPORALMASK which equates to 11.0% of GDP compared to 12.9% in Quarter 3. \n\n2. General government saw a decrease in its net borrowing position to £59.7 billion in Quarter 4 which equates to NUMERICMASK of GDP compared to 12.9% in Quarter 3. \n\n3. General government saw a decrease in its net borrowing position to £59.7 billion in Quarter 4 which equates to 11.0% of GDP compared to NUMERICMASK in Quarter 3. \n\n4. General government saw a decrease in its net borrowing position to £59.7 billion in Quarter 4 which equates to 11.0% of GDP compared to 12.9% in TEMPORALMASK. \n\n"
     ]
    }
   ],
   "source": [
    "clozes = [c.cloze_text for c in generate_clozes_from_point(df['point'][420], answer_generator)]\n",
    "print('ORIGINAL TEXT:')\n",
    "print(df['point'][420], '\\n')\n",
    "print('\\n')\n",
    "print('CLOZES:')\n",
    "for i, point in enumerate(clozes):\n",
    "    print(f'{i}. {point} \\n')"
   ]
  },
  {
   "source": [
    "## Discussion/ Questions\n",
    "\n",
    "- The Clozes generated are quite similar, why wouldn't our model learn to treat them all the same?\n",
    "- How can we force the model to USE the data, and not learn to regurgitate some numbers back?\n",
    "- What language models should I be looking into? distilBert, and bert-like?\n",
    "- I need to better understand how to handle datasets, since each dataset has 3-4 sheets/pages within it.\n",
    "    - Would it be smart to build a \"detection\" system to identify the most appropriate sheet?\n",
    "- Is it time to rethink what the dissertation's main tasks should be? Pasquale suggested this can be an attempt to make a new dataset?"
   ],
   "cell_type": "markdown",
   "metadata": {}
  }
 ]
}