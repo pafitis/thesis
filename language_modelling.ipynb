{
 "cells": [
  {
   "cell_type": "markdown",
   "source": [
    "# Language Modelling Script"
   ],
   "metadata": {}
  },
  {
   "cell_type": "code",
   "execution_count": 1,
   "source": [
    "import pandas as pd\n",
    "import numpy as np\n",
    "import pickle, logging, spacy, sys, os, json, requests\n",
    "import matplotlib.pyplot as plt\n",
    "\n",
    "from helpers.classes import Collection\n",
    "from tqdm import tqdm\n",
    "from bs4 import BeautifulSoup\n",
    "from datetime import datetime"
   ],
   "outputs": [],
   "metadata": {}
  },
  {
   "cell_type": "code",
   "execution_count": 2,
   "source": [
    "from helpers.cloze_generation import generate_clozes_from_point, named_entity_answer_generator as ne_answer_generator, noun_phrase_answer_generator as np_answer_generator\n",
    "\n",
    "from helpers.language_modelling import run_language_model, summarise_results\n",
    "\n",
    "df = pd.read_pickle('pickles/dataset_20210625_184837.pkl')\n",
    "clozes_df = pd.read_json('pickles/clozes_20210715_212425.json')"
   ],
   "outputs": [],
   "metadata": {}
  },
  {
   "cell_type": "markdown",
   "source": [
    "# Data (Bulletin Main-Points) Preview"
   ],
   "metadata": {}
  },
  {
   "cell_type": "code",
   "execution_count": 3,
   "source": [
    "for points in df.point[:5]:\n",
    "    print(points + '\\n')"
   ],
   "outputs": [
    {
     "output_type": "stream",
     "name": "stdout",
     "text": [
      "In 2019, approximate gross value added at basic prices (aGVA) of the UK non-financial business economy was estimated to be £1,313.9 billion; an increase of £42.8 billion (3.4%) compared with 2018.\n",
      "\n",
      "The non-financial services sector, which accounted for over half (56.7%) of total aGVA in 2019, increased by £25 billion (3.5%) to £744.4 billion; transport and storage saw the highest increase in aGVA growth at £7.2 billion (8.6%) increasing from £84.4 billion to £91.6 billion.\n",
      "\n",
      "Total turnover and purchases of the UK non-financial business economy were estimated to be £4,101.5 billion and £2,761.4 billion respectively; an increase of £70.5 billion (1.7%) and £25.8 billion (0.9%) compared with 2018.\n",
      "\n",
      "Out of the 12 UK regions, 8 regions experienced growth in aGVA; the South East experienced the largest increase in aGVA of £17.3 billion to £214.4 billion, which was as increase of 8.8% in 2019.\n",
      "\n",
      "West Midlands, Yorkshire and The Humber, Scotland and East Midlands, were the four regions decreasing year-on-year in aGVA; the largest percentage decrease was in West Midlands where aGVA fell by £2.5 billion (2.6%), from £94.5 billion to £92 billion.\n",
      "\n"
     ]
    }
   ],
   "metadata": {}
  },
  {
   "cell_type": "markdown",
   "source": [
    "The non-financial services sector, which accounted for over half (56.7%) of total aGVA in 2019, increased by £25 billion (3.5%) to £744.4 billion; transport and storage saw the highest increase in aGVA growth at £7.2 billion (8.6%) increasing from £84.4 billion to £91.6 billion.\n",
    "\n",
    "\n",
    "The non-financial services sector, which accounted for over half (56.7%) of total aGVA in 2019, increased by £25 billion (3.5%) to £74.4 billion; transport and storage saw the highest increase in aGVA growth at £7.2 billion (8.6%) increasing from £84.4 billion to £91.6 billion.\n",
    "\n",
    "The non-financial services sector, which accounted for over half (56.7%) of total aGVA in 2019, increased by £25 billion (3.5%) to `<mask><mask><mask>`; transport and storage saw the highest increase in aGVA growth at \n",
    "£7.2 billion (8.6%) increasing from £84.4 billion to £91.6 billion.\n",
    "\n",
    "\n",
    "\n",
    "a) Barack Obama and Trump both ran for president, and `mask` won.\n",
    "b) Barack Obama and Trump both ran for president, and `mask``mask` won.\n",
    "c) Barack Obama and Trump both ran for president, and `mask``mask``mask` won.\n",
    "\n",
    "mean(a, b, c)\n",
    "\n",
    "by averaging the probs of products of tokens we reduce the preference to shorter answers\n",
    "(https://arxiv.org/pdf/2104.08315.pdf)\n"
   ],
   "metadata": {}
  },
  {
   "cell_type": "markdown",
   "source": [
    "# Single Token Answers"
   ],
   "metadata": {}
  },
  {
   "cell_type": "code",
   "execution_count": 4,
   "source": [
    "RUN = False"
   ],
   "outputs": [],
   "metadata": {}
  },
  {
   "cell_type": "markdown",
   "source": [
    "## BERT Single Token Answers"
   ],
   "metadata": {}
  },
  {
   "cell_type": "code",
   "execution_count": 5,
   "source": [
    "from transformers import BertForMaskedLM, BertTokenizer, pipeline\n",
    "from helpers.configs import CLOZE_MASKS\n",
    "model = BertForMaskedLM.from_pretrained('bert-base-uncased')\n",
    "tokenizer = BertTokenizer.from_pretrained('bert-base-uncased')\n",
    "\n",
    "if RUN:\n",
    "    results, entity_set, entities = run_language_model(df, model, tokenizer, \n",
    "        save_results= True, multi_token= False)\n",
    "else:\n",
    "    # load back if you didn't run them\n",
    "    with open('results/bert_base_check_model_july2.json', 'r') as f:\n",
    "        results = json.load(f)\n",
    "    with open('results/bert_base_entity_set_july2.pickle', 'rb') as f:\n",
    "        entity_set = pickle.load(f)\n",
    "    with open('results/bert_base_entity_dictionary.json', 'r') as f:\n",
    "        entities = json.load(f)"
   ],
   "outputs": [
    {
     "output_type": "stream",
     "name": "stderr",
     "text": [
      "Some weights of the model checkpoint at bert-base-uncased were not used when initializing BertForMaskedLM: ['cls.seq_relationship.weight', 'cls.seq_relationship.bias']\n",
      "- This IS expected if you are initializing BertForMaskedLM from the checkpoint of a model trained on another task or with another architecture (e.g. initializing a BertForSequenceClassification model from a BertForPreTraining model).\n",
      "- This IS NOT expected if you are initializing BertForMaskedLM from the checkpoint of a model that you expect to be exactly identical (initializing a BertForSequenceClassification model from a BertForSequenceClassification model).\n"
     ]
    }
   ],
   "metadata": {}
  },
  {
   "cell_type": "code",
   "execution_count": 6,
   "source": [
    "print('BERT Single-Token Answers:\\n')\n",
    "count_correct, count_wrong, correct_preds, wrong_preds = summarise_results(results)"
   ],
   "outputs": [
    {
     "output_type": "stream",
     "name": "stdout",
     "text": [
      "BERT Single-Token Answers:\n",
      "\n",
      "Total Examples: 6184\n",
      "Correct: 179, Incorrect: 6005\n",
      "Percentage Correct: 2.895%\n"
     ]
    }
   ],
   "metadata": {}
  },
  {
   "cell_type": "markdown",
   "source": [
    "## ELECTRA Single Token Answers"
   ],
   "metadata": {}
  },
  {
   "cell_type": "code",
   "execution_count": 7,
   "source": [
    "from transformers import ElectraForMaskedLM, ElectraTokenizer\n",
    "tokenizer = ElectraTokenizer.from_pretrained('google/electra-small-discriminator')\n",
    "model = ElectraForMaskedLM.from_pretrained('google/electra-small-discriminator')\n",
    "\n",
    "if RUN:\n",
    "    results, entity_set, entities = run_language_model(df, model, tokenizer, \n",
    "        save_results= True, multi_token= False)\n",
    "else:\n",
    "    # load back if you didn't run them\n",
    "    with open('results/electra_base_check_model_july2.json', 'r') as f:\n",
    "        results = json.load(f)\n",
    "    with open('results/electra_base_entity_set_july2.pickle', 'rb') as f:\n",
    "        entity_set = pickle.load(f)\n",
    "    with open('results/electra_base_entity_dictionary.json', 'r') as f:\n",
    "        entities = json.load(f)"
   ],
   "outputs": [
    {
     "output_type": "stream",
     "name": "stderr",
     "text": [
      "Some weights of the model checkpoint at google/electra-small-discriminator were not used when initializing ElectraForMaskedLM: ['discriminator_predictions.dense.weight', 'discriminator_predictions.dense.bias', 'discriminator_predictions.dense_prediction.weight', 'discriminator_predictions.dense_prediction.bias']\n",
      "- This IS expected if you are initializing ElectraForMaskedLM from the checkpoint of a model trained on another task or with another architecture (e.g. initializing a BertForSequenceClassification model from a BertForPreTraining model).\n",
      "- This IS NOT expected if you are initializing ElectraForMaskedLM from the checkpoint of a model that you expect to be exactly identical (initializing a BertForSequenceClassification model from a BertForSequenceClassification model).\n",
      "Some weights of ElectraForMaskedLM were not initialized from the model checkpoint at google/electra-small-discriminator and are newly initialized: ['generator_predictions.LayerNorm.weight', 'generator_predictions.LayerNorm.bias', 'generator_predictions.dense.weight', 'generator_predictions.dense.bias', 'generator_lm_head.weight', 'generator_lm_head.bias']\n",
      "You should probably TRAIN this model on a down-stream task to be able to use it for predictions and inference.\n"
     ]
    }
   ],
   "metadata": {}
  },
  {
   "cell_type": "code",
   "execution_count": 8,
   "source": [
    "print('ELECTRA Single-Token Answers:\\n')\n",
    "count_correct, count_wrong, correct_preds, wrong_preds = summarise_results(results)"
   ],
   "outputs": [
    {
     "output_type": "stream",
     "name": "stdout",
     "text": [
      "ELECTRA Single-Token Answers:\n",
      "\n",
      "Total Examples: 6184\n",
      "Correct: 0, Incorrect: 6184\n",
      "Percentage Correct: 0.0%\n"
     ]
    }
   ],
   "metadata": {}
  },
  {
   "cell_type": "markdown",
   "source": [
    "## AlBERT Single Token Answers"
   ],
   "metadata": {}
  },
  {
   "cell_type": "code",
   "execution_count": 9,
   "source": [
    "from transformers import AlbertForMaskedLM, AlbertTokenizer\n",
    "model = AlbertForMaskedLM.from_pretrained('albert-base-v2')\n",
    "tokenizer = AlbertTokenizer.from_pretrained('albert-base-v2')\n",
    "\n",
    "if RUN:\n",
    "    results, entity_set, entities = run_language_model(df, model, tokenizer, \n",
    "        save_results= True, multi_token= False)\n",
    "else:\n",
    "    # load back if you didn't run them\n",
    "    with open('results/albert_base_check_model_july2.json', 'r') as f:\n",
    "        results = json.load(f)\n",
    "    with open('results/albert_base_entity_set_july2.pickle', 'rb') as f:\n",
    "        entity_set = pickle.load(f)\n",
    "    with open('results/albert_base_entity_dictionary.json', 'r') as f:\n",
    "        entities = json.load(f)"
   ],
   "outputs": [],
   "metadata": {}
  },
  {
   "cell_type": "code",
   "execution_count": 10,
   "source": [
    "print('AlBERT Single-Token Answers:\\n')\n",
    "count_correct, count_wrong, correct_preds, wrong_preds = summarise_results(results)"
   ],
   "outputs": [
    {
     "output_type": "stream",
     "name": "stdout",
     "text": [
      "AlBERT Single-Token Answers:\n",
      "\n",
      "Total Examples: 6184\n",
      "Correct: 216, Incorrect: 5968\n",
      "Percentage Correct: 3.493%\n"
     ]
    }
   ],
   "metadata": {}
  },
  {
   "cell_type": "markdown",
   "source": [
    "## RoBERTa Single Token Answers"
   ],
   "metadata": {}
  },
  {
   "cell_type": "code",
   "execution_count": 11,
   "source": [
    "from transformers import RobertaTokenizer, RobertaForMaskedLM\n",
    "model = RobertaForMaskedLM.from_pretrained('roberta-base')\n",
    "tokenizer = RobertaTokenizer.from_pretrained('roberta-base')\n",
    "\n",
    "if RUN:\n",
    "    results, entity_set, entities = run_language_model(df, model, tokenizer, \n",
    "        save_results= True, multi_token= False)\n",
    "else:\n",
    "    # load back if you didn't run them\n",
    "    with open('results/roberta_base_check_model_july2.json', 'r') as f:\n",
    "        results = json.load(f)\n",
    "    with open('results/roberta_base_entity_set_july2.pickle', 'rb') as f:\n",
    "        entity_set = pickle.load(f)\n",
    "    with open('results/roberta_base_entity_dictionary.json', 'r') as f:\n",
    "        entities = json.load(f)"
   ],
   "outputs": [],
   "metadata": {}
  },
  {
   "cell_type": "code",
   "execution_count": 12,
   "source": [
    "print('RoBERTa Single-Token Answers:\\n')\n",
    "count_correct, count_wrong, correct_preds, wrong_preds = summarise_results(results)"
   ],
   "outputs": [
    {
     "output_type": "stream",
     "name": "stdout",
     "text": [
      "RoBERTa Single-Token Answers:\n",
      "\n",
      "Total Examples: 6184\n",
      "Correct: 715, Incorrect: 5469\n",
      "Percentage Correct: 11.562%\n"
     ]
    }
   ],
   "metadata": {}
  },
  {
   "cell_type": "markdown",
   "source": [
    "# Multi-Token Answers"
   ],
   "metadata": {}
  },
  {
   "cell_type": "code",
   "execution_count": 13,
   "source": [
    "# RAN ON GOOGLE COLAB\n",
    "# via run_multitoken_languagemodel.py"
   ],
   "outputs": [],
   "metadata": {}
  },
  {
   "cell_type": "code",
   "execution_count": 14,
   "source": [
    "from transformers import RobertaForMaskedLM, RobertaTokenizerFast\n",
    "tokenizer = RobertaTokenizerFast.from_pretrained('roberta-base')\n",
    "\n",
    "with open('results/RobertaForMaskedLM_20210714_192239_results.json', 'r') as f:\n",
    "    results = json.load(f)\n",
    "with open('results/RobertaForMaskedLM_20210714_192239_entity_set.pickle', 'rb') as f:\n",
    "    entity_set = pickle.load(f)\n",
    "with open('results/RobertaForMaskedLM_20210714_192239_entity_dictionary.json', 'r') as f:\n",
    "    entities = json.load(f)"
   ],
   "outputs": [],
   "metadata": {}
  },
  {
   "cell_type": "code",
   "execution_count": 15,
   "source": [
    "print('RoBERTa Multi-Token Answers:\\n')\n",
    "count_correct, count_wrong, correct_preds, wrong_preds = summarise_results(results)"
   ],
   "outputs": [
    {
     "output_type": "stream",
     "name": "stdout",
     "text": [
      "RoBERTa Multi-Token Answers:\n",
      "\n",
      "Total Examples: 6184\n",
      "Correct: 654, Incorrect: 5530\n",
      "Percentage Correct: 10.576%\n"
     ]
    }
   ],
   "metadata": {}
  },
  {
   "cell_type": "markdown",
   "source": [
    "# Why is Multi-Token RoBERTa worse than the Single-Token counterpart?"
   ],
   "metadata": {}
  },
  {
   "cell_type": "code",
   "execution_count": 54,
   "source": [
    "with open('results/roberta_base_check_model_july2.json', 'r') as f:\n",
    "        single_results = json.load(f)\n",
    "with open('results/RobertaForMaskedLM_20210714_192239_results.json', 'r') as f:\n",
    "        multi_results = json.load(f)"
   ],
   "outputs": [],
   "metadata": {}
  },
  {
   "cell_type": "code",
   "execution_count": 84,
   "source": [
    "agree, disagree = 0, 0\n",
    "disagreements = []\n",
    "\n",
    "single_correct, multi_correct = [], []\n",
    "\n",
    "agree_correct, agree_incorrect = [], []\n",
    "\n",
    "disagree_single_correct, disagree_multi_correct = [], []\n",
    "\n",
    "for row in range(2015):\n",
    "    single_row, multi_row = single_results[row], multi_results[row]\n",
    "    if len(single_row) and len(multi_row):\n",
    "        for single, multi in zip(single_row, multi_row):\n",
    "            \n",
    "            single_pred = single[0]\n",
    "            multi_pred = multi[0]\n",
    "            truth = single[2]\n",
    "            \n",
    "            # make sure first char isn't a whitespace\n",
    "            if single_pred[0] == ' ':\n",
    "                single_pred = single_pred[1:]\n",
    "            if multi_pred[0] == ' ':\n",
    "                multi_pred = multi_pred[1:]\n",
    "\n",
    "            # if single-token and multi-token identical\n",
    "            if single_pred == multi_pred:\n",
    "                agree += 1\n",
    "                # if they match truth\n",
    "                if single_pred == truth:\n",
    "                    # print(single_pred, multi_pred)\n",
    "                    # print(multi)\n",
    "                    agree_correct.append((truth))\n",
    "                # if they both are wrong\n",
    "                else:\n",
    "                    agree_incorrect.append((single_pred, multi_pred, truth))\n",
    "            \n",
    "            # if single-token and multi-token disagree\n",
    "            else:\n",
    "                disagree += 1\n",
    "                disagreements.append((single_pred, multi_pred, truth))\n",
    "                # if single-token is correct\n",
    "                if single_pred == truth:\n",
    "                    disagree_single_correct.append((single_pred, multi_pred, truth))\n",
    "                # if multi-token is incorrect\n",
    "                if multi_pred == truth:\n",
    "                    disagree_multi_correct.append((single_pred, multi_pred, truth))"
   ],
   "outputs": [],
   "metadata": {}
  },
  {
   "cell_type": "code",
   "execution_count": 73,
   "source": [
    "print(f'Out of {agree} times that single- and multi-token predictions agreed: \\n Both were {len(agree_correct)} correct and {len(agree_incorrect)} incorrect\\n')\n",
    "\n",
    "print(f'Out of {disagree} times that single- and multi-token predictions disagreed: \\n Single-token was {len(disagree_single_correct)} correct and Multi-token was {len(disagree_multi_correct)} correct')"
   ],
   "outputs": [
    {
     "output_type": "stream",
     "name": "stdout",
     "text": [
      "Out of 1385 times that single- and multi-token predictions agreed: \n",
      " Both were 541 correct and 844 incorrect\n",
      "\n",
      "Out of 4799 times that single- and multi-token predictions disagreed: \n",
      " Single-token was 174 correct and Multi-token was 113 correct\n"
     ]
    }
   ],
   "metadata": {}
  },
  {
   "cell_type": "code",
   "execution_count": 75,
   "source": [
    "disagree_multi_correct[:5]"
   ],
   "outputs": [
    {
     "output_type": "execute_result",
     "data": {
      "text/plain": [
       "[('It', 'Scotland', 'Scotland'),\n",
       " ('California', 'London', 'London'),\n",
       " ('2015', 'last year', 'last year'),\n",
       " ('New', 'Monthly', 'Monthly'),\n",
       " ('Scotland', 'London', 'London')]"
      ]
     },
     "metadata": {},
     "execution_count": 75
    }
   ],
   "metadata": {}
  },
  {
   "cell_type": "markdown",
   "source": [
    "How do we explain that:\n",
    "\n",
    "\"Wales\" is tokenised as two tokens. Single-token prediction (i.e. we just pass a single `<mask>`) is better? "
   ],
   "metadata": {}
  },
  {
   "cell_type": "markdown",
   "source": [
    "# Looking into the predictions"
   ],
   "metadata": {}
  },
  {
   "cell_type": "code",
   "execution_count": 19,
   "source": [
    "preds, counts = np.unique(correct_preds, return_counts = True)\n",
    "\n",
    "\n",
    "_sorted = pd.DataFrame({'preds': preds, 'counts':counts}).sort_values('counts')\n",
    "\n",
    "fig, ax = plt.subplots(1, 1, figsize= (13,8))\n",
    "plt.bar(_sorted.preds[_sorted.counts > 5], _sorted.counts[_sorted.counts > 5])\n",
    "# plt.bar(preds[counts > 5], counts[counts > 5])\n",
    "ax.tick_params(axis='x', labelsize=14, rotation = 90)\n",
    "ax.tick_params(axis='y', labelsize=14)\n",
    "fig.suptitle('RoBERTa - Multi-Token\\nCorrectly Predicted', fontsize = 20)\n",
    "plt.tight_layout()\n",
    "plt.show()"
   ],
   "outputs": [
    {
     "output_type": "display_data",
     "data": {
      "text/plain": [
       "<Figure size 936x576 with 1 Axes>"
      ],
      "image/png": "[encoded data removed]"
     },
     "metadata": {
      "needs_background": "light"
     }
    }
   ],
   "metadata": {}
  },
  {
   "cell_type": "code",
   "execution_count": 17,
   "source": [
    "preds, counts = np.unique([x[1] for x in wrong_preds], return_counts = True)\n",
    "\n",
    "\n",
    "_sorted = pd.DataFrame({'preds': preds, 'counts':counts}).sort_values('counts')\n",
    "\n",
    "fig, ax = plt.subplots(1, 1, figsize= (13,8))\n",
    "plt.bar(_sorted.preds[_sorted.counts > 10], _sorted.counts[_sorted.counts > 10])\n",
    "ax.tick_params(axis='x', labelsize=14, rotation = 90)\n",
    "ax.tick_params(axis='y', labelsize=14)\n",
    "fig.suptitle('RoBERTa - Multi-Token\\nIncorrectly Predicted', fontsize = 20)\n",
    "plt.tight_layout()\n",
    "plt.show()"
   ],
   "outputs": [
    {
     "output_type": "display_data",
     "data": {
      "text/plain": [
       "<Figure size 936x576 with 1 Axes>"
      ],
      "image/png": "[encoded data removed]"
     },
     "metadata": {
      "needs_background": "light"
     }
    }
   ],
   "metadata": {}
  },
  {
   "cell_type": "markdown",
   "source": [
    "- Ask Patrick (researchquestions) if he knows any ways to handle probabilities of different length tokens (preference of shorter tokens)\n",
    "\n",
    "- Ask Patrick/Seb/ (RQ) is there a way to use t5 to answer cloze-style questions? papers links\n",
    "\n",
    "- LREC maybe, submission of dataset, compare with PolitiHop, benchmark argument"
   ],
   "metadata": {}
  }
 ],
 "metadata": {
  "orig_nbformat": 4,
  "language_info": {
   "name": "python"
  }
 },
 "nbformat": 4,
 "nbformat_minor": 2
}