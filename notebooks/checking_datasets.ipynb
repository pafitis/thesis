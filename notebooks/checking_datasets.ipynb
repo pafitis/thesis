{
 "metadata": {
  "language_info": {
   "codemirror_mode": {
    "name": "ipython",
    "version": 3
   },
   "file_extension": ".py",
   "mimetype": "text/x-python",
   "name": "python",
   "nbconvert_exporter": "python",
   "pygments_lexer": "ipython3",
   "version": "3.9.2"
  },
  "orig_nbformat": 4,
  "kernelspec": {
   "name": "python3",
   "display_name": "Python 3.9.2 64-bit ('comp0087': conda)"
  },
  "interpreter": {
   "hash": "6b9679e1c6c858221750b0560d352a46169916bc602dce44bbd2a48d631c8c5d"
  }
 },
 "nbformat": 4,
 "nbformat_minor": 2,
 "cells": [
  {
   "cell_type": "code",
   "execution_count": 1,
   "metadata": {},
   "outputs": [],
   "source": [
    "import pandas as pd\n",
    "import numpy as np\n",
    "import pickle, logging, spacy, sys, os, json, requests\n",
    "import matplotlib.pyplot as plt\n",
    "\n",
    "from helpers.classes import Collection\n",
    "from tqdm import tqdm\n",
    "from bs4 import BeautifulSoup\n",
    "from datetime import datetime"
   ]
  },
  {
   "cell_type": "code",
   "execution_count": 13,
   "metadata": {},
   "outputs": [],
   "source": [
    "DATASETS = os.listdir('datasets')\n",
    "\n",
    "with open('pickles/collection_20210624_194932.pkl', 'rb') as f:\n",
    "    collection = pickle.load(f)\n",
    "\n",
    "\n",
    "\n",
    "# I should completely remove the other bulletins\n",
    "# for now this has to do...\n",
    "bulletin_names = list(collection.bulletins.keys())\n",
    "# target bulletins are those with usable related datasets and main points\n",
    "target_bulletins = []\n",
    "dictionary = dict()\n",
    "for bulletin in bulletin_names:\n",
    "    if len(collection.bulletins.get(bulletin).get('main-points')) and len(collection.bulletins.get(bulletin).get('related-datasets')) > 0:\n",
    "        target_bulletins.append(bulletin)"
   ]
  },
  {
   "cell_type": "code",
   "execution_count": 25,
   "metadata": {},
   "outputs": [],
   "source": [
    "\n",
    "for bulletin in target_bulletins:\n",
    "    main_points = collection.bulletins.get(bulletin).get('main-points')\n",
    "    related_datasets = collection.bulletins.get(bulletin).get('related-datasets')\n",
    "    for dataset in related_datasets:\n",
    "        df_name = dataset.replace('/', '_')[1:]\n",
    "        df = pd.ExcelFile(f'datasets/{df_name}.xls')\n",
    "        # print(dataset, '\\n', df_name)\n",
    "    break"
   ]
  },
  {
   "cell_type": "code",
   "execution_count": 31,
   "metadata": {},
   "outputs": [
    {
     "output_type": "execute_result",
     "data": {
      "text/plain": [
       "   ANNUAL BUSINESS SURVEY - 2019 Results                           Unnamed: 1\n",
       "0                                    NaN                                  NaN\n",
       "1              Release Date 24 June 2021                                  NaN\n",
       "2                                    NaN                                  NaN\n",
       "3                                    NaN  Table of Contents - Click to select\n",
       "4                                    NaN                                  NaN\n",
       "..                                   ...                                  ...\n",
       "58        Office for National Statistics                                  NaN\n",
       "59                                   NaN                                  NaN\n",
       "60                      ABAPS@ons.gov.uk                                  NaN\n",
       "61            melanie.richard@ons.gov.uk                                  NaN\n",
       "62         Telephone: +44 (0)1633 455747                                  NaN\n",
       "\n",
       "[63 rows x 2 columns]"
      ],
      "text/html": "<div>\n<style scoped>\n    .dataframe tbody tr th:only-of-type {\n        vertical-align: middle;\n    }\n\n    .dataframe tbody tr th {\n        vertical-align: top;\n    }\n\n    .dataframe thead th {\n        text-align: right;\n    }\n</style>\n<table border=\"1\" class=\"dataframe\">\n  <thead>\n    <tr style=\"text-align: right;\">\n      <th></th>\n      <th>ANNUAL BUSINESS SURVEY - 2019 Results</th>\n      <th>Unnamed: 1</th>\n    </tr>\n  </thead>\n  <tbody>\n    <tr>\n      <th>0</th>\n      <td>NaN</td>\n      <td>NaN</td>\n    </tr>\n    <tr>\n      <th>1</th>\n      <td>Release Date 24 June 2021</td>\n      <td>NaN</td>\n    </tr>\n    <tr>\n      <th>2</th>\n      <td>NaN</td>\n      <td>NaN</td>\n    </tr>\n    <tr>\n      <th>3</th>\n      <td>NaN</td>\n      <td>Table of Contents - Click to select</td>\n    </tr>\n    <tr>\n      <th>4</th>\n      <td>NaN</td>\n      <td>NaN</td>\n    </tr>\n    <tr>\n      <th>...</th>\n      <td>...</td>\n      <td>...</td>\n    </tr>\n    <tr>\n      <th>58</th>\n      <td>Office for National Statistics</td>\n      <td>NaN</td>\n    </tr>\n    <tr>\n      <th>59</th>\n      <td>NaN</td>\n      <td>NaN</td>\n    </tr>\n    <tr>\n      <th>60</th>\n      <td>ABAPS@ons.gov.uk</td>\n      <td>NaN</td>\n    </tr>\n    <tr>\n      <th>61</th>\n      <td>melanie.richard@ons.gov.uk</td>\n      <td>NaN</td>\n    </tr>\n    <tr>\n      <th>62</th>\n      <td>Telephone: +44 (0)1633 455747</td>\n      <td>NaN</td>\n    </tr>\n  </tbody>\n</table>\n<p>63 rows × 2 columns</p>\n</div>"
     },
     "metadata": {},
     "execution_count": 31
    }
   ],
   "source": [
    "df.parse('Contents')"
   ]
  },
  {
   "cell_type": "code",
   "execution_count": 34,
   "metadata": {},
   "outputs": [
    {
     "output_type": "execute_result",
     "data": {
      "text/plain": [
       "['Contents',\n",
       " 'Sections A-S',\n",
       " 'Section A',\n",
       " 'Section B',\n",
       " 'Section C',\n",
       " 'Section D',\n",
       " 'Section E',\n",
       " 'Section F',\n",
       " 'Section G',\n",
       " 'Division 45',\n",
       " 'Division 46',\n",
       " 'Division 47',\n",
       " 'Section H',\n",
       " 'Section I',\n",
       " 'Section J',\n",
       " 'Section L',\n",
       " 'Section M',\n",
       " 'Section N',\n",
       " 'Section P',\n",
       " 'Section Q',\n",
       " 'Section R',\n",
       " 'Section S']"
      ]
     },
     "metadata": {},
     "execution_count": 34
    }
   ],
   "source": [
    "df.sheet_names"
   ]
  },
  {
   "cell_type": "code",
   "execution_count": null,
   "metadata": {},
   "outputs": [],
   "source": []
  }
 ]
}