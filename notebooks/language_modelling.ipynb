{
 "cells": [
  {
   "cell_type": "markdown",
   "source": [
    "# Language Modelling Script"
   ],
   "metadata": {}
  },
  {
   "cell_type": "code",
   "execution_count": 1,
   "source": [
    "import pandas as pd\n",
    "import numpy as np\n",
    "import pickle, logging, spacy, sys, os, json, requests\n",
    "import matplotlib.pyplot as plt\n",
    "\n",
    "from helpers.classes import Collection\n",
    "from tqdm import tqdm\n",
    "from bs4 import BeautifulSoup\n",
    "from datetime import datetime"
   ],
   "outputs": [],
   "metadata": {}
  },
  {
   "cell_type": "code",
   "execution_count": 2,
   "source": [
    "from helpers.cloze_generation import generate_clozes_from_point, named_entity_answer_generator as ne_answer_generator, noun_phrase_answer_generator as np_answer_generator\n",
    "\n",
    "from helpers.language_modelling import run_language_model, summarise_results\n",
    "\n",
    "from helpers.configs import CLOZE_MASKS\n",
    "df = pd.read_pickle('pickles/dataset_20210625_184837.pkl')\n",
    "# clozes_df = pd.read_json('pickles/clozes_20210715_212425.json')\n",
    "\n",
    "# df = pd.read_pickle('pickles/collection_20210624_194932.pkl')\n",
    "# clozes_df = pd.read_json('pickles/clozes_20210824.json')\n",
    "clozes_df = pd.read_json('pickles/clozes_with_false_20210825.json') #contains negs\n",
    "\n",
    "clozes_df['answer_type_agg'] = clozes_df['answer_type'].apply(\n",
    "    lambda x: CLOZE_MASKS.get(x))\n",
    "\n",
    "usabilities = pd.read_json('secondary/dataframe_usability_3.json')"
   ],
   "outputs": [],
   "metadata": {}
  },
  {
   "cell_type": "code",
   "execution_count": 14,
   "source": [
    "import matplotlib.pyplot as plt\n",
    "import matplotlib\n",
    "\n",
    "matplotlib.style.use('fivethirtyeight')\n",
    "\n",
    "SMALL_SIZE = 12\n",
    "MEDIUM_SIZE = 16\n",
    "BIGGER_SIZE = 20\n",
    "\n",
    "plt.rc('font', size=MEDIUM_SIZE)          # controls default text sizes\n",
    "plt.rc('axes', titlesize=BIGGER_SIZE)     # fontsize of the axes title\n",
    "plt.rc('axes', labelsize=MEDIUM_SIZE)    # fontsize of the x and y labels\n",
    "plt.rc('xtick', labelsize=MEDIUM_SIZE)    # fontsize of the tick labels\n",
    "plt.rc('ytick', labelsize=MEDIUM_SIZE)    # fontsize of the tick labels\n",
    "plt.rc('legend', fontsize=SMALL_SIZE)    # legend fontsize"
   ],
   "outputs": [],
   "metadata": {}
  },
  {
   "cell_type": "markdown",
   "source": [
    "# Data (Bulletin Main-Points) Preview"
   ],
   "metadata": {}
  },
  {
   "cell_type": "code",
   "execution_count": 6,
   "source": [
    "for points in df.point[:5]:\n",
    "    print(points + '\\n')"
   ],
   "outputs": [
    {
     "output_type": "stream",
     "name": "stdout",
     "text": [
      "In 2019, approximate gross value added at basic prices (aGVA) of the UK non-financial business economy was estimated to be £1,313.9 billion; an increase of £42.8 billion (3.4%) compared with 2018.\n",
      "\n",
      "The non-financial services sector, which accounted for over half (56.7%) of total aGVA in 2019, increased by £25 billion (3.5%) to £744.4 billion; transport and storage saw the highest increase in aGVA growth at £7.2 billion (8.6%) increasing from £84.4 billion to £91.6 billion.\n",
      "\n",
      "Total turnover and purchases of the UK non-financial business economy were estimated to be £4,101.5 billion and £2,761.4 billion respectively; an increase of £70.5 billion (1.7%) and £25.8 billion (0.9%) compared with 2018.\n",
      "\n",
      "Out of the 12 UK regions, 8 regions experienced growth in aGVA; the South East experienced the largest increase in aGVA of £17.3 billion to £214.4 billion, which was as increase of 8.8% in 2019.\n",
      "\n",
      "West Midlands, Yorkshire and The Humber, Scotland and East Midlands, were the four regions decreasing year-on-year in aGVA; the largest percentage decrease was in West Midlands where aGVA fell by £2.5 billion (2.6%), from £94.5 billion to £92 billion.\n",
      "\n"
     ]
    }
   ],
   "metadata": {}
  },
  {
   "cell_type": "markdown",
   "source": [
    "The non-financial services sector, which accounted for over half (56.7%) of total aGVA in 2019, increased by £25 billion (3.5%) to £744.4 billion; transport and storage saw the highest increase in aGVA growth at £7.2 billion (8.6%) increasing from £84.4 billion to £91.6 billion.\n",
    "\n",
    "\n",
    "The non-financial services sector, which accounted for over half (56.7%) of total aGVA in 2019, increased by £25 billion (3.5%) to £74.4 billion; transport and storage saw the highest increase in aGVA growth at £7.2 billion (8.6%) increasing from £84.4 billion to £91.6 billion.\n",
    "\n",
    "The non-financial services sector, which accounted for over half (56.7%) of total aGVA in 2019, increased by £25 billion (3.5%) to `<mask><mask><mask>`; transport and storage saw the highest increase in aGVA growth at \n",
    "£7.2 billion (8.6%) increasing from £84.4 billion to £91.6 billion.\n",
    "\n",
    "\n",
    "\n",
    "a) Barack Obama and Trump both ran for president, and `mask` won.\n",
    "b) Barack Obama and Trump both ran for president, and `mask``mask` won.\n",
    "c) Barack Obama and Trump both ran for president, and `mask``mask``mask` won.\n",
    "\n",
    "mean(a, b, c)\n",
    "\n",
    "by averaging the probs of products of tokens we reduce the preference to shorter answers\n",
    "(https://arxiv.org/pdf/2104.08315.pdf)\n"
   ],
   "metadata": {}
  },
  {
   "cell_type": "markdown",
   "source": [
    "# Single Token Answers"
   ],
   "metadata": {}
  },
  {
   "cell_type": "code",
   "execution_count": 3,
   "source": [
    "RUN = False"
   ],
   "outputs": [],
   "metadata": {}
  },
  {
   "cell_type": "markdown",
   "source": [
    "## BERT Single Token Answers"
   ],
   "metadata": {}
  },
  {
   "cell_type": "code",
   "execution_count": 21,
   "source": [
    "from transformers import BertForMaskedLM, BertTokenizer, pipeline\n",
    "from helpers.configs import CLOZE_MASKS\n",
    "model = BertForMaskedLM.from_pretrained('bert-base-uncased')\n",
    "tokenizer = BertTokenizer.from_pretrained('bert-base-uncased')\n",
    "\n",
    "if RUN:\n",
    "    results, entity_set, entities = run_language_model(df, model, tokenizer, \n",
    "        save_results= True, multi_token= False)\n",
    "else:\n",
    "    # load back if you didn't run them\n",
    "    with open('results/bert_base_check_model_july2.json', 'r') as f:\n",
    "        results = json.load(f)\n",
    "    with open('results/bert_base_entity_set_july2.pickle', 'rb') as f:\n",
    "        entity_set = pickle.load(f)\n",
    "    with open('results/bert_base_entity_dictionary.json', 'r') as f:\n",
    "        entities = json.load(f)"
   ],
   "outputs": [
    {
     "output_type": "stream",
     "name": "stderr",
     "text": [
      "Some weights of the model checkpoint at bert-base-uncased were not used when initializing BertForMaskedLM: ['cls.seq_relationship.weight', 'cls.seq_relationship.bias']\n",
      "- This IS expected if you are initializing BertForMaskedLM from the checkpoint of a model trained on another task or with another architecture (e.g. initializing a BertForSequenceClassification model from a BertForPreTraining model).\n",
      "- This IS NOT expected if you are initializing BertForMaskedLM from the checkpoint of a model that you expect to be exactly identical (initializing a BertForSequenceClassification model from a BertForSequenceClassification model).\n"
     ]
    }
   ],
   "metadata": {}
  },
  {
   "cell_type": "code",
   "execution_count": 22,
   "source": [
    "print('BERT Single-Token Answers:\\n')\n",
    "count_correct, count_wrong, correct_preds, wrong_preds = summarise_results(results)"
   ],
   "outputs": [
    {
     "output_type": "stream",
     "name": "stdout",
     "text": [
      "BERT Single-Token Answers:\n",
      "\n",
      "Total Examples: 6184\n",
      "Correct: 542, Incorrect: 5642\n",
      "Percentage Correct: 8.765%\n"
     ]
    }
   ],
   "metadata": {}
  },
  {
   "cell_type": "markdown",
   "source": [
    "## ELECTRA Single Token Answers"
   ],
   "metadata": {}
  },
  {
   "cell_type": "code",
   "execution_count": 4,
   "source": [
    "from transformers import ElectraForMaskedLM, ElectraTokenizer\n",
    "tokenizer = ElectraTokenizer.from_pretrained('google/electra-small-discriminator')\n",
    "model = ElectraForMaskedLM.from_pretrained('google/electra-small-discriminator')\n",
    "\n",
    "if RUN:\n",
    "    results, entity_set, entities = run_language_model(df, model, tokenizer, \n",
    "        save_results= True, multi_token= False)\n",
    "else:\n",
    "    # load back if you didn't run them\n",
    "    with open('results/electra_base_check_model_july2.json', 'r') as f:\n",
    "        results = json.load(f)\n",
    "    with open('results/electra_base_entity_set_july2.pickle', 'rb') as f:\n",
    "        entity_set = pickle.load(f)\n",
    "    with open('results/electra_base_entity_dictionary.json', 'r') as f:\n",
    "        entities = json.load(f)"
   ],
   "outputs": [
    {
     "output_type": "stream",
     "name": "stderr",
     "text": [
      "Some weights of the model checkpoint at google/electra-small-discriminator were not used when initializing ElectraForMaskedLM: ['discriminator_predictions.dense_prediction.bias', 'discriminator_predictions.dense_prediction.weight', 'discriminator_predictions.dense.bias', 'discriminator_predictions.dense.weight']\n",
      "- This IS expected if you are initializing ElectraForMaskedLM from the checkpoint of a model trained on another task or with another architecture (e.g. initializing a BertForSequenceClassification model from a BertForPreTraining model).\n",
      "- This IS NOT expected if you are initializing ElectraForMaskedLM from the checkpoint of a model that you expect to be exactly identical (initializing a BertForSequenceClassification model from a BertForSequenceClassification model).\n",
      "Some weights of ElectraForMaskedLM were not initialized from the model checkpoint at google/electra-small-discriminator and are newly initialized: ['generator_predictions.LayerNorm.bias', 'generator_predictions.dense.weight', 'generator_lm_head.weight', 'generator_predictions.dense.bias', 'generator_predictions.LayerNorm.weight', 'generator_lm_head.bias']\n",
      "You should probably TRAIN this model on a down-stream task to be able to use it for predictions and inference.\n"
     ]
    }
   ],
   "metadata": {}
  },
  {
   "cell_type": "code",
   "execution_count": 6,
   "source": [
    "print('ELECTRA Single-Token Answers:\\n')\n",
    "count_correct, count_wrong, correct_preds, wrong_preds = summarise_results(results)"
   ],
   "outputs": [
    {
     "output_type": "stream",
     "name": "stdout",
     "text": [
      "ELECTRA Single-Token Answers:\n",
      "\n",
      "Total Examples: 6184\n",
      "Correct: 0, Incorrect: 6184\n",
      "Percentage Correct: 0.0%\n"
     ]
    }
   ],
   "metadata": {}
  },
  {
   "cell_type": "code",
   "execution_count": 7,
   "source": [
    "from transformers import ElectraForMaskedLM, ElectraTokenizer\n",
    "tokenizer = ElectraTokenizer.from_pretrained('google/electra-base-discriminator')\n",
    "model = ElectraForMaskedLM.from_pretrained('google/electra-base-discriminator')\n",
    "\n",
    "if RUN:\n",
    "    results, entity_set, entities = run_language_model(df, model, tokenizer, \n",
    "        save_results= True, multi_token= False)\n",
    "else:\n",
    "    # load back if you didn't run them\n",
    "    with open(\n",
    "        'results/ElectraForMaskedLM_20210826_005034_results.json', 'r') as f:\n",
    "        results = json.load(f)\n",
    "    with open(\n",
    "        'results/ElectraForMaskedLM_20210826_005034_entity_set.pickle', 'rb') as f:\n",
    "        entity_set = pickle.load(f)\n",
    "    with open(\n",
    "        'results/ElectraForMaskedLM_20210826_005034_entity_dictionary.json', 'r') as f:\n",
    "        entities = json.load(f)\n",
    "    # with open('results/electra_base_check_model_july2.json', 'r') as f:\n",
    "    #     results = json.load(f)\n",
    "    # with open('results/electra_base_entity_set_july2.pickle', 'rb') as f:\n",
    "    #     entity_set = pickle.load(f)\n",
    "    # with open('results/electra_base_entity_dictionary.json', 'r') as f:\n",
    "    #     entities = json.load(f)"
   ],
   "outputs": [
    {
     "output_type": "stream",
     "name": "stderr",
     "text": [
      "Some weights of the model checkpoint at google/electra-base-discriminator were not used when initializing ElectraForMaskedLM: ['discriminator_predictions.dense.bias', 'discriminator_predictions.dense.weight', 'discriminator_predictions.dense_prediction.bias', 'discriminator_predictions.dense_prediction.weight']\n",
      "- This IS expected if you are initializing ElectraForMaskedLM from the checkpoint of a model trained on another task or with another architecture (e.g. initializing a BertForSequenceClassification model from a BertForPreTraining model).\n",
      "- This IS NOT expected if you are initializing ElectraForMaskedLM from the checkpoint of a model that you expect to be exactly identical (initializing a BertForSequenceClassification model from a BertForSequenceClassification model).\n",
      "Some weights of ElectraForMaskedLM were not initialized from the model checkpoint at google/electra-base-discriminator and are newly initialized: ['generator_predictions.LayerNorm.bias', 'generator_predictions.dense.weight', 'generator_lm_head.weight', 'generator_predictions.dense.bias', 'generator_predictions.LayerNorm.weight', 'generator_lm_head.bias']\n",
      "You should probably TRAIN this model on a down-stream task to be able to use it for predictions and inference.\n"
     ]
    }
   ],
   "metadata": {}
  },
  {
   "cell_type": "code",
   "execution_count": 8,
   "source": [
    "print('ELECTRA Single-Token Answers:\\n')\n",
    "count_correct, count_wrong, correct_preds, wrong_preds = summarise_results(results)"
   ],
   "outputs": [
    {
     "output_type": "stream",
     "name": "stdout",
     "text": [
      "ELECTRA Single-Token Answers:\n",
      "\n",
      "Total Examples: 6184\n",
      "Correct: 0, Incorrect: 6184\n",
      "Percentage Correct: 0.0%\n"
     ]
    }
   ],
   "metadata": {}
  },
  {
   "cell_type": "markdown",
   "source": [
    "## AlBERT Single Token Answers"
   ],
   "metadata": {}
  },
  {
   "cell_type": "code",
   "execution_count": 9,
   "source": [
    "from transformers import AlbertForMaskedLM, AlbertTokenizer\n",
    "model = AlbertForMaskedLM.from_pretrained('albert-base-v2')\n",
    "tokenizer = AlbertTokenizer.from_pretrained('albert-base-v2')\n",
    "\n",
    "if RUN:\n",
    "    results, entity_set, entities = run_language_model(df, model, tokenizer, \n",
    "        save_results= True, multi_token= False)\n",
    "else:\n",
    "    # load back if you didn't run them\n",
    "    with open('results/albert_base_check_model_july2.json', 'r') as f:\n",
    "        results = json.load(f)\n",
    "    with open('results/albert_base_entity_set_july2.pickle', 'rb') as f:\n",
    "        entity_set = pickle.load(f)\n",
    "    with open('results/albert_base_entity_dictionary.json', 'r') as f:\n",
    "        entities = json.load(f)"
   ],
   "outputs": [],
   "metadata": {}
  },
  {
   "cell_type": "code",
   "execution_count": 12,
   "source": [
    "print('AlBERT Single-Token Answers:\\n')\n",
    "count_correct, count_wrong, correct_preds, wrong_preds = summarise_results(results)"
   ],
   "outputs": [
    {
     "output_type": "stream",
     "name": "stdout",
     "text": [
      "AlBERT Single-Token Answers:\n",
      "\n",
      "Total Examples: 6184\n",
      "Correct: 500, Incorrect: 5684\n",
      "Percentage Correct: 8.085%\n"
     ]
    }
   ],
   "metadata": {}
  },
  {
   "cell_type": "markdown",
   "source": [
    "## RoBERTa Single Token Answers"
   ],
   "metadata": {}
  },
  {
   "cell_type": "code",
   "execution_count": 13,
   "source": [
    "from transformers import RobertaTokenizer, RobertaForMaskedLM\n",
    "model = RobertaForMaskedLM.from_pretrained('roberta-base')\n",
    "tokenizer = RobertaTokenizer.from_pretrained('roberta-base')\n",
    "\n",
    "if RUN:\n",
    "    results, entity_set, entities = run_language_model(df, model, tokenizer, \n",
    "        save_results= True, multi_token= False)\n",
    "else:\n",
    "    # load back if you didn't run them\n",
    "    with open('results/roberta_base_check_model_july2.json', 'r') as f:\n",
    "        results = json.load(f)\n",
    "    with open('results/roberta_base_entity_set_july2.pickle', 'rb') as f:\n",
    "        entity_set = pickle.load(f)\n",
    "    with open('results/roberta_base_entity_dictionary.json', 'r') as f:\n",
    "        entities = json.load(f)"
   ],
   "outputs": [],
   "metadata": {}
  },
  {
   "cell_type": "code",
   "execution_count": 14,
   "source": [
    "print('RoBERTa Single-Token Answers:\\n')\n",
    "count_correct, count_wrong, correct_preds, wrong_preds = summarise_results(results)"
   ],
   "outputs": [
    {
     "output_type": "stream",
     "name": "stdout",
     "text": [
      "RoBERTa Single-Token Answers:\n",
      "\n",
      "Total Examples: 6184\n",
      "Correct: 716, Incorrect: 5468\n",
      "Percentage Correct: 11.578%\n"
     ]
    }
   ],
   "metadata": {}
  },
  {
   "cell_type": "markdown",
   "source": [
    "# Multi-Token Answers"
   ],
   "metadata": {}
  },
  {
   "cell_type": "code",
   "execution_count": 13,
   "source": [
    "# RAN ON GOOGLE COLAB\n",
    "# via run_multitoken_languagemodel.py"
   ],
   "outputs": [],
   "metadata": {}
  },
  {
   "cell_type": "code",
   "execution_count": 15,
   "source": [
    "from transformers import RobertaForMaskedLM, RobertaTokenizerFast\n",
    "tokenizer = RobertaTokenizerFast.from_pretrained('roberta-base')\n",
    "\n",
    "with open('results/RobertaForMaskedLM_20210714_192239_results.json', 'r') as f:\n",
    "    results = json.load(f)\n",
    "with open('results/RobertaForMaskedLM_20210714_192239_entity_set.pickle', 'rb') as f:\n",
    "    entity_set = pickle.load(f)\n",
    "with open('results/RobertaForMaskedLM_20210714_192239_entity_dictionary.json', 'r') as f:\n",
    "    entities = json.load(f)"
   ],
   "outputs": [],
   "metadata": {}
  },
  {
   "cell_type": "code",
   "execution_count": 16,
   "source": [
    "print('RoBERTa Multi-Token Answers:\\n')\n",
    "count_correct, count_wrong, correct_preds, wrong_preds = summarise_results(results)"
   ],
   "outputs": [
    {
     "output_type": "stream",
     "name": "stdout",
     "text": [
      "RoBERTa Multi-Token Answers:\n",
      "\n",
      "Total Examples: 6184\n",
      "Correct: 654, Incorrect: 5530\n",
      "Percentage Correct: 10.576%\n"
     ]
    }
   ],
   "metadata": {}
  },
  {
   "cell_type": "markdown",
   "source": [
    "# Why is Multi-Token RoBERTa worse than the Single-Token counterpart?"
   ],
   "metadata": {}
  },
  {
   "cell_type": "code",
   "execution_count": 17,
   "source": [
    "with open('results/roberta_base_check_model_july2.json', 'r') as f:\n",
    "        single_results = json.load(f)\n",
    "with open('results/RobertaForMaskedLM_20210714_192239_results.json', 'r') as f:\n",
    "        multi_results = json.load(f)"
   ],
   "outputs": [],
   "metadata": {}
  },
  {
   "cell_type": "code",
   "execution_count": 18,
   "source": [
    "agree, disagree = 0, 0\n",
    "disagreements = []\n",
    "\n",
    "single_correct, multi_correct = [], []\n",
    "\n",
    "agree_correct, agree_incorrect = [], []\n",
    "\n",
    "disagree_single_correct, disagree_multi_correct = [], []\n",
    "\n",
    "for row in range(2015):\n",
    "    single_row, multi_row = single_results[row], multi_results[row]\n",
    "    if len(single_row) and len(multi_row):\n",
    "        for single, multi in zip(single_row, multi_row):\n",
    "            \n",
    "            single_pred = single[0].lower()\n",
    "            multi_pred = multi[0].lower()\n",
    "            truth = single[2].lower()\n",
    "            \n",
    "            # make sure first char isn't a whitespace\n",
    "            if single_pred[0] == ' ':\n",
    "                single_pred = single_pred[1:]\n",
    "            if multi_pred[0] == ' ':\n",
    "                multi_pred = multi_pred[1:]\n",
    "\n",
    "            # if single-token and multi-token identical\n",
    "            if single_pred == multi_pred:\n",
    "                agree += 1\n",
    "                # if they match truth\n",
    "                if single_pred == truth:\n",
    "                    # print(single_pred, multi_pred)\n",
    "                    # print(multi)\n",
    "                    agree_correct.append((truth))\n",
    "                # if they both are wrong\n",
    "                else:\n",
    "                    agree_incorrect.append((single_pred, multi_pred, truth))\n",
    "            \n",
    "            # if single-token and multi-token disagree\n",
    "            else:\n",
    "                disagree += 1\n",
    "                disagreements.append((single_pred, multi_pred, truth))\n",
    "                # if single-token is correct\n",
    "                if single_pred == truth:\n",
    "                    disagree_single_correct.append((single_pred, multi_pred, truth))\n",
    "                # if multi-token is incorrect\n",
    "                if multi_pred == truth:\n",
    "                    disagree_multi_correct.append((single_pred, multi_pred, truth))"
   ],
   "outputs": [],
   "metadata": {}
  },
  {
   "cell_type": "code",
   "execution_count": 19,
   "source": [
    "print(f'Out of {agree} times that single- and multi-token predictions agreed: \\n Both were {len(agree_correct)} correct and {len(agree_incorrect)} incorrect\\n')\n",
    "\n",
    "print(f'Out of {disagree} times that single- and multi-token predictions disagreed: \\n Single-token was {len(disagree_single_correct)} correct and Multi-token was {len(disagree_multi_correct)} correct')"
   ],
   "outputs": [
    {
     "output_type": "stream",
     "name": "stdout",
     "text": [
      "Out of 1385 times that single- and multi-token predictions agreed: \n",
      " Both were 541 correct and 844 incorrect\n",
      "\n",
      "Out of 4799 times that single- and multi-token predictions disagreed: \n",
      " Single-token was 175 correct and Multi-token was 113 correct\n"
     ]
    }
   ],
   "metadata": {}
  },
  {
   "cell_type": "code",
   "execution_count": 20,
   "source": [
    "disagree_multi_correct[:5]"
   ],
   "outputs": [
    {
     "output_type": "execute_result",
     "data": {
      "text/plain": [
       "[('it', 'scotland', 'scotland'),\n",
       " ('california', 'london', 'london'),\n",
       " ('2015', 'last year', 'last year'),\n",
       " ('new', 'monthly', 'monthly'),\n",
       " ('scotland', 'london', 'london')]"
      ]
     },
     "metadata": {},
     "execution_count": 20
    }
   ],
   "metadata": {}
  },
  {
   "cell_type": "markdown",
   "source": [
    "How do we explain that:\n",
    "\n",
    "\"Wales\" is tokenised as two tokens. Single-token prediction (i.e. we just pass a single `<mask>`) is better? "
   ],
   "metadata": {}
  },
  {
   "cell_type": "markdown",
   "source": [
    "# Looking into the predictions"
   ],
   "metadata": {}
  },
  {
   "cell_type": "code",
   "execution_count": 19,
   "source": [
    "preds, counts = np.unique(correct_preds, return_counts = True)\n",
    "\n",
    "\n",
    "_sorted = pd.DataFrame({'preds': preds, 'counts':counts}).sort_values('counts')\n",
    "\n",
    "fig, ax = plt.subplots(1, 1, figsize= (13,8))\n",
    "plt.bar(_sorted.preds[_sorted.counts > 5], _sorted.counts[_sorted.counts > 5])\n",
    "# plt.bar(preds[counts > 5], counts[counts > 5])\n",
    "ax.tick_params(axis='x', labelsize=14, rotation = 90)\n",
    "ax.tick_params(axis='y', labelsize=14)\n",
    "fig.suptitle('RoBERTa - Multi-Token\\nCorrectly Predicted', fontsize = 20)\n",
    "plt.tight_layout()\n",
    "plt.show()"
   ],
   "outputs": [
    {
     "output_type": "display_data",
     "data": {
      "image/png": "[encoded data removed]",
      "text/plain": [
       "<Figure size 936x576 with 1 Axes>"
      ]
     },
     "metadata": {
      "needs_background": "light"
     }
    }
   ],
   "metadata": {}
  },
  {
   "cell_type": "code",
   "execution_count": 17,
   "source": [
    "preds, counts = np.unique([x[1] for x in wrong_preds], return_counts = True)\n",
    "\n",
    "\n",
    "_sorted = pd.DataFrame({'preds': preds, 'counts':counts}).sort_values('counts')\n",
    "\n",
    "fig, ax = plt.subplots(1, 1, figsize= (13,8))\n",
    "plt.bar(_sorted.preds[_sorted.counts > 10], _sorted.counts[_sorted.counts > 10])\n",
    "ax.tick_params(axis='x', labelsize=14, rotation = 90)\n",
    "ax.tick_params(axis='y', labelsize=14)\n",
    "fig.suptitle('RoBERTa - Multi-Token\\nIncorrectly Predicted', fontsize = 20)\n",
    "plt.tight_layout()\n",
    "plt.show()"
   ],
   "outputs": [
    {
     "output_type": "display_data",
     "data": {
      "image/png": "[encoded data removed]",
      "text/plain": [
       "<Figure size 936x576 with 1 Axes>"
      ]
     },
     "metadata": {
      "needs_background": "light"
     }
    }
   ],
   "metadata": {}
  },
  {
   "cell_type": "markdown",
   "source": [
    "- Ask Patrick (researchquestions) if he knows any ways to handle probabilities of different length tokens (preference of shorter tokens)\n",
    "\n",
    "- Ask Patrick/Seb/ (RQ) is there a way to use t5 to answer cloze-style questions? papers links\n",
    "\n",
    "- LREC maybe, submission of dataset, compare with PolitiHop, benchmark argument"
   ],
   "metadata": {}
  },
  {
   "cell_type": "markdown",
   "source": [
    "# RoBERTa results picks best 0-5 length answer"
   ],
   "metadata": {}
  },
  {
   "cell_type": "markdown",
   "source": [
    "THE REASON THERE IS SOME DISCREPANCY WITH THIS AND THE RESULTS BELOW IS HOW CONFIDENCE IS CALCULATED. HERE I DID SOME NORMALISATION THAT IS NOT COMMON."
   ],
   "metadata": {}
  },
  {
   "cell_type": "code",
   "execution_count": 3,
   "source": [
    "with open('results/RobertaForMaskedLM_20210719_234849_results.json', 'r') as f:\n",
    "    results = json.load(f)"
   ],
   "outputs": [],
   "metadata": {}
  },
  {
   "cell_type": "code",
   "execution_count": 4,
   "source": [
    "print('RoBERTa best of 0-5 token-length answers:\\n')\n",
    "count_correct, count_wrong, correct_preds, wrong_preds = summarise_results(results)"
   ],
   "outputs": [
    {
     "output_type": "stream",
     "name": "stdout",
     "text": [
      "RoBERTa best of 0-5 token-length answers:\n",
      "\n",
      "Total Examples: 6184\n",
      "Correct: 646, Incorrect: 5538\n",
      "Percentage Correct: 10.446%\n"
     ]
    }
   ],
   "metadata": {}
  },
  {
   "cell_type": "markdown",
   "source": [
    "# RoBERTa picks best 0-5 length answer (perplexity and confidence)"
   ],
   "metadata": {}
  },
  {
   "cell_type": "code",
   "execution_count": 5,
   "source": [
    "with open('results/RobertaForMaskedLM_20210721_005608_results.json', 'r') as f:\n",
    "    results = json.load(f)"
   ],
   "outputs": [],
   "metadata": {}
  },
  {
   "cell_type": "code",
   "execution_count": 6,
   "source": [
    "count_correct, count_wrong, correct_preds, wrong_preds, conf_count_correct, conf_count_wrong, conf_correct_preds, conf_wrong_preds, perp_count_correct, perp_count_wrong, perp_correct_preds, perp_wrong_preds = \\\n",
    "    summarise_results(results, includes_perplexity=True)"
   ],
   "outputs": [
    {
     "output_type": "stream",
     "name": "stdout",
     "text": [
      "Total Examples: 6184\n",
      "Correct: 711, Incorrect: 5473\n",
      "Percentage Correct: 11.497%\n",
      "Confidence-based Answers: 11.497\n",
      "Perplexity-based Answers: 0.0\n"
     ]
    }
   ],
   "metadata": {}
  },
  {
   "cell_type": "code",
   "execution_count": 5,
   "source": [
    "df"
   ],
   "outputs": [
    {
     "output_type": "execute_result",
     "data": {
      "text/html": [
       "<div>\n",
       "<style scoped>\n",
       "    .dataframe tbody tr th:only-of-type {\n",
       "        vertical-align: middle;\n",
       "    }\n",
       "\n",
       "    .dataframe tbody tr th {\n",
       "        vertical-align: top;\n",
       "    }\n",
       "\n",
       "    .dataframe thead th {\n",
       "        text-align: right;\n",
       "    }\n",
       "</style>\n",
       "<table border=\"1\" class=\"dataframe\">\n",
       "  <thead>\n",
       "    <tr style=\"text-align: right;\">\n",
       "      <th></th>\n",
       "      <th>bulletin</th>\n",
       "      <th>type</th>\n",
       "      <th>point</th>\n",
       "      <th>data</th>\n",
       "    </tr>\n",
       "  </thead>\n",
       "  <tbody>\n",
       "    <tr>\n",
       "      <th>0</th>\n",
       "      <td>businessindustryandtrade/business/businessserv...</td>\n",
       "      <td>date_and_percent</td>\n",
       "      <td>In 2019, approximate gross value added at basi...</td>\n",
       "      <td>[/businessindustryandtrade/business/businessse...</td>\n",
       "    </tr>\n",
       "    <tr>\n",
       "      <th>1</th>\n",
       "      <td>businessindustryandtrade/business/businessserv...</td>\n",
       "      <td>date_and_percent</td>\n",
       "      <td>The non-financial services sector, which accou...</td>\n",
       "      <td>[/businessindustryandtrade/business/businessse...</td>\n",
       "    </tr>\n",
       "    <tr>\n",
       "      <th>2</th>\n",
       "      <td>businessindustryandtrade/business/businessserv...</td>\n",
       "      <td>date_and_percent</td>\n",
       "      <td>Total turnover and purchases of the UK non-fin...</td>\n",
       "      <td>[/businessindustryandtrade/business/businessse...</td>\n",
       "    </tr>\n",
       "    <tr>\n",
       "      <th>3</th>\n",
       "      <td>businessindustryandtrade/business/businessserv...</td>\n",
       "      <td>date_and_percent</td>\n",
       "      <td>Out of the 12 UK regions, 8 regions experience...</td>\n",
       "      <td>[/businessindustryandtrade/business/businessse...</td>\n",
       "    </tr>\n",
       "    <tr>\n",
       "      <th>4</th>\n",
       "      <td>businessindustryandtrade/business/businessserv...</td>\n",
       "      <td>date_and_percent</td>\n",
       "      <td>West Midlands, Yorkshire and The Humber, Scotl...</td>\n",
       "      <td>[/businessindustryandtrade/business/businessse...</td>\n",
       "    </tr>\n",
       "    <tr>\n",
       "      <th>...</th>\n",
       "      <td>...</td>\n",
       "      <td>...</td>\n",
       "      <td>...</td>\n",
       "      <td>...</td>\n",
       "    </tr>\n",
       "    <tr>\n",
       "      <th>2010</th>\n",
       "      <td>peoplepopulationandcommunity/wellbeing/article...</td>\n",
       "      <td>date_and_percent</td>\n",
       "      <td>Trust in others in their neighbourhood was hig...</td>\n",
       "      <td>[/peoplepopulationandcommunity/wellbeing/datas...</td>\n",
       "    </tr>\n",
       "    <tr>\n",
       "      <th>2011</th>\n",
       "      <td>peoplepopulationandcommunity/wellbeing/article...</td>\n",
       "      <td>date_and_percent</td>\n",
       "      <td>Trust in others in their neighbourhood was hig...</td>\n",
       "      <td>[/peoplepopulationandcommunity/wellbeing/datas...</td>\n",
       "    </tr>\n",
       "    <tr>\n",
       "      <th>2012</th>\n",
       "      <td>peoplepopulationandcommunity/wellbeing/article...</td>\n",
       "      <td>date_and_percent</td>\n",
       "      <td>People in higher managerial occupations were m...</td>\n",
       "      <td>[/peoplepopulationandcommunity/wellbeing/datas...</td>\n",
       "    </tr>\n",
       "    <tr>\n",
       "      <th>2013</th>\n",
       "      <td>peoplepopulationandcommunity/wellbeing/article...</td>\n",
       "      <td>date_and_percent</td>\n",
       "      <td>Around 6 in 10 people (61%) reported feeling s...</td>\n",
       "      <td>[/peoplepopulationandcommunity/wellbeing/datas...</td>\n",
       "    </tr>\n",
       "    <tr>\n",
       "      <th>2014</th>\n",
       "      <td>peoplepopulationandcommunity/wellbeing/article...</td>\n",
       "      <td>just_dates</td>\n",
       "      <td>Our research highlights that personal characte...</td>\n",
       "      <td>[/peoplepopulationandcommunity/wellbeing/datas...</td>\n",
       "    </tr>\n",
       "  </tbody>\n",
       "</table>\n",
       "<p>2015 rows × 4 columns</p>\n",
       "</div>"
      ],
      "text/plain": [
       "                                               bulletin              type  \\\n",
       "0     businessindustryandtrade/business/businessserv...  date_and_percent   \n",
       "1     businessindustryandtrade/business/businessserv...  date_and_percent   \n",
       "2     businessindustryandtrade/business/businessserv...  date_and_percent   \n",
       "3     businessindustryandtrade/business/businessserv...  date_and_percent   \n",
       "4     businessindustryandtrade/business/businessserv...  date_and_percent   \n",
       "...                                                 ...               ...   \n",
       "2010  peoplepopulationandcommunity/wellbeing/article...  date_and_percent   \n",
       "2011  peoplepopulationandcommunity/wellbeing/article...  date_and_percent   \n",
       "2012  peoplepopulationandcommunity/wellbeing/article...  date_and_percent   \n",
       "2013  peoplepopulationandcommunity/wellbeing/article...  date_and_percent   \n",
       "2014  peoplepopulationandcommunity/wellbeing/article...        just_dates   \n",
       "\n",
       "                                                  point  \\\n",
       "0     In 2019, approximate gross value added at basi...   \n",
       "1     The non-financial services sector, which accou...   \n",
       "2     Total turnover and purchases of the UK non-fin...   \n",
       "3     Out of the 12 UK regions, 8 regions experience...   \n",
       "4     West Midlands, Yorkshire and The Humber, Scotl...   \n",
       "...                                                 ...   \n",
       "2010  Trust in others in their neighbourhood was hig...   \n",
       "2011  Trust in others in their neighbourhood was hig...   \n",
       "2012  People in higher managerial occupations were m...   \n",
       "2013  Around 6 in 10 people (61%) reported feeling s...   \n",
       "2014  Our research highlights that personal characte...   \n",
       "\n",
       "                                                   data  \n",
       "0     [/businessindustryandtrade/business/businessse...  \n",
       "1     [/businessindustryandtrade/business/businessse...  \n",
       "2     [/businessindustryandtrade/business/businessse...  \n",
       "3     [/businessindustryandtrade/business/businessse...  \n",
       "4     [/businessindustryandtrade/business/businessse...  \n",
       "...                                                 ...  \n",
       "2010  [/peoplepopulationandcommunity/wellbeing/datas...  \n",
       "2011  [/peoplepopulationandcommunity/wellbeing/datas...  \n",
       "2012  [/peoplepopulationandcommunity/wellbeing/datas...  \n",
       "2013  [/peoplepopulationandcommunity/wellbeing/datas...  \n",
       "2014  [/peoplepopulationandcommunity/wellbeing/datas...  \n",
       "\n",
       "[2015 rows x 4 columns]"
      ]
     },
     "metadata": {},
     "execution_count": 5
    }
   ],
   "metadata": {}
  },
  {
   "cell_type": "markdown",
   "source": [
    "# T5 analysis"
   ],
   "metadata": {}
  },
  {
   "cell_type": "code",
   "execution_count": 242,
   "source": [
    "results = pd.read_json('results/t5_results_25august_clean.json')\n",
    "results_large = pd.read_json('results/t5_large_29august_clean.json')"
   ],
   "outputs": [],
   "metadata": {}
  },
  {
   "cell_type": "code",
   "execution_count": 243,
   "source": [
    "# results = pd.read_json('results/roberta_results_25august_clean.json')\n",
    "# results_large = pd.read_json('results/roberta_large_29august_clean.json')\n"
   ],
   "outputs": [],
   "metadata": {}
  },
  {
   "cell_type": "code",
   "execution_count": 244,
   "source": [
    "def _cleanup(x):\n",
    "    if x[-1] in [',', '.']:\n",
    "        x = x[:-1]\n",
    "\n",
    "    return x"
   ],
   "outputs": [],
   "metadata": {}
  },
  {
   "cell_type": "code",
   "execution_count": 245,
   "source": [
    "results['processed_pred'] = results.processed_pred.apply(lambda x:_cleanup(x))\n",
    "results_large['processed_pred'] = results_large.processed_pred.apply(lambda x:_cleanup(x))\n",
    "\n",
    "results['correct'] = (results['processed_pred']==results['processed_answer']).astype(int)\n",
    "results_large['correct'] = (results_large['processed_pred']==results_large['processed_answer']).astype(int)\n",
    "\n",
    "results['ans_length'] = results.processed_answer.apply(lambda x: len(x.split(' ')))\n",
    "results_large['ans_length'] = results_large.processed_answer.apply(lambda x: len(x.split(' ')))\n"
   ],
   "outputs": [],
   "metadata": {}
  },
  {
   "cell_type": "code",
   "execution_count": 246,
   "source": [
    "# results_large.groupby('ids').first().correct.sum() / results_large.groupby('ids').first().shape[0]\n",
    "results.groupby('ids').first().correct.sum() / results.groupby('ids').first().shape[0]"
   ],
   "outputs": [
    {
     "output_type": "execute_result",
     "data": {
      "text/plain": [
       "0.10362438220757825"
      ]
     },
     "metadata": {},
     "execution_count": 246
    }
   ],
   "metadata": {}
  },
  {
   "cell_type": "code",
   "execution_count": 247,
   "source": [
    "first_preds = results.groupby('ids').first()\n",
    "first_preds_large = results_large.groupby('ids').first()"
   ],
   "outputs": [],
   "metadata": {}
  },
  {
   "cell_type": "code",
   "execution_count": 248,
   "source": [
    "np.round(100 * first_preds.groupby('ans_length').correct.sum() / first_preds.groupby('ans_length').size(), 2)"
   ],
   "outputs": [
    {
     "output_type": "execute_result",
     "data": {
      "text/plain": [
       "ans_length\n",
       "1    14.98\n",
       "2     4.16\n",
       "3     5.34\n",
       "4     1.97\n",
       "5     1.99\n",
       "6     0.00\n",
       "7     0.00\n",
       "8     0.00\n",
       "9     0.00\n",
       "dtype: float64"
      ]
     },
     "metadata": {},
     "execution_count": 248
    }
   ],
   "metadata": {}
  },
  {
   "cell_type": "code",
   "execution_count": 249,
   "source": [
    "np.round(100 * first_preds_large.groupby('ans_length').correct.sum() / first_preds_large.groupby('ans_length').size(), 2)"
   ],
   "outputs": [
    {
     "output_type": "execute_result",
     "data": {
      "text/plain": [
       "ans_length\n",
       "1    18.72\n",
       "2     7.57\n",
       "3     8.78\n",
       "4     2.96\n",
       "5     4.48\n",
       "6     0.74\n",
       "7     0.00\n",
       "8     0.00\n",
       "9     0.00\n",
       "dtype: float64"
      ]
     },
     "metadata": {},
     "execution_count": 249
    }
   ],
   "metadata": {}
  },
  {
   "cell_type": "code",
   "execution_count": 250,
   "source": [
    "wrong_ans, wrong_counts = np.unique(results.loc[results.correct == 0].processed_answer.values, return_counts = True)\n",
    "# most frequent wrong answers\n",
    "wrong_count_sort = np.argsort(-wrong_counts)\n",
    "# [print(wrong_ans[x], wrong_counts[x]) for x in wrong_count_sort]\n",
    "\n",
    "correct_ans, correct_counts = np.unique(results.loc[results.correct == 1].processed_answer.values, return_counts = True)\n",
    "# most frequent correct answers\n",
    "correct_count_sort = np.argsort(-correct_counts)\n",
    "# [print(correct_ans[x], correct_counts[x]) for x in correct_count_sort]"
   ],
   "outputs": [],
   "metadata": {}
  },
  {
   "cell_type": "code",
   "execution_count": 251,
   "source": [
    "wrong_ans_large, wrong_counts_large = np.unique(results_large.loc[results_large.correct == 0].processed_answer.values, return_counts = True)\n",
    "\n",
    "wrong_count_sort_large = np.argsort(-wrong_counts_large)\n",
    "\n",
    "\n",
    "correct_ans_large, correct_counts_large = np.unique(results_large.loc[results_large.correct == 1].processed_answer.values, return_counts = True)\n",
    "\n",
    "correct_count_sort_large = np.argsort(-correct_counts_large)"
   ],
   "outputs": [],
   "metadata": {}
  },
  {
   "cell_type": "code",
   "execution_count": 143,
   "source": [
    "fig, ax = plt.subplots(2,2, figsize = (12,12))\n",
    "ax[0,0].bar(wrong_ans[wrong_count_sort][:10], wrong_counts[wrong_count_sort][:10])\n",
    "ax[0,1].bar(correct_ans[correct_count_sort][:10], correct_counts[correct_count_sort][:10])\n",
    "\n",
    "ax[1,0].bar(\n",
    "    wrong_ans_large[wrong_count_sort_large][:10], wrong_counts_large[wrong_count_sort_large][:10])\n",
    "ax[1,1].bar(\n",
    "    correct_ans_large[correct_count_sort_large][:10], correct_counts_large[correct_count_sort_large][:10])\n",
    "\n",
    "ax[0,0].set_title('Correctly Predicted')\n",
    "ax[0,1].set_title('Incorrectly Predicted')\n",
    "\n",
    "ax[0,0].set_ylabel('T5-base', fontsize = 14)\n",
    "ax[1,0].set_ylabel('T5-large', fontsize = 14)\n",
    "\n",
    "ax[0,0].tick_params(axis='x', labelsize=14, rotation = 90)\n",
    "ax[0,0].tick_params(axis='y', labelsize=14)\n",
    "ax[0,1].tick_params(axis='x', labelsize=14, rotation = 90)\n",
    "ax[0,1].tick_params(axis='y', labelsize=14)\n",
    "ax[1,0].tick_params(axis='x', labelsize=14, rotation = 90)\n",
    "ax[1,0].tick_params(axis='y', labelsize=14)\n",
    "ax[1,1].tick_params(axis='x', labelsize=14, rotation = 90)\n",
    "ax[1,1].tick_params(axis='y', labelsize=14)\n",
    "\n",
    "plt.savefig(\n",
    "    'overleaf_peripherals/t5_correct_incorrect.png', \n",
    "    facecolor = 'white', bbox_inches = 'tight')\n",
    "plt.show()\n"
   ],
   "outputs": [
    {
     "output_type": "display_data",
     "data": {
      "image/png": "[encoded data removed]",
      "text/plain": [
       "<Figure size 864x864 with 4 Axes>"
      ]
     },
     "metadata": {}
    }
   ],
   "metadata": {}
  },
  {
   "cell_type": "code",
   "execution_count": 241,
   "source": [
    "wrong_ans, wrong_counts = np.unique(first_preds.loc[first_preds.correct == 0].processed_answer.values, return_counts = True)\n",
    "# most frequent wrong answers\n",
    "wrong_count_sort = np.argsort(-wrong_counts)\n",
    "# [print(wrong_ans[x], wrong_counts[x]) for x in wrong_count_sort]\n",
    "\n",
    "correct_ans, correct_counts = np.unique(first_preds.loc[first_preds.correct == 1].processed_answer.values, return_counts = True)\n",
    "# most frequent correct answers\n",
    "correct_count_sort = np.argsort(-correct_counts)\n",
    "# [print(correct_ans[x], correct_counts[x]) for x in correct_count_sort]\n",
    "\n",
    "wrong_ans_large, wrong_counts_large = np.unique(first_preds_large.loc[first_preds_large.correct == 0].processed_answer.values, return_counts = True)\n",
    "\n",
    "wrong_count_sort_large = np.argsort(-wrong_counts_large)\n",
    "\n",
    "\n",
    "correct_ans_large, correct_counts_large = np.unique(first_preds_large.loc[first_preds_large.correct == 1].processed_answer.values, return_counts = True)\n",
    "\n",
    "correct_count_sort_large = np.argsort(-correct_counts_large)\n",
    "\n",
    "fig, ax = plt.subplots(2,2, figsize = (12,12), sharey = True)\n",
    "ax[0,0].bar(wrong_ans[wrong_count_sort][:10], wrong_counts[wrong_count_sort][:10])\n",
    "ax[0,1].bar(correct_ans[correct_count_sort][:10], correct_counts[correct_count_sort][:10])\n",
    "\n",
    "ax[1,0].bar(\n",
    "    wrong_ans_large[wrong_count_sort_large][:10], wrong_counts_large[wrong_count_sort_large][:10])\n",
    "ax[1,1].bar(\n",
    "    correct_ans_large[correct_count_sort_large][:10], correct_counts_large[correct_count_sort_large][:10])\n",
    "\n",
    "ax[0,0].set_title('Correctly Predicted')\n",
    "ax[0,1].set_title('Incorrectly Predicted')\n",
    "\n",
    "ax[0,0].set_ylabel('RoBERTa-base', fontsize = 14)\n",
    "ax[1,0].set_ylabel('RoBERTa-large', fontsize = 14)\n",
    "# ax[0,0].set_ylabel('T5-base', fontsize = 14)\n",
    "# ax[1,0].set_ylabel('T5-large', fontsize = 14)\n",
    "\n",
    "ax[0,0].tick_params(axis='x', labelsize=14, rotation = 90)\n",
    "ax[0,0].tick_params(axis='y', labelsize=14)\n",
    "ax[0,1].tick_params(axis='x', labelsize=14, rotation = 90)\n",
    "ax[0,1].tick_params(axis='y', labelsize=14)\n",
    "ax[1,0].tick_params(axis='x', labelsize=14, rotation = 90)\n",
    "ax[1,0].tick_params(axis='y', labelsize=14)\n",
    "ax[1,1].tick_params(axis='x', labelsize=14, rotation = 90)\n",
    "ax[1,1].tick_params(axis='y', labelsize=14)\n",
    "\n",
    "# plt.savefig(\n",
    "#     'overleaf_peripherals/t5_first_correct_incorrect.png', \n",
    "#     facecolor = 'white', bbox_inches = 'tight')\n",
    "plt.savefig(\n",
    "    'overleaf_peripherals/roberta_first_correct_incorrect.png', \n",
    "    facecolor = 'white', bbox_inches = 'tight')\n",
    "plt.show()\n"
   ],
   "outputs": [
    {
     "output_type": "display_data",
     "data": {
      "image/png": "[encoded data removed]",
      "text/plain": [
       "<Figure size 864x864 with 4 Axes>"
      ]
     },
     "metadata": {}
    }
   ],
   "metadata": {}
  },
  {
   "cell_type": "code",
   "execution_count": 194,
   "source": [
    "ans, count = np.unique(results.loc[results.correct == 0].loc[results.processed_answer == 'england'].processed_pred.values, return_counts = True)\n",
    "\n",
    "count_sort = np.argsort(-count)\n",
    "[print(ans[x], count[x]) for x in count_sort]"
   ],
   "outputs": [
    {
     "output_type": "stream",
     "name": "stdout",
     "text": [
      "scotland 140\n",
      "britain 134\n",
      "ireland 95\n",
      "uk 88\n",
      "london 74\n",
      "europe 23\n",
      "australia 22\n",
      "india 16\n",
      "wales 16\n",
      "france 14\n",
      "cardiff 12\n",
      "canada 10\n",
      "2017 8\n",
      "english 8\n",
      "china 7\n",
      "2018 7\n",
      "germany 7\n",
      "africa 5\n",
      "north 5\n",
      "singapore 4\n",
      "yorkshire 4\n",
      "2016 4\n",
      "2015 4\n",
      "california 3\n",
      "2019 3\n",
      "manchester 3\n",
      "society 3\n",
      "nigeria 3\n",
      "italy 2\n",
      "general 2\n",
      "january 2\n",
      "japan 2\n",
      "households 2\n",
      "tanzania 2\n",
      "adults 2\n",
      "addition 2\n",
      "contrast 2\n",
      "the 2\n",
      "children 2\n",
      "2014 2\n",
      "women 2\n",
      "december 2\n",
      "tenants 1\n",
      "welsh 1\n",
      "particular 1\n",
      "westminster 1\n",
      "ontario 1\n",
      "october 1\n",
      "november 1\n",
      "northern 1\n",
      "work 1\n",
      "pakistan 1\n",
      "patients 1\n",
      "vancouver 1\n",
      "us 1\n",
      "region 1\n",
      "turkey 1\n",
      "town 1\n",
      "total 1\n",
      "regions 1\n",
      "residents 1\n",
      "russia 1\n",
      "they 1\n",
      "sheep 1\n",
      "testing 1\n",
      "spain 1\n",
      "students 1\n",
      "recession 1\n",
      "ni 1\n",
      "2009 1\n",
      "nationally 1\n",
      "debt 1\n",
      "cornwall 1\n",
      "communities 1\n",
      "cattle 1\n",
      "care 1\n",
      "cancer 1\n",
      "both 1\n",
      "birmingham 1\n",
      "bangladesh 1\n",
      "asia 1\n",
      "america 1\n",
      "alberta 1\n",
      "2013 1\n",
      "2011 1\n",
      "2010 1\n",
      "delhi 1\n",
      "denmark 1\n",
      "employment 1\n",
      "essex 1\n",
      "national 1\n",
      "mexico 1\n",
      "men 1\n",
      "may 1\n",
      "kenya 1\n",
      "kent 1\n",
      "june 1\n",
      "newcastle 1\n",
      "worldwide 1\n",
      "globally 1\n",
      "florida 1\n",
      "flation 1\n",
      "february 1\n",
      "fact 1\n",
      "european 1\n",
      "eu 1\n",
      "individuals 1\n",
      "internationally 1\n"
     ]
    },
    {
     "output_type": "execute_result",
     "data": {
      "text/plain": [
       "[None,\n",
       " None,\n",
       " None,\n",
       " None,\n",
       " None,\n",
       " None,\n",
       " None,\n",
       " None,\n",
       " None,\n",
       " None,\n",
       " None,\n",
       " None,\n",
       " None,\n",
       " None,\n",
       " None,\n",
       " None,\n",
       " None,\n",
       " None,\n",
       " None,\n",
       " None,\n",
       " None,\n",
       " None,\n",
       " None,\n",
       " None,\n",
       " None,\n",
       " None,\n",
       " None,\n",
       " None,\n",
       " None,\n",
       " None,\n",
       " None,\n",
       " None,\n",
       " None,\n",
       " None,\n",
       " None,\n",
       " None,\n",
       " None,\n",
       " None,\n",
       " None,\n",
       " None,\n",
       " None,\n",
       " None,\n",
       " None,\n",
       " None,\n",
       " None,\n",
       " None,\n",
       " None,\n",
       " None,\n",
       " None,\n",
       " None,\n",
       " None,\n",
       " None,\n",
       " None,\n",
       " None,\n",
       " None,\n",
       " None,\n",
       " None,\n",
       " None,\n",
       " None,\n",
       " None,\n",
       " None,\n",
       " None,\n",
       " None,\n",
       " None,\n",
       " None,\n",
       " None,\n",
       " None,\n",
       " None,\n",
       " None,\n",
       " None,\n",
       " None,\n",
       " None,\n",
       " None,\n",
       " None,\n",
       " None,\n",
       " None,\n",
       " None,\n",
       " None,\n",
       " None,\n",
       " None,\n",
       " None,\n",
       " None,\n",
       " None,\n",
       " None,\n",
       " None,\n",
       " None,\n",
       " None,\n",
       " None,\n",
       " None,\n",
       " None,\n",
       " None,\n",
       " None,\n",
       " None,\n",
       " None,\n",
       " None,\n",
       " None,\n",
       " None,\n",
       " None,\n",
       " None,\n",
       " None,\n",
       " None,\n",
       " None,\n",
       " None,\n",
       " None,\n",
       " None,\n",
       " None,\n",
       " None,\n",
       " None]"
      ]
     },
     "metadata": {},
     "execution_count": 194
    }
   ],
   "metadata": {}
  },
  {
   "cell_type": "code",
   "execution_count": 195,
   "source": [
    "np.sum(['england' in x for x in results.loc[results.correct == 0].loc[results.processed_answer == 'england'].processed_pred.values]) / len(results.loc[results.correct == 0].loc[results.processed_answer == 'england'].processed_pred.values)"
   ],
   "outputs": [
    {
     "output_type": "execute_result",
     "data": {
      "text/plain": [
       "0.0"
      ]
     },
     "metadata": {},
     "execution_count": 195
    }
   ],
   "metadata": {}
  },
  {
   "cell_type": "code",
   "execution_count": 196,
   "source": [
    "ans, count = np.unique(results_large.loc[results_large.correct == 0].loc[results_large.processed_answer == 'england'].processed_pred.values, return_counts = True)\n",
    "\n",
    "count_sort = np.argsort(-count)\n",
    "[print(ans[x], count[x]) for x in count_sort]"
   ],
   "outputs": [
    {
     "output_type": "stream",
     "name": "stdout",
     "text": [
      "scotland 138\n",
      "ireland 116\n",
      "britain 113\n",
      "uk 75\n",
      "london 67\n",
      "english 41\n",
      "wales 24\n",
      "australia 23\n",
      "canada 16\n",
      "india 14\n",
      "2017 7\n",
      "2015 7\n",
      "europe 6\n",
      "cornwall 6\n",
      "ontario 5\n",
      "china 5\n",
      "2018 5\n",
      "pakistan 4\n",
      "iceland 4\n",
      "france 4\n",
      "society 4\n",
      "denmark 4\n",
      "kenya 4\n",
      "yorkshire 4\n",
      "california 4\n",
      "2019 4\n",
      "africa 4\n",
      "sweden 3\n",
      "germany 3\n",
      "2016 3\n",
      "manchester 3\n",
      "alberta 2\n",
      "2014 2\n",
      "singapore 2\n",
      "japan 2\n",
      "general 2\n",
      "america 2\n",
      "greece 2\n",
      "2012 2\n",
      "victoria 2\n",
      "contrast 2\n",
      "nationally 2\n",
      "pennsylvania 1\n",
      "portugal 1\n",
      "practice 1\n",
      "ohio 1\n",
      "practise 1\n",
      "provinces 1\n",
      "nsw 1\n",
      "population 1\n",
      "regions 1\n",
      "british 1\n",
      "november 1\n",
      "2013 1\n",
      "states 1\n",
      "surrey 1\n",
      "surveys 1\n",
      "tenants 1\n",
      "texas 1\n",
      "the 1\n",
      "toronto 1\n",
      "total 1\n",
      "vancouver 1\n",
      "2011 1\n",
      "welsh 1\n",
      "women 1\n",
      "rent 1\n",
      "norway 1\n",
      "national 1\n",
      "ni 1\n",
      "children 1\n",
      "both 1\n",
      "birmingham 1\n",
      "counties 1\n",
      "december 1\n",
      "delhi 1\n",
      "bangladesh 1\n",
      "dublin 1\n",
      "edinburgh 1\n",
      "april 1\n",
      "essex 1\n",
      "estonia 1\n",
      "finland 1\n",
      "all 1\n",
      "glasgow 1\n",
      "great 1\n",
      "households 1\n",
      "nepal 1\n",
      "nationwide 1\n",
      "michigan 1\n",
      "men 1\n",
      "may 1\n",
      "males 1\n",
      "northern 1\n",
      "addition 1\n",
      "adults 1\n",
      "january 1\n",
      "italy 1\n",
      "work 1\n",
      "individuals 1\n",
      "housing 1\n",
      "life 1\n",
      "2010 1\n"
     ]
    },
    {
     "output_type": "execute_result",
     "data": {
      "text/plain": [
       "[None,\n",
       " None,\n",
       " None,\n",
       " None,\n",
       " None,\n",
       " None,\n",
       " None,\n",
       " None,\n",
       " None,\n",
       " None,\n",
       " None,\n",
       " None,\n",
       " None,\n",
       " None,\n",
       " None,\n",
       " None,\n",
       " None,\n",
       " None,\n",
       " None,\n",
       " None,\n",
       " None,\n",
       " None,\n",
       " None,\n",
       " None,\n",
       " None,\n",
       " None,\n",
       " None,\n",
       " None,\n",
       " None,\n",
       " None,\n",
       " None,\n",
       " None,\n",
       " None,\n",
       " None,\n",
       " None,\n",
       " None,\n",
       " None,\n",
       " None,\n",
       " None,\n",
       " None,\n",
       " None,\n",
       " None,\n",
       " None,\n",
       " None,\n",
       " None,\n",
       " None,\n",
       " None,\n",
       " None,\n",
       " None,\n",
       " None,\n",
       " None,\n",
       " None,\n",
       " None,\n",
       " None,\n",
       " None,\n",
       " None,\n",
       " None,\n",
       " None,\n",
       " None,\n",
       " None,\n",
       " None,\n",
       " None,\n",
       " None,\n",
       " None,\n",
       " None,\n",
       " None,\n",
       " None,\n",
       " None,\n",
       " None,\n",
       " None,\n",
       " None,\n",
       " None,\n",
       " None,\n",
       " None,\n",
       " None,\n",
       " None,\n",
       " None,\n",
       " None,\n",
       " None,\n",
       " None,\n",
       " None,\n",
       " None,\n",
       " None,\n",
       " None,\n",
       " None,\n",
       " None,\n",
       " None,\n",
       " None,\n",
       " None,\n",
       " None,\n",
       " None,\n",
       " None,\n",
       " None,\n",
       " None,\n",
       " None,\n",
       " None,\n",
       " None,\n",
       " None,\n",
       " None,\n",
       " None,\n",
       " None,\n",
       " None,\n",
       " None]"
      ]
     },
     "metadata": {},
     "execution_count": 196
    }
   ],
   "metadata": {}
  },
  {
   "cell_type": "code",
   "execution_count": 78,
   "source": [
    "np.sum(['england' in x for x in results_large.loc[results.correct == 0].loc[results_large.processed_answer == 'england'].processed_pred.values]) / len(results_large.loc[results_large.correct == 0].loc[results_large.processed_answer == 'england'].processed_pred.values)"
   ],
   "outputs": [
    {
     "output_type": "execute_result",
     "data": {
      "text/plain": [
       "0.3522388059701492"
      ]
     },
     "metadata": {},
     "execution_count": 78
    }
   ],
   "metadata": {}
  },
  {
   "cell_type": "code",
   "execution_count": 35,
   "source": [
    "ans, count = np.unique(results.loc[results.correct == 0].loc[results.processed_answer == '2018'].processed_pred.values, return_counts = True)\n",
    "\n",
    "count_sort = np.argsort(-count)\n",
    "[print(ans[x], count[x]) for x in count_sort]"
   ],
   "outputs": [
    {
     "output_type": "stream",
     "name": "stdout",
     "text": [
      "2017 78\n",
      "2015 61\n",
      "2016 37\n",
      "2018. 35\n",
      "the same period last year 21\n",
      "the uk 21\n",
      "2012 14\n",
      "the united states 13\n",
      "2018, 11\n",
      "2017, 11\n",
      "2008 11\n",
      "2014 11\n",
      "the united kingdom 9\n",
      "census 9\n",
      "the previous year 8\n",
      "none 8\n",
      "2015. 7\n",
      "2017. 7\n",
      "the u.s. 6\n",
      "2006 5\n",
      "last year 5\n",
      "the previous year. 4\n",
      "the u.k. 4\n",
      "the 1970s 4\n",
      "england 4\n",
      "the 1980s 4\n",
      "in 2018 4\n",
      "the same period last year. 3\n",
      "dispersion 3\n",
      "the second quarter 3\n",
      "april 3\n",
      "uk’s 3\n",
      "england and wales 3\n",
      "population 3\n",
      "the summer 3\n",
      "the 1990s 3\n",
      "2016 and 2017 3\n",
      "2014. 3\n",
      "2016. 3\n",
      "2010 3\n",
      "the uk. 3\n",
      "q1 2\n",
      "the same subject 2\n",
      "the same period. 2\n",
      "2003. 2\n",
      "terms of consumption 2\n",
      "london 2\n",
      "2005. 2\n",
      "us census 2\n",
      "the same year last year 2\n",
      "labour force survey (lfs) 2\n",
      "firm’s 2\n",
      "the services industry 2\n",
      "terms of disability pay gap 2\n",
      "england and wales. 2\n",
      "the country. 2\n",
      "2016 . 2\n",
      "the year before 2\n",
      "china 2\n",
      "the first quarter 2\n",
      "the united states. 2\n",
      "the eu 28 2\n",
      "agva 2\n",
      "uk's 2\n",
      "2017 compared with 2017 2\n",
      "2015 and 2016 2\n",
      "the past. 1\n",
      "the postneonatal period 1\n",
      "the most recent peak in 2012 1\n",
      "the most recent peak in 2014 1\n",
      "the north west 1\n",
      "the most recent peak in 2015 1\n",
      "the most recent peak in 2012, 1\n",
      "the most recent peak in 2013 1\n",
      ", 1\n",
      "the region. 1\n",
      "the same subject. 1\n",
      "the services sector 1\n",
      "the uk . 1\n",
      "the uk in 2014. 1\n",
      "the united kingdom. 1\n",
      "the united states . 1\n",
      "the united states in 2010 1\n",
      "the winter 1\n",
      "the year 2000 1\n",
      "trade 1\n",
      "trading 1\n",
      "the recession 1\n",
      "the last five years. 1\n",
      "terms of disability pay 1\n",
      "the fourth quarter 1\n",
      "2021 1\n",
      "2020 1\n",
      "2019. 1\n",
      "2018 . 1\n",
      "2017 . 1\n",
      "2016, 1\n",
      "2015 . 1\n",
      "2015 , unit trusts 1\n",
      "average 1\n",
      "2013 . 1\n",
      "2011 1\n",
      "2010. 1\n",
      "2005 1\n",
      "2004. 1\n",
      "2004 1\n",
      "2002. 1\n",
      "2001. 1\n",
      ". 1\n",
      "2011, 1\n",
      "baseline 1\n",
      "data 1\n",
      "expected 1\n",
      "the eu-28 1\n",
      "the agva 1\n",
      "the 1990s. 1\n",
      "the 1980s. 1\n",
      "the 1970s. 1\n",
      "the 1960s 1\n",
      "the 1950s. 1\n",
      "the 1920s 1\n",
      "terms of trust 1\n",
      "terms of saving ratio 1\n",
      "terms of households’ saving ratio 1\n",
      "terms of gdhi per head 1\n",
      "terms of exports and imports 1\n",
      "terms of disability pay gaps 1\n",
      "recent years. 1\n",
      "previous years . 1\n",
      "latest 1\n",
      "largest 1\n",
      "february 1\n",
      "the last 10 years. 1\n",
      "year-on-year 1\n"
     ]
    },
    {
     "output_type": "execute_result",
     "data": {
      "text/plain": [
       "[None,\n",
       " None,\n",
       " None,\n",
       " None,\n",
       " None,\n",
       " None,\n",
       " None,\n",
       " None,\n",
       " None,\n",
       " None,\n",
       " None,\n",
       " None,\n",
       " None,\n",
       " None,\n",
       " None,\n",
       " None,\n",
       " None,\n",
       " None,\n",
       " None,\n",
       " None,\n",
       " None,\n",
       " None,\n",
       " None,\n",
       " None,\n",
       " None,\n",
       " None,\n",
       " None,\n",
       " None,\n",
       " None,\n",
       " None,\n",
       " None,\n",
       " None,\n",
       " None,\n",
       " None,\n",
       " None,\n",
       " None,\n",
       " None,\n",
       " None,\n",
       " None,\n",
       " None,\n",
       " None,\n",
       " None,\n",
       " None,\n",
       " None,\n",
       " None,\n",
       " None,\n",
       " None,\n",
       " None,\n",
       " None,\n",
       " None,\n",
       " None,\n",
       " None,\n",
       " None,\n",
       " None,\n",
       " None,\n",
       " None,\n",
       " None,\n",
       " None,\n",
       " None,\n",
       " None,\n",
       " None,\n",
       " None,\n",
       " None,\n",
       " None,\n",
       " None,\n",
       " None,\n",
       " None,\n",
       " None,\n",
       " None,\n",
       " None,\n",
       " None,\n",
       " None,\n",
       " None,\n",
       " None,\n",
       " None,\n",
       " None,\n",
       " None,\n",
       " None,\n",
       " None,\n",
       " None,\n",
       " None,\n",
       " None,\n",
       " None,\n",
       " None,\n",
       " None,\n",
       " None,\n",
       " None,\n",
       " None,\n",
       " None,\n",
       " None,\n",
       " None,\n",
       " None,\n",
       " None,\n",
       " None,\n",
       " None,\n",
       " None,\n",
       " None,\n",
       " None,\n",
       " None,\n",
       " None,\n",
       " None,\n",
       " None,\n",
       " None,\n",
       " None,\n",
       " None,\n",
       " None,\n",
       " None,\n",
       " None,\n",
       " None,\n",
       " None,\n",
       " None,\n",
       " None,\n",
       " None,\n",
       " None,\n",
       " None,\n",
       " None,\n",
       " None,\n",
       " None,\n",
       " None,\n",
       " None,\n",
       " None,\n",
       " None,\n",
       " None,\n",
       " None,\n",
       " None,\n",
       " None,\n",
       " None,\n",
       " None,\n",
       " None,\n",
       " None,\n",
       " None,\n",
       " None,\n",
       " None,\n",
       " None]"
      ]
     },
     "metadata": {},
     "execution_count": 35
    }
   ],
   "metadata": {}
  },
  {
   "cell_type": "code",
   "execution_count": 256,
   "source": [
    "first_preds_large.loc[first_preds_large.ans_length == 1].loc[first_preds_large.correct == 1]"
   ],
   "outputs": [
    {
     "output_type": "execute_result",
     "data": {
      "text/html": [
       "<div>\n",
       "<style scoped>\n",
       "    .dataframe tbody tr th:only-of-type {\n",
       "        vertical-align: middle;\n",
       "    }\n",
       "\n",
       "    .dataframe tbody tr th {\n",
       "        vertical-align: top;\n",
       "    }\n",
       "\n",
       "    .dataframe thead th {\n",
       "        text-align: right;\n",
       "    }\n",
       "</style>\n",
       "<table border=\"1\" class=\"dataframe\">\n",
       "  <thead>\n",
       "    <tr style=\"text-align: right;\">\n",
       "      <th></th>\n",
       "      <th>sequence</th>\n",
       "      <th>token_str</th>\n",
       "      <th>answer</th>\n",
       "      <th>processed_answer</th>\n",
       "      <th>processed_pred</th>\n",
       "      <th>correct</th>\n",
       "      <th>ans_length</th>\n",
       "    </tr>\n",
       "    <tr>\n",
       "      <th>ids</th>\n",
       "      <th></th>\n",
       "      <th></th>\n",
       "      <th></th>\n",
       "      <th></th>\n",
       "      <th></th>\n",
       "      <th></th>\n",
       "      <th></th>\n",
       "    </tr>\n",
       "  </thead>\n",
       "  <tbody>\n",
       "    <tr>\n",
       "      <th>00df3f37b236f03a66ee36b769680c33b7f87dc0</th>\n",
       "      <td>Data using this new methodology are published ...</td>\n",
       "      <td>first</td>\n",
       "      <td>first</td>\n",
       "      <td>first</td>\n",
       "      <td>first</td>\n",
       "      <td>1</td>\n",
       "      <td>1</td>\n",
       "    </tr>\n",
       "    <tr>\n",
       "      <th>015175c6949589bc5c5128e8a6261b03732df496</th>\n",
       "      <td>The total fertility rate (TFR) for England and...</td>\n",
       "      <td>2001</td>\n",
       "      <td>2001</td>\n",
       "      <td>2001</td>\n",
       "      <td>2001</td>\n",
       "      <td>1</td>\n",
       "      <td>1</td>\n",
       "    </tr>\n",
       "    <tr>\n",
       "      <th>0192b20dba0edd2eb470a22fae0a4c8937abc0a7</th>\n",
       "      <td>In the financial year ending 2019 (FYE 2019), ...</td>\n",
       "      <td>first</td>\n",
       "      <td>first</td>\n",
       "      <td>first</td>\n",
       "      <td>first</td>\n",
       "      <td>1</td>\n",
       "      <td>1</td>\n",
       "    </tr>\n",
       "    <tr>\n",
       "      <th>01c5e701929d28a32e9c5aa106108cd882227b58</th>\n",
       "      <td>The total UK trade in services surplus (exclud...</td>\n",
       "      <td>2018</td>\n",
       "      <td>2018</td>\n",
       "      <td>2018</td>\n",
       "      <td>2018</td>\n",
       "      <td>1</td>\n",
       "      <td>1</td>\n",
       "    </tr>\n",
       "    <tr>\n",
       "      <th>01d69441d6eb3f620b342cae7c5fb657b0b94ba4</th>\n",
       "      <td>By comparison, 49% of French-born emigrants li...</td>\n",
       "      <td>France</td>\n",
       "      <td>France</td>\n",
       "      <td>france</td>\n",
       "      <td>france</td>\n",
       "      <td>1</td>\n",
       "      <td>1</td>\n",
       "    </tr>\n",
       "    <tr>\n",
       "      <th>...</th>\n",
       "      <td>...</td>\n",
       "      <td>...</td>\n",
       "      <td>...</td>\n",
       "      <td>...</td>\n",
       "      <td>...</td>\n",
       "      <td>...</td>\n",
       "      <td>...</td>\n",
       "    </tr>\n",
       "    <tr>\n",
       "      <th>fe251d8f1dffef412548f17165d7ea15c64b9614</th>\n",
       "      <td>Hartlepool, Glasgow City, South Tyneside and D...</td>\n",
       "      <td>2018</td>\n",
       "      <td>2018</td>\n",
       "      <td>2018</td>\n",
       "      <td>2018</td>\n",
       "      <td>1</td>\n",
       "      <td>1</td>\n",
       "    </tr>\n",
       "    <tr>\n",
       "      <th>fe59ab0c1c7e1d955e74cfe07c11f484144fbcaf</th>\n",
       "      <td>In 2016, 41% of live births were first births,...</td>\n",
       "      <td>second</td>\n",
       "      <td>second</td>\n",
       "      <td>second</td>\n",
       "      <td>second</td>\n",
       "      <td>1</td>\n",
       "      <td>1</td>\n",
       "    </tr>\n",
       "    <tr>\n",
       "      <th>fecb00e1a33162e755c14be91d416f1983a1c7d2</th>\n",
       "      <td>In 2016, 54% of all live births in England and...</td>\n",
       "      <td>2016</td>\n",
       "      <td>2016</td>\n",
       "      <td>2016</td>\n",
       "      <td>2016</td>\n",
       "      <td>1</td>\n",
       "      <td>1</td>\n",
       "    </tr>\n",
       "    <tr>\n",
       "      <th>ff120d9d5390cc8bbf5fcf5744adc9ea8f74ee4d</th>\n",
       "      <td>There were 1,963 alcohol-specific deaths regis...</td>\n",
       "      <td>100,000</td>\n",
       "      <td>100,000</td>\n",
       "      <td>100,000</td>\n",
       "      <td>100,000</td>\n",
       "      <td>1</td>\n",
       "      <td>1</td>\n",
       "    </tr>\n",
       "    <tr>\n",
       "      <th>ffec045e37d60b9eea6efead436c1d5edfad275a</th>\n",
       "      <td>Total current healthcare expenditure in the UK...</td>\n",
       "      <td>2018</td>\n",
       "      <td>2018</td>\n",
       "      <td>2018</td>\n",
       "      <td>2018</td>\n",
       "      <td>1</td>\n",
       "      <td>1</td>\n",
       "    </tr>\n",
       "  </tbody>\n",
       "</table>\n",
       "<p>676 rows × 7 columns</p>\n",
       "</div>"
      ],
      "text/plain": [
       "                                                                                   sequence  \\\n",
       "ids                                                                                           \n",
       "00df3f37b236f03a66ee36b769680c33b7f87dc0  Data using this new methodology are published ...   \n",
       "015175c6949589bc5c5128e8a6261b03732df496  The total fertility rate (TFR) for England and...   \n",
       "0192b20dba0edd2eb470a22fae0a4c8937abc0a7  In the financial year ending 2019 (FYE 2019), ...   \n",
       "01c5e701929d28a32e9c5aa106108cd882227b58  The total UK trade in services surplus (exclud...   \n",
       "01d69441d6eb3f620b342cae7c5fb657b0b94ba4  By comparison, 49% of French-born emigrants li...   \n",
       "...                                                                                     ...   \n",
       "fe251d8f1dffef412548f17165d7ea15c64b9614  Hartlepool, Glasgow City, South Tyneside and D...   \n",
       "fe59ab0c1c7e1d955e74cfe07c11f484144fbcaf  In 2016, 41% of live births were first births,...   \n",
       "fecb00e1a33162e755c14be91d416f1983a1c7d2  In 2016, 54% of all live births in England and...   \n",
       "ff120d9d5390cc8bbf5fcf5744adc9ea8f74ee4d  There were 1,963 alcohol-specific deaths regis...   \n",
       "ffec045e37d60b9eea6efead436c1d5edfad275a  Total current healthcare expenditure in the UK...   \n",
       "\n",
       "                                         token_str   answer processed_answer  \\\n",
       "ids                                                                            \n",
       "00df3f37b236f03a66ee36b769680c33b7f87dc0     first    first            first   \n",
       "015175c6949589bc5c5128e8a6261b03732df496      2001     2001             2001   \n",
       "0192b20dba0edd2eb470a22fae0a4c8937abc0a7     first    first            first   \n",
       "01c5e701929d28a32e9c5aa106108cd882227b58      2018     2018             2018   \n",
       "01d69441d6eb3f620b342cae7c5fb657b0b94ba4    France   France           france   \n",
       "...                                            ...      ...              ...   \n",
       "fe251d8f1dffef412548f17165d7ea15c64b9614      2018     2018             2018   \n",
       "fe59ab0c1c7e1d955e74cfe07c11f484144fbcaf    second   second           second   \n",
       "fecb00e1a33162e755c14be91d416f1983a1c7d2      2016     2016             2016   \n",
       "ff120d9d5390cc8bbf5fcf5744adc9ea8f74ee4d   100,000  100,000          100,000   \n",
       "ffec045e37d60b9eea6efead436c1d5edfad275a      2018     2018             2018   \n",
       "\n",
       "                                         processed_pred  correct  ans_length  \n",
       "ids                                                                           \n",
       "00df3f37b236f03a66ee36b769680c33b7f87dc0          first        1           1  \n",
       "015175c6949589bc5c5128e8a6261b03732df496           2001        1           1  \n",
       "0192b20dba0edd2eb470a22fae0a4c8937abc0a7          first        1           1  \n",
       "01c5e701929d28a32e9c5aa106108cd882227b58           2018        1           1  \n",
       "01d69441d6eb3f620b342cae7c5fb657b0b94ba4         france        1           1  \n",
       "...                                                 ...      ...         ...  \n",
       "fe251d8f1dffef412548f17165d7ea15c64b9614           2018        1           1  \n",
       "fe59ab0c1c7e1d955e74cfe07c11f484144fbcaf         second        1           1  \n",
       "fecb00e1a33162e755c14be91d416f1983a1c7d2           2016        1           1  \n",
       "ff120d9d5390cc8bbf5fcf5744adc9ea8f74ee4d        100,000        1           1  \n",
       "ffec045e37d60b9eea6efead436c1d5edfad275a           2018        1           1  \n",
       "\n",
       "[676 rows x 7 columns]"
      ]
     },
     "metadata": {},
     "execution_count": 256
    }
   ],
   "metadata": {}
  },
  {
   "cell_type": "code",
   "execution_count": 258,
   "source": [
    "ans, count = np.unique(first_preds_large.loc[first_preds_large.correct == 0].loc[first_preds_large.processed_answer == '2019'].processed_pred.values, return_counts = True)\n",
    "\n",
    "count_sort = np.argsort(-count)\n",
    "[print(ans[x], count[x]) for x in count_sort]"
   ],
   "outputs": [
    {
     "output_type": "stream",
     "name": "stdout",
     "text": [
      "2017 31\n",
      "2016 16\n",
      "2018 7\n",
      "2015 7\n",
      "the uk 5\n",
      "2010 5\n",
      "2012 5\n",
      "the study 3\n",
      "2011 3\n",
      "2017/18 3\n",
      " 2\n",
      "the year 2000 2\n",
      "the united states 2\n",
      "the survey 2\n",
      "none 2\n",
      "covid-19 2\n",
      "2007 2\n",
      "2005 2\n",
      "2014 2\n",
      "1975 1\n",
      "the uk in 2019 1\n",
      "the uk average 1\n",
      "2001 1\n",
      "uk’s 1\n",
      "overall 1\n",
      "the same-sex marriages 1\n",
      "the same period 1\n",
      "the previous year 1\n",
      "the previous calendar year 1\n",
      "the national average 1\n",
      "spain  1\n",
      "12-month 1\n",
      "2016\" 1\n",
      "2009 to 2018 1\n",
      "n.d 1\n",
      "january to february 2017 1\n",
      "india 1\n",
      "homeless people 1\n",
      "england and wales 1\n",
      "england 1\n",
      "value 1\n",
      "all age groups 1\n",
      "agva 1\n",
      "a generation\" 1\n",
      "2020 1\n",
      "2011/12 1\n",
      "2012/13 1\n",
      "2013 1\n",
      "nature 1\n",
      "wales 1\n"
     ]
    },
    {
     "output_type": "execute_result",
     "data": {
      "text/plain": [
       "[None,\n",
       " None,\n",
       " None,\n",
       " None,\n",
       " None,\n",
       " None,\n",
       " None,\n",
       " None,\n",
       " None,\n",
       " None,\n",
       " None,\n",
       " None,\n",
       " None,\n",
       " None,\n",
       " None,\n",
       " None,\n",
       " None,\n",
       " None,\n",
       " None,\n",
       " None,\n",
       " None,\n",
       " None,\n",
       " None,\n",
       " None,\n",
       " None,\n",
       " None,\n",
       " None,\n",
       " None,\n",
       " None,\n",
       " None,\n",
       " None,\n",
       " None,\n",
       " None,\n",
       " None,\n",
       " None,\n",
       " None,\n",
       " None,\n",
       " None,\n",
       " None,\n",
       " None,\n",
       " None,\n",
       " None,\n",
       " None,\n",
       " None,\n",
       " None,\n",
       " None,\n",
       " None,\n",
       " None,\n",
       " None,\n",
       " None]"
      ]
     },
     "metadata": {},
     "execution_count": 258
    }
   ],
   "metadata": {}
  },
  {
   "cell_type": "code",
   "execution_count": null,
   "source": [],
   "outputs": [],
   "metadata": {}
  }
 ],
 "metadata": {
  "orig_nbformat": 4,
  "language_info": {
   "name": "python",
   "version": "3.9.2",
   "mimetype": "text/x-python",
   "codemirror_mode": {
    "name": "ipython",
    "version": 3
   },
   "pygments_lexer": "ipython3",
   "nbconvert_exporter": "python",
   "file_extension": ".py"
  },
  "kernelspec": {
   "name": "python3",
   "display_name": "Python 3.9.2 64-bit ('comp0087': conda)"
  },
  "interpreter": {
   "hash": "6b9679e1c6c858221750b0560d352a46169916bc602dce44bbd2a48d631c8c5d"
  }
 },
 "nbformat": 4,
 "nbformat_minor": 2
}