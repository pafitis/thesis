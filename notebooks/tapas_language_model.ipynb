{
 "cells": [
  {
   "cell_type": "markdown",
   "source": [
    "# Tapas"
   ],
   "metadata": {}
  },
  {
   "cell_type": "code",
   "execution_count": 1,
   "source": [
    "import pandas as pd\n",
    "import numpy as np\n",
    "import pickle, logging, spacy, sys, os, json, requests\n",
    "import matplotlib.pyplot as plt\n",
    "\n",
    "from helpers.classes import Collection\n",
    "from tqdm import tqdm\n",
    "from bs4 import BeautifulSoup\n",
    "from datetime import datetime"
   ],
   "outputs": [],
   "metadata": {}
  },
  {
   "cell_type": "code",
   "execution_count": 2,
   "source": [
    "from helpers.cloze_generation import generate_clozes_from_point, named_entity_answer_generator as ne_answer_generator, noun_phrase_answer_generator as np_answer_generator\n",
    "\n",
    "from helpers.table_processing import preprocess_table\n",
    "\n",
    "from helpers.language_modelling import run_language_model, summarise_results\n",
    "\n",
    "df = pd.read_pickle('pickles/dataset_20210625_184837.pkl')\n",
    "clozes_df = pd.read_json('pickles/clozes_20210715_212425.json')"
   ],
   "outputs": [],
   "metadata": {}
  },
  {
   "cell_type": "code",
   "execution_count": 3,
   "source": [
    "from transformers import TapasTokenizer, TapasForQuestionAnswering, TapasForMaskedLM\n",
    "import pandas as pd"
   ],
   "outputs": [],
   "metadata": {}
  },
  {
   "cell_type": "code",
   "execution_count": 4,
   "source": [
    "def replace_mask(\n",
    "    sentence, \n",
    "    masks = ['IDENTITYMASK', 'NOUNPHRASEMASK', 'NUMERICMASK', \n",
    "        'PLACEMASK', 'TEMPORALMASK', 'THINGMASK']):\n",
    "\n",
    "    # somewhat hacky\n",
    "    # checks if sentence contains any of the masks\n",
    "    # and replaces it with the appropriate tokenizer.mask_token\n",
    "    x = [sentence.replace(x, tokenizer.mask_token) \\\n",
    "        for x in masks if x in sentence]\n",
    "    if len(x):\n",
    "        return x[0]"
   ],
   "outputs": [],
   "metadata": {}
  },
  {
   "cell_type": "code",
   "execution_count": 5,
   "source": [
    "model_name = 'google/tapas-base-finetuned-wtq'\n",
    "model = TapasForQuestionAnswering.from_pretrained(model_name)\n",
    "tokenizer = TapasTokenizer.from_pretrained(model_name)\n",
    "# model = TapasForMaskedLM.from_pretrained(model_name)"
   ],
   "outputs": [],
   "metadata": {}
  },
  {
   "cell_type": "code",
   "execution_count": 6,
   "source": [
    "row = df.iloc[0]\n",
    "point = row.point\n",
    "datasets = row.data"
   ],
   "outputs": [],
   "metadata": {}
  },
  {
   "cell_type": "code",
   "execution_count": 7,
   "source": [
    "clozes = [c for c in generate_clozes_from_point(point, ne_answer_generator)]\n",
    "# queries = [replace_mask(c.cloze_text) for c in clozes]\n",
    "\n",
    "queries = [\n",
    "    'What was the approximate gross value added of the UK non-financial business economy in 2019?',\n",
    "    'What was the approximate gross value added of the UK non-financial business economy in 2018?',\n",
    "    'Was the approximate gross value added of the UK non-financial business economy higher in 2019 than 2018?',\n",
    "    'Which year had the highest total turnover?',\n",
    "    'Which year had the lowest total turnover?']\n",
    "\n",
    "data = datasets[2].replace('/', '_')[1:]\n",
    "excel_file = pd.ExcelFile('datasets/' + data + '.xls')"
   ],
   "outputs": [],
   "metadata": {}
  },
  {
   "cell_type": "code",
   "execution_count": 8,
   "source": [
    "excel_file.sheet_names"
   ],
   "outputs": [
    {
     "output_type": "execute_result",
     "data": {
      "text/plain": [
       "['Contents',\n",
       " 'Non-Financial Business Economy',\n",
       " 'Section-Division by Region',\n",
       " 'Region by Section-Division']"
      ]
     },
     "metadata": {},
     "execution_count": 8
    }
   ],
   "metadata": {}
  },
  {
   "cell_type": "code",
   "execution_count": 9,
   "source": [
    "data = excel_file.parse('Non-Financial Business Economy')"
   ],
   "outputs": [],
   "metadata": {}
  },
  {
   "cell_type": "code",
   "execution_count": 10,
   "source": [
    "table = preprocess_table(data).astype(str)\n",
    "table = table[175:181].reset_index(drop = True)"
   ],
   "outputs": [],
   "metadata": {}
  },
  {
   "cell_type": "code",
   "execution_count": 11,
   "source": [
    "table"
   ],
   "outputs": [
    {
     "output_type": "execute_result",
     "data": {
      "text/html": [
       "<div>\n",
       "<style scoped>\n",
       "    .dataframe tbody tr th:only-of-type {\n",
       "        vertical-align: middle;\n",
       "    }\n",
       "\n",
       "    .dataframe tbody tr th {\n",
       "        vertical-align: top;\n",
       "    }\n",
       "\n",
       "    .dataframe thead th {\n",
       "        text-align: right;\n",
       "    }\n",
       "</style>\n",
       "<table border=\"1\" class=\"dataframe\">\n",
       "  <thead>\n",
       "    <tr style=\"text-align: right;\">\n",
       "      <th></th>\n",
       "      <th>Standard Industrial Classification (Revised 2007)     Section</th>\n",
       "      <th>-</th>\n",
       "      <th>Country and Region</th>\n",
       "      <th>Year</th>\n",
       "      <th>Total turnover</th>\n",
       "      <th>Approximate gross value added at basic prices (aGVA)</th>\n",
       "      <th>Total purchases of goods, materials and services</th>\n",
       "      <th>Total employment costs</th>\n",
       "    </tr>\n",
       "  </thead>\n",
       "  <tbody>\n",
       "    <tr>\n",
       "      <th>0</th>\n",
       "      <td>A-S (Part) 2</td>\n",
       "      <td>UK non-financial business economy</td>\n",
       "      <td>United Kingdom</td>\n",
       "      <td>2014</td>\n",
       "      <td>3445024</td>\n",
       "      <td>1087175</td>\n",
       "      <td>2337331</td>\n",
       "      <td>564856</td>\n",
       "    </tr>\n",
       "    <tr>\n",
       "      <th>1</th>\n",
       "      <td>A-S (Part) 2</td>\n",
       "      <td>UK non-financial business economy</td>\n",
       "      <td>United Kingdom</td>\n",
       "      <td>2015</td>\n",
       "      <td>3365823</td>\n",
       "      <td>1142070</td>\n",
       "      <td>2200721</td>\n",
       "      <td>591906</td>\n",
       "    </tr>\n",
       "    <tr>\n",
       "      <th>2</th>\n",
       "      <td>A-S (Part) 2</td>\n",
       "      <td>UK non-financial business economy</td>\n",
       "      <td>United Kingdom</td>\n",
       "      <td>2016</td>\n",
       "      <td>3525775</td>\n",
       "      <td>1161990</td>\n",
       "      <td>2338100</td>\n",
       "      <td>616451</td>\n",
       "    </tr>\n",
       "    <tr>\n",
       "      <th>3</th>\n",
       "      <td>A-S (Part) 2</td>\n",
       "      <td>UK non-financial business economy</td>\n",
       "      <td>United Kingdom</td>\n",
       "      <td>2017</td>\n",
       "      <td>3823162</td>\n",
       "      <td>1218978</td>\n",
       "      <td>2582797</td>\n",
       "      <td>642618</td>\n",
       "    </tr>\n",
       "    <tr>\n",
       "      <th>4</th>\n",
       "      <td>A-S (Part) 2</td>\n",
       "      <td>UK non-financial business economy</td>\n",
       "      <td>United Kingdom</td>\n",
       "      <td>2018</td>\n",
       "      <td>4029100</td>\n",
       "      <td>1269185</td>\n",
       "      <td>2735518</td>\n",
       "      <td>661686</td>\n",
       "    </tr>\n",
       "    <tr>\n",
       "      <th>5</th>\n",
       "      <td>A-S (Part) 2</td>\n",
       "      <td>UK non-financial business economy</td>\n",
       "      <td>United Kingdom</td>\n",
       "      <td>2019</td>\n",
       "      <td>4099272</td>\n",
       "      <td>1311079</td>\n",
       "      <td>2761846</td>\n",
       "      <td>697774</td>\n",
       "    </tr>\n",
       "  </tbody>\n",
       "</table>\n",
       "</div>"
      ],
      "text/plain": [
       "  Standard Industrial Classification (Revised 2007)     Section  \\\n",
       "0                                       A-S (Part) 2              \n",
       "1                                       A-S (Part) 2              \n",
       "2                                       A-S (Part) 2              \n",
       "3                                       A-S (Part) 2              \n",
       "4                                       A-S (Part) 2              \n",
       "5                                       A-S (Part) 2              \n",
       "\n",
       "                                   - Country and Region  Year Total turnover  \\\n",
       "0  UK non-financial business economy     United Kingdom  2014        3445024   \n",
       "1  UK non-financial business economy     United Kingdom  2015        3365823   \n",
       "2  UK non-financial business economy     United Kingdom  2016        3525775   \n",
       "3  UK non-financial business economy     United Kingdom  2017        3823162   \n",
       "4  UK non-financial business economy     United Kingdom  2018        4029100   \n",
       "5  UK non-financial business economy     United Kingdom  2019        4099272   \n",
       "\n",
       "  Approximate gross value added at basic prices (aGVA)  \\\n",
       "0                                            1087175     \n",
       "1                                            1142070     \n",
       "2                                            1161990     \n",
       "3                                            1218978     \n",
       "4                                            1269185     \n",
       "5                                            1311079     \n",
       "\n",
       "  Total purchases of goods, materials and services Total employment costs  \n",
       "0                                          2337331                 564856  \n",
       "1                                          2200721                 591906  \n",
       "2                                          2338100                 616451  \n",
       "3                                          2582797                 642618  \n",
       "4                                          2735518                 661686  \n",
       "5                                          2761846                 697774  "
      ]
     },
     "metadata": {},
     "execution_count": 11
    }
   ],
   "metadata": {}
  },
  {
   "cell_type": "code",
   "execution_count": 12,
   "source": [
    "inputs = tokenizer(\n",
    "    table=table, queries=queries, padding='max_length', return_tensors='pt',\n",
    "    truncation=True)\n",
    "outputs = model(**inputs)\n",
    "\n",
    "\n",
    "\n",
    "predicted_answer_coordinates, predicted_aggregation_indices = tokenizer.convert_logits_to_predictions(\n",
    "    inputs,\n",
    "    outputs.logits.detach(),\n",
    "    outputs.logits_aggregation.detach())"
   ],
   "outputs": [],
   "metadata": {}
  },
  {
   "cell_type": "code",
   "execution_count": 13,
   "source": [
    "predicted_aggregation_indices"
   ],
   "outputs": [
    {
     "output_type": "execute_result",
     "data": {
      "text/plain": [
       "[2, 2, 2, 0, 0]"
      ]
     },
     "metadata": {},
     "execution_count": 13
    }
   ],
   "metadata": {}
  },
  {
   "cell_type": "code",
   "execution_count": 14,
   "source": [
    "predicted_answer_coordinates"
   ],
   "outputs": [
    {
     "output_type": "execute_result",
     "data": {
      "text/plain": [
       "[[(5, 5)], [(4, 5)], [(5, 5)], [(5, 3)], [(1, 3)]]"
      ]
     },
     "metadata": {},
     "execution_count": 14
    }
   ],
   "metadata": {}
  },
  {
   "cell_type": "code",
   "execution_count": 15,
   "source": [
    "queries"
   ],
   "outputs": [
    {
     "output_type": "execute_result",
     "data": {
      "text/plain": [
       "['What was the approximate gross value added of the UK non-financial business economy in 2019?',\n",
       " 'What was the approximate gross value added of the UK non-financial business economy in 2018?',\n",
       " 'Was the approximate gross value added of the UK non-financial business economy higher in 2019 than 2018?',\n",
       " 'Which year had the highest total turnover?',\n",
       " 'Which year had the lowest total turnover?']"
      ]
     },
     "metadata": {},
     "execution_count": 15
    }
   ],
   "metadata": {}
  },
  {
   "cell_type": "code",
   "execution_count": 16,
   "source": [
    "# let's print out the results:\n",
    "id2aggregation = {0: \"NONE\", 1: \"SUM\", 2: \"AVERAGE\", 3:\"COUNT\"}\n",
    "aggregation_predictions_string = [id2aggregation[x] for x in predicted_aggregation_indices]\n",
    "\n",
    "answers = []\n",
    "for coordinates in predicted_answer_coordinates:\n",
    "  if len(coordinates) == 1:\n",
    "    # only a single cell:\n",
    "    answers.append(table.iat[coordinates[0]])\n",
    "  else:\n",
    "    # multiple cells\n",
    "    cell_values = []\n",
    "    for coordinate in coordinates:\n",
    "       cell_values.append(table.iat[coordinate])\n",
    "    answers.append(\", \".join(cell_values))\n",
    "\n",
    "display(table)\n",
    "print(\"\")\n",
    "for query, answer, predicted_agg in zip(queries, answers, aggregation_predictions_string):\n",
    "  print(query)\n",
    "  if predicted_agg == \"NONE\":\n",
    "    print(\"Predicted answer: \" + answer)\n",
    "  else:\n",
    "    print(\"Predicted answer: \" + predicted_agg + \" > \" + answer)"
   ],
   "outputs": [
    {
     "output_type": "display_data",
     "data": {
      "text/html": [
       "<div>\n",
       "<style scoped>\n",
       "    .dataframe tbody tr th:only-of-type {\n",
       "        vertical-align: middle;\n",
       "    }\n",
       "\n",
       "    .dataframe tbody tr th {\n",
       "        vertical-align: top;\n",
       "    }\n",
       "\n",
       "    .dataframe thead th {\n",
       "        text-align: right;\n",
       "    }\n",
       "</style>\n",
       "<table border=\"1\" class=\"dataframe\">\n",
       "  <thead>\n",
       "    <tr style=\"text-align: right;\">\n",
       "      <th></th>\n",
       "      <th>Standard Industrial Classification (Revised 2007)     Section</th>\n",
       "      <th>-</th>\n",
       "      <th>Country and Region</th>\n",
       "      <th>Year</th>\n",
       "      <th>Total turnover</th>\n",
       "      <th>Approximate gross value added at basic prices (aGVA)</th>\n",
       "      <th>Total purchases of goods, materials and services</th>\n",
       "      <th>Total employment costs</th>\n",
       "    </tr>\n",
       "  </thead>\n",
       "  <tbody>\n",
       "    <tr>\n",
       "      <th>0</th>\n",
       "      <td>A-S (Part) 2</td>\n",
       "      <td>UK non-financial business economy</td>\n",
       "      <td>United Kingdom</td>\n",
       "      <td>2014</td>\n",
       "      <td>3445024</td>\n",
       "      <td>1087175</td>\n",
       "      <td>2337331</td>\n",
       "      <td>564856</td>\n",
       "    </tr>\n",
       "    <tr>\n",
       "      <th>1</th>\n",
       "      <td>A-S (Part) 2</td>\n",
       "      <td>UK non-financial business economy</td>\n",
       "      <td>United Kingdom</td>\n",
       "      <td>2015</td>\n",
       "      <td>3365823</td>\n",
       "      <td>1142070</td>\n",
       "      <td>2200721</td>\n",
       "      <td>591906</td>\n",
       "    </tr>\n",
       "    <tr>\n",
       "      <th>2</th>\n",
       "      <td>A-S (Part) 2</td>\n",
       "      <td>UK non-financial business economy</td>\n",
       "      <td>United Kingdom</td>\n",
       "      <td>2016</td>\n",
       "      <td>3525775</td>\n",
       "      <td>1161990</td>\n",
       "      <td>2338100</td>\n",
       "      <td>616451</td>\n",
       "    </tr>\n",
       "    <tr>\n",
       "      <th>3</th>\n",
       "      <td>A-S (Part) 2</td>\n",
       "      <td>UK non-financial business economy</td>\n",
       "      <td>United Kingdom</td>\n",
       "      <td>2017</td>\n",
       "      <td>3823162</td>\n",
       "      <td>1218978</td>\n",
       "      <td>2582797</td>\n",
       "      <td>642618</td>\n",
       "    </tr>\n",
       "    <tr>\n",
       "      <th>4</th>\n",
       "      <td>A-S (Part) 2</td>\n",
       "      <td>UK non-financial business economy</td>\n",
       "      <td>United Kingdom</td>\n",
       "      <td>2018</td>\n",
       "      <td>4029100</td>\n",
       "      <td>1269185</td>\n",
       "      <td>2735518</td>\n",
       "      <td>661686</td>\n",
       "    </tr>\n",
       "    <tr>\n",
       "      <th>5</th>\n",
       "      <td>A-S (Part) 2</td>\n",
       "      <td>UK non-financial business economy</td>\n",
       "      <td>United Kingdom</td>\n",
       "      <td>2019</td>\n",
       "      <td>4099272</td>\n",
       "      <td>1311079</td>\n",
       "      <td>2761846</td>\n",
       "      <td>697774</td>\n",
       "    </tr>\n",
       "  </tbody>\n",
       "</table>\n",
       "</div>"
      ],
      "text/plain": [
       "  Standard Industrial Classification (Revised 2007)     Section  \\\n",
       "0                                       A-S (Part) 2              \n",
       "1                                       A-S (Part) 2              \n",
       "2                                       A-S (Part) 2              \n",
       "3                                       A-S (Part) 2              \n",
       "4                                       A-S (Part) 2              \n",
       "5                                       A-S (Part) 2              \n",
       "\n",
       "                                   - Country and Region  Year Total turnover  \\\n",
       "0  UK non-financial business economy     United Kingdom  2014        3445024   \n",
       "1  UK non-financial business economy     United Kingdom  2015        3365823   \n",
       "2  UK non-financial business economy     United Kingdom  2016        3525775   \n",
       "3  UK non-financial business economy     United Kingdom  2017        3823162   \n",
       "4  UK non-financial business economy     United Kingdom  2018        4029100   \n",
       "5  UK non-financial business economy     United Kingdom  2019        4099272   \n",
       "\n",
       "  Approximate gross value added at basic prices (aGVA)  \\\n",
       "0                                            1087175     \n",
       "1                                            1142070     \n",
       "2                                            1161990     \n",
       "3                                            1218978     \n",
       "4                                            1269185     \n",
       "5                                            1311079     \n",
       "\n",
       "  Total purchases of goods, materials and services Total employment costs  \n",
       "0                                          2337331                 564856  \n",
       "1                                          2200721                 591906  \n",
       "2                                          2338100                 616451  \n",
       "3                                          2582797                 642618  \n",
       "4                                          2735518                 661686  \n",
       "5                                          2761846                 697774  "
      ]
     },
     "metadata": {}
    },
    {
     "output_type": "stream",
     "name": "stdout",
     "text": [
      "\n",
      "What was the approximate gross value added of the UK non-financial business economy in 2019?\n",
      "Predicted answer: AVERAGE > 1311079\n",
      "What was the approximate gross value added of the UK non-financial business economy in 2018?\n",
      "Predicted answer: AVERAGE > 1269185\n",
      "Was the approximate gross value added of the UK non-financial business economy higher in 2019 than 2018?\n",
      "Predicted answer: AVERAGE > 1311079\n",
      "Which year had the highest total turnover?\n",
      "Predicted answer: 2019\n",
      "Which year had the lowest total turnover?\n",
      "Predicted answer: 2015\n"
     ]
    }
   ],
   "metadata": {}
  },
  {
   "cell_type": "code",
   "execution_count": null,
   "source": [],
   "outputs": [],
   "metadata": {}
  }
 ],
 "metadata": {
  "orig_nbformat": 4,
  "language_info": {
   "name": "python",
   "version": "3.9.2",
   "mimetype": "text/x-python",
   "codemirror_mode": {
    "name": "ipython",
    "version": 3
   },
   "pygments_lexer": "ipython3",
   "nbconvert_exporter": "python",
   "file_extension": ".py"
  },
  "kernelspec": {
   "name": "python3",
   "display_name": "Python 3.9.2 64-bit ('comp0087': conda)"
  },
  "interpreter": {
   "hash": "6b9679e1c6c858221750b0560d352a46169916bc602dce44bbd2a48d631c8c5d"
  }
 },
 "nbformat": 4,
 "nbformat_minor": 2
}