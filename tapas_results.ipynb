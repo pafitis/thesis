{
 "cells": [
  {
   "cell_type": "code",
   "execution_count": 107,
   "source": [
    "import numpy as np\n",
    "import pandas as pd\n",
    "import json, os, sys\n",
    "import matplotlib.pyplot as plt"
   ],
   "outputs": [],
   "metadata": {}
  },
  {
   "cell_type": "code",
   "execution_count": 108,
   "source": [
    "tapas_results = pd.read_json('results/tapas_small_8sept.json')"
   ],
   "outputs": [],
   "metadata": {}
  },
  {
   "cell_type": "code",
   "execution_count": 109,
   "source": [
    "plt.hist(tapas_results.best_prediction.values)"
   ],
   "outputs": [
    {
     "output_type": "execute_result",
     "data": {
      "text/plain": [
       "(array([1.65252e+05, 0.00000e+00, 0.00000e+00, 0.00000e+00, 0.00000e+00,\n",
       "        0.00000e+00, 3.00000e+00, 0.00000e+00, 0.00000e+00, 7.00000e+01]),\n",
       " array([-1.00000e+00,  3.03440e+03,  6.06980e+03,  9.10520e+03,\n",
       "         1.21406e+04,  1.51760e+04,  1.82114e+04,  2.12468e+04,\n",
       "         2.42822e+04,  2.73176e+04,  3.03530e+04]),\n",
       " <BarContainer object of 10 artists>)"
      ]
     },
     "metadata": {},
     "execution_count": 109
    },
    {
     "output_type": "display_data",
     "data": {
      "image/png": "[encoded data removed]",
      "text/plain": [
       "<Figure size 432x288 with 1 Axes>"
      ]
     },
     "metadata": {
      "needs_background": "light"
     }
    }
   ],
   "metadata": {}
  },
  {
   "cell_type": "code",
   "execution_count": 16,
   "source": [
    "vals, counts = np.unique(tapas_results.best_prediction.values, return_counts= True)\n",
    "plt.plot(vals, counts)"
   ],
   "outputs": [
    {
     "output_type": "execute_result",
     "data": {
      "text/plain": [
       "[<matplotlib.lines.Line2D at 0x12c861670>]"
      ]
     },
     "metadata": {},
     "execution_count": 16
    },
    {
     "output_type": "display_data",
     "data": {
      "image/png": "[encoded data removed]",
      "text/plain": [
       "<Figure size 432x288 with 1 Axes>"
      ]
     },
     "metadata": {
      "needs_background": "light"
     }
    }
   ],
   "metadata": {}
  },
  {
   "cell_type": "code",
   "execution_count": 17,
   "source": [
    "vals"
   ],
   "outputs": [
    {
     "output_type": "execute_result",
     "data": {
      "text/plain": [
       "array([   -1,     1,   103,   373,   585,   599,   828,  1021,  1048,\n",
       "        1062,  2563, 20070, 29345, 30353])"
      ]
     },
     "metadata": {},
     "execution_count": 17
    }
   ],
   "metadata": {}
  },
  {
   "cell_type": "code",
   "execution_count": 18,
   "source": [
    "counts"
   ],
   "outputs": [
    {
     "output_type": "execute_result",
     "data": {
      "text/plain": [
       "array([132356,      9,  32727,    103,      3,      1,      1,      4,\n",
       "            6,      5,     37,      3,     69,      1])"
      ]
     },
     "metadata": {},
     "execution_count": 18
    }
   ],
   "metadata": {}
  },
  {
   "cell_type": "code",
   "execution_count": 12,
   "source": [
    "tapas_results.cloze_id.nunique()"
   ],
   "outputs": [
    {
     "output_type": "execute_result",
     "data": {
      "text/plain": [
       "5650"
      ]
     },
     "metadata": {},
     "execution_count": 12
    }
   ],
   "metadata": {}
  },
  {
   "cell_type": "code",
   "execution_count": 13,
   "source": [
    "tapas_results.loc[tapas_results.best_prediction == tapas_results.answer]"
   ],
   "outputs": [
    {
     "output_type": "execute_result",
     "data": {
      "text/html": [
       "<div>\n",
       "<style scoped>\n",
       "    .dataframe tbody tr th:only-of-type {\n",
       "        vertical-align: middle;\n",
       "    }\n",
       "\n",
       "    .dataframe tbody tr th {\n",
       "        vertical-align: top;\n",
       "    }\n",
       "\n",
       "    .dataframe thead th {\n",
       "        text-align: right;\n",
       "    }\n",
       "</style>\n",
       "<table border=\"1\" class=\"dataframe\">\n",
       "  <thead>\n",
       "    <tr style=\"text-align: right;\">\n",
       "      <th></th>\n",
       "      <th>cloze_text</th>\n",
       "      <th>best_prediction</th>\n",
       "      <th>prediction</th>\n",
       "      <th>confidences</th>\n",
       "      <th>answer</th>\n",
       "      <th>cloze_id</th>\n",
       "      <th>bulletin</th>\n",
       "      <th>dataset_path</th>\n",
       "      <th>sheet_name</th>\n",
       "      <th>sheet_name_counter</th>\n",
       "    </tr>\n",
       "  </thead>\n",
       "  <tbody>\n",
       "  </tbody>\n",
       "</table>\n",
       "</div>"
      ],
      "text/plain": [
       "Empty DataFrame\n",
       "Columns: [cloze_text, best_prediction, prediction, confidences, answer, cloze_id, bulletin, dataset_path, sheet_name, sheet_name_counter]\n",
       "Index: []"
      ]
     },
     "metadata": {},
     "execution_count": 13
    }
   ],
   "metadata": {}
  },
  {
   "cell_type": "code",
   "execution_count": 106,
   "source": [
    "tapas_results"
   ],
   "outputs": [
    {
     "output_type": "error",
     "ename": "NameError",
     "evalue": "name 'tapas_results' is not defined",
     "traceback": [
      "\u001b[0;31m---------------------------------------------------------------------------\u001b[0m",
      "\u001b[0;31mNameError\u001b[0m                                 Traceback (most recent call last)",
      "\u001b[0;32m<ipython-input-106-d36ebc6270b4>\u001b[0m in \u001b[0;36m<module>\u001b[0;34m\u001b[0m\n\u001b[0;32m----> 1\u001b[0;31m \u001b[0mtapas_results\u001b[0m\u001b[0;34m\u001b[0m\u001b[0;34m\u001b[0m\u001b[0m\n\u001b[0m",
      "\u001b[0;31mNameError\u001b[0m: name 'tapas_results' is not defined"
     ]
    }
   ],
   "metadata": {}
  },
  {
   "cell_type": "markdown",
   "source": [
    "# testing"
   ],
   "metadata": {}
  },
  {
   "cell_type": "code",
   "execution_count": 17,
   "source": [
    "import torch"
   ],
   "outputs": [],
   "metadata": {}
  },
  {
   "cell_type": "code",
   "execution_count": 7,
   "source": [
    "from transformers import TapasTokenizer, TapasForMaskedLM\n",
    "\n",
    "tokenizer = TapasTokenizer.from_pretrained('google/tapas-base-masklm')\n",
    "model = TapasForMaskedLM.from_pretrained('google/tapas-base-masklm')"
   ],
   "outputs": [
    {
     "output_type": "stream",
     "name": "stderr",
     "text": [
      "Downloading: 100%|██████████| 232k/232k [00:00<00:00, 506kB/s]\n",
      "Downloading: 100%|██████████| 154/154 [00:00<00:00, 44.6kB/s]\n",
      "Downloading: 100%|██████████| 558/558 [00:00<00:00, 213kB/s]\n",
      "Downloading: 100%|██████████| 1.51k/1.51k [00:00<00:00, 441kB/s]\n",
      "Downloading: 100%|██████████| 443M/443M [06:16<00:00, 1.18MB/s]\n"
     ]
    }
   ],
   "metadata": {}
  },
  {
   "cell_type": "code",
   "execution_count": 24,
   "source": [
    "data = {\n",
    "    'student': ['Savvas', 'Pavlos'],\n",
    "    'age': ['25', '19'] \n",
    "    }\n",
    "\n",
    "table = pd.DataFrame(data)\n",
    "\n",
    "queries = ['Savvas is [MASK] years old', '[MASK] is 19 years old']"
   ],
   "outputs": [],
   "metadata": {}
  },
  {
   "cell_type": "code",
   "execution_count": 25,
   "source": [
    "inputs = tokenizer(\n",
    "    table = table.astype(str), queries = queries,\n",
    "    return_tensors = 'pt', padding = True)"
   ],
   "outputs": [],
   "metadata": {}
  },
  {
   "cell_type": "code",
   "execution_count": 26,
   "source": [
    "outputs = model(**inputs)"
   ],
   "outputs": [],
   "metadata": {}
  },
  {
   "cell_type": "code",
   "execution_count": 27,
   "source": [
    "masked_index = torch.nonzero(\n",
    "    inputs.input_ids.squeeze() == tokenizer.mask_token_id,\n",
    "    as_tuple=False)\n",
    "logits = outputs.logits[0, 5, :]\n",
    "probs = logits.softmax(dim=0)\n",
    "values, predictions = probs.topk(5)\n",
    "print(predictions)\n",
    "\n",
    "logits = outputs.logits[1, 1, :]\n",
    "probs = logits.softmax(dim=0)\n",
    "values, predictions = probs.topk(5)\n",
    "print(predictions)"
   ],
   "outputs": [
    {
     "output_type": "stream",
     "name": "stdout",
     "text": [
      "tensor([2423, 2539, 2484, 2656, 2676])\n",
      "tensor([2040, 2016, 2002, 2009, 2082])\n"
     ]
    }
   ],
   "metadata": {}
  },
  {
   "cell_type": "code",
   "execution_count": 34,
   "source": [
    "tokenizer.decode(2082)"
   ],
   "outputs": [
    {
     "output_type": "execute_result",
     "data": {
      "text/plain": [
       "'s c h o o l'"
      ]
     },
     "metadata": {},
     "execution_count": 34
    }
   ],
   "metadata": {}
  },
  {
   "cell_type": "code",
   "execution_count": 35,
   "source": [
    "tokenizer = TapasTokenizer.from_pretrained(\"google/tapas-large-masklm\")\n",
    "model = TapasForMaskedLM.from_pretrained(\"google/tapas-large-masklm\")"
   ],
   "outputs": [
    {
     "output_type": "stream",
     "name": "stderr",
     "text": [
      "Downloading: 100%|██████████| 232k/232k [00:08<00:00, 25.8kB/s]\n",
      "Downloading: 100%|██████████| 154/154 [00:00<00:00, 31.2kB/s]\n",
      "Downloading: 100%|██████████| 558/558 [00:00<00:00, 121kB/s]\n",
      "Downloading: 100%|██████████| 1.52k/1.52k [00:00<00:00, 443kB/s]\n",
      "Downloading: 100%|██████████| 1.35G/1.35G [21:34<00:00, 1.04MB/s]\n"
     ]
    },
    {
     "output_type": "error",
     "ename": "NameError",
     "evalue": "name 'query' is not defined",
     "traceback": [
      "\u001b[0;31m---------------------------------------------------------------------------\u001b[0m",
      "\u001b[0;31mNameError\u001b[0m                                 Traceback (most recent call last)",
      "\u001b[0;32m<ipython-input-35-95e3aa6f1405>\u001b[0m in \u001b[0;36m<module>\u001b[0;34m\u001b[0m\n\u001b[1;32m     13\u001b[0m \u001b[0;34m\u001b[0m\u001b[0m\n\u001b[1;32m     14\u001b[0m \u001b[0;31m# prepare inputs\u001b[0m\u001b[0;34m\u001b[0m\u001b[0;34m\u001b[0m\u001b[0;34m\u001b[0m\u001b[0m\n\u001b[0;32m---> 15\u001b[0;31m \u001b[0minputs\u001b[0m \u001b[0;34m=\u001b[0m \u001b[0mtokenizer\u001b[0m\u001b[0;34m(\u001b[0m\u001b[0mtable\u001b[0m\u001b[0;34m=\u001b[0m\u001b[0mtable\u001b[0m\u001b[0;34m,\u001b[0m \u001b[0mqueries\u001b[0m\u001b[0;34m=\u001b[0m\u001b[0mquery\u001b[0m\u001b[0;34m,\u001b[0m \u001b[0mpadding\u001b[0m\u001b[0;34m=\u001b[0m\u001b[0;34m\"max_length\"\u001b[0m\u001b[0;34m,\u001b[0m \u001b[0mreturn_tensors\u001b[0m\u001b[0;34m=\u001b[0m\u001b[0;34m\"pt\"\u001b[0m\u001b[0;34m)\u001b[0m\u001b[0;34m\u001b[0m\u001b[0;34m\u001b[0m\u001b[0m\n\u001b[0m\u001b[1;32m     16\u001b[0m \u001b[0;34m\u001b[0m\u001b[0m\n\u001b[1;32m     17\u001b[0m \u001b[0;31m# forward pass\u001b[0m\u001b[0;34m\u001b[0m\u001b[0;34m\u001b[0m\u001b[0;34m\u001b[0m\u001b[0m\n",
      "\u001b[0;31mNameError\u001b[0m: name 'query' is not defined"
     ]
    }
   ],
   "metadata": {}
  },
  {
   "cell_type": "code",
   "execution_count": 50,
   "source": [
    "\n",
    "# data = {'Actors': [\"Brad Pitt\", \"Leonardo Di Caprio\", \"George Clooney\"],\n",
    "#         'Age': [\"56\", \"45\", \"59\"],\n",
    "#         'Number of movies': [\"87\", \"53\", \"69\"]\n",
    "# }\n",
    "\n",
    "# queries = ['Brad [MASK] played in 87 movies.',\n",
    "#            'George Clooney is [MASK] years old.']\n",
    "\n",
    "# query = ['Brad [MASK] played in 87 movies.']\n",
    "\n",
    "data = { \n",
    "    'person': ['Savvas', 'Pavlos', 'Brad'],\n",
    "    'age': ['25', '19', '59'],\n",
    "    'occupation': ['badass gangster', 'rapper', 'actor']\n",
    "    }\n",
    "\n",
    "table = pd.DataFrame(data)\n",
    "\n",
    "queries = [\n",
    "        'Savvas is [MASK] years old', \n",
    "        '[MASK] is 19 years old', \n",
    "        \"Savvas's occupation is a [MASK]\",\n",
    "        'Savvas is [MASK] years old'\n",
    "]\n",
    "\n",
    "\n",
    "query = queries[2]\n",
    "\n",
    "table = pd.DataFrame.from_dict(data)\n",
    "\n",
    "\n",
    "# prepare inputs\n",
    "inputs = tokenizer(table=table, queries=query, padding=\"max_length\", return_tensors=\"pt\")\n",
    "\n",
    "# forward pass\n",
    "outputs = model(**inputs)\n",
    "\n",
    "# return top 5 values and predictions\n",
    "masked_index = torch.nonzero(inputs.input_ids.squeeze() == tokenizer.mask_token_id, as_tuple=False)\n",
    "logits = outputs.logits[0, masked_index.item(), :]\n",
    "probs = logits.softmax(dim=0)\n",
    "values, predictions = probs.topk(5)\n",
    "\n",
    "for value, pred in zip(values, predictions):\n",
    "  print(f\"{query} -> {tokenizer.decode([pred])} with confidence {value}\")"
   ],
   "outputs": [
    {
     "output_type": "stream",
     "name": "stdout",
     "text": [
      "Savvas's occupation is a [MASK] -> gangster with confidence 0.28790542483329773\n",
      "Savvas's occupation is a [MASK] -> rapper with confidence 0.031446825712919235\n",
      "Savvas's occupation is a [MASK] -> bad with confidence 0.026088278740644455\n",
      "Savvas's occupation is a [MASK] -> friend with confidence 0.012044738978147507\n",
      "Savvas's occupation is a [MASK] -> drug with confidence 0.009916343726217747\n"
     ]
    }
   ],
   "metadata": {}
  },
  {
   "cell_type": "code",
   "execution_count": 52,
   "source": [
    "from helpers.configs import CLOZE_MASKS\n",
    "\n",
    "from helpers.cloze_generation import generate_clozes_from_point, named_entity_answer_generator as ne_answer_generator, noun_phrase_answer_generator as np_answer_generator\n",
    "\n",
    "from helpers.table_processing import preprocess_table, read_process_table, find_relevant_column_header, find_relevant_content\n",
    "from helpers.t5_language_model import summarise_t5_results\n",
    "\n",
    "\n",
    "# df = pd.read_pickle('pickles/dataset_20210625_184837.pkl')\n",
    "# clozes_df = pd.read_json('pickles/clozes_20210807_165700.json')\n",
    "\n",
    "df = pd.read_pickle('pickles/collection_20210624_194932.pkl')\n",
    "# clozes_df = pd.read_json('pickles/clozes_20210824.json')\n",
    "clozes_df = pd.read_json('pickles/clozes_with_false_20210825.json') #contains negs\n",
    "\n",
    "clozes_df['answer_type_agg'] = clozes_df['answer_type'].apply(\n",
    "    lambda x: CLOZE_MASKS.get(x))"
   ],
   "outputs": [],
   "metadata": {}
  },
  {
   "cell_type": "code",
   "execution_count": 63,
   "source": [
    "import spacy\n",
    "nlp = spacy.load('en_core_web_trf')\n",
    "\n",
    "from sklearn.feature_extraction.text import TfidfVectorizer\n",
    "# vectorizer = TfidfVectorizer()\n",
    "vectorizer = TfidfVectorizer(ngram_range=(2,3))\n",
    "\n",
    "import nltk\n",
    "# nltk.download('stopwords')\n",
    "stopwords = set(nltk.corpus.stopwords.words('english'))"
   ],
   "outputs": [],
   "metadata": {}
  },
  {
   "cell_type": "code",
   "execution_count": 65,
   "source": [
    "cloze = 'In [MASK], approximate gross value added at basic prices (aGVA) of the UK non-financial business economy was estimated to be £1,313.9 billion; an increase of £42.8 billion (3.4%) compared with 2018.'"
   ],
   "outputs": [],
   "metadata": {}
  },
  {
   "cell_type": "code",
   "execution_count": 86,
   "source": [
    "path = 'datasets/' + clozes_df.iloc[0]['data'][1].replace('/', '_')[1:] + '.xls'\n",
    "excel = pd.ExcelFile(path)\n",
    "sheet_names = excel.sheet_names\n",
    "table = excel.parse(sheet_names[2])"
   ],
   "outputs": [],
   "metadata": {}
  },
  {
   "cell_type": "code",
   "execution_count": 87,
   "source": [
    "processed = preprocess_table(table)\n",
    "relevant_idx = find_relevant_column_header(cloze, preprocess_table(table), vectorizer)"
   ],
   "outputs": [],
   "metadata": {}
  },
  {
   "cell_type": "code",
   "execution_count": 89,
   "source": [
    "processed.iloc[\n",
    "    :, [0, 1, 2, 3] + relevant_idx.tolist()].iloc[:10]"
   ],
   "outputs": [
    {
     "output_type": "execute_result",
     "data": {
      "text/html": [
       "<div>\n",
       "<style scoped>\n",
       "    .dataframe tbody tr th:only-of-type {\n",
       "        vertical-align: middle;\n",
       "    }\n",
       "\n",
       "    .dataframe tbody tr th {\n",
       "        vertical-align: top;\n",
       "    }\n",
       "\n",
       "    .dataframe thead th {\n",
       "        text-align: right;\n",
       "    }\n",
       "</style>\n",
       "<table border=\"1\" class=\"dataframe\">\n",
       "  <thead>\n",
       "    <tr style=\"text-align: right;\">\n",
       "      <th></th>\n",
       "      <th>Standard Industrial Classification (Revised 2007) Section</th>\n",
       "      <th>Agriculture, Fishing, Production,</th>\n",
       "      <th>Country and Region</th>\n",
       "      <th>Year</th>\n",
       "      <th>Approximate gross value added at basic prices (aGVA)</th>\n",
       "    </tr>\n",
       "  </thead>\n",
       "  <tbody>\n",
       "    <tr>\n",
       "      <th>0</th>\n",
       "      <td>A-S (Part) 1</td>\n",
       "      <td>Agriculture, Fishing, Production,</td>\n",
       "      <td>North East</td>\n",
       "      <td>2008</td>\n",
       "      <td>28037</td>\n",
       "    </tr>\n",
       "    <tr>\n",
       "      <th>1</th>\n",
       "      <td>A-S (Part) 1</td>\n",
       "      <td>Construction, Distribution and</td>\n",
       "      <td>North East</td>\n",
       "      <td>2009</td>\n",
       "      <td>25178</td>\n",
       "    </tr>\n",
       "    <tr>\n",
       "      <th>2</th>\n",
       "      <td>A-S (Part) 1</td>\n",
       "      <td>Non-Financial Service Industries</td>\n",
       "      <td>North East</td>\n",
       "      <td>2010</td>\n",
       "      <td>26081</td>\n",
       "    </tr>\n",
       "    <tr>\n",
       "      <th>3</th>\n",
       "      <td>A-S (Part) 1</td>\n",
       "      <td>Non-Financial Service Industries</td>\n",
       "      <td>North East</td>\n",
       "      <td>2011</td>\n",
       "      <td>26812</td>\n",
       "    </tr>\n",
       "    <tr>\n",
       "      <th>4</th>\n",
       "      <td>A-S (Part) 1</td>\n",
       "      <td>Non-Financial Service Industries</td>\n",
       "      <td>North East</td>\n",
       "      <td>2012</td>\n",
       "      <td>28755</td>\n",
       "    </tr>\n",
       "    <tr>\n",
       "      <th>5</th>\n",
       "      <td>A-S (Part) 1</td>\n",
       "      <td>Non-Financial Service Industries</td>\n",
       "      <td>North East</td>\n",
       "      <td>2013</td>\n",
       "      <td>27919</td>\n",
       "    </tr>\n",
       "    <tr>\n",
       "      <th>6</th>\n",
       "      <td>A-S (Part) 1</td>\n",
       "      <td>Non-Financial Service Industries</td>\n",
       "      <td>North East</td>\n",
       "      <td>2014</td>\n",
       "      <td>32138</td>\n",
       "    </tr>\n",
       "    <tr>\n",
       "      <th>7</th>\n",
       "      <td>A-S (Part) 1</td>\n",
       "      <td>Non-Financial Service Industries</td>\n",
       "      <td>North East</td>\n",
       "      <td>2015</td>\n",
       "      <td>32412</td>\n",
       "    </tr>\n",
       "    <tr>\n",
       "      <th>8</th>\n",
       "      <td>A-S (Part) 1</td>\n",
       "      <td>Non-Financial Service Industries</td>\n",
       "      <td>North East</td>\n",
       "      <td>2016</td>\n",
       "      <td>32347</td>\n",
       "    </tr>\n",
       "    <tr>\n",
       "      <th>9</th>\n",
       "      <td>A-S (Part) 1</td>\n",
       "      <td>Non-Financial Service Industries</td>\n",
       "      <td>North East</td>\n",
       "      <td>2017</td>\n",
       "      <td>32914</td>\n",
       "    </tr>\n",
       "  </tbody>\n",
       "</table>\n",
       "</div>"
      ],
      "text/plain": [
       "  Standard Industrial Classification (Revised 2007) Section  \\\n",
       "0                                       A-S (Part) 1          \n",
       "1                                       A-S (Part) 1          \n",
       "2                                       A-S (Part) 1          \n",
       "3                                       A-S (Part) 1          \n",
       "4                                       A-S (Part) 1          \n",
       "5                                       A-S (Part) 1          \n",
       "6                                       A-S (Part) 1          \n",
       "7                                       A-S (Part) 1          \n",
       "8                                       A-S (Part) 1          \n",
       "9                                       A-S (Part) 1          \n",
       "\n",
       "   Agriculture, Fishing, Production, Country and Region  Year  \\\n",
       "0  Agriculture, Fishing, Production,         North East  2008   \n",
       "1     Construction, Distribution and         North East  2009   \n",
       "2   Non-Financial Service Industries         North East  2010   \n",
       "3   Non-Financial Service Industries         North East  2011   \n",
       "4   Non-Financial Service Industries         North East  2012   \n",
       "5   Non-Financial Service Industries         North East  2013   \n",
       "6   Non-Financial Service Industries         North East  2014   \n",
       "7   Non-Financial Service Industries         North East  2015   \n",
       "8   Non-Financial Service Industries         North East  2016   \n",
       "9   Non-Financial Service Industries         North East  2017   \n",
       "\n",
       "  Approximate gross value added at basic prices (aGVA)  \n",
       "0                                              28037    \n",
       "1                                              25178    \n",
       "2                                              26081    \n",
       "3                                              26812    \n",
       "4                                              28755    \n",
       "5                                              27919    \n",
       "6                                              32138    \n",
       "7                                              32412    \n",
       "8                                              32347    \n",
       "9                                              32914    "
      ]
     },
     "metadata": {},
     "execution_count": 89
    }
   ],
   "metadata": {}
  },
  {
   "cell_type": "code",
   "execution_count": 104,
   "source": [
    "query = 'In 2009, approximate gross value added at basic prices (aGVA) of the construction and [MASK] industries was estimated to be 25178'\n",
    "table = processed.iloc[\n",
    "    :, [0, 1, 2, 3] + relevant_idx.tolist()].iloc[:10]"
   ],
   "outputs": [],
   "metadata": {}
  },
  {
   "cell_type": "code",
   "execution_count": 105,
   "source": [
    "# prepare inputs\n",
    "inputs = tokenizer(table=table, queries=query, padding=\"max_length\", return_tensors=\"pt\")\n",
    "\n",
    "# forward pass\n",
    "outputs = model(**inputs)\n",
    "\n",
    "# return top 5 values and predictions\n",
    "masked_index = torch.nonzero(inputs.input_ids.squeeze() == tokenizer.mask_token_id, as_tuple=False)\n",
    "logits = outputs.logits[0, masked_index.item(), :]\n",
    "probs = logits.softmax(dim=0)\n",
    "values, predictions = probs.topk(5)\n",
    "\n",
    "for value, pred in zip(values, predictions):\n",
    "  print(f\"{query} -> {tokenizer.decode([pred])} with confidence {value}\")"
   ],
   "outputs": [
    {
     "output_type": "stream",
     "name": "stdout",
     "text": [
      "In 2009, approximate gross value added at basic prices (aGVA) of the construction and [MASK] industries was estimated to be 25178 -> distribution with confidence 0.7610072493553162\n",
      "In 2009, approximate gross value added at basic prices (aGVA) of the construction and [MASK] industries was estimated to be 25178 -> shipping with confidence 0.02022368274629116\n",
      "In 2009, approximate gross value added at basic prices (aGVA) of the construction and [MASK] industries was estimated to be 25178 -> production with confidence 0.011187724769115448\n",
      "In 2009, approximate gross value added at basic prices (aGVA) of the construction and [MASK] industries was estimated to be 25178 -> agricultural with confidence 0.010608246549963951\n",
      "In 2009, approximate gross value added at basic prices (aGVA) of the construction and [MASK] industries was estimated to be 25178 -> wholesale with confidence 0.008337625302374363\n"
     ]
    }
   ],
   "metadata": {}
  },
  {
   "cell_type": "code",
   "execution_count": null,
   "source": [],
   "outputs": [],
   "metadata": {}
  }
 ],
 "metadata": {
  "orig_nbformat": 4,
  "language_info": {
   "name": "python",
   "version": "3.9.2",
   "mimetype": "text/x-python",
   "codemirror_mode": {
    "name": "ipython",
    "version": 3
   },
   "pygments_lexer": "ipython3",
   "nbconvert_exporter": "python",
   "file_extension": ".py"
  },
  "kernelspec": {
   "name": "python3",
   "display_name": "Python 3.9.2 64-bit ('comp0087': conda)"
  },
  "interpreter": {
   "hash": "6b9679e1c6c858221750b0560d352a46169916bc602dce44bbd2a48d631c8c5d"
  }
 },
 "nbformat": 4,
 "nbformat_minor": 2
}