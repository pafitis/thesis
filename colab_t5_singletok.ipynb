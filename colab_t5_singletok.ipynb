{
  "nbformat": 4,
  "nbformat_minor": 2,
  "metadata": {
    "interpreter": {
      "hash": "6b9679e1c6c858221750b0560d352a46169916bc602dce44bbd2a48d631c8c5d"
    },
    "kernelspec": {
      "display_name": "Python 3.9.2 64-bit ('comp0087': conda)",
      "name": "python3"
    },
    "language_info": {
      "codemirror_mode": {
        "name": "ipython",
        "version": 3
      },
      "file_extension": ".py",
      "mimetype": "text/x-python",
      "name": "python",
      "nbconvert_exporter": "python",
      "pygments_lexer": "ipython3",
      "version": "3.9.2"
    },
    "orig_nbformat": 4,
    "colab": {
      "name": "multitoken_languagemodel.ipynb",
      "provenance": []
    }
  },
  "cells": [
    {
      "cell_type": "code",
      "execution_count": 10,
      "source": [
        "from google.colab import drive\n",
        "drive.mount('/content/drive')\n",
        "% cd drive/MyDrive/thesis\n",
        "! git clone https://www.github.com/pafitis/thesis"
      ],
      "outputs": [
        {
          "output_type": "stream",
          "name": "stdout",
          "text": [
            "Drive already mounted at /content/drive; to attempt to forcibly remount, call drive.mount(\"/content/drive\", force_remount=True).\n",
            "/content/drive/MyDrive/thesis\n",
            "Cloning into 'thesis'...\n",
            "warning: redirecting to https://github.com/pafitis/thesis.git/\n",
            "remote: Enumerating objects: 129, done.\u001b[K\n",
            "remote: Counting objects: 100% (129/129), done.\u001b[K\n",
            "remote: Compressing objects: 100% (84/84), done.\u001b[K\n",
            "remote: Total 129 (delta 57), reused 114 (delta 42), pack-reused 0\u001b[K\n",
            "Receiving objects: 100% (129/129), 15.89 MiB | 14.21 MiB/s, done.\n",
            "Resolving deltas: 100% (57/57), done.\n",
            "Checking out files: 100% (86/86), done.\n"
          ]
        }
      ],
      "metadata": {
        "colab": {
          "base_uri": "https://localhost:8080/"
        },
        "id": "UDmCJSGnM1v8",
        "outputId": "f247b1a9-0ca2-4c5e-bdc7-3958ad50a3ce"
      }
    },
    {
      "cell_type": "code",
      "execution_count": 15,
      "source": [
        "! pip install spacy-nightly"
      ],
      "outputs": [
        {
          "output_type": "stream",
          "name": "stdout",
          "text": [
            "Collecting spacy-nightly\n",
            "\u001b[?25l  Downloading https://files.pythonhosted.org/packages/cb/db/471e80de2478a37a33c6432b8ac441088f2183e2aaca2ed7058ed39491c8/spacy_nightly-3.0.0rc5-cp37-cp37m-manylinux2014_x86_64.whl (12.7MB)\n",
            "\u001b[K     |████████████████████████████████| 12.7MB 235kB/s \n",
            "\u001b[?25hRequirement already satisfied: cymem<2.1.0,>=2.0.2 in /usr/local/lib/python3.7/dist-packages (from spacy-nightly) (2.0.5)\n",
            "Requirement already satisfied: typing-extensions>=3.7.4; python_version < \"3.8\" in /usr/local/lib/python3.7/dist-packages (from spacy-nightly) (3.7.4.3)\n",
            "Requirement already satisfied: setuptools in /usr/local/lib/python3.7/dist-packages (from spacy-nightly) (57.0.0)\n",
            "Requirement already satisfied: wasabi<1.1.0,>=0.8.1 in /usr/local/lib/python3.7/dist-packages (from spacy-nightly) (0.8.2)\n",
            "Collecting typer<0.4.0,>=0.3.0\n",
            "  Downloading https://files.pythonhosted.org/packages/90/34/d138832f6945432c638f32137e6c79a3b682f06a63c488dcfaca6b166c64/typer-0.3.2-py3-none-any.whl\n",
            "Collecting pathy\n",
            "\u001b[?25l  Downloading https://files.pythonhosted.org/packages/65/ae/ecfa3e2dc267010fa320034be0eb3a8e683dc98dae7e70f92b41605b4d35/pathy-0.6.0-py3-none-any.whl (42kB)\n",
            "\u001b[K     |████████████████████████████████| 51kB 7.2MB/s \n",
            "\u001b[?25hRequirement already satisfied: importlib-metadata>=0.20; python_version < \"3.8\" in /usr/local/lib/python3.7/dist-packages (from spacy-nightly) (4.6.0)\n",
            "Collecting pydantic<1.8.0,>=1.7.1\n",
            "\u001b[?25l  Downloading https://files.pythonhosted.org/packages/ca/fa/d43f31874e1f2a9633e4c025be310f2ce7a8350017579e9e837a62630a7e/pydantic-1.7.4-cp37-cp37m-manylinux2014_x86_64.whl (9.1MB)\n",
            "\u001b[K     |████████████████████████████████| 9.1MB 21.7MB/s \n",
            "\u001b[?25hCollecting thinc<8.1.0,>=8.0.0\n",
            "\u001b[?25l  Downloading https://files.pythonhosted.org/packages/7a/6e/bd2da3d71ab2d175248949ac106fee09ae13bfaca39002eabdbd908b7440/thinc-8.0.7-cp37-cp37m-manylinux_2_17_x86_64.manylinux2014_x86_64.whl (619kB)\n",
            "\u001b[K     |████████████████████████████████| 624kB 33.6MB/s \n",
            "\u001b[?25hRequirement already satisfied: jinja2 in /usr/local/lib/python3.7/dist-packages (from spacy-nightly) (2.11.3)\n",
            "Requirement already satisfied: preshed<3.1.0,>=3.0.2 in /usr/local/lib/python3.7/dist-packages (from spacy-nightly) (3.0.5)\n",
            "Requirement already satisfied: packaging>=20.0 in /usr/local/lib/python3.7/dist-packages (from spacy-nightly) (20.9)\n",
            "Requirement already satisfied: murmurhash<1.1.0,>=0.28.0 in /usr/local/lib/python3.7/dist-packages (from spacy-nightly) (1.0.5)\n",
            "Requirement already satisfied: numpy>=1.15.0 in /usr/local/lib/python3.7/dist-packages (from spacy-nightly) (1.19.5)\n",
            "Requirement already satisfied: blis<0.8.0,>=0.4.0 in /usr/local/lib/python3.7/dist-packages (from spacy-nightly) (0.4.1)\n",
            "Collecting srsly<3.0.0,>=2.3.0\n",
            "\u001b[?25l  Downloading https://files.pythonhosted.org/packages/c3/84/dfdfc9f6f04f6b88207d96d9520b911e5fec0c67ff47a0dea31ab5429a1e/srsly-2.4.1-cp37-cp37m-manylinux2014_x86_64.whl (456kB)\n",
            "\u001b[K     |████████████████████████████████| 460kB 40.2MB/s \n",
            "\u001b[?25hCollecting spacy-legacy<3.1.0,>=3.0.0.dev0\n",
            "  Downloading https://files.pythonhosted.org/packages/d3/e8/1bc00eeff3faf1c50bde941f88a491a5c1128debb75dd8c913401e71585c/spacy_legacy-3.0.8-py2.py3-none-any.whl\n",
            "Collecting catalogue<2.1.0,>=2.0.1\n",
            "  Downloading https://files.pythonhosted.org/packages/9c/10/dbc1203a4b1367c7b02fddf08cb2981d9aa3e688d398f587cea0ab9e3bec/catalogue-2.0.4-py3-none-any.whl\n",
            "Requirement already satisfied: requests<3.0.0,>=2.13.0 in /usr/local/lib/python3.7/dist-packages (from spacy-nightly) (2.23.0)\n",
            "Requirement already satisfied: tqdm<5.0.0,>=4.38.0 in /usr/local/lib/python3.7/dist-packages (from spacy-nightly) (4.41.1)\n",
            "Requirement already satisfied: click<7.2.0,>=7.1.1 in /usr/local/lib/python3.7/dist-packages (from typer<0.4.0,>=0.3.0->spacy-nightly) (7.1.2)\n",
            "Requirement already satisfied: smart-open<6.0.0,>=5.0.0 in /usr/local/lib/python3.7/dist-packages (from pathy->spacy-nightly) (5.1.0)\n",
            "Requirement already satisfied: zipp>=0.5 in /usr/local/lib/python3.7/dist-packages (from importlib-metadata>=0.20; python_version < \"3.8\"->spacy-nightly) (3.4.1)\n",
            "Requirement already satisfied: MarkupSafe>=0.23 in /usr/local/lib/python3.7/dist-packages (from jinja2->spacy-nightly) (2.0.1)\n",
            "Requirement already satisfied: pyparsing>=2.0.2 in /usr/local/lib/python3.7/dist-packages (from packaging>=20.0->spacy-nightly) (2.4.7)\n",
            "Requirement already satisfied: urllib3!=1.25.0,!=1.25.1,<1.26,>=1.21.1 in /usr/local/lib/python3.7/dist-packages (from requests<3.0.0,>=2.13.0->spacy-nightly) (1.24.3)\n",
            "Requirement already satisfied: idna<3,>=2.5 in /usr/local/lib/python3.7/dist-packages (from requests<3.0.0,>=2.13.0->spacy-nightly) (2.10)\n",
            "Requirement already satisfied: certifi>=2017.4.17 in /usr/local/lib/python3.7/dist-packages (from requests<3.0.0,>=2.13.0->spacy-nightly) (2021.5.30)\n",
            "Requirement already satisfied: chardet<4,>=3.0.2 in /usr/local/lib/python3.7/dist-packages (from requests<3.0.0,>=2.13.0->spacy-nightly) (3.0.4)\n",
            "\u001b[31mERROR: spacy 2.2.4 has requirement catalogue<1.1.0,>=0.0.7, but you'll have catalogue 2.0.4 which is incompatible.\u001b[0m\n",
            "\u001b[31mERROR: spacy 2.2.4 has requirement srsly<1.1.0,>=1.0.2, but you'll have srsly 2.4.1 which is incompatible.\u001b[0m\n",
            "\u001b[31mERROR: spacy 2.2.4 has requirement thinc==7.4.0, but you'll have thinc 8.0.7 which is incompatible.\u001b[0m\n",
            "Installing collected packages: typer, pathy, pydantic, catalogue, srsly, thinc, spacy-legacy, spacy-nightly\n",
            "  Found existing installation: catalogue 1.0.0\n",
            "    Uninstalling catalogue-1.0.0:\n",
            "      Successfully uninstalled catalogue-1.0.0\n",
            "  Found existing installation: srsly 1.0.5\n",
            "    Uninstalling srsly-1.0.5:\n",
            "      Successfully uninstalled srsly-1.0.5\n",
            "  Found existing installation: thinc 7.4.0\n",
            "    Uninstalling thinc-7.4.0:\n",
            "      Successfully uninstalled thinc-7.4.0\n",
            "Successfully installed catalogue-2.0.4 pathy-0.6.0 pydantic-1.7.4 spacy-legacy-3.0.8 spacy-nightly-3.0.0rc5 srsly-2.4.1 thinc-8.0.7 typer-0.3.2\n"
          ]
        },
        {
          "output_type": "display_data",
          "data": {
            "application/vnd.colab-display-data+json": {
              "pip_warning": {
                "packages": [
                  "catalogue",
                  "spacy",
                  "srsly",
                  "thinc"
                ]
              }
            }
          },
          "metadata": {
            "tags": []
          }
        }
      ],
      "metadata": {
        "id": "J9wDmN-JONQx",
        "outputId": "ca153ab5-39db-4f8f-8b7d-27cee1f06aa1",
        "colab": {
          "base_uri": "https://localhost:8080/",
          "height": 1000
        }
      }
    },
    {
      "cell_type": "code",
      "execution_count": 2,
      "source": [
        "!python -m spacy download en_core_web_trf"
      ],
      "outputs": [
        {
          "output_type": "stream",
          "name": "stdout",
          "text": [
            "2021-07-14 18:16:00.493244: I tensorflow/stream_executor/platform/default/dso_loader.cc:53] Successfully opened dynamic library libcudart.so.11.0\n",
            "Collecting en_core_web_trf==3.0.0\n",
            "\u001b[?25l  Downloading https://github.com/explosion/spacy-models/releases/download/en_core_web_trf-3.0.0/en_core_web_trf-3.0.0.tar.gz (459.7MB)\n",
            "\u001b[K     |████████████████████████████████| 459.7MB 1.3MB/s \n",
            "\u001b[?25hCollecting spacy<3.1.0,>=3.0.0\n",
            "\u001b[?25l  Downloading https://files.pythonhosted.org/packages/1b/d8/0361bbaf7a1ff56b44dca04dace54c82d63dad7475b7d25ea1baefafafb2/spacy-3.0.6-cp37-cp37m-manylinux2014_x86_64.whl (12.8MB)\n",
            "\u001b[K     |████████████████████████████████| 12.8MB 4.0MB/s \n",
            "\u001b[?25hCollecting spacy-transformers<1.1.0,>=1.0.0rc4\n",
            "  Downloading https://files.pythonhosted.org/packages/f3/58/e470e8217c1c93db41c50ef210e02f7302fbf252a56b66708f8ecb579aa3/spacy_transformers-1.0.3-py2.py3-none-any.whl\n",
            "Requirement already satisfied: murmurhash<1.1.0,>=0.28.0 in /usr/local/lib/python3.7/dist-packages (from spacy<3.1.0,>=3.0.0->en_core_web_trf==3.0.0) (1.0.5)\n",
            "Requirement already satisfied: numpy>=1.15.0 in /usr/local/lib/python3.7/dist-packages (from spacy<3.1.0,>=3.0.0->en_core_web_trf==3.0.0) (1.19.5)\n",
            "Requirement already satisfied: setuptools in /usr/local/lib/python3.7/dist-packages (from spacy<3.1.0,>=3.0.0->en_core_web_trf==3.0.0) (57.0.0)\n",
            "Requirement already satisfied: jinja2 in /usr/local/lib/python3.7/dist-packages (from spacy<3.1.0,>=3.0.0->en_core_web_trf==3.0.0) (2.11.3)\n",
            "Requirement already satisfied: pydantic<1.8.0,>=1.7.1 in /usr/local/lib/python3.7/dist-packages (from spacy<3.1.0,>=3.0.0->en_core_web_trf==3.0.0) (1.7.4)\n",
            "Requirement already satisfied: catalogue<2.1.0,>=2.0.3 in /usr/local/lib/python3.7/dist-packages (from spacy<3.1.0,>=3.0.0->en_core_web_trf==3.0.0) (2.0.4)\n",
            "Requirement already satisfied: spacy-legacy<3.1.0,>=3.0.4 in /usr/local/lib/python3.7/dist-packages (from spacy<3.1.0,>=3.0.0->en_core_web_trf==3.0.0) (3.0.8)\n",
            "Requirement already satisfied: srsly<3.0.0,>=2.4.1 in /usr/local/lib/python3.7/dist-packages (from spacy<3.1.0,>=3.0.0->en_core_web_trf==3.0.0) (2.4.1)\n",
            "Requirement already satisfied: requests<3.0.0,>=2.13.0 in /usr/local/lib/python3.7/dist-packages (from spacy<3.1.0,>=3.0.0->en_core_web_trf==3.0.0) (2.23.0)\n",
            "Requirement already satisfied: typer<0.4.0,>=0.3.0 in /usr/local/lib/python3.7/dist-packages (from spacy<3.1.0,>=3.0.0->en_core_web_trf==3.0.0) (0.3.2)\n",
            "Requirement already satisfied: packaging>=20.0 in /usr/local/lib/python3.7/dist-packages (from spacy<3.1.0,>=3.0.0->en_core_web_trf==3.0.0) (20.9)\n",
            "Requirement already satisfied: pathy>=0.3.5 in /usr/local/lib/python3.7/dist-packages (from spacy<3.1.0,>=3.0.0->en_core_web_trf==3.0.0) (0.6.0)\n",
            "Requirement already satisfied: cymem<2.1.0,>=2.0.2 in /usr/local/lib/python3.7/dist-packages (from spacy<3.1.0,>=3.0.0->en_core_web_trf==3.0.0) (2.0.5)\n",
            "Requirement already satisfied: tqdm<5.0.0,>=4.38.0 in /usr/local/lib/python3.7/dist-packages (from spacy<3.1.0,>=3.0.0->en_core_web_trf==3.0.0) (4.41.1)\n",
            "Requirement already satisfied: blis<0.8.0,>=0.4.0 in /usr/local/lib/python3.7/dist-packages (from spacy<3.1.0,>=3.0.0->en_core_web_trf==3.0.0) (0.4.1)\n",
            "Requirement already satisfied: preshed<3.1.0,>=3.0.2 in /usr/local/lib/python3.7/dist-packages (from spacy<3.1.0,>=3.0.0->en_core_web_trf==3.0.0) (3.0.5)\n",
            "Requirement already satisfied: wasabi<1.1.0,>=0.8.1 in /usr/local/lib/python3.7/dist-packages (from spacy<3.1.0,>=3.0.0->en_core_web_trf==3.0.0) (0.8.2)\n",
            "Requirement already satisfied: typing-extensions<4.0.0.0,>=3.7.4; python_version < \"3.8\" in /usr/local/lib/python3.7/dist-packages (from spacy<3.1.0,>=3.0.0->en_core_web_trf==3.0.0) (3.7.4.3)\n",
            "Requirement already satisfied: thinc<8.1.0,>=8.0.3 in /usr/local/lib/python3.7/dist-packages (from spacy<3.1.0,>=3.0.0->en_core_web_trf==3.0.0) (8.0.7)\n",
            "Collecting transformers<4.7.0,>=3.4.0\n",
            "\u001b[?25l  Downloading https://files.pythonhosted.org/packages/d5/43/cfe4ee779bbd6a678ac6a97c5a5cdeb03c35f9eaebbb9720b036680f9a2d/transformers-4.6.1-py3-none-any.whl (2.2MB)\n",
            "\u001b[K     |████████████████████████████████| 2.3MB 36.5MB/s \n",
            "\u001b[?25hCollecting spacy-alignments<1.0.0,>=0.7.2\n",
            "\u001b[?25l  Downloading https://files.pythonhosted.org/packages/ea/86/a6786d24d1d8f3a6cff2c60b55a7e845725a94919cd94d270ea49d82e59b/spacy_alignments-0.8.3-cp37-cp37m-manylinux2014_x86_64.whl (998kB)\n",
            "\u001b[K     |████████████████████████████████| 1.0MB 37.4MB/s \n",
            "\u001b[?25hRequirement already satisfied: torch>=1.5.0 in /usr/local/lib/python3.7/dist-packages (from spacy-transformers<1.1.0,>=1.0.0rc4->en_core_web_trf==3.0.0) (1.9.0+cu102)\n",
            "Requirement already satisfied: MarkupSafe>=0.23 in /usr/local/lib/python3.7/dist-packages (from jinja2->spacy<3.1.0,>=3.0.0->en_core_web_trf==3.0.0) (2.0.1)\n",
            "Requirement already satisfied: zipp>=0.5; python_version < \"3.8\" in /usr/local/lib/python3.7/dist-packages (from catalogue<2.1.0,>=2.0.3->spacy<3.1.0,>=3.0.0->en_core_web_trf==3.0.0) (3.4.1)\n",
            "Requirement already satisfied: urllib3!=1.25.0,!=1.25.1,<1.26,>=1.21.1 in /usr/local/lib/python3.7/dist-packages (from requests<3.0.0,>=2.13.0->spacy<3.1.0,>=3.0.0->en_core_web_trf==3.0.0) (1.24.3)\n",
            "Requirement already satisfied: chardet<4,>=3.0.2 in /usr/local/lib/python3.7/dist-packages (from requests<3.0.0,>=2.13.0->spacy<3.1.0,>=3.0.0->en_core_web_trf==3.0.0) (3.0.4)\n",
            "Requirement already satisfied: idna<3,>=2.5 in /usr/local/lib/python3.7/dist-packages (from requests<3.0.0,>=2.13.0->spacy<3.1.0,>=3.0.0->en_core_web_trf==3.0.0) (2.10)\n",
            "Requirement already satisfied: certifi>=2017.4.17 in /usr/local/lib/python3.7/dist-packages (from requests<3.0.0,>=2.13.0->spacy<3.1.0,>=3.0.0->en_core_web_trf==3.0.0) (2021.5.30)\n",
            "Requirement already satisfied: click<7.2.0,>=7.1.1 in /usr/local/lib/python3.7/dist-packages (from typer<0.4.0,>=0.3.0->spacy<3.1.0,>=3.0.0->en_core_web_trf==3.0.0) (7.1.2)\n",
            "Requirement already satisfied: pyparsing>=2.0.2 in /usr/local/lib/python3.7/dist-packages (from packaging>=20.0->spacy<3.1.0,>=3.0.0->en_core_web_trf==3.0.0) (2.4.7)\n",
            "Requirement already satisfied: smart-open<6.0.0,>=5.0.0 in /usr/local/lib/python3.7/dist-packages (from pathy>=0.3.5->spacy<3.1.0,>=3.0.0->en_core_web_trf==3.0.0) (5.1.0)\n",
            "Requirement already satisfied: importlib-metadata; python_version < \"3.8\" in /usr/local/lib/python3.7/dist-packages (from transformers<4.7.0,>=3.4.0->spacy-transformers<1.1.0,>=1.0.0rc4->en_core_web_trf==3.0.0) (4.6.0)\n",
            "Collecting tokenizers<0.11,>=0.10.1\n",
            "\u001b[?25l  Downloading https://files.pythonhosted.org/packages/d4/e2/df3543e8ffdab68f5acc73f613de9c2b155ac47f162e725dcac87c521c11/tokenizers-0.10.3-cp37-cp37m-manylinux_2_5_x86_64.manylinux1_x86_64.manylinux_2_12_x86_64.manylinux2010_x86_64.whl (3.3MB)\n",
            "\u001b[K     |████████████████████████████████| 3.3MB 30.2MB/s \n",
            "\u001b[?25hCollecting huggingface-hub==0.0.8\n",
            "  Downloading https://files.pythonhosted.org/packages/a1/88/7b1e45720ecf59c6c6737ff332f41c955963090a18e72acbcbeac6b25e86/huggingface_hub-0.0.8-py3-none-any.whl\n",
            "Collecting sacremoses\n",
            "\u001b[?25l  Downloading https://files.pythonhosted.org/packages/75/ee/67241dc87f266093c533a2d4d3d69438e57d7a90abb216fa076e7d475d4a/sacremoses-0.0.45-py3-none-any.whl (895kB)\n",
            "\u001b[K     |████████████████████████████████| 901kB 32.2MB/s \n",
            "\u001b[?25hRequirement already satisfied: regex!=2019.12.17 in /usr/local/lib/python3.7/dist-packages (from transformers<4.7.0,>=3.4.0->spacy-transformers<1.1.0,>=1.0.0rc4->en_core_web_trf==3.0.0) (2019.12.20)\n",
            "Requirement already satisfied: filelock in /usr/local/lib/python3.7/dist-packages (from transformers<4.7.0,>=3.4.0->spacy-transformers<1.1.0,>=1.0.0rc4->en_core_web_trf==3.0.0) (3.0.12)\n",
            "Requirement already satisfied: six in /usr/local/lib/python3.7/dist-packages (from sacremoses->transformers<4.7.0,>=3.4.0->spacy-transformers<1.1.0,>=1.0.0rc4->en_core_web_trf==3.0.0) (1.15.0)\n",
            "Requirement already satisfied: joblib in /usr/local/lib/python3.7/dist-packages (from sacremoses->transformers<4.7.0,>=3.4.0->spacy-transformers<1.1.0,>=1.0.0rc4->en_core_web_trf==3.0.0) (1.0.1)\n",
            "Building wheels for collected packages: en-core-web-trf\n",
            "  Building wheel for en-core-web-trf (setup.py) ... \u001b[?25l\u001b[?25hdone\n",
            "  Created wheel for en-core-web-trf: filename=en_core_web_trf-3.0.0-cp37-none-any.whl size=459708990 sha256=2673a69611e94f5986bfb55317270f7b1e911469f09ca37277985a5d5bbf86d2\n",
            "  Stored in directory: /tmp/pip-ephem-wheel-cache-9rszr7v4/wheels/a0/7f/ba/6479bde5ccefcfc6b78bd000ea0881a6b218cb8f6b3ea8993c\n",
            "Successfully built en-core-web-trf\n",
            "Installing collected packages: spacy, tokenizers, huggingface-hub, sacremoses, transformers, spacy-alignments, spacy-transformers, en-core-web-trf\n",
            "  Found existing installation: spacy 2.2.4\n",
            "    Uninstalling spacy-2.2.4:\n",
            "      Successfully uninstalled spacy-2.2.4\n",
            "Successfully installed en-core-web-trf-3.0.0 huggingface-hub-0.0.8 sacremoses-0.0.45 spacy-3.0.6 spacy-alignments-0.8.3 spacy-transformers-1.0.3 tokenizers-0.10.3 transformers-4.6.1\n",
            "\u001b[38;5;2m✔ Download and installation successful\u001b[0m\n",
            "You can now load the package via spacy.load('en_core_web_trf')\n"
          ]
        }
      ],
      "metadata": {
        "id": "RLzwyvcoNyCr",
        "outputId": "bdd02379-1f4b-4ef4-dabe-75fb2b944c13",
        "colab": {
          "base_uri": "https://localhost:8080/"
        }
      }
    },
    {
      "cell_type": "code",
      "execution_count": 11,
      "source": [
        "import sys\n",
        "sys.path.append('/content/drive/MyDrive/thesis')"
      ],
      "outputs": [],
      "metadata": {
        "id": "qkRGROLzPgMY"
      }
    },
    {
      "cell_type": "code",
      "execution_count": 13,
      "source": [
        "import pandas as pd\n",
        "import numpy as np\n",
        "import pickle, logging, spacy, sys, os, json, requests\n",
        "import matplotlib.pyplot as plt\n",
        "\n",
        "from helpers.classes import Collection\n",
        "from tqdm import tqdm\n",
        "from bs4 import BeautifulSoup\n",
        "from datetime import datetime\n",
        "\n",
        "from helpers.cloze_generation import \\\n",
        "    generate_clozes_from_point, named_entity_answer_generator as ne_answer_generator, noun_phrase_answer_generator as np_answer_generator\n",
        "\n",
        "from helpers.language_modelling import \\\n",
        "    find_nth_substring, multitoken_prediction, check_model, run_language_model"
      ],
      "outputs": [
        {
          "output_type": "error",
          "ename": "ImportError",
          "evalue": "ignored",
          "traceback": [
            "\u001b[0;31m---------------------------------------------------------------------------\u001b[0m",
            "\u001b[0;31mImportError\u001b[0m                               Traceback (most recent call last)",
            "\u001b[0;32m<ipython-input-13-8e516c054148>\u001b[0m in \u001b[0;36m<module>\u001b[0;34m()\u001b[0m\n\u001b[1;32m     11\u001b[0m \u001b[0;32mfrom\u001b[0m \u001b[0mhelpers\u001b[0m\u001b[0;34m.\u001b[0m\u001b[0mcloze_generation\u001b[0m \u001b[0;32mimport\u001b[0m     \u001b[0mgenerate_clozes_from_point\u001b[0m\u001b[0;34m,\u001b[0m \u001b[0mnamed_entity_answer_generator\u001b[0m \u001b[0;32mas\u001b[0m \u001b[0mne_answer_generator\u001b[0m\u001b[0;34m,\u001b[0m \u001b[0mnoun_phrase_answer_generator\u001b[0m \u001b[0;32mas\u001b[0m \u001b[0mnp_answer_generator\u001b[0m\u001b[0;34m\u001b[0m\u001b[0;34m\u001b[0m\u001b[0m\n\u001b[1;32m     12\u001b[0m \u001b[0;34m\u001b[0m\u001b[0m\n\u001b[0;32m---> 13\u001b[0;31m \u001b[0;32mfrom\u001b[0m \u001b[0mhelpers\u001b[0m\u001b[0;34m.\u001b[0m\u001b[0mlanguage_modelling\u001b[0m \u001b[0;32mimport\u001b[0m     \u001b[0mfind_nth_substring\u001b[0m\u001b[0;34m,\u001b[0m \u001b[0mmultitoken_prediction\u001b[0m\u001b[0;34m,\u001b[0m \u001b[0mcheck_model\u001b[0m\u001b[0;34m,\u001b[0m \u001b[0mrun_language_model\u001b[0m\u001b[0;34m\u001b[0m\u001b[0;34m\u001b[0m\u001b[0m\n\u001b[0m",
            "\u001b[0;32m/content/drive/MyDrive/thesis/helpers/language_modelling.py\u001b[0m in \u001b[0;36m<module>\u001b[0;34m()\u001b[0m\n\u001b[0;32m----> 1\u001b[0;31m \u001b[0;32mfrom\u001b[0m \u001b[0mgenerate_cloze\u001b[0m \u001b[0;32mimport\u001b[0m \u001b[0mmultitoken_mask_answer\u001b[0m\u001b[0;34m\u001b[0m\u001b[0;34m\u001b[0m\u001b[0m\n\u001b[0m\u001b[1;32m      2\u001b[0m \u001b[0;32mimport\u001b[0m \u001b[0mnumpy\u001b[0m\u001b[0;34m\u001b[0m\u001b[0;34m\u001b[0m\u001b[0m\n\u001b[1;32m      3\u001b[0m \u001b[0;32mimport\u001b[0m \u001b[0mtorch\u001b[0m\u001b[0;34m\u001b[0m\u001b[0;34m\u001b[0m\u001b[0m\n\u001b[1;32m      4\u001b[0m \u001b[0;32mfrom\u001b[0m \u001b[0mtransformers\u001b[0m \u001b[0;32mimport\u001b[0m\u001b[0;31m \u001b[0m\u001b[0;31m\\\u001b[0m\u001b[0;34m\u001b[0m\u001b[0;34m\u001b[0m\u001b[0m\n\u001b[1;32m      5\u001b[0m     \u001b[0mpipeline\u001b[0m\u001b[0;34m,\u001b[0m\u001b[0;31m \u001b[0m\u001b[0;31m\\\u001b[0m\u001b[0;34m\u001b[0m\u001b[0;34m\u001b[0m\u001b[0m\n",
            "\u001b[0;31mImportError\u001b[0m: cannot import name 'multitoken_mask_answer' from 'generate_cloze' (/content/drive/MyDrive/thesis/generate_cloze.py)",
            "",
            "\u001b[0;31m---------------------------------------------------------------------------\u001b[0;32m\nNOTE: If your import is failing due to a missing package, you can\nmanually install dependencies using either !pip or !apt.\n\nTo view examples of installing some common dependencies, click the\n\"Open Examples\" button below.\n\u001b[0;31m---------------------------------------------------------------------------\u001b[0m\n"
          ]
        }
      ],
      "metadata": {
        "colab": {
          "base_uri": "https://localhost:8080/",
          "height": 455
        },
        "id": "xvmMBvk8L60W",
        "outputId": "9093c330-514d-45c9-912d-f75755c31172"
      }
    },
    {
      "cell_type": "code",
      "execution_count": null,
      "source": [
        "DATASETS = os.listdir('datasets')\n",
        "\n",
        "with open('pickles/collection_20210624_194932.pkl', 'rb') as f:\n",
        "    collection = pickle.load(f)\n",
        "\n",
        "# I should completely remove the other bulletins\n",
        "# for now this has to do...\n",
        "bulletin_names = list(collection.bulletins.keys())\n",
        "# target bulletins are those with usable related datasets and main points\n",
        "target_bulletins = []\n",
        "dictionary = dict()\n",
        "for bulletin in bulletin_names:\n",
        "    if len(collection.bulletins.get(bulletin).get('main-points')) and len(collection.bulletins.get(bulletin).get('related-datasets')) > 0:\n",
        "        target_bulletins.append(bulletin)\n",
        "\n",
        "\n",
        "\n",
        "with open('pickles/dataset_20210625_184837.pkl', 'rb') as f:\n",
        "    df = pickle.load(f)"
      ],
      "outputs": [],
      "metadata": {
        "id": "M3a4_7UdL60X"
      }
    },
    {
      "cell_type": "code",
      "execution_count": null,
      "source": [
        "df.head()"
      ],
      "outputs": [
        {
          "output_type": "execute_result",
          "data": {
            "text/plain": [
              "                                            bulletin              type  \\\n",
              "0  businessindustryandtrade/business/businessserv...  date_and_percent   \n",
              "1  businessindustryandtrade/business/businessserv...  date_and_percent   \n",
              "2  businessindustryandtrade/business/businessserv...  date_and_percent   \n",
              "3  businessindustryandtrade/business/businessserv...  date_and_percent   \n",
              "4  businessindustryandtrade/business/businessserv...  date_and_percent   \n",
              "\n",
              "                                               point  \\\n",
              "0  In 2019, approximate gross value added at basi...   \n",
              "1  The non-financial services sector, which accou...   \n",
              "2  Total turnover and purchases of the UK non-fin...   \n",
              "3  Out of the 12 UK regions, 8 regions experience...   \n",
              "4  West Midlands, Yorkshire and The Humber, Scotl...   \n",
              "\n",
              "                                                data  \n",
              "0  [/businessindustryandtrade/business/businessse...  \n",
              "1  [/businessindustryandtrade/business/businessse...  \n",
              "2  [/businessindustryandtrade/business/businessse...  \n",
              "3  [/businessindustryandtrade/business/businessse...  \n",
              "4  [/businessindustryandtrade/business/businessse...  "
            ],
            "text/html": [
              "<div>\n",
              "<style scoped>\n",
              "    .dataframe tbody tr th:only-of-type {\n",
              "        vertical-align: middle;\n",
              "    }\n",
              "\n",
              "    .dataframe tbody tr th {\n",
              "        vertical-align: top;\n",
              "    }\n",
              "\n",
              "    .dataframe thead th {\n",
              "        text-align: right;\n",
              "    }\n",
              "</style>\n",
              "<table border=\"1\" class=\"dataframe\">\n",
              "  <thead>\n",
              "    <tr style=\"text-align: right;\">\n",
              "      <th></th>\n",
              "      <th>bulletin</th>\n",
              "      <th>type</th>\n",
              "      <th>point</th>\n",
              "      <th>data</th>\n",
              "    </tr>\n",
              "  </thead>\n",
              "  <tbody>\n",
              "    <tr>\n",
              "      <th>0</th>\n",
              "      <td>businessindustryandtrade/business/businessserv...</td>\n",
              "      <td>date_and_percent</td>\n",
              "      <td>In 2019, approximate gross value added at basi...</td>\n",
              "      <td>[/businessindustryandtrade/business/businessse...</td>\n",
              "    </tr>\n",
              "    <tr>\n",
              "      <th>1</th>\n",
              "      <td>businessindustryandtrade/business/businessserv...</td>\n",
              "      <td>date_and_percent</td>\n",
              "      <td>The non-financial services sector, which accou...</td>\n",
              "      <td>[/businessindustryandtrade/business/businessse...</td>\n",
              "    </tr>\n",
              "    <tr>\n",
              "      <th>2</th>\n",
              "      <td>businessindustryandtrade/business/businessserv...</td>\n",
              "      <td>date_and_percent</td>\n",
              "      <td>Total turnover and purchases of the UK non-fin...</td>\n",
              "      <td>[/businessindustryandtrade/business/businessse...</td>\n",
              "    </tr>\n",
              "    <tr>\n",
              "      <th>3</th>\n",
              "      <td>businessindustryandtrade/business/businessserv...</td>\n",
              "      <td>date_and_percent</td>\n",
              "      <td>Out of the 12 UK regions, 8 regions experience...</td>\n",
              "      <td>[/businessindustryandtrade/business/businessse...</td>\n",
              "    </tr>\n",
              "    <tr>\n",
              "      <th>4</th>\n",
              "      <td>businessindustryandtrade/business/businessserv...</td>\n",
              "      <td>date_and_percent</td>\n",
              "      <td>West Midlands, Yorkshire and The Humber, Scotl...</td>\n",
              "      <td>[/businessindustryandtrade/business/businessse...</td>\n",
              "    </tr>\n",
              "  </tbody>\n",
              "</table>\n",
              "</div>"
            ]
          },
          "metadata": {
            "tags": []
          },
          "execution_count": 3
        }
      ],
      "metadata": {
        "id": "GKt6IOuwL60X",
        "outputId": "ca13f6c5-6339-459f-def3-c8726414ac40"
      }
    },
    {
      "cell_type": "markdown",
      "source": [
        "# T5"
      ],
      "metadata": {
        "id": "NTmv19zNL60Y"
      }
    },
    {
      "cell_type": "code",
      "execution_count": null,
      "source": [
        "from transformers import T5Config, T5ForConditionalGeneration, T5Tokenizer\n",
        "\n",
        "device = 'cuda:0' if torch.cuda.is_available else 'cpu'\n",
        "config = T5Config.from_pretrained('t5-large')\n",
        "model = T5ForConditionalGeneration.from_pretrained('t5-large').to(device)\n",
        "tokenizer = T5Tokenizer.from_pretrained('t5-large')"
      ],
      "outputs": [],
      "metadata": {}
    },
    {
      "cell_type": "code",
      "execution_count": null,
      "source": [
        "test_df = df[:3]"
      ],
      "outputs": [],
      "metadata": {
        "id": "25DWe5K9L60Y"
      }
    },
    {
      "cell_type": "code",
      "execution_count": null,
      "source": [
        "test_df"
      ],
      "outputs": [
        {
          "output_type": "execute_result",
          "data": {
            "text/plain": [
              "                                            bulletin              type  \\\n",
              "0  businessindustryandtrade/business/businessserv...  date_and_percent   \n",
              "1  businessindustryandtrade/business/businessserv...  date_and_percent   \n",
              "2  businessindustryandtrade/business/businessserv...  date_and_percent   \n",
              "\n",
              "                                               point  \\\n",
              "0  In 2019, approximate gross value added at basi...   \n",
              "1  The non-financial services sector, which accou...   \n",
              "2  Total turnover and purchases of the UK non-fin...   \n",
              "\n",
              "                                                data  \n",
              "0  [/businessindustryandtrade/business/businessse...  \n",
              "1  [/businessindustryandtrade/business/businessse...  \n",
              "2  [/businessindustryandtrade/business/businessse...  "
            ],
            "text/html": [
              "<div>\n",
              "<style scoped>\n",
              "    .dataframe tbody tr th:only-of-type {\n",
              "        vertical-align: middle;\n",
              "    }\n",
              "\n",
              "    .dataframe tbody tr th {\n",
              "        vertical-align: top;\n",
              "    }\n",
              "\n",
              "    .dataframe thead th {\n",
              "        text-align: right;\n",
              "    }\n",
              "</style>\n",
              "<table border=\"1\" class=\"dataframe\">\n",
              "  <thead>\n",
              "    <tr style=\"text-align: right;\">\n",
              "      <th></th>\n",
              "      <th>bulletin</th>\n",
              "      <th>type</th>\n",
              "      <th>point</th>\n",
              "      <th>data</th>\n",
              "    </tr>\n",
              "  </thead>\n",
              "  <tbody>\n",
              "    <tr>\n",
              "      <th>0</th>\n",
              "      <td>businessindustryandtrade/business/businessserv...</td>\n",
              "      <td>date_and_percent</td>\n",
              "      <td>In 2019, approximate gross value added at basi...</td>\n",
              "      <td>[/businessindustryandtrade/business/businessse...</td>\n",
              "    </tr>\n",
              "    <tr>\n",
              "      <th>1</th>\n",
              "      <td>businessindustryandtrade/business/businessserv...</td>\n",
              "      <td>date_and_percent</td>\n",
              "      <td>The non-financial services sector, which accou...</td>\n",
              "      <td>[/businessindustryandtrade/business/businessse...</td>\n",
              "    </tr>\n",
              "    <tr>\n",
              "      <th>2</th>\n",
              "      <td>businessindustryandtrade/business/businessserv...</td>\n",
              "      <td>date_and_percent</td>\n",
              "      <td>Total turnover and purchases of the UK non-fin...</td>\n",
              "      <td>[/businessindustryandtrade/business/businessse...</td>\n",
              "    </tr>\n",
              "  </tbody>\n",
              "</table>\n",
              "</div>"
            ]
          },
          "metadata": {
            "tags": []
          },
          "execution_count": 6
        }
      ],
      "metadata": {
        "id": "4MEWf-3vL60Y",
        "outputId": "1f40aaf8-e0cf-420e-e292-4e9c749c591b"
      }
    },
    {
      "cell_type": "code",
      "execution_count": null,
      "source": [
        "results, entity_set, entities = run_language_model(test_df, model, tokenizer, True)"
      ],
      "outputs": [
        {
          "output_type": "stream",
          "name": "stderr",
          "text": [
            "100%|██████████| 3/3 [00:12<00:00,  4.02s/it]\n"
          ]
        }
      ],
      "metadata": {
        "id": "GAraTBL3L60Y",
        "outputId": "31e2095f-bbd9-4d6c-ad69-8491d9fb8d09"
      }
    },
    {
      "cell_type": "code",
      "execution_count": null,
      "source": [
        "results"
      ],
      "outputs": [
        {
          "output_type": "execute_result",
          "data": {
            "text/plain": [
              "[[(' 2019',\n",
              "   0.535437285900116,\n",
              "   '2019',\n",
              "   0,\n",
              "   'ccf75a2c157eacc5253f0e8a55b1ded9f5386d58'),\n",
              "  (' £88 USD. USD billion',\n",
              "   0.0005502063581090165,\n",
              "   '£1,313.9 billion',\n",
              "   0,\n",
              "   'fc3346f2545ca5059bdb5150b998300c5001bea5'),\n",
              "  (' £.bn.n',\n",
              "   0.004800118851458449,\n",
              "   '£42.8 billion',\n",
              "   0,\n",
              "   '81aa32270d547a368e7b806646c72069ba4fac43'),\n",
              "  (' (aVA ',\n",
              "   0.09505190574222439,\n",
              "   '3.4%',\n",
              "   0,\n",
              "   'f308eb661ad1d6c8021cf9e22d8e8c7d9c5ff50e'),\n",
              "  (' 2018',\n",
              "   0.8733205199241638,\n",
              "   '2018',\n",
              "   0,\n",
              "   '0a0bcf4b990f1926bc87fa662badadaf7e23d5fa')],\n",
              " [],\n",
              " [(' £,,,,, billion',\n",
              "   0.49165046830007253,\n",
              "   '£4,101.5 billion',\n",
              "   2,\n",
              "   '0ff2c435e1d192045540e12b44315fa61592a451'),\n",
              "  (' £ in in billion in 2019 2020,',\n",
              "   0.02682128286122674,\n",
              "   '£2,761.4 billion',\n",
              "   2,\n",
              "   '1226559ad975ee3d495c004eb469d294d87bfd5d'),\n",
              "  ('. sterling pounds billion sterling',\n",
              "   0.06919503927726445,\n",
              "   '£70.5 billion',\n",
              "   2,\n",
              "   '8444327426fe4840ba8daa1f5058bba3bee0eb42'),\n",
              "  (' (.% respectively',\n",
              "   0.15373660986963208,\n",
              "   '1.7%',\n",
              "   2,\n",
              "   'ee292c95bfec63841e1eb11786ced73e918660d2'),\n",
              "  (' £. respectivelybillion respectively',\n",
              "   0.3597143611327395,\n",
              "   '£25.8 billion',\n",
              "   2,\n",
              "   '77dba42f4d1dc71cdb22ee150a8c571b17e32933'),\n",
              "  (' ( respectively respectively respectively',\n",
              "   0.6253519461952592,\n",
              "   '0.9%',\n",
              "   2,\n",
              "   'ccf1fbb18bb999cc4bc5842dd377172491cb2225'),\n",
              "  (' 2016',\n",
              "   0.44418177008628845,\n",
              "   '2018',\n",
              "   2,\n",
              "   'ac08df12a167d58e86d2c1bf70b1e021344eec2f')]]"
            ]
          },
          "metadata": {
            "tags": []
          },
          "execution_count": 8
        }
      ],
      "metadata": {
        "id": "t13XGQMiL60Y",
        "outputId": "ac701019-d1d3-4f4a-9332-6c730302dadd"
      }
    },
    {
      "cell_type": "markdown",
      "source": [
        "- need to sort out how the answer_given / final_answer is sorted because it seems its wrong\n",
        "- should think about all these repetitive predictions (respectively x3 etc)\n",
        "- should fix that trailing whitespace before mask"
      ],
      "metadata": {
        "id": "IIYstfOHL60Y"
      }
    }
  ]
}