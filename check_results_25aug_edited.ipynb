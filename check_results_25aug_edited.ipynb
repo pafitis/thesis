{
 "cells": [
  {
   "cell_type": "code",
   "execution_count": 2,
   "source": [
    "import numpy as np\n",
    "import pandas as pd\n",
    "import json, os, sys"
   ],
   "outputs": [],
   "metadata": {}
  },
  {
   "cell_type": "markdown",
   "source": [
    "# SECTION TO CORRECT ISSUE I HAD WITH JSON FILES\n",
    "\n",
    "## THIS IS NOW FIXED PLEASE JUST LOAD THE CLEAN FILES. CODE BELOW"
   ],
   "metadata": {}
  },
  {
   "cell_type": "code",
   "execution_count": 2,
   "source": [
    "bert_results = pd.read_json('results/bert_results_25august.json')\n",
    "roberta_results = pd.read_json('results/roberta_results_25august.json')\n",
    "t5_results = pd.read_json('results/t5_results_25august.json')"
   ],
   "outputs": [],
   "metadata": {}
  },
  {
   "cell_type": "markdown",
   "source": [
    "# NOTE\n",
    "\n",
    "The results as-is from Colab have some issues due to the way I have constructed them. \n",
    "\n",
    "- Please CTRL-F and look for `\"][\"`. Replace with `\"],[\"`\n",
    "- Please insert an opening square bracket at start, and a closing one at the end. (enclose the whole contents into square brackets.)\n",
    "\n",
    "These two steps fix the issues and can be read with `pd.read_json()`"
   ],
   "metadata": {}
  },
  {
   "cell_type": "code",
   "execution_count": 3,
   "source": [
    "final_dfs = []\n",
    "for df in [bert_results, roberta_results]:\n",
    "    all_vals = []\n",
    "    for _, row in df.stack().to_frame().droplevel(1).iterrows():\n",
    "        values = row.values\n",
    "        for val in values:\n",
    "            for item in val:\n",
    "                if val is not None:\n",
    "                    all_vals.append(item)\n",
    "    final_dfs.append(all_vals)\n",
    "\n",
    "for df in [t5_results]:\n",
    "    all_vals = []\n",
    "    for _, row in df.stack().to_frame().droplevel(1).iterrows():\n",
    "        values = row.values\n",
    "        all_vals.append(values[0])\n",
    "    final_dfs.append(all_vals)"
   ],
   "outputs": [],
   "metadata": {}
  },
  {
   "cell_type": "code",
   "execution_count": 19,
   "source": [
    "bert_results, roberta_results, t5_results = pd.DataFrame(\n",
    "    final_dfs[0]), pd.DataFrame(final_dfs[1]), pd.DataFrame(final_dfs[2])\n",
    "\n",
    "for df in [bert_results, roberta_results, t5_results]:\n",
    "    df['processed_answer'] = df['answer'].apply(lambda x: str(x).lower())\n",
    "    df['processed_pred'] = df['token_str'].apply(lambda x: str(x).lower().strip())\n",
    "    df['correct'] = np.where(df['processed_answer'] == df['processed_pred'], 1, 0)"
   ],
   "outputs": [],
   "metadata": {}
  },
  {
   "cell_type": "code",
   "execution_count": 20,
   "source": [
    "bert_results.to_json('results/bert_results_25august_clean.json')\n",
    "roberta_results.to_json('results/roberta_results_25august_clean.json')\n",
    "t5_results.to_json('results/t5_results_25august_clean.json')"
   ],
   "outputs": [],
   "metadata": {}
  },
  {
   "cell_type": "markdown",
   "source": [
    "# CLEAN VERSIONS"
   ],
   "metadata": {}
  },
  {
   "cell_type": "code",
   "execution_count": 37,
   "source": [
    "bert_results = pd.read_json('results/bert_results_25august_clean.json')\n",
    "roberta_results = pd.read_json('results/roberta_results_25august_clean.json')\n",
    "t5_results = pd.read_json('results/t5_results_25august_clean.json')"
   ],
   "outputs": [],
   "metadata": {}
  },
  {
   "cell_type": "code",
   "execution_count": 25,
   "source": [
    "bert_first_correct = bert_results.groupby('ids').first().correct.sum()\n",
    "roberta_first_correct = roberta_results.groupby('ids').first().correct.sum()\n",
    "t5_first_correct = t5_results.groupby('ids').first().correct.sum()\n",
    "\n",
    "print(\n",
    "    f\"Bert BASE results, first prediction correct: {bert_first_correct} out of 6070; ({bert_first_correct / 60.70})\")\n",
    "print(\n",
    "    f\"RoBERTa BASE results, first prediction correct: {roberta_first_correct} out of 6070; ({roberta_first_correct/60.70}) \")\n",
    "print(\n",
    "    f\"T5 BASE results, first prediction correct: {t5_first_correct} out of 6070; ({t5_first_correct/60.70})\")"
   ],
   "outputs": [
    {
     "output_type": "stream",
     "name": "stdout",
     "text": [
      "Bert results, first prediction correct: 507 out of 6070; (8.352553542009884)\n",
      "RoBERTa results, first prediction correct: 679 out of 6070; (11.186161449752882) \n",
      "T5 results, first prediction correct: 600 out of 6070; (9.884678747940692)\n"
     ]
    }
   ],
   "metadata": {}
  },
  {
   "cell_type": "code",
   "execution_count": 26,
   "source": [
    "bert_any_correct = bert_results.groupby('ids').any().correct.sum()\n",
    "roberta_any_correct = roberta_results.groupby('ids').any().correct.sum()\n",
    "t5_any_correct = t5_results.groupby('ids').any().correct.sum()\n",
    "\n",
    "print(\n",
    "    f\"Bert results, any prediction correct: {bert_any_correct} out of 6070; ({bert_any_correct / 60.70})\")\n",
    "print(\n",
    "    f\"RoBERTa results, any prediction correct: {roberta_any_correct} out of 6070; ({roberta_any_correct/60.70}) \")\n",
    "print(\n",
    "    f\"T5 results, any prediction correct: {t5_any_correct} out of 6070; ({t5_any_correct/60.70})\")"
   ],
   "outputs": [
    {
     "output_type": "stream",
     "name": "stdout",
     "text": [
      "Bert results, any prediction correct: 795 out of 6070; (13.097199341021415)\n",
      "RoBERTa results, any prediction correct: 1052 out of 6070; (17.331136738056014) \n",
      "T5 results, any prediction correct: 891 out of 6070; (14.678747940691927)\n"
     ]
    }
   ],
   "metadata": {}
  },
  {
   "cell_type": "markdown",
   "source": [
    "# NOW CHECKING VERSIONS OF LARGE MODEL VARIANTS"
   ],
   "metadata": {}
  },
  {
   "cell_type": "code",
   "execution_count": 4,
   "source": [
    "bert_large = pd.read_json('results/bert_large_results_29august.json')\n",
    "roberta_large = pd.read_json('results/roberta_large_results_29august.json')\n",
    "t5_large = pd.read_json('results/t5_large_results_29august.json')"
   ],
   "outputs": [],
   "metadata": {}
  },
  {
   "cell_type": "code",
   "execution_count": 31,
   "source": [
    "final_dfs = []\n",
    "for df in [bert_large, roberta_large]:\n",
    "    all_vals = []\n",
    "    for _, row in df.stack().to_frame().droplevel(1).iterrows():\n",
    "        values = row.values\n",
    "        for val in values:\n",
    "            for item in val:\n",
    "                if val is not None:\n",
    "                    all_vals.append(item)\n",
    "    final_dfs.append(all_vals)\n",
    "\n",
    "for df in [t5_large]:\n",
    "    all_vals = []\n",
    "    for _, row in df.stack().to_frame().droplevel(1).iterrows():\n",
    "        values = row.values\n",
    "        all_vals.append(values[0])\n",
    "    final_dfs.append(all_vals)"
   ],
   "outputs": [],
   "metadata": {}
  },
  {
   "cell_type": "code",
   "execution_count": 33,
   "source": [
    "bert_large_results, roberta_large_results, t5_large_results = \\\n",
    "    pd.DataFrame(final_dfs[0]), pd.DataFrame(final_dfs[1]), pd.DataFrame(final_dfs[2])\n",
    "\n",
    "\n",
    "for df in [bert_large_results, roberta_large_results, t5_large_results]:\n",
    "    df['processed_answer'] = df['answer'].apply(lambda x: str(x).lower())\n",
    "    df['processed_pred'] = df['token_str'].apply(lambda x: str(x).lower().strip())\n",
    "    df['correct'] = np.where(df['processed_answer'] == df['processed_pred'], 1, 0)"
   ],
   "outputs": [],
   "metadata": {}
  },
  {
   "cell_type": "markdown",
   "source": [
    "## CLEAN VERSION"
   ],
   "metadata": {}
  },
  {
   "cell_type": "code",
   "execution_count": 38,
   "source": [
    "bert_large_results.to_json('results/bert_large_29august_clean.json')\n",
    "roberta_large_results.to_json('results/roberta_large_29august_clean.json')\n",
    "t5_large_results.to_json('results/t5_large_29august_clean.json')"
   ],
   "outputs": [],
   "metadata": {}
  },
  {
   "cell_type": "code",
   "execution_count": 35,
   "source": [
    "bert_large_first_correct = bert_large_results.groupby('ids').first().correct.sum()\n",
    "roberta_large_first_correct = roberta_large_results.groupby('ids').first().correct.sum()\n",
    "t5_large_first_correct = t5_large_results.groupby('ids').first().correct.sum()\n",
    "\n",
    "print(\n",
    "    f\"Bert LARGE results, first prediction correct: {bert_large_first_correct} out of 6070; ({bert_large_first_correct / 60.70})\")\n",
    "print(\n",
    "    f\"RoBERTa LARGE results, first prediction correct: {roberta_large_first_correct} out of 6070; ({roberta_large_first_correct/60.70}) \")\n",
    "print(\n",
    "    f\"T5 LARGE results, first prediction correct: {t5_large_first_correct} out of 6070; ({t5_large_first_correct/60.70})\")"
   ],
   "outputs": [
    {
     "output_type": "stream",
     "name": "stdout",
     "text": [
      "Bert LARGE results, first prediction correct: 604 out of 6070; (9.950576606260297)\n",
      "RoBERTa LARGE results, first prediction correct: 752 out of 6070; (12.388797364085667) \n",
      "T5 LARGE results, first prediction correct: 812 out of 6070; (13.377265238879735)\n"
     ]
    }
   ],
   "metadata": {}
  },
  {
   "cell_type": "code",
   "execution_count": 36,
   "source": [
    "bert_large_any_correct = bert_large_results.groupby('ids').any().correct.sum()\n",
    "roberta_large_any_correct = roberta_large_results.groupby('ids').any().correct.sum()\n",
    "t5_large_any_correct = t5_large_results.groupby('ids').any().correct.sum()\n",
    "\n",
    "print(\n",
    "    f\"Bert LARGE results, any prediction correct: {bert_large_any_correct} out of 6070; ({bert_large_any_correct / 60.70})\")\n",
    "print(\n",
    "    f\"RoBERTa LARGE results, any prediction correct: {roberta_large_any_correct} out of 6070; ({roberta_large_any_correct/60.70}) \")\n",
    "print(\n",
    "    f\"T5 LARGE results, any prediction correct: {t5_large_any_correct} out of 6070; ({t5_large_any_correct/60.70})\")"
   ],
   "outputs": [
    {
     "output_type": "stream",
     "name": "stdout",
     "text": [
      "Bert LARGE results, any prediction correct: 907 out of 6070; (14.942339373970345)\n",
      "RoBERTa LARGE results, any prediction correct: 1112 out of 6070; (18.319604612850082) \n",
      "T5 LARGE results, any prediction correct: 1217 out of 6070; (20.0494233937397)\n"
     ]
    }
   ],
   "metadata": {}
  }
 ],
 "metadata": {
  "orig_nbformat": 4,
  "language_info": {
   "name": "python",
   "version": "3.9.2",
   "mimetype": "text/x-python",
   "codemirror_mode": {
    "name": "ipython",
    "version": 3
   },
   "pygments_lexer": "ipython3",
   "nbconvert_exporter": "python",
   "file_extension": ".py"
  },
  "kernelspec": {
   "name": "python3",
   "display_name": "Python 3.9.2 64-bit ('comp0087': conda)"
  },
  "interpreter": {
   "hash": "6b9679e1c6c858221750b0560d352a46169916bc602dce44bbd2a48d631c8c5d"
  }
 },
 "nbformat": 4,
 "nbformat_minor": 2
}