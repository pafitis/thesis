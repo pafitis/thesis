{
  "nbformat": 4,
  "nbformat_minor": 0,
  "metadata": {
    "interpreter": {
      "hash": "6b9679e1c6c858221750b0560d352a46169916bc602dce44bbd2a48d631c8c5d"
    },
    "kernelspec": {
      "display_name": "Python 3.9.2 64-bit ('comp0087': conda)",
      "name": "python3"
    },
    "language_info": {
      "codemirror_mode": {
        "name": "ipython",
        "version": 3
      },
      "file_extension": ".py",
      "mimetype": "text/x-python",
      "name": "python",
      "nbconvert_exporter": "python",
      "pygments_lexer": "ipython3",
      "version": "3.9.2"
    },
    "orig_nbformat": 4,
    "colab": {
      "name": "multitoken_languagemodel.ipynb",
      "provenance": []
    },
    "accelerator": "GPU",
    "widgets": {
      "application/vnd.jupyter.widget-state+json": {
        "69c380da91994dadb0b7de873fbca926": {
          "model_module": "@jupyter-widgets/controls",
          "model_name": "HBoxModel",
          "state": {
            "_view_name": "HBoxView",
            "_dom_classes": [],
            "_model_name": "HBoxModel",
            "_view_module": "@jupyter-widgets/controls",
            "_model_module_version": "1.5.0",
            "_view_count": null,
            "_view_module_version": "1.5.0",
            "box_style": "",
            "layout": "IPY_MODEL_3aa4e6f356524c1882f625afaedef063",
            "_model_module": "@jupyter-widgets/controls",
            "children": [
              "IPY_MODEL_e0b2b54058c949debd330f09bb5bf087",
              "IPY_MODEL_d3cf1bf7dd2243b79cd34db1255ecbff"
            ]
          }
        },
        "3aa4e6f356524c1882f625afaedef063": {
          "model_module": "@jupyter-widgets/base",
          "model_name": "LayoutModel",
          "state": {
            "_view_name": "LayoutView",
            "grid_template_rows": null,
            "right": null,
            "justify_content": null,
            "_view_module": "@jupyter-widgets/base",
            "overflow": null,
            "_model_module_version": "1.2.0",
            "_view_count": null,
            "flex_flow": null,
            "width": null,
            "min_width": null,
            "border": null,
            "align_items": null,
            "bottom": null,
            "_model_module": "@jupyter-widgets/base",
            "top": null,
            "grid_column": null,
            "overflow_y": null,
            "overflow_x": null,
            "grid_auto_flow": null,
            "grid_area": null,
            "grid_template_columns": null,
            "flex": null,
            "_model_name": "LayoutModel",
            "justify_items": null,
            "grid_row": null,
            "max_height": null,
            "align_content": null,
            "visibility": null,
            "align_self": null,
            "height": null,
            "min_height": null,
            "padding": null,
            "grid_auto_rows": null,
            "grid_gap": null,
            "max_width": null,
            "order": null,
            "_view_module_version": "1.2.0",
            "grid_template_areas": null,
            "object_position": null,
            "object_fit": null,
            "grid_auto_columns": null,
            "margin": null,
            "display": null,
            "left": null
          }
        },
        "e0b2b54058c949debd330f09bb5bf087": {
          "model_module": "@jupyter-widgets/controls",
          "model_name": "FloatProgressModel",
          "state": {
            "_view_name": "ProgressView",
            "style": "IPY_MODEL_6177a0ab6367480fa3241c0a2fcedf9d",
            "_dom_classes": [],
            "description": "Downloading: 100%",
            "_model_name": "FloatProgressModel",
            "bar_style": "success",
            "max": 791656,
            "_view_module": "@jupyter-widgets/controls",
            "_model_module_version": "1.5.0",
            "value": 791656,
            "_view_count": null,
            "_view_module_version": "1.5.0",
            "orientation": "horizontal",
            "min": 0,
            "description_tooltip": null,
            "_model_module": "@jupyter-widgets/controls",
            "layout": "IPY_MODEL_03cbd5404e9a470c82d1387f982f54e4"
          }
        },
        "d3cf1bf7dd2243b79cd34db1255ecbff": {
          "model_module": "@jupyter-widgets/controls",
          "model_name": "HTMLModel",
          "state": {
            "_view_name": "HTMLView",
            "style": "IPY_MODEL_202a410fae80491e8a91c2c97e4b525e",
            "_dom_classes": [],
            "description": "",
            "_model_name": "HTMLModel",
            "placeholder": "​",
            "_view_module": "@jupyter-widgets/controls",
            "_model_module_version": "1.5.0",
            "value": " 792k/792k [00:01&lt;00:00, 422kB/s]",
            "_view_count": null,
            "_view_module_version": "1.5.0",
            "description_tooltip": null,
            "_model_module": "@jupyter-widgets/controls",
            "layout": "IPY_MODEL_99aa211eba2a45c8848c123edd170670"
          }
        },
        "6177a0ab6367480fa3241c0a2fcedf9d": {
          "model_module": "@jupyter-widgets/controls",
          "model_name": "ProgressStyleModel",
          "state": {
            "_view_name": "StyleView",
            "_model_name": "ProgressStyleModel",
            "description_width": "initial",
            "_view_module": "@jupyter-widgets/base",
            "_model_module_version": "1.5.0",
            "_view_count": null,
            "_view_module_version": "1.2.0",
            "bar_color": null,
            "_model_module": "@jupyter-widgets/controls"
          }
        },
        "03cbd5404e9a470c82d1387f982f54e4": {
          "model_module": "@jupyter-widgets/base",
          "model_name": "LayoutModel",
          "state": {
            "_view_name": "LayoutView",
            "grid_template_rows": null,
            "right": null,
            "justify_content": null,
            "_view_module": "@jupyter-widgets/base",
            "overflow": null,
            "_model_module_version": "1.2.0",
            "_view_count": null,
            "flex_flow": null,
            "width": null,
            "min_width": null,
            "border": null,
            "align_items": null,
            "bottom": null,
            "_model_module": "@jupyter-widgets/base",
            "top": null,
            "grid_column": null,
            "overflow_y": null,
            "overflow_x": null,
            "grid_auto_flow": null,
            "grid_area": null,
            "grid_template_columns": null,
            "flex": null,
            "_model_name": "LayoutModel",
            "justify_items": null,
            "grid_row": null,
            "max_height": null,
            "align_content": null,
            "visibility": null,
            "align_self": null,
            "height": null,
            "min_height": null,
            "padding": null,
            "grid_auto_rows": null,
            "grid_gap": null,
            "max_width": null,
            "order": null,
            "_view_module_version": "1.2.0",
            "grid_template_areas": null,
            "object_position": null,
            "object_fit": null,
            "grid_auto_columns": null,
            "margin": null,
            "display": null,
            "left": null
          }
        },
        "202a410fae80491e8a91c2c97e4b525e": {
          "model_module": "@jupyter-widgets/controls",
          "model_name": "DescriptionStyleModel",
          "state": {
            "_view_name": "StyleView",
            "_model_name": "DescriptionStyleModel",
            "description_width": "",
            "_view_module": "@jupyter-widgets/base",
            "_model_module_version": "1.5.0",
            "_view_count": null,
            "_view_module_version": "1.2.0",
            "_model_module": "@jupyter-widgets/controls"
          }
        },
        "99aa211eba2a45c8848c123edd170670": {
          "model_module": "@jupyter-widgets/base",
          "model_name": "LayoutModel",
          "state": {
            "_view_name": "LayoutView",
            "grid_template_rows": null,
            "right": null,
            "justify_content": null,
            "_view_module": "@jupyter-widgets/base",
            "overflow": null,
            "_model_module_version": "1.2.0",
            "_view_count": null,
            "flex_flow": null,
            "width": null,
            "min_width": null,
            "border": null,
            "align_items": null,
            "bottom": null,
            "_model_module": "@jupyter-widgets/base",
            "top": null,
            "grid_column": null,
            "overflow_y": null,
            "overflow_x": null,
            "grid_auto_flow": null,
            "grid_area": null,
            "grid_template_columns": null,
            "flex": null,
            "_model_name": "LayoutModel",
            "justify_items": null,
            "grid_row": null,
            "max_height": null,
            "align_content": null,
            "visibility": null,
            "align_self": null,
            "height": null,
            "min_height": null,
            "padding": null,
            "grid_auto_rows": null,
            "grid_gap": null,
            "max_width": null,
            "order": null,
            "_view_module_version": "1.2.0",
            "grid_template_areas": null,
            "object_position": null,
            "object_fit": null,
            "grid_auto_columns": null,
            "margin": null,
            "display": null,
            "left": null
          }
        },
        "37f2f01bed3f4a388adf5bc6e92d4517": {
          "model_module": "@jupyter-widgets/controls",
          "model_name": "HBoxModel",
          "state": {
            "_view_name": "HBoxView",
            "_dom_classes": [],
            "_model_name": "HBoxModel",
            "_view_module": "@jupyter-widgets/controls",
            "_model_module_version": "1.5.0",
            "_view_count": null,
            "_view_module_version": "1.5.0",
            "box_style": "",
            "layout": "IPY_MODEL_82f71f6808fe49c2a7453ebcf8964f55",
            "_model_module": "@jupyter-widgets/controls",
            "children": [
              "IPY_MODEL_aef32f38dd384a62aa3635e44e425321",
              "IPY_MODEL_f98c2a1373ce43d890a088e8201c91f1"
            ]
          }
        },
        "82f71f6808fe49c2a7453ebcf8964f55": {
          "model_module": "@jupyter-widgets/base",
          "model_name": "LayoutModel",
          "state": {
            "_view_name": "LayoutView",
            "grid_template_rows": null,
            "right": null,
            "justify_content": null,
            "_view_module": "@jupyter-widgets/base",
            "overflow": null,
            "_model_module_version": "1.2.0",
            "_view_count": null,
            "flex_flow": null,
            "width": null,
            "min_width": null,
            "border": null,
            "align_items": null,
            "bottom": null,
            "_model_module": "@jupyter-widgets/base",
            "top": null,
            "grid_column": null,
            "overflow_y": null,
            "overflow_x": null,
            "grid_auto_flow": null,
            "grid_area": null,
            "grid_template_columns": null,
            "flex": null,
            "_model_name": "LayoutModel",
            "justify_items": null,
            "grid_row": null,
            "max_height": null,
            "align_content": null,
            "visibility": null,
            "align_self": null,
            "height": null,
            "min_height": null,
            "padding": null,
            "grid_auto_rows": null,
            "grid_gap": null,
            "max_width": null,
            "order": null,
            "_view_module_version": "1.2.0",
            "grid_template_areas": null,
            "object_position": null,
            "object_fit": null,
            "grid_auto_columns": null,
            "margin": null,
            "display": null,
            "left": null
          }
        },
        "aef32f38dd384a62aa3635e44e425321": {
          "model_module": "@jupyter-widgets/controls",
          "model_name": "FloatProgressModel",
          "state": {
            "_view_name": "ProgressView",
            "style": "IPY_MODEL_20dd43e216754eb1a1259c4c986e1574",
            "_dom_classes": [],
            "description": "Downloading: 100%",
            "_model_name": "FloatProgressModel",
            "bar_style": "success",
            "max": 1389353,
            "_view_module": "@jupyter-widgets/controls",
            "_model_module_version": "1.5.0",
            "value": 1389353,
            "_view_count": null,
            "_view_module_version": "1.5.0",
            "orientation": "horizontal",
            "min": 0,
            "description_tooltip": null,
            "_model_module": "@jupyter-widgets/controls",
            "layout": "IPY_MODEL_7a7f83b8faea4f3f8b77ffe0b83bfb8c"
          }
        },
        "f98c2a1373ce43d890a088e8201c91f1": {
          "model_module": "@jupyter-widgets/controls",
          "model_name": "HTMLModel",
          "state": {
            "_view_name": "HTMLView",
            "style": "IPY_MODEL_ab207de05a7944fa893ff3d573575f5a",
            "_dom_classes": [],
            "description": "",
            "_model_name": "HTMLModel",
            "placeholder": "​",
            "_view_module": "@jupyter-widgets/controls",
            "_model_module_version": "1.5.0",
            "value": " 1.39M/1.39M [00:05&lt;00:00, 262kB/s]",
            "_view_count": null,
            "_view_module_version": "1.5.0",
            "description_tooltip": null,
            "_model_module": "@jupyter-widgets/controls",
            "layout": "IPY_MODEL_100de66730034d30aed93073cefb382f"
          }
        },
        "20dd43e216754eb1a1259c4c986e1574": {
          "model_module": "@jupyter-widgets/controls",
          "model_name": "ProgressStyleModel",
          "state": {
            "_view_name": "StyleView",
            "_model_name": "ProgressStyleModel",
            "description_width": "initial",
            "_view_module": "@jupyter-widgets/base",
            "_model_module_version": "1.5.0",
            "_view_count": null,
            "_view_module_version": "1.2.0",
            "bar_color": null,
            "_model_module": "@jupyter-widgets/controls"
          }
        },
        "7a7f83b8faea4f3f8b77ffe0b83bfb8c": {
          "model_module": "@jupyter-widgets/base",
          "model_name": "LayoutModel",
          "state": {
            "_view_name": "LayoutView",
            "grid_template_rows": null,
            "right": null,
            "justify_content": null,
            "_view_module": "@jupyter-widgets/base",
            "overflow": null,
            "_model_module_version": "1.2.0",
            "_view_count": null,
            "flex_flow": null,
            "width": null,
            "min_width": null,
            "border": null,
            "align_items": null,
            "bottom": null,
            "_model_module": "@jupyter-widgets/base",
            "top": null,
            "grid_column": null,
            "overflow_y": null,
            "overflow_x": null,
            "grid_auto_flow": null,
            "grid_area": null,
            "grid_template_columns": null,
            "flex": null,
            "_model_name": "LayoutModel",
            "justify_items": null,
            "grid_row": null,
            "max_height": null,
            "align_content": null,
            "visibility": null,
            "align_self": null,
            "height": null,
            "min_height": null,
            "padding": null,
            "grid_auto_rows": null,
            "grid_gap": null,
            "max_width": null,
            "order": null,
            "_view_module_version": "1.2.0",
            "grid_template_areas": null,
            "object_position": null,
            "object_fit": null,
            "grid_auto_columns": null,
            "margin": null,
            "display": null,
            "left": null
          }
        },
        "ab207de05a7944fa893ff3d573575f5a": {
          "model_module": "@jupyter-widgets/controls",
          "model_name": "DescriptionStyleModel",
          "state": {
            "_view_name": "StyleView",
            "_model_name": "DescriptionStyleModel",
            "description_width": "",
            "_view_module": "@jupyter-widgets/base",
            "_model_module_version": "1.5.0",
            "_view_count": null,
            "_view_module_version": "1.2.0",
            "_model_module": "@jupyter-widgets/controls"
          }
        },
        "100de66730034d30aed93073cefb382f": {
          "model_module": "@jupyter-widgets/base",
          "model_name": "LayoutModel",
          "state": {
            "_view_name": "LayoutView",
            "grid_template_rows": null,
            "right": null,
            "justify_content": null,
            "_view_module": "@jupyter-widgets/base",
            "overflow": null,
            "_model_module_version": "1.2.0",
            "_view_count": null,
            "flex_flow": null,
            "width": null,
            "min_width": null,
            "border": null,
            "align_items": null,
            "bottom": null,
            "_model_module": "@jupyter-widgets/base",
            "top": null,
            "grid_column": null,
            "overflow_y": null,
            "overflow_x": null,
            "grid_auto_flow": null,
            "grid_area": null,
            "grid_template_columns": null,
            "flex": null,
            "_model_name": "LayoutModel",
            "justify_items": null,
            "grid_row": null,
            "max_height": null,
            "align_content": null,
            "visibility": null,
            "align_self": null,
            "height": null,
            "min_height": null,
            "padding": null,
            "grid_auto_rows": null,
            "grid_gap": null,
            "max_width": null,
            "order": null,
            "_view_module_version": "1.2.0",
            "grid_template_areas": null,
            "object_position": null,
            "object_fit": null,
            "grid_auto_columns": null,
            "margin": null,
            "display": null,
            "left": null
          }
        }
      }
    }
  },
  "cells": [
    {
      "cell_type": "code",
      "metadata": {
        "colab": {
          "base_uri": "https://localhost:8080/"
        },
        "id": "UDmCJSGnM1v8",
        "outputId": "53e24d34-f308-4286-acfe-60cbe7019d6c"
      },
      "source": [
        "from google.colab import drive\n",
        "drive.mount('/content/drive')\n",
        "% cd drive/MyDrive/thesis\n",
        "! git clone https://www.github.com/pafitis/thesis"
      ],
      "execution_count": 1,
      "outputs": [
        {
          "output_type": "stream",
          "text": [
            "Mounted at /content/drive\n",
            "[Errno 2] No such file or directory: 'drive/MyDrive/thesis'\n",
            "/content\n",
            "Cloning into 'thesis'...\n",
            "warning: redirecting to https://github.com/pafitis/thesis.git/\n",
            "remote: Enumerating objects: 242, done.\u001b[K\n",
            "remote: Counting objects: 100% (242/242), done.\u001b[K\n",
            "remote: Compressing objects: 100% (170/170), done.\u001b[K\n",
            "remote: Total 242 (delta 131), reused 173 (delta 63), pack-reused 0\u001b[K\n",
            "Receiving objects: 100% (242/242), 17.54 MiB | 23.82 MiB/s, done.\n",
            "Resolving deltas: 100% (131/131), done.\n"
          ],
          "name": "stdout"
        }
      ]
    },
    {
      "cell_type": "code",
      "metadata": {
        "id": "J9wDmN-JONQx",
        "colab": {
          "base_uri": "https://localhost:8080/"
        },
        "outputId": "26bcc059-e416-44cd-cad4-7170c03fbc22"
      },
      "source": [
        "! pip install spacy-nightly"
      ],
      "execution_count": 2,
      "outputs": [
        {
          "output_type": "stream",
          "text": [
            "Collecting spacy-nightly\n",
            "  Downloading spacy_nightly-3.0.0rc5-cp37-cp37m-manylinux2014_x86_64.whl (12.7 MB)\n",
            "\u001b[K     |████████████████████████████████| 12.7 MB 185 kB/s \n",
            "\u001b[?25hRequirement already satisfied: setuptools in /usr/local/lib/python3.7/dist-packages (from spacy-nightly) (57.2.0)\n",
            "Requirement already satisfied: blis<0.8.0,>=0.4.0 in /usr/local/lib/python3.7/dist-packages (from spacy-nightly) (0.4.1)\n",
            "Requirement already satisfied: cymem<2.1.0,>=2.0.2 in /usr/local/lib/python3.7/dist-packages (from spacy-nightly) (2.0.5)\n",
            "Collecting pathy\n",
            "  Downloading pathy-0.6.0-py3-none-any.whl (42 kB)\n",
            "\u001b[K     |████████████████████████████████| 42 kB 1.8 MB/s \n",
            "\u001b[?25hRequirement already satisfied: requests<3.0.0,>=2.13.0 in /usr/local/lib/python3.7/dist-packages (from spacy-nightly) (2.23.0)\n",
            "Requirement already satisfied: typing-extensions>=3.7.4 in /usr/local/lib/python3.7/dist-packages (from spacy-nightly) (3.7.4.3)\n",
            "Collecting spacy-legacy<3.1.0,>=3.0.0.dev0\n",
            "  Downloading spacy_legacy-3.0.8-py2.py3-none-any.whl (14 kB)\n",
            "Collecting srsly<3.0.0,>=2.3.0\n",
            "  Downloading srsly-2.4.1-cp37-cp37m-manylinux2014_x86_64.whl (456 kB)\n",
            "\u001b[K     |████████████████████████████████| 456 kB 67.7 MB/s \n",
            "\u001b[?25hCollecting catalogue<2.1.0,>=2.0.1\n",
            "  Downloading catalogue-2.0.4-py3-none-any.whl (16 kB)\n",
            "Collecting thinc<8.1.0,>=8.0.0\n",
            "  Downloading thinc-8.0.8-cp37-cp37m-manylinux_2_17_x86_64.manylinux2014_x86_64.whl (621 kB)\n",
            "\u001b[K     |████████████████████████████████| 621 kB 73.3 MB/s \n",
            "\u001b[?25hRequirement already satisfied: preshed<3.1.0,>=3.0.2 in /usr/local/lib/python3.7/dist-packages (from spacy-nightly) (3.0.5)\n",
            "Requirement already satisfied: jinja2 in /usr/local/lib/python3.7/dist-packages (from spacy-nightly) (2.11.3)\n",
            "Requirement already satisfied: numpy>=1.15.0 in /usr/local/lib/python3.7/dist-packages (from spacy-nightly) (1.19.5)\n",
            "Requirement already satisfied: murmurhash<1.1.0,>=0.28.0 in /usr/local/lib/python3.7/dist-packages (from spacy-nightly) (1.0.5)\n",
            "Collecting typer<0.4.0,>=0.3.0\n",
            "  Downloading typer-0.3.2-py3-none-any.whl (21 kB)\n",
            "Requirement already satisfied: importlib-metadata>=0.20 in /usr/local/lib/python3.7/dist-packages (from spacy-nightly) (4.6.1)\n",
            "Requirement already satisfied: packaging>=20.0 in /usr/local/lib/python3.7/dist-packages (from spacy-nightly) (21.0)\n",
            "Collecting pydantic<1.8.0,>=1.7.1\n",
            "  Downloading pydantic-1.7.4-cp37-cp37m-manylinux2014_x86_64.whl (9.1 MB)\n",
            "\u001b[K     |████████████████████████████████| 9.1 MB 13.8 MB/s \n",
            "\u001b[?25hRequirement already satisfied: tqdm<5.0.0,>=4.38.0 in /usr/local/lib/python3.7/dist-packages (from spacy-nightly) (4.41.1)\n",
            "Requirement already satisfied: wasabi<1.1.0,>=0.8.1 in /usr/local/lib/python3.7/dist-packages (from spacy-nightly) (0.8.2)\n",
            "Requirement already satisfied: zipp>=0.5 in /usr/local/lib/python3.7/dist-packages (from catalogue<2.1.0,>=2.0.1->spacy-nightly) (3.5.0)\n",
            "Requirement already satisfied: pyparsing>=2.0.2 in /usr/local/lib/python3.7/dist-packages (from packaging>=20.0->spacy-nightly) (2.4.7)\n",
            "Requirement already satisfied: certifi>=2017.4.17 in /usr/local/lib/python3.7/dist-packages (from requests<3.0.0,>=2.13.0->spacy-nightly) (2021.5.30)\n",
            "Requirement already satisfied: idna<3,>=2.5 in /usr/local/lib/python3.7/dist-packages (from requests<3.0.0,>=2.13.0->spacy-nightly) (2.10)\n",
            "Requirement already satisfied: urllib3!=1.25.0,!=1.25.1,<1.26,>=1.21.1 in /usr/local/lib/python3.7/dist-packages (from requests<3.0.0,>=2.13.0->spacy-nightly) (1.24.3)\n",
            "Requirement already satisfied: chardet<4,>=3.0.2 in /usr/local/lib/python3.7/dist-packages (from requests<3.0.0,>=2.13.0->spacy-nightly) (3.0.4)\n",
            "Requirement already satisfied: click<7.2.0,>=7.1.1 in /usr/local/lib/python3.7/dist-packages (from typer<0.4.0,>=0.3.0->spacy-nightly) (7.1.2)\n",
            "Requirement already satisfied: MarkupSafe>=0.23 in /usr/local/lib/python3.7/dist-packages (from jinja2->spacy-nightly) (2.0.1)\n",
            "Requirement already satisfied: smart-open<6.0.0,>=5.0.0 in /usr/local/lib/python3.7/dist-packages (from pathy->spacy-nightly) (5.1.0)\n",
            "Installing collected packages: catalogue, typer, srsly, pydantic, thinc, spacy-legacy, pathy, spacy-nightly\n",
            "  Attempting uninstall: catalogue\n",
            "    Found existing installation: catalogue 1.0.0\n",
            "    Uninstalling catalogue-1.0.0:\n",
            "      Successfully uninstalled catalogue-1.0.0\n",
            "  Attempting uninstall: srsly\n",
            "    Found existing installation: srsly 1.0.5\n",
            "    Uninstalling srsly-1.0.5:\n",
            "      Successfully uninstalled srsly-1.0.5\n",
            "  Attempting uninstall: thinc\n",
            "    Found existing installation: thinc 7.4.0\n",
            "    Uninstalling thinc-7.4.0:\n",
            "      Successfully uninstalled thinc-7.4.0\n",
            "\u001b[31mERROR: pip's dependency resolver does not currently take into account all the packages that are installed. This behaviour is the source of the following dependency conflicts.\n",
            "spacy 2.2.4 requires catalogue<1.1.0,>=0.0.7, but you have catalogue 2.0.4 which is incompatible.\n",
            "spacy 2.2.4 requires srsly<1.1.0,>=1.0.2, but you have srsly 2.4.1 which is incompatible.\n",
            "spacy 2.2.4 requires thinc==7.4.0, but you have thinc 8.0.8 which is incompatible.\u001b[0m\n",
            "Successfully installed catalogue-2.0.4 pathy-0.6.0 pydantic-1.7.4 spacy-legacy-3.0.8 spacy-nightly-3.0.0rc5 srsly-2.4.1 thinc-8.0.8 typer-0.3.2\n"
          ],
          "name": "stdout"
        }
      ]
    },
    {
      "cell_type": "code",
      "metadata": {
        "id": "RLzwyvcoNyCr",
        "colab": {
          "base_uri": "https://localhost:8080/"
        },
        "outputId": "f12b11f2-3a26-4043-f5d2-08c8225c5e4a"
      },
      "source": [
        "!python -m spacy download en_core_web_trf"
      ],
      "execution_count": 3,
      "outputs": [
        {
          "output_type": "stream",
          "text": [
            "2021-08-04 22:33:20.877353: I tensorflow/stream_executor/platform/default/dso_loader.cc:53] Successfully opened dynamic library libcudart.so.11.0\n",
            "Collecting en_core_web_trf==3.0.0\n",
            "  Downloading https://github.com/explosion/spacy-models/releases/download/en_core_web_trf-3.0.0/en_core_web_trf-3.0.0.tar.gz (459.7 MB)\n",
            "\u001b[K     |████████████████████████████████| 459.7 MB 1.2 MB/s \n",
            "\u001b[?25hCollecting spacy<3.1.0,>=3.0.0\n",
            "  Downloading spacy-3.0.7-cp37-cp37m-manylinux_2_17_x86_64.manylinux2014_x86_64.whl (6.3 MB)\n",
            "\u001b[K     |████████████████████████████████| 6.3 MB 7.0 MB/s \n",
            "\u001b[?25hCollecting spacy-transformers<1.1.0,>=1.0.0rc4\n",
            "  Downloading spacy_transformers-1.0.3-py2.py3-none-any.whl (39 kB)\n",
            "Requirement already satisfied: packaging>=20.0 in /usr/local/lib/python3.7/dist-packages (from spacy<3.1.0,>=3.0.0->en_core_web_trf==3.0.0) (21.0)\n",
            "Requirement already satisfied: setuptools in /usr/local/lib/python3.7/dist-packages (from spacy<3.1.0,>=3.0.0->en_core_web_trf==3.0.0) (57.2.0)\n",
            "Requirement already satisfied: blis<0.8.0,>=0.4.0 in /usr/local/lib/python3.7/dist-packages (from spacy<3.1.0,>=3.0.0->en_core_web_trf==3.0.0) (0.4.1)\n",
            "Requirement already satisfied: srsly<3.0.0,>=2.4.1 in /usr/local/lib/python3.7/dist-packages (from spacy<3.1.0,>=3.0.0->en_core_web_trf==3.0.0) (2.4.1)\n",
            "Requirement already satisfied: typer<0.4.0,>=0.3.0 in /usr/local/lib/python3.7/dist-packages (from spacy<3.1.0,>=3.0.0->en_core_web_trf==3.0.0) (0.3.2)\n",
            "Requirement already satisfied: jinja2 in /usr/local/lib/python3.7/dist-packages (from spacy<3.1.0,>=3.0.0->en_core_web_trf==3.0.0) (2.11.3)\n",
            "Requirement already satisfied: wasabi<1.1.0,>=0.8.1 in /usr/local/lib/python3.7/dist-packages (from spacy<3.1.0,>=3.0.0->en_core_web_trf==3.0.0) (0.8.2)\n",
            "Requirement already satisfied: requests<3.0.0,>=2.13.0 in /usr/local/lib/python3.7/dist-packages (from spacy<3.1.0,>=3.0.0->en_core_web_trf==3.0.0) (2.23.0)\n",
            "Requirement already satisfied: catalogue<2.1.0,>=2.0.4 in /usr/local/lib/python3.7/dist-packages (from spacy<3.1.0,>=3.0.0->en_core_web_trf==3.0.0) (2.0.4)\n",
            "Requirement already satisfied: thinc<8.1.0,>=8.0.3 in /usr/local/lib/python3.7/dist-packages (from spacy<3.1.0,>=3.0.0->en_core_web_trf==3.0.0) (8.0.8)\n",
            "Requirement already satisfied: murmurhash<1.1.0,>=0.28.0 in /usr/local/lib/python3.7/dist-packages (from spacy<3.1.0,>=3.0.0->en_core_web_trf==3.0.0) (1.0.5)\n",
            "Requirement already satisfied: pathy>=0.3.5 in /usr/local/lib/python3.7/dist-packages (from spacy<3.1.0,>=3.0.0->en_core_web_trf==3.0.0) (0.6.0)\n",
            "Requirement already satisfied: pydantic!=1.8,!=1.8.1,<1.9.0,>=1.7.4 in /usr/local/lib/python3.7/dist-packages (from spacy<3.1.0,>=3.0.0->en_core_web_trf==3.0.0) (1.7.4)\n",
            "Requirement already satisfied: typing-extensions<4.0.0.0,>=3.7.4 in /usr/local/lib/python3.7/dist-packages (from spacy<3.1.0,>=3.0.0->en_core_web_trf==3.0.0) (3.7.4.3)\n",
            "Requirement already satisfied: spacy-legacy<3.1.0,>=3.0.5 in /usr/local/lib/python3.7/dist-packages (from spacy<3.1.0,>=3.0.0->en_core_web_trf==3.0.0) (3.0.8)\n",
            "Requirement already satisfied: cymem<2.1.0,>=2.0.2 in /usr/local/lib/python3.7/dist-packages (from spacy<3.1.0,>=3.0.0->en_core_web_trf==3.0.0) (2.0.5)\n",
            "Requirement already satisfied: numpy>=1.15.0 in /usr/local/lib/python3.7/dist-packages (from spacy<3.1.0,>=3.0.0->en_core_web_trf==3.0.0) (1.19.5)\n",
            "Requirement already satisfied: tqdm<5.0.0,>=4.38.0 in /usr/local/lib/python3.7/dist-packages (from spacy<3.1.0,>=3.0.0->en_core_web_trf==3.0.0) (4.41.1)\n",
            "Requirement already satisfied: preshed<3.1.0,>=3.0.2 in /usr/local/lib/python3.7/dist-packages (from spacy<3.1.0,>=3.0.0->en_core_web_trf==3.0.0) (3.0.5)\n",
            "Requirement already satisfied: zipp>=0.5 in /usr/local/lib/python3.7/dist-packages (from catalogue<2.1.0,>=2.0.4->spacy<3.1.0,>=3.0.0->en_core_web_trf==3.0.0) (3.5.0)\n",
            "Requirement already satisfied: pyparsing>=2.0.2 in /usr/local/lib/python3.7/dist-packages (from packaging>=20.0->spacy<3.1.0,>=3.0.0->en_core_web_trf==3.0.0) (2.4.7)\n",
            "Requirement already satisfied: smart-open<6.0.0,>=5.0.0 in /usr/local/lib/python3.7/dist-packages (from pathy>=0.3.5->spacy<3.1.0,>=3.0.0->en_core_web_trf==3.0.0) (5.1.0)\n",
            "Requirement already satisfied: idna<3,>=2.5 in /usr/local/lib/python3.7/dist-packages (from requests<3.0.0,>=2.13.0->spacy<3.1.0,>=3.0.0->en_core_web_trf==3.0.0) (2.10)\n",
            "Requirement already satisfied: urllib3!=1.25.0,!=1.25.1,<1.26,>=1.21.1 in /usr/local/lib/python3.7/dist-packages (from requests<3.0.0,>=2.13.0->spacy<3.1.0,>=3.0.0->en_core_web_trf==3.0.0) (1.24.3)\n",
            "Requirement already satisfied: chardet<4,>=3.0.2 in /usr/local/lib/python3.7/dist-packages (from requests<3.0.0,>=2.13.0->spacy<3.1.0,>=3.0.0->en_core_web_trf==3.0.0) (3.0.4)\n",
            "Requirement already satisfied: certifi>=2017.4.17 in /usr/local/lib/python3.7/dist-packages (from requests<3.0.0,>=2.13.0->spacy<3.1.0,>=3.0.0->en_core_web_trf==3.0.0) (2021.5.30)\n",
            "Collecting transformers<4.7.0,>=3.4.0\n",
            "  Downloading transformers-4.6.1-py3-none-any.whl (2.2 MB)\n",
            "\u001b[K     |████████████████████████████████| 2.2 MB 67.5 MB/s \n",
            "\u001b[?25hRequirement already satisfied: torch>=1.5.0 in /usr/local/lib/python3.7/dist-packages (from spacy-transformers<1.1.0,>=1.0.0rc4->en_core_web_trf==3.0.0) (1.9.0+cu102)\n",
            "Collecting spacy-alignments<1.0.0,>=0.7.2\n",
            "  Downloading spacy_alignments-0.8.3-cp37-cp37m-manylinux2014_x86_64.whl (998 kB)\n",
            "\u001b[K     |████████████████████████████████| 998 kB 67.5 MB/s \n",
            "\u001b[?25hCollecting huggingface-hub==0.0.8\n",
            "  Downloading huggingface_hub-0.0.8-py3-none-any.whl (34 kB)\n",
            "Requirement already satisfied: regex!=2019.12.17 in /usr/local/lib/python3.7/dist-packages (from transformers<4.7.0,>=3.4.0->spacy-transformers<1.1.0,>=1.0.0rc4->en_core_web_trf==3.0.0) (2019.12.20)\n",
            "Collecting tokenizers<0.11,>=0.10.1\n",
            "  Downloading tokenizers-0.10.3-cp37-cp37m-manylinux_2_5_x86_64.manylinux1_x86_64.manylinux_2_12_x86_64.manylinux2010_x86_64.whl (3.3 MB)\n",
            "\u001b[K     |████████████████████████████████| 3.3 MB 73.5 MB/s \n",
            "\u001b[?25hRequirement already satisfied: filelock in /usr/local/lib/python3.7/dist-packages (from transformers<4.7.0,>=3.4.0->spacy-transformers<1.1.0,>=1.0.0rc4->en_core_web_trf==3.0.0) (3.0.12)\n",
            "Collecting sacremoses\n",
            "  Downloading sacremoses-0.0.45-py3-none-any.whl (895 kB)\n",
            "\u001b[K     |████████████████████████████████| 895 kB 3.4 MB/s \n",
            "\u001b[?25hRequirement already satisfied: importlib-metadata in /usr/local/lib/python3.7/dist-packages (from transformers<4.7.0,>=3.4.0->spacy-transformers<1.1.0,>=1.0.0rc4->en_core_web_trf==3.0.0) (4.6.1)\n",
            "Requirement already satisfied: click<7.2.0,>=7.1.1 in /usr/local/lib/python3.7/dist-packages (from typer<0.4.0,>=0.3.0->spacy<3.1.0,>=3.0.0->en_core_web_trf==3.0.0) (7.1.2)\n",
            "Requirement already satisfied: MarkupSafe>=0.23 in /usr/local/lib/python3.7/dist-packages (from jinja2->spacy<3.1.0,>=3.0.0->en_core_web_trf==3.0.0) (2.0.1)\n",
            "Requirement already satisfied: joblib in /usr/local/lib/python3.7/dist-packages (from sacremoses->transformers<4.7.0,>=3.4.0->spacy-transformers<1.1.0,>=1.0.0rc4->en_core_web_trf==3.0.0) (1.0.1)\n",
            "Requirement already satisfied: six in /usr/local/lib/python3.7/dist-packages (from sacremoses->transformers<4.7.0,>=3.4.0->spacy-transformers<1.1.0,>=1.0.0rc4->en_core_web_trf==3.0.0) (1.15.0)\n",
            "Building wheels for collected packages: en-core-web-trf\n",
            "  Building wheel for en-core-web-trf (setup.py) ... \u001b[?25l\u001b[?25hdone\n",
            "  Created wheel for en-core-web-trf: filename=en_core_web_trf-3.0.0-py3-none-any.whl size=459708991 sha256=2c5bd743ed57abe06a94b7b0c3e462a89c56ef3f819415c0823f15fad8fc7991\n",
            "  Stored in directory: /tmp/pip-ephem-wheel-cache-pr3c6les/wheels/be/d9/92/c65214265163256ecc7588e6468c43feb86424a69bfe2fddb9\n",
            "Successfully built en-core-web-trf\n",
            "Installing collected packages: tokenizers, sacremoses, huggingface-hub, transformers, spacy-alignments, spacy, spacy-transformers, en-core-web-trf\n",
            "  Attempting uninstall: spacy\n",
            "    Found existing installation: spacy 2.2.4\n",
            "    Uninstalling spacy-2.2.4:\n",
            "      Successfully uninstalled spacy-2.2.4\n",
            "Successfully installed en-core-web-trf-3.0.0 huggingface-hub-0.0.8 sacremoses-0.0.45 spacy-3.0.7 spacy-alignments-0.8.3 spacy-transformers-1.0.3 tokenizers-0.10.3 transformers-4.6.1\n",
            "\u001b[38;5;2m✔ Download and installation successful\u001b[0m\n",
            "You can now load the package via spacy.load('en_core_web_trf')\n"
          ],
          "name": "stdout"
        }
      ]
    },
    {
      "cell_type": "code",
      "metadata": {
        "id": "qkRGROLzPgMY"
      },
      "source": [
        "import sys\n",
        "sys.path.append('/content/drive/MyDrive/thesis')\n",
        "sys.path.append('/content/thesis')"
      ],
      "execution_count": 6,
      "outputs": []
    },
    {
      "cell_type": "code",
      "metadata": {
        "colab": {
          "base_uri": "https://localhost:8080/"
        },
        "id": "O8XqijjawPrE",
        "outputId": "3a7da6ac-6957-472d-ddee-60e11024f911"
      },
      "source": [
        "sys.path"
      ],
      "execution_count": 5,
      "outputs": [
        {
          "output_type": "execute_result",
          "data": {
            "text/plain": [
              "['',\n",
              " '/content',\n",
              " '/env/python',\n",
              " '/usr/lib/python37.zip',\n",
              " '/usr/lib/python3.7',\n",
              " '/usr/lib/python3.7/lib-dynload',\n",
              " '/usr/local/lib/python3.7/dist-packages',\n",
              " '/usr/lib/python3/dist-packages',\n",
              " '/usr/local/lib/python3.7/dist-packages/IPython/extensions',\n",
              " '/root/.ipython',\n",
              " '/content/drive/MyDrive/thesis',\n",
              " '/content/thesis']"
            ]
          },
          "metadata": {
            "tags": []
          },
          "execution_count": 5
        }
      ]
    },
    {
      "cell_type": "code",
      "metadata": {
        "id": "xvmMBvk8L60W"
      },
      "source": [
        "import pandas as pd\n",
        "import numpy as np\n",
        "import pickle, logging, spacy, sys, os, json, requests\n",
        "import matplotlib.pyplot as plt\n",
        "\n",
        "from helpers.classes import Collection\n",
        "from tqdm import tqdm\n",
        "from bs4 import BeautifulSoup\n",
        "from datetime import datetime\n",
        "\n",
        "from helpers.cloze_generation import \\\n",
        "    generate_clozes_from_point, named_entity_answer_generator as ne_answer_generator, noun_phrase_answer_generator as np_answer_generator\n",
        "\n",
        "# from helpers.language_modelling import \\\n",
        "    # find_nth_substring, multitoken_prediction, check_model, run_language_model\n",
        "from helpers.t5_language_model import \\\n",
        "    run_t5, check_t5"
      ],
      "execution_count": 5,
      "outputs": []
    },
    {
      "cell_type": "code",
      "metadata": {
        "colab": {
          "base_uri": "https://localhost:8080/"
        },
        "id": "CtgKPCr9wvb1",
        "outputId": "a1062280-7b98-4e4e-f734-e1600a990804"
      },
      "source": [
        "% cd thesis"
      ],
      "execution_count": 4,
      "outputs": [
        {
          "output_type": "stream",
          "text": [
            "/content/thesis\n"
          ],
          "name": "stdout"
        }
      ]
    },
    {
      "cell_type": "code",
      "metadata": {
        "colab": {
          "base_uri": "https://localhost:8080/"
        },
        "id": "C-uEbqzsxK9Z",
        "outputId": "53886f56-0635-437b-e21a-96354319796d"
      },
      "source": [
        "! pip install pickle5"
      ],
      "execution_count": 8,
      "outputs": [
        {
          "output_type": "stream",
          "text": [
            "Collecting pickle5\n",
            "  Downloading pickle5-0.0.11.tar.gz (132 kB)\n",
            "\u001b[?25l\r\u001b[K     |██▌                             | 10 kB 30.5 MB/s eta 0:00:01\r\u001b[K     |█████                           | 20 kB 19.1 MB/s eta 0:00:01\r\u001b[K     |███████▍                        | 30 kB 15.6 MB/s eta 0:00:01\r\u001b[K     |██████████                      | 40 kB 14.4 MB/s eta 0:00:01\r\u001b[K     |████████████▍                   | 51 kB 6.9 MB/s eta 0:00:01\r\u001b[K     |██████████████▉                 | 61 kB 8.1 MB/s eta 0:00:01\r\u001b[K     |█████████████████▍              | 71 kB 7.7 MB/s eta 0:00:01\r\u001b[K     |███████████████████▉            | 81 kB 8.6 MB/s eta 0:00:01\r\u001b[K     |██████████████████████▎         | 92 kB 8.8 MB/s eta 0:00:01\r\u001b[K     |████████████████████████▉       | 102 kB 7.0 MB/s eta 0:00:01\r\u001b[K     |███████████████████████████▎    | 112 kB 7.0 MB/s eta 0:00:01\r\u001b[K     |█████████████████████████████▊  | 122 kB 7.0 MB/s eta 0:00:01\r\u001b[K     |████████████████████████████████| 132 kB 7.0 MB/s \n",
            "\u001b[?25hBuilding wheels for collected packages: pickle5\n",
            "  Building wheel for pickle5 (setup.py) ... \u001b[?25l\u001b[?25hdone\n",
            "  Created wheel for pickle5: filename=pickle5-0.0.11-cp37-cp37m-linux_x86_64.whl size=219327 sha256=dcfc03ad48a71ca815a18d824b1270434ad54d9d095b62f52f9590f9e67facff\n",
            "  Stored in directory: /root/.cache/pip/wheels/7e/6a/00/67136a90d6aca437d806d1d3cedf98106e840c97a3e5188198\n",
            "Successfully built pickle5\n",
            "Installing collected packages: pickle5\n",
            "Successfully installed pickle5-0.0.11\n"
          ],
          "name": "stdout"
        }
      ]
    },
    {
      "cell_type": "code",
      "metadata": {
        "id": "tSDzpYAMxCDj"
      },
      "source": [
        "import pickle5 as pickle"
      ],
      "execution_count": 8,
      "outputs": []
    },
    {
      "cell_type": "code",
      "metadata": {
        "id": "M3a4_7UdL60X"
      },
      "source": [
        "# DATASETS = os.listdir('datasets')\n",
        "\n",
        "# with open('pickles/collection_20210624_194932.pkl', 'rb') as f:\n",
        "#     collection = pickle.load(f)\n",
        "\n",
        "# # I should completely remove the other bulletins\n",
        "# # for now this has to do...\n",
        "# bulletin_names = list(collection.bulletins.keys())\n",
        "# # target bulletins are those with usable related datasets and main points\n",
        "# target_bulletins = []\n",
        "# dictionary = dict()\n",
        "# for bulletin in bulletin_names:\n",
        "#     if len(collection.bulletins.get(bulletin).get('main-points')) and len(collection.bulletins.get(bulletin).get('related-datasets')) > 0:\n",
        "#         target_bulletins.append(bulletin)\n",
        "\n",
        "\n",
        "\n",
        "with open('pickles/dataset_20210625_184837.pkl', 'rb') as f:\n",
        "    df = pickle.load(f)"
      ],
      "execution_count": 9,
      "outputs": []
    },
    {
      "cell_type": "code",
      "metadata": {
        "id": "GKt6IOuwL60X",
        "colab": {
          "base_uri": "https://localhost:8080/",
          "height": 300
        },
        "outputId": "637f2453-9a6c-4522-d1cc-f760fa12c4f1"
      },
      "source": [
        "df.head()"
      ],
      "execution_count": 10,
      "outputs": [
        {
          "output_type": "execute_result",
          "data": {
            "text/html": [
              "<div>\n",
              "<style scoped>\n",
              "    .dataframe tbody tr th:only-of-type {\n",
              "        vertical-align: middle;\n",
              "    }\n",
              "\n",
              "    .dataframe tbody tr th {\n",
              "        vertical-align: top;\n",
              "    }\n",
              "\n",
              "    .dataframe thead th {\n",
              "        text-align: right;\n",
              "    }\n",
              "</style>\n",
              "<table border=\"1\" class=\"dataframe\">\n",
              "  <thead>\n",
              "    <tr style=\"text-align: right;\">\n",
              "      <th></th>\n",
              "      <th>bulletin</th>\n",
              "      <th>type</th>\n",
              "      <th>point</th>\n",
              "      <th>data</th>\n",
              "    </tr>\n",
              "  </thead>\n",
              "  <tbody>\n",
              "    <tr>\n",
              "      <th>0</th>\n",
              "      <td>businessindustryandtrade/business/businessserv...</td>\n",
              "      <td>date_and_percent</td>\n",
              "      <td>In 2019, approximate gross value added at basi...</td>\n",
              "      <td>[/businessindustryandtrade/business/businessse...</td>\n",
              "    </tr>\n",
              "    <tr>\n",
              "      <th>1</th>\n",
              "      <td>businessindustryandtrade/business/businessserv...</td>\n",
              "      <td>date_and_percent</td>\n",
              "      <td>The non-financial services sector, which accou...</td>\n",
              "      <td>[/businessindustryandtrade/business/businessse...</td>\n",
              "    </tr>\n",
              "    <tr>\n",
              "      <th>2</th>\n",
              "      <td>businessindustryandtrade/business/businessserv...</td>\n",
              "      <td>date_and_percent</td>\n",
              "      <td>Total turnover and purchases of the UK non-fin...</td>\n",
              "      <td>[/businessindustryandtrade/business/businessse...</td>\n",
              "    </tr>\n",
              "    <tr>\n",
              "      <th>3</th>\n",
              "      <td>businessindustryandtrade/business/businessserv...</td>\n",
              "      <td>date_and_percent</td>\n",
              "      <td>Out of the 12 UK regions, 8 regions experience...</td>\n",
              "      <td>[/businessindustryandtrade/business/businessse...</td>\n",
              "    </tr>\n",
              "    <tr>\n",
              "      <th>4</th>\n",
              "      <td>businessindustryandtrade/business/businessserv...</td>\n",
              "      <td>date_and_percent</td>\n",
              "      <td>West Midlands, Yorkshire and The Humber, Scotl...</td>\n",
              "      <td>[/businessindustryandtrade/business/businessse...</td>\n",
              "    </tr>\n",
              "  </tbody>\n",
              "</table>\n",
              "</div>"
            ],
            "text/plain": [
              "                                            bulletin  ...                                               data\n",
              "0  businessindustryandtrade/business/businessserv...  ...  [/businessindustryandtrade/business/businessse...\n",
              "1  businessindustryandtrade/business/businessserv...  ...  [/businessindustryandtrade/business/businessse...\n",
              "2  businessindustryandtrade/business/businessserv...  ...  [/businessindustryandtrade/business/businessse...\n",
              "3  businessindustryandtrade/business/businessserv...  ...  [/businessindustryandtrade/business/businessse...\n",
              "4  businessindustryandtrade/business/businessserv...  ...  [/businessindustryandtrade/business/businessse...\n",
              "\n",
              "[5 rows x 4 columns]"
            ]
          },
          "metadata": {
            "tags": []
          },
          "execution_count": 10
        }
      ]
    },
    {
      "cell_type": "markdown",
      "metadata": {
        "id": "NTmv19zNL60Y"
      },
      "source": [
        "# T5"
      ]
    },
    {
      "cell_type": "code",
      "metadata": {
        "colab": {
          "base_uri": "https://localhost:8080/"
        },
        "id": "mOKEFk6gx0N-",
        "outputId": "a5b61b61-4fb1-4a5f-f0cf-596e28e41c87"
      },
      "source": [
        "! pip install SentencePiece"
      ],
      "execution_count": 12,
      "outputs": [
        {
          "output_type": "stream",
          "text": [
            "Collecting SentencePiece\n",
            "  Downloading sentencepiece-0.1.96-cp37-cp37m-manylinux_2_17_x86_64.manylinux2014_x86_64.whl (1.2 MB)\n",
            "\u001b[?25l\r\u001b[K     |▎                               | 10 kB 35.6 MB/s eta 0:00:01\r\u001b[K     |▌                               | 20 kB 28.6 MB/s eta 0:00:01\r\u001b[K     |▉                               | 30 kB 21.0 MB/s eta 0:00:01\r\u001b[K     |█                               | 40 kB 17.2 MB/s eta 0:00:01\r\u001b[K     |█▍                              | 51 kB 10.0 MB/s eta 0:00:01\r\u001b[K     |█▋                              | 61 kB 9.7 MB/s eta 0:00:01\r\u001b[K     |██                              | 71 kB 10.1 MB/s eta 0:00:01\r\u001b[K     |██▏                             | 81 kB 11.3 MB/s eta 0:00:01\r\u001b[K     |██▍                             | 92 kB 8.8 MB/s eta 0:00:01\r\u001b[K     |██▊                             | 102 kB 9.3 MB/s eta 0:00:01\r\u001b[K     |███                             | 112 kB 9.3 MB/s eta 0:00:01\r\u001b[K     |███▎                            | 122 kB 9.3 MB/s eta 0:00:01\r\u001b[K     |███▌                            | 133 kB 9.3 MB/s eta 0:00:01\r\u001b[K     |███▉                            | 143 kB 9.3 MB/s eta 0:00:01\r\u001b[K     |████                            | 153 kB 9.3 MB/s eta 0:00:01\r\u001b[K     |████▎                           | 163 kB 9.3 MB/s eta 0:00:01\r\u001b[K     |████▋                           | 174 kB 9.3 MB/s eta 0:00:01\r\u001b[K     |████▉                           | 184 kB 9.3 MB/s eta 0:00:01\r\u001b[K     |█████▏                          | 194 kB 9.3 MB/s eta 0:00:01\r\u001b[K     |█████▍                          | 204 kB 9.3 MB/s eta 0:00:01\r\u001b[K     |█████▊                          | 215 kB 9.3 MB/s eta 0:00:01\r\u001b[K     |██████                          | 225 kB 9.3 MB/s eta 0:00:01\r\u001b[K     |██████▏                         | 235 kB 9.3 MB/s eta 0:00:01\r\u001b[K     |██████▌                         | 245 kB 9.3 MB/s eta 0:00:01\r\u001b[K     |██████▊                         | 256 kB 9.3 MB/s eta 0:00:01\r\u001b[K     |███████                         | 266 kB 9.3 MB/s eta 0:00:01\r\u001b[K     |███████▎                        | 276 kB 9.3 MB/s eta 0:00:01\r\u001b[K     |███████▋                        | 286 kB 9.3 MB/s eta 0:00:01\r\u001b[K     |███████▉                        | 296 kB 9.3 MB/s eta 0:00:01\r\u001b[K     |████████                        | 307 kB 9.3 MB/s eta 0:00:01\r\u001b[K     |████████▍                       | 317 kB 9.3 MB/s eta 0:00:01\r\u001b[K     |████████▋                       | 327 kB 9.3 MB/s eta 0:00:01\r\u001b[K     |█████████                       | 337 kB 9.3 MB/s eta 0:00:01\r\u001b[K     |█████████▏                      | 348 kB 9.3 MB/s eta 0:00:01\r\u001b[K     |█████████▌                      | 358 kB 9.3 MB/s eta 0:00:01\r\u001b[K     |█████████▊                      | 368 kB 9.3 MB/s eta 0:00:01\r\u001b[K     |██████████                      | 378 kB 9.3 MB/s eta 0:00:01\r\u001b[K     |██████████▎                     | 389 kB 9.3 MB/s eta 0:00:01\r\u001b[K     |██████████▌                     | 399 kB 9.3 MB/s eta 0:00:01\r\u001b[K     |██████████▉                     | 409 kB 9.3 MB/s eta 0:00:01\r\u001b[K     |███████████                     | 419 kB 9.3 MB/s eta 0:00:01\r\u001b[K     |███████████▍                    | 430 kB 9.3 MB/s eta 0:00:01\r\u001b[K     |███████████▋                    | 440 kB 9.3 MB/s eta 0:00:01\r\u001b[K     |███████████▉                    | 450 kB 9.3 MB/s eta 0:00:01\r\u001b[K     |████████████▏                   | 460 kB 9.3 MB/s eta 0:00:01\r\u001b[K     |████████████▍                   | 471 kB 9.3 MB/s eta 0:00:01\r\u001b[K     |████████████▊                   | 481 kB 9.3 MB/s eta 0:00:01\r\u001b[K     |█████████████                   | 491 kB 9.3 MB/s eta 0:00:01\r\u001b[K     |█████████████▎                  | 501 kB 9.3 MB/s eta 0:00:01\r\u001b[K     |█████████████▌                  | 512 kB 9.3 MB/s eta 0:00:01\r\u001b[K     |█████████████▊                  | 522 kB 9.3 MB/s eta 0:00:01\r\u001b[K     |██████████████                  | 532 kB 9.3 MB/s eta 0:00:01\r\u001b[K     |██████████████▎                 | 542 kB 9.3 MB/s eta 0:00:01\r\u001b[K     |██████████████▋                 | 552 kB 9.3 MB/s eta 0:00:01\r\u001b[K     |██████████████▉                 | 563 kB 9.3 MB/s eta 0:00:01\r\u001b[K     |███████████████▏                | 573 kB 9.3 MB/s eta 0:00:01\r\u001b[K     |███████████████▍                | 583 kB 9.3 MB/s eta 0:00:01\r\u001b[K     |███████████████▋                | 593 kB 9.3 MB/s eta 0:00:01\r\u001b[K     |████████████████                | 604 kB 9.3 MB/s eta 0:00:01\r\u001b[K     |████████████████▏               | 614 kB 9.3 MB/s eta 0:00:01\r\u001b[K     |████████████████▌               | 624 kB 9.3 MB/s eta 0:00:01\r\u001b[K     |████████████████▊               | 634 kB 9.3 MB/s eta 0:00:01\r\u001b[K     |█████████████████               | 645 kB 9.3 MB/s eta 0:00:01\r\u001b[K     |█████████████████▎              | 655 kB 9.3 MB/s eta 0:00:01\r\u001b[K     |█████████████████▌              | 665 kB 9.3 MB/s eta 0:00:01\r\u001b[K     |█████████████████▉              | 675 kB 9.3 MB/s eta 0:00:01\r\u001b[K     |██████████████████              | 686 kB 9.3 MB/s eta 0:00:01\r\u001b[K     |██████████████████▍             | 696 kB 9.3 MB/s eta 0:00:01\r\u001b[K     |██████████████████▋             | 706 kB 9.3 MB/s eta 0:00:01\r\u001b[K     |███████████████████             | 716 kB 9.3 MB/s eta 0:00:01\r\u001b[K     |███████████████████▏            | 727 kB 9.3 MB/s eta 0:00:01\r\u001b[K     |███████████████████▍            | 737 kB 9.3 MB/s eta 0:00:01\r\u001b[K     |███████████████████▊            | 747 kB 9.3 MB/s eta 0:00:01\r\u001b[K     |████████████████████            | 757 kB 9.3 MB/s eta 0:00:01\r\u001b[K     |████████████████████▎           | 768 kB 9.3 MB/s eta 0:00:01\r\u001b[K     |████████████████████▌           | 778 kB 9.3 MB/s eta 0:00:01\r\u001b[K     |████████████████████▉           | 788 kB 9.3 MB/s eta 0:00:01\r\u001b[K     |█████████████████████           | 798 kB 9.3 MB/s eta 0:00:01\r\u001b[K     |█████████████████████▎          | 808 kB 9.3 MB/s eta 0:00:01\r\u001b[K     |█████████████████████▋          | 819 kB 9.3 MB/s eta 0:00:01\r\u001b[K     |█████████████████████▉          | 829 kB 9.3 MB/s eta 0:00:01\r\u001b[K     |██████████████████████▏         | 839 kB 9.3 MB/s eta 0:00:01\r\u001b[K     |██████████████████████▍         | 849 kB 9.3 MB/s eta 0:00:01\r\u001b[K     |██████████████████████▊         | 860 kB 9.3 MB/s eta 0:00:01\r\u001b[K     |███████████████████████         | 870 kB 9.3 MB/s eta 0:00:01\r\u001b[K     |███████████████████████▏        | 880 kB 9.3 MB/s eta 0:00:01\r\u001b[K     |███████████████████████▌        | 890 kB 9.3 MB/s eta 0:00:01\r\u001b[K     |███████████████████████▊        | 901 kB 9.3 MB/s eta 0:00:01\r\u001b[K     |████████████████████████        | 911 kB 9.3 MB/s eta 0:00:01\r\u001b[K     |████████████████████████▎       | 921 kB 9.3 MB/s eta 0:00:01\r\u001b[K     |████████████████████████▋       | 931 kB 9.3 MB/s eta 0:00:01\r\u001b[K     |████████████████████████▉       | 942 kB 9.3 MB/s eta 0:00:01\r\u001b[K     |█████████████████████████       | 952 kB 9.3 MB/s eta 0:00:01\r\u001b[K     |█████████████████████████▍      | 962 kB 9.3 MB/s eta 0:00:01\r\u001b[K     |█████████████████████████▋      | 972 kB 9.3 MB/s eta 0:00:01\r\u001b[K     |██████████████████████████      | 983 kB 9.3 MB/s eta 0:00:01\r\u001b[K     |██████████████████████████▏     | 993 kB 9.3 MB/s eta 0:00:01\r\u001b[K     |██████████████████████████▌     | 1.0 MB 9.3 MB/s eta 0:00:01\r\u001b[K     |██████████████████████████▊     | 1.0 MB 9.3 MB/s eta 0:00:01\r\u001b[K     |███████████████████████████     | 1.0 MB 9.3 MB/s eta 0:00:01\r\u001b[K     |███████████████████████████▎    | 1.0 MB 9.3 MB/s eta 0:00:01\r\u001b[K     |███████████████████████████▌    | 1.0 MB 9.3 MB/s eta 0:00:01\r\u001b[K     |███████████████████████████▉    | 1.1 MB 9.3 MB/s eta 0:00:01\r\u001b[K     |████████████████████████████    | 1.1 MB 9.3 MB/s eta 0:00:01\r\u001b[K     |████████████████████████████▍   | 1.1 MB 9.3 MB/s eta 0:00:01\r\u001b[K     |████████████████████████████▋   | 1.1 MB 9.3 MB/s eta 0:00:01\r\u001b[K     |████████████████████████████▉   | 1.1 MB 9.3 MB/s eta 0:00:01\r\u001b[K     |█████████████████████████████▏  | 1.1 MB 9.3 MB/s eta 0:00:01\r\u001b[K     |█████████████████████████████▍  | 1.1 MB 9.3 MB/s eta 0:00:01\r\u001b[K     |█████████████████████████████▊  | 1.1 MB 9.3 MB/s eta 0:00:01\r\u001b[K     |██████████████████████████████  | 1.1 MB 9.3 MB/s eta 0:00:01\r\u001b[K     |██████████████████████████████▎ | 1.1 MB 9.3 MB/s eta 0:00:01\r\u001b[K     |██████████████████████████████▌ | 1.2 MB 9.3 MB/s eta 0:00:01\r\u001b[K     |██████████████████████████████▊ | 1.2 MB 9.3 MB/s eta 0:00:01\r\u001b[K     |███████████████████████████████ | 1.2 MB 9.3 MB/s eta 0:00:01\r\u001b[K     |███████████████████████████████▎| 1.2 MB 9.3 MB/s eta 0:00:01\r\u001b[K     |███████████████████████████████▋| 1.2 MB 9.3 MB/s eta 0:00:01\r\u001b[K     |███████████████████████████████▉| 1.2 MB 9.3 MB/s eta 0:00:01\r\u001b[K     |████████████████████████████████| 1.2 MB 9.3 MB/s \n",
            "\u001b[?25hInstalling collected packages: SentencePiece\n",
            "Successfully installed SentencePiece-0.1.96\n"
          ],
          "name": "stdout"
        }
      ]
    },
    {
      "cell_type": "code",
      "metadata": {
        "colab": {
          "base_uri": "https://localhost:8080/",
          "height": 114,
          "referenced_widgets": [
            "69c380da91994dadb0b7de873fbca926",
            "3aa4e6f356524c1882f625afaedef063",
            "e0b2b54058c949debd330f09bb5bf087",
            "d3cf1bf7dd2243b79cd34db1255ecbff",
            "6177a0ab6367480fa3241c0a2fcedf9d",
            "03cbd5404e9a470c82d1387f982f54e4",
            "202a410fae80491e8a91c2c97e4b525e",
            "99aa211eba2a45c8848c123edd170670",
            "37f2f01bed3f4a388adf5bc6e92d4517",
            "82f71f6808fe49c2a7453ebcf8964f55",
            "aef32f38dd384a62aa3635e44e425321",
            "f98c2a1373ce43d890a088e8201c91f1",
            "20dd43e216754eb1a1259c4c986e1574",
            "7a7f83b8faea4f3f8b77ffe0b83bfb8c",
            "ab207de05a7944fa893ff3d573575f5a",
            "100de66730034d30aed93073cefb382f"
          ]
        },
        "id": "XDkR39Xovgdo",
        "outputId": "83b1694a-780a-4c35-bc59-82f04179fb64"
      },
      "source": [
        "from transformers import T5Config, T5ForConditionalGeneration, T5Tokenizer\n",
        "import torch\n",
        "\n",
        "model_name = 't5-base'\n",
        "\n",
        "device = 'cuda:0' if torch.cuda.is_available else 'cpu'\n",
        "config = T5Config.from_pretrained(model_name)\n",
        "model = T5ForConditionalGeneration.from_pretrained(model_name, config=config).to(device)\n",
        "tokenizer = T5Tokenizer.from_pretrained(model_name, config=config)"
      ],
      "execution_count": 11,
      "outputs": [
        {
          "output_type": "display_data",
          "data": {
            "application/vnd.jupyter.widget-view+json": {
              "model_id": "69c380da91994dadb0b7de873fbca926",
              "version_minor": 0,
              "version_major": 2
            },
            "text/plain": [
              "HBox(children=(FloatProgress(value=0.0, description='Downloading', max=791656.0, style=ProgressStyle(descripti…"
            ]
          },
          "metadata": {
            "tags": []
          }
        },
        {
          "output_type": "stream",
          "text": [
            "\n"
          ],
          "name": "stdout"
        },
        {
          "output_type": "display_data",
          "data": {
            "application/vnd.jupyter.widget-view+json": {
              "model_id": "37f2f01bed3f4a388adf5bc6e92d4517",
              "version_minor": 0,
              "version_major": 2
            },
            "text/plain": [
              "HBox(children=(FloatProgress(value=0.0, description='Downloading', max=1389353.0, style=ProgressStyle(descript…"
            ]
          },
          "metadata": {
            "tags": []
          }
        },
        {
          "output_type": "stream",
          "text": [
            "\n"
          ],
          "name": "stdout"
        }
      ]
    },
    {
      "cell_type": "code",
      "metadata": {
        "id": "25DWe5K9L60Y"
      },
      "source": [
        "test_df = df[:3]"
      ],
      "execution_count": 17,
      "outputs": []
    },
    {
      "cell_type": "code",
      "metadata": {
        "id": "4MEWf-3vL60Y",
        "colab": {
          "base_uri": "https://localhost:8080/",
          "height": 205
        },
        "outputId": "d602b38d-d750-49d4-b4ea-84ae7d2a810c"
      },
      "source": [
        "test_df"
      ],
      "execution_count": 18,
      "outputs": [
        {
          "output_type": "execute_result",
          "data": {
            "text/html": [
              "<div>\n",
              "<style scoped>\n",
              "    .dataframe tbody tr th:only-of-type {\n",
              "        vertical-align: middle;\n",
              "    }\n",
              "\n",
              "    .dataframe tbody tr th {\n",
              "        vertical-align: top;\n",
              "    }\n",
              "\n",
              "    .dataframe thead th {\n",
              "        text-align: right;\n",
              "    }\n",
              "</style>\n",
              "<table border=\"1\" class=\"dataframe\">\n",
              "  <thead>\n",
              "    <tr style=\"text-align: right;\">\n",
              "      <th></th>\n",
              "      <th>bulletin</th>\n",
              "      <th>type</th>\n",
              "      <th>point</th>\n",
              "      <th>data</th>\n",
              "    </tr>\n",
              "  </thead>\n",
              "  <tbody>\n",
              "    <tr>\n",
              "      <th>0</th>\n",
              "      <td>businessindustryandtrade/business/businessserv...</td>\n",
              "      <td>date_and_percent</td>\n",
              "      <td>In 2019, approximate gross value added at basi...</td>\n",
              "      <td>[/businessindustryandtrade/business/businessse...</td>\n",
              "    </tr>\n",
              "    <tr>\n",
              "      <th>1</th>\n",
              "      <td>businessindustryandtrade/business/businessserv...</td>\n",
              "      <td>date_and_percent</td>\n",
              "      <td>The non-financial services sector, which accou...</td>\n",
              "      <td>[/businessindustryandtrade/business/businessse...</td>\n",
              "    </tr>\n",
              "    <tr>\n",
              "      <th>2</th>\n",
              "      <td>businessindustryandtrade/business/businessserv...</td>\n",
              "      <td>date_and_percent</td>\n",
              "      <td>Total turnover and purchases of the UK non-fin...</td>\n",
              "      <td>[/businessindustryandtrade/business/businessse...</td>\n",
              "    </tr>\n",
              "  </tbody>\n",
              "</table>\n",
              "</div>"
            ],
            "text/plain": [
              "                                            bulletin  ...                                               data\n",
              "0  businessindustryandtrade/business/businessserv...  ...  [/businessindustryandtrade/business/businessse...\n",
              "1  businessindustryandtrade/business/businessserv...  ...  [/businessindustryandtrade/business/businessse...\n",
              "2  businessindustryandtrade/business/businessserv...  ...  [/businessindustryandtrade/business/businessse...\n",
              "\n",
              "[3 rows x 4 columns]"
            ]
          },
          "metadata": {
            "tags": []
          },
          "execution_count": 18
        }
      ]
    },
    {
      "cell_type": "code",
      "metadata": {
        "id": "GAraTBL3L60Y",
        "colab": {
          "base_uri": "https://localhost:8080/",
          "height": 384
        },
        "outputId": "062476a5-f1cb-46c0-a232-1acccabe34f7"
      },
      "source": [
        "results, entity_set, entities = run_t5(df, model, tokenizer, True)"
      ],
      "execution_count": 12,
      "outputs": [
        {
          "output_type": "stream",
          "text": [
            "  0%|          | 0/2015 [00:00<?, ?it/s]/usr/local/lib/python3.7/dist-packages/torch/_tensor.py:575: UserWarning: floor_divide is deprecated, and will be removed in a future version of pytorch. It currently rounds toward 0 (like the 'trunc' function NOT 'floor'). This results in incorrect rounding for negative values.\n",
            "To keep the current behavior, use torch.div(a, b, rounding_mode='trunc'), or for actual floor division, use torch.div(a, b, rounding_mode='floor'). (Triggered internally at  /pytorch/aten/src/ATen/native/BinaryOps.cpp:467.)\n",
            "  return torch.floor_divide(self, other)\n",
            "100%|██████████| 2015/2015 [1:43:55<00:00,  3.09s/it]\n"
          ],
          "name": "stderr"
        },
        {
          "output_type": "error",
          "ename": "TypeError",
          "evalue": "ignored",
          "traceback": [
            "\u001b[0;31m---------------------------------------------------------------------------\u001b[0m",
            "\u001b[0;31mTypeError\u001b[0m                                 Traceback (most recent call last)",
            "\u001b[0;32m<ipython-input-12-e6de01fb0d92>\u001b[0m in \u001b[0;36m<module>\u001b[0;34m()\u001b[0m\n\u001b[0;32m----> 1\u001b[0;31m \u001b[0mresults\u001b[0m\u001b[0;34m,\u001b[0m \u001b[0mentity_set\u001b[0m\u001b[0;34m,\u001b[0m \u001b[0mentities\u001b[0m \u001b[0;34m=\u001b[0m \u001b[0mrun_t5\u001b[0m\u001b[0;34m(\u001b[0m\u001b[0mdf\u001b[0m\u001b[0;34m,\u001b[0m \u001b[0mmodel\u001b[0m\u001b[0;34m,\u001b[0m \u001b[0mtokenizer\u001b[0m\u001b[0;34m,\u001b[0m \u001b[0;32mTrue\u001b[0m\u001b[0;34m)\u001b[0m\u001b[0;34m\u001b[0m\u001b[0;34m\u001b[0m\u001b[0m\n\u001b[0m",
            "\u001b[0;32m/content/thesis/helpers/t5_language_model.py\u001b[0m in \u001b[0;36mrun_t5\u001b[0;34m(df, model, tokenizer, save_results, multi_token)\u001b[0m\n\u001b[1;32m    125\u001b[0m         with open(\n\u001b[1;32m    126\u001b[0m             f'results/{model_name}_{current_time}_results.json', 'w') as f:\n\u001b[0;32m--> 127\u001b[0;31m             \u001b[0mjson\u001b[0m\u001b[0;34m.\u001b[0m\u001b[0mdump\u001b[0m\u001b[0;34m(\u001b[0m\u001b[0mresults\u001b[0m\u001b[0;34m,\u001b[0m \u001b[0mf\u001b[0m\u001b[0;34m)\u001b[0m\u001b[0;34m\u001b[0m\u001b[0;34m\u001b[0m\u001b[0m\n\u001b[0m\u001b[1;32m    128\u001b[0m         with open(\n\u001b[1;32m    129\u001b[0m             f'results/{model_name}_{current_time}_entity_set.pickle', 'wb') as f:\n",
            "\u001b[0;32m/usr/lib/python3.7/json/__init__.py\u001b[0m in \u001b[0;36mdump\u001b[0;34m(obj, fp, skipkeys, ensure_ascii, check_circular, allow_nan, cls, indent, separators, default, sort_keys, **kw)\u001b[0m\n\u001b[1;32m    177\u001b[0m     \u001b[0;31m# could accelerate with writelines in some versions of Python, at\u001b[0m\u001b[0;34m\u001b[0m\u001b[0;34m\u001b[0m\u001b[0;34m\u001b[0m\u001b[0m\n\u001b[1;32m    178\u001b[0m     \u001b[0;31m# a debuggability cost\u001b[0m\u001b[0;34m\u001b[0m\u001b[0;34m\u001b[0m\u001b[0;34m\u001b[0m\u001b[0m\n\u001b[0;32m--> 179\u001b[0;31m     \u001b[0;32mfor\u001b[0m \u001b[0mchunk\u001b[0m \u001b[0;32min\u001b[0m \u001b[0miterable\u001b[0m\u001b[0;34m:\u001b[0m\u001b[0;34m\u001b[0m\u001b[0;34m\u001b[0m\u001b[0m\n\u001b[0m\u001b[1;32m    180\u001b[0m         \u001b[0mfp\u001b[0m\u001b[0;34m.\u001b[0m\u001b[0mwrite\u001b[0m\u001b[0;34m(\u001b[0m\u001b[0mchunk\u001b[0m\u001b[0;34m)\u001b[0m\u001b[0;34m\u001b[0m\u001b[0;34m\u001b[0m\u001b[0m\n\u001b[1;32m    181\u001b[0m \u001b[0;34m\u001b[0m\u001b[0m\n",
            "\u001b[0;32m/usr/lib/python3.7/json/encoder.py\u001b[0m in \u001b[0;36m_iterencode\u001b[0;34m(o, _current_indent_level)\u001b[0m\n\u001b[1;32m    427\u001b[0m             \u001b[0;32myield\u001b[0m \u001b[0m_floatstr\u001b[0m\u001b[0;34m(\u001b[0m\u001b[0mo\u001b[0m\u001b[0;34m)\u001b[0m\u001b[0;34m\u001b[0m\u001b[0;34m\u001b[0m\u001b[0m\n\u001b[1;32m    428\u001b[0m         \u001b[0;32melif\u001b[0m \u001b[0misinstance\u001b[0m\u001b[0;34m(\u001b[0m\u001b[0mo\u001b[0m\u001b[0;34m,\u001b[0m \u001b[0;34m(\u001b[0m\u001b[0mlist\u001b[0m\u001b[0;34m,\u001b[0m \u001b[0mtuple\u001b[0m\u001b[0;34m)\u001b[0m\u001b[0;34m)\u001b[0m\u001b[0;34m:\u001b[0m\u001b[0;34m\u001b[0m\u001b[0;34m\u001b[0m\u001b[0m\n\u001b[0;32m--> 429\u001b[0;31m             \u001b[0;32myield\u001b[0m \u001b[0;32mfrom\u001b[0m \u001b[0m_iterencode_list\u001b[0m\u001b[0;34m(\u001b[0m\u001b[0mo\u001b[0m\u001b[0;34m,\u001b[0m \u001b[0m_current_indent_level\u001b[0m\u001b[0;34m)\u001b[0m\u001b[0;34m\u001b[0m\u001b[0;34m\u001b[0m\u001b[0m\n\u001b[0m\u001b[1;32m    430\u001b[0m         \u001b[0;32melif\u001b[0m \u001b[0misinstance\u001b[0m\u001b[0;34m(\u001b[0m\u001b[0mo\u001b[0m\u001b[0;34m,\u001b[0m \u001b[0mdict\u001b[0m\u001b[0;34m)\u001b[0m\u001b[0;34m:\u001b[0m\u001b[0;34m\u001b[0m\u001b[0;34m\u001b[0m\u001b[0m\n\u001b[1;32m    431\u001b[0m             \u001b[0;32myield\u001b[0m \u001b[0;32mfrom\u001b[0m \u001b[0m_iterencode_dict\u001b[0m\u001b[0;34m(\u001b[0m\u001b[0mo\u001b[0m\u001b[0;34m,\u001b[0m \u001b[0m_current_indent_level\u001b[0m\u001b[0;34m)\u001b[0m\u001b[0;34m\u001b[0m\u001b[0;34m\u001b[0m\u001b[0m\n",
            "\u001b[0;32m/usr/lib/python3.7/json/encoder.py\u001b[0m in \u001b[0;36m_iterencode_list\u001b[0;34m(lst, _current_indent_level)\u001b[0m\n\u001b[1;32m    323\u001b[0m                 \u001b[0;32melse\u001b[0m\u001b[0;34m:\u001b[0m\u001b[0;34m\u001b[0m\u001b[0;34m\u001b[0m\u001b[0m\n\u001b[1;32m    324\u001b[0m                     \u001b[0mchunks\u001b[0m \u001b[0;34m=\u001b[0m \u001b[0m_iterencode\u001b[0m\u001b[0;34m(\u001b[0m\u001b[0mvalue\u001b[0m\u001b[0;34m,\u001b[0m \u001b[0m_current_indent_level\u001b[0m\u001b[0;34m)\u001b[0m\u001b[0;34m\u001b[0m\u001b[0;34m\u001b[0m\u001b[0m\n\u001b[0;32m--> 325\u001b[0;31m                 \u001b[0;32myield\u001b[0m \u001b[0;32mfrom\u001b[0m \u001b[0mchunks\u001b[0m\u001b[0;34m\u001b[0m\u001b[0;34m\u001b[0m\u001b[0m\n\u001b[0m\u001b[1;32m    326\u001b[0m         \u001b[0;32mif\u001b[0m \u001b[0mnewline_indent\u001b[0m \u001b[0;32mis\u001b[0m \u001b[0;32mnot\u001b[0m \u001b[0;32mNone\u001b[0m\u001b[0;34m:\u001b[0m\u001b[0;34m\u001b[0m\u001b[0;34m\u001b[0m\u001b[0m\n\u001b[1;32m    327\u001b[0m             \u001b[0m_current_indent_level\u001b[0m \u001b[0;34m-=\u001b[0m \u001b[0;36m1\u001b[0m\u001b[0;34m\u001b[0m\u001b[0;34m\u001b[0m\u001b[0m\n",
            "\u001b[0;32m/usr/lib/python3.7/json/encoder.py\u001b[0m in \u001b[0;36m_iterencode_list\u001b[0;34m(lst, _current_indent_level)\u001b[0m\n\u001b[1;32m    323\u001b[0m                 \u001b[0;32melse\u001b[0m\u001b[0;34m:\u001b[0m\u001b[0;34m\u001b[0m\u001b[0;34m\u001b[0m\u001b[0m\n\u001b[1;32m    324\u001b[0m                     \u001b[0mchunks\u001b[0m \u001b[0;34m=\u001b[0m \u001b[0m_iterencode\u001b[0m\u001b[0;34m(\u001b[0m\u001b[0mvalue\u001b[0m\u001b[0;34m,\u001b[0m \u001b[0m_current_indent_level\u001b[0m\u001b[0;34m)\u001b[0m\u001b[0;34m\u001b[0m\u001b[0;34m\u001b[0m\u001b[0m\n\u001b[0;32m--> 325\u001b[0;31m                 \u001b[0;32myield\u001b[0m \u001b[0;32mfrom\u001b[0m \u001b[0mchunks\u001b[0m\u001b[0;34m\u001b[0m\u001b[0;34m\u001b[0m\u001b[0m\n\u001b[0m\u001b[1;32m    326\u001b[0m         \u001b[0;32mif\u001b[0m \u001b[0mnewline_indent\u001b[0m \u001b[0;32mis\u001b[0m \u001b[0;32mnot\u001b[0m \u001b[0;32mNone\u001b[0m\u001b[0;34m:\u001b[0m\u001b[0;34m\u001b[0m\u001b[0;34m\u001b[0m\u001b[0m\n\u001b[1;32m    327\u001b[0m             \u001b[0m_current_indent_level\u001b[0m \u001b[0;34m-=\u001b[0m \u001b[0;36m1\u001b[0m\u001b[0;34m\u001b[0m\u001b[0;34m\u001b[0m\u001b[0m\n",
            "\u001b[0;32m/usr/lib/python3.7/json/encoder.py\u001b[0m in \u001b[0;36m_iterencode_list\u001b[0;34m(lst, _current_indent_level)\u001b[0m\n\u001b[1;32m    323\u001b[0m                 \u001b[0;32melse\u001b[0m\u001b[0;34m:\u001b[0m\u001b[0;34m\u001b[0m\u001b[0;34m\u001b[0m\u001b[0m\n\u001b[1;32m    324\u001b[0m                     \u001b[0mchunks\u001b[0m \u001b[0;34m=\u001b[0m \u001b[0m_iterencode\u001b[0m\u001b[0;34m(\u001b[0m\u001b[0mvalue\u001b[0m\u001b[0;34m,\u001b[0m \u001b[0m_current_indent_level\u001b[0m\u001b[0;34m)\u001b[0m\u001b[0;34m\u001b[0m\u001b[0;34m\u001b[0m\u001b[0m\n\u001b[0;32m--> 325\u001b[0;31m                 \u001b[0;32myield\u001b[0m \u001b[0;32mfrom\u001b[0m \u001b[0mchunks\u001b[0m\u001b[0;34m\u001b[0m\u001b[0;34m\u001b[0m\u001b[0m\n\u001b[0m\u001b[1;32m    326\u001b[0m         \u001b[0;32mif\u001b[0m \u001b[0mnewline_indent\u001b[0m \u001b[0;32mis\u001b[0m \u001b[0;32mnot\u001b[0m \u001b[0;32mNone\u001b[0m\u001b[0;34m:\u001b[0m\u001b[0;34m\u001b[0m\u001b[0;34m\u001b[0m\u001b[0m\n\u001b[1;32m    327\u001b[0m             \u001b[0m_current_indent_level\u001b[0m \u001b[0;34m-=\u001b[0m \u001b[0;36m1\u001b[0m\u001b[0;34m\u001b[0m\u001b[0;34m\u001b[0m\u001b[0m\n",
            "\u001b[0;32m/usr/lib/python3.7/json/encoder.py\u001b[0m in \u001b[0;36m_iterencode\u001b[0;34m(o, _current_indent_level)\u001b[0m\n\u001b[1;32m    436\u001b[0m                     \u001b[0;32mraise\u001b[0m \u001b[0mValueError\u001b[0m\u001b[0;34m(\u001b[0m\u001b[0;34m\"Circular reference detected\"\u001b[0m\u001b[0;34m)\u001b[0m\u001b[0;34m\u001b[0m\u001b[0;34m\u001b[0m\u001b[0m\n\u001b[1;32m    437\u001b[0m                 \u001b[0mmarkers\u001b[0m\u001b[0;34m[\u001b[0m\u001b[0mmarkerid\u001b[0m\u001b[0;34m]\u001b[0m \u001b[0;34m=\u001b[0m \u001b[0mo\u001b[0m\u001b[0;34m\u001b[0m\u001b[0;34m\u001b[0m\u001b[0m\n\u001b[0;32m--> 438\u001b[0;31m             \u001b[0mo\u001b[0m \u001b[0;34m=\u001b[0m \u001b[0m_default\u001b[0m\u001b[0;34m(\u001b[0m\u001b[0mo\u001b[0m\u001b[0;34m)\u001b[0m\u001b[0;34m\u001b[0m\u001b[0;34m\u001b[0m\u001b[0m\n\u001b[0m\u001b[1;32m    439\u001b[0m             \u001b[0;32myield\u001b[0m \u001b[0;32mfrom\u001b[0m \u001b[0m_iterencode\u001b[0m\u001b[0;34m(\u001b[0m\u001b[0mo\u001b[0m\u001b[0;34m,\u001b[0m \u001b[0m_current_indent_level\u001b[0m\u001b[0;34m)\u001b[0m\u001b[0;34m\u001b[0m\u001b[0;34m\u001b[0m\u001b[0m\n\u001b[1;32m    440\u001b[0m             \u001b[0;32mif\u001b[0m \u001b[0mmarkers\u001b[0m \u001b[0;32mis\u001b[0m \u001b[0;32mnot\u001b[0m \u001b[0;32mNone\u001b[0m\u001b[0;34m:\u001b[0m\u001b[0;34m\u001b[0m\u001b[0;34m\u001b[0m\u001b[0m\n",
            "\u001b[0;32m/usr/lib/python3.7/json/encoder.py\u001b[0m in \u001b[0;36mdefault\u001b[0;34m(self, o)\u001b[0m\n\u001b[1;32m    177\u001b[0m \u001b[0;34m\u001b[0m\u001b[0m\n\u001b[1;32m    178\u001b[0m         \"\"\"\n\u001b[0;32m--> 179\u001b[0;31m         raise TypeError(f'Object of type {o.__class__.__name__} '\n\u001b[0m\u001b[1;32m    180\u001b[0m                         f'is not JSON serializable')\n\u001b[1;32m    181\u001b[0m \u001b[0;34m\u001b[0m\u001b[0m\n",
            "\u001b[0;31mTypeError\u001b[0m: Object of type Span is not JSON serializable"
          ]
        }
      ]
    },
    {
      "cell_type": "code",
      "metadata": {
        "colab": {
          "base_uri": "https://localhost:8080/",
          "height": 158
        },
        "id": "2GnDbY_i9PRJ",
        "outputId": "c860a19c-51ad-434a-e9d2-2d70a3d55779"
      },
      "source": [
        "entity_set"
      ],
      "execution_count": 16,
      "outputs": [
        {
          "output_type": "error",
          "ename": "NameError",
          "evalue": "ignored",
          "traceback": [
            "\u001b[0;31m---------------------------------------------------------------------------\u001b[0m",
            "\u001b[0;31mNameError\u001b[0m                                 Traceback (most recent call last)",
            "\u001b[0;32m<ipython-input-16-a6c1b0e35bf6>\u001b[0m in \u001b[0;36m<module>\u001b[0;34m()\u001b[0m\n\u001b[0;32m----> 1\u001b[0;31m \u001b[0mentity_set\u001b[0m\u001b[0;34m\u001b[0m\u001b[0;34m\u001b[0m\u001b[0m\n\u001b[0m",
            "\u001b[0;31mNameError\u001b[0m: name 'entity_set' is not defined"
          ]
        }
      ]
    },
    {
      "cell_type": "code",
      "metadata": {
        "id": "rRaKngM8rzh9",
        "outputId": "5518060b-575b-4f5e-f5b9-ccf453c067f0",
        "colab": {
          "base_uri": "https://localhost:8080/",
          "height": 741
        }
      },
      "source": [
        "df"
      ],
      "execution_count": 14,
      "outputs": [
        {
          "output_type": "execute_result",
          "data": {
            "text/html": [
              "<div>\n",
              "<style scoped>\n",
              "    .dataframe tbody tr th:only-of-type {\n",
              "        vertical-align: middle;\n",
              "    }\n",
              "\n",
              "    .dataframe tbody tr th {\n",
              "        vertical-align: top;\n",
              "    }\n",
              "\n",
              "    .dataframe thead th {\n",
              "        text-align: right;\n",
              "    }\n",
              "</style>\n",
              "<table border=\"1\" class=\"dataframe\">\n",
              "  <thead>\n",
              "    <tr style=\"text-align: right;\">\n",
              "      <th></th>\n",
              "      <th>bulletin</th>\n",
              "      <th>type</th>\n",
              "      <th>point</th>\n",
              "      <th>data</th>\n",
              "    </tr>\n",
              "  </thead>\n",
              "  <tbody>\n",
              "    <tr>\n",
              "      <th>0</th>\n",
              "      <td>businessindustryandtrade/business/businessserv...</td>\n",
              "      <td>date_and_percent</td>\n",
              "      <td>In 2019, approximate gross value added at basi...</td>\n",
              "      <td>[/businessindustryandtrade/business/businessse...</td>\n",
              "    </tr>\n",
              "    <tr>\n",
              "      <th>1</th>\n",
              "      <td>businessindustryandtrade/business/businessserv...</td>\n",
              "      <td>date_and_percent</td>\n",
              "      <td>The non-financial services sector, which accou...</td>\n",
              "      <td>[/businessindustryandtrade/business/businessse...</td>\n",
              "    </tr>\n",
              "    <tr>\n",
              "      <th>2</th>\n",
              "      <td>businessindustryandtrade/business/businessserv...</td>\n",
              "      <td>date_and_percent</td>\n",
              "      <td>Total turnover and purchases of the UK non-fin...</td>\n",
              "      <td>[/businessindustryandtrade/business/businessse...</td>\n",
              "    </tr>\n",
              "    <tr>\n",
              "      <th>3</th>\n",
              "      <td>businessindustryandtrade/business/businessserv...</td>\n",
              "      <td>date_and_percent</td>\n",
              "      <td>Out of the 12 UK regions, 8 regions experience...</td>\n",
              "      <td>[/businessindustryandtrade/business/businessse...</td>\n",
              "    </tr>\n",
              "    <tr>\n",
              "      <th>4</th>\n",
              "      <td>businessindustryandtrade/business/businessserv...</td>\n",
              "      <td>date_and_percent</td>\n",
              "      <td>West Midlands, Yorkshire and The Humber, Scotl...</td>\n",
              "      <td>[/businessindustryandtrade/business/businessse...</td>\n",
              "    </tr>\n",
              "    <tr>\n",
              "      <th>...</th>\n",
              "      <td>...</td>\n",
              "      <td>...</td>\n",
              "      <td>...</td>\n",
              "      <td>...</td>\n",
              "    </tr>\n",
              "    <tr>\n",
              "      <th>2010</th>\n",
              "      <td>peoplepopulationandcommunity/wellbeing/article...</td>\n",
              "      <td>date_and_percent</td>\n",
              "      <td>Trust in others in their neighbourhood was hig...</td>\n",
              "      <td>[/peoplepopulationandcommunity/wellbeing/datas...</td>\n",
              "    </tr>\n",
              "    <tr>\n",
              "      <th>2011</th>\n",
              "      <td>peoplepopulationandcommunity/wellbeing/article...</td>\n",
              "      <td>date_and_percent</td>\n",
              "      <td>Trust in others in their neighbourhood was hig...</td>\n",
              "      <td>[/peoplepopulationandcommunity/wellbeing/datas...</td>\n",
              "    </tr>\n",
              "    <tr>\n",
              "      <th>2012</th>\n",
              "      <td>peoplepopulationandcommunity/wellbeing/article...</td>\n",
              "      <td>date_and_percent</td>\n",
              "      <td>People in higher managerial occupations were m...</td>\n",
              "      <td>[/peoplepopulationandcommunity/wellbeing/datas...</td>\n",
              "    </tr>\n",
              "    <tr>\n",
              "      <th>2013</th>\n",
              "      <td>peoplepopulationandcommunity/wellbeing/article...</td>\n",
              "      <td>date_and_percent</td>\n",
              "      <td>Around 6 in 10 people (61%) reported feeling s...</td>\n",
              "      <td>[/peoplepopulationandcommunity/wellbeing/datas...</td>\n",
              "    </tr>\n",
              "    <tr>\n",
              "      <th>2014</th>\n",
              "      <td>peoplepopulationandcommunity/wellbeing/article...</td>\n",
              "      <td>just_dates</td>\n",
              "      <td>Our research highlights that personal characte...</td>\n",
              "      <td>[/peoplepopulationandcommunity/wellbeing/datas...</td>\n",
              "    </tr>\n",
              "  </tbody>\n",
              "</table>\n",
              "<p>2015 rows × 4 columns</p>\n",
              "</div>"
            ],
            "text/plain": [
              "                                               bulletin  ...                                               data\n",
              "0     businessindustryandtrade/business/businessserv...  ...  [/businessindustryandtrade/business/businessse...\n",
              "1     businessindustryandtrade/business/businessserv...  ...  [/businessindustryandtrade/business/businessse...\n",
              "2     businessindustryandtrade/business/businessserv...  ...  [/businessindustryandtrade/business/businessse...\n",
              "3     businessindustryandtrade/business/businessserv...  ...  [/businessindustryandtrade/business/businessse...\n",
              "4     businessindustryandtrade/business/businessserv...  ...  [/businessindustryandtrade/business/businessse...\n",
              "...                                                 ...  ...                                                ...\n",
              "2010  peoplepopulationandcommunity/wellbeing/article...  ...  [/peoplepopulationandcommunity/wellbeing/datas...\n",
              "2011  peoplepopulationandcommunity/wellbeing/article...  ...  [/peoplepopulationandcommunity/wellbeing/datas...\n",
              "2012  peoplepopulationandcommunity/wellbeing/article...  ...  [/peoplepopulationandcommunity/wellbeing/datas...\n",
              "2013  peoplepopulationandcommunity/wellbeing/article...  ...  [/peoplepopulationandcommunity/wellbeing/datas...\n",
              "2014  peoplepopulationandcommunity/wellbeing/article...  ...  [/peoplepopulationandcommunity/wellbeing/datas...\n",
              "\n",
              "[2015 rows x 4 columns]"
            ]
          },
          "metadata": {
            "tags": []
          },
          "execution_count": 14
        }
      ]
    },
    {
      "cell_type": "code",
      "metadata": {
        "id": "x_l5DUqfscD8"
      },
      "source": [
        ""
      ],
      "execution_count": null,
      "outputs": []
    }
  ]
}