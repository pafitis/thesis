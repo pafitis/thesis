{
 "cells": [
  {
   "cell_type": "code",
   "execution_count": 2,
   "source": [
    "import torch\n",
    "import pandas as pd\n",
    "import numpy as np\n",
    "import pickle, logging, spacy, sys, os, json, requests\n",
    "import matplotlib.pyplot as plt\n",
    "\n",
    "from helpers.classes import Collection\n",
    "from tqdm import tqdm\n",
    "from bs4 import BeautifulSoup\n",
    "from datetime import datetime"
   ],
   "outputs": [],
   "metadata": {}
  },
  {
   "cell_type": "code",
   "execution_count": 3,
   "source": [
    "from helpers.configs import CLOZE_MASKS\n",
    "\n",
    "from helpers.cloze_generation import generate_clozes_from_point, named_entity_answer_generator as ne_answer_generator, noun_phrase_answer_generator as np_answer_generator\n",
    "\n",
    "from helpers.table_processing import preprocess_table, read_process_table, find_relevant_column_header, find_relevant_content\n",
    "from helpers.t5_language_model import summarise_t5_results\n",
    "\n",
    "\n",
    "# df = pd.read_pickle('pickles/dataset_20210625_184837.pkl')\n",
    "# clozes_df = pd.read_json('pickles/clozes_20210807_165700.json')\n",
    "\n",
    "df = pd.read_pickle('pickles/collection_20210624_194932.pkl')\n",
    "# clozes_df = pd.read_json('pickles/clozes_20210824.json')\n",
    "clozes_df = pd.read_json('pickles/clozes_with_false_20210825.json') #contains negs\n",
    "\n",
    "clozes_df['answer_type_agg'] = clozes_df['answer_type'].apply(\n",
    "    lambda x: CLOZE_MASKS.get(x))"
   ],
   "outputs": [],
   "metadata": {}
  },
  {
   "cell_type": "code",
   "execution_count": 29,
   "source": [
    "sampled.loc[:, ['cloze_text', 'answer_text', 'answer_type_agg', 'bulletin', 'data']].to_csv('secondary/sampled.csv')"
   ],
   "outputs": [],
   "metadata": {}
  },
  {
   "cell_type": "code",
   "execution_count": 23,
   "source": [
    "with open('secondary/sampled_15.txt', 'w') as f:\n",
    "    [f.write(x) for x in all]"
   ],
   "outputs": [],
   "metadata": {}
  },
  {
   "cell_type": "code",
   "execution_count": 44,
   "source": [
    "counts, heights = np.histogram(_cols, bins = 100)\n",
    "plt.hist(counts, heights)\n",
    "plt.show()"
   ],
   "outputs": [
    {
     "output_type": "display_data",
     "data": {
      "image/png": "[encoded data removed]",
      "text/plain": [
       "<Figure size 432x288 with 1 Axes>"
      ]
     },
     "metadata": {
      "needs_background": "light"
     }
    }
   ],
   "metadata": {}
  },
  {
   "cell_type": "code",
   "execution_count": null,
   "source": [],
   "outputs": [],
   "metadata": {}
  },
  {
   "cell_type": "code",
   "execution_count": 3,
   "source": [
    "data_path2='businessindustryandtrade_business_businessservices_datasets_uknonfinancialbusinesseconomyannualbusinesssurveyregionalresultsqualitymeasures'"
   ],
   "outputs": [],
   "metadata": {}
  },
  {
   "cell_type": "code",
   "execution_count": 4,
   "source": [
    "df_iterator = read_process_table(data_path2, return_iterator=True)"
   ],
   "outputs": [],
   "metadata": {}
  },
  {
   "cell_type": "code",
   "execution_count": 7,
   "source": [
    "df = next(df_iterator)"
   ],
   "outputs": [],
   "metadata": {}
  },
  {
   "cell_type": "code",
   "execution_count": 8,
   "source": [
    "df.iloc[:6]"
   ],
   "outputs": [
    {
     "output_type": "execute_result",
     "data": {
      "text/html": [
       "<div>\n",
       "<style scoped>\n",
       "    .dataframe tbody tr th:only-of-type {\n",
       "        vertical-align: middle;\n",
       "    }\n",
       "\n",
       "    .dataframe tbody tr th {\n",
       "        vertical-align: top;\n",
       "    }\n",
       "\n",
       "    .dataframe thead th {\n",
       "        text-align: right;\n",
       "    }\n",
       "</style>\n",
       "<table border=\"1\" class=\"dataframe\">\n",
       "  <thead>\n",
       "    <tr style=\"text-align: right;\">\n",
       "      <th></th>\n",
       "      <th>Standard Industrial Classification (Revised 2007)     Section           Division -</th>\n",
       "      <th>Standard Industrial Classification (Revised 2007)     Section           Division -</th>\n",
       "      <th>Country and Region -</th>\n",
       "      <th>Country and Region -</th>\n",
       "      <th>STANDARD ERROR Total turnover</th>\n",
       "      <th>STANDARD ERROR Approximate gross value added at basic prices (aGVA)</th>\n",
       "      <th>STANDARD ERROR Total purchases of goods, materials and services</th>\n",
       "      <th>STANDARD ERROR Total employment costs</th>\n",
       "      <th>COEFFICIENT OF VARIATION Total turnover</th>\n",
       "      <th>COEFFICIENT OF VARIATION Approximate gross value added at basic prices (aGVA)</th>\n",
       "      <th>COEFFICIENT OF VARIATION Total purchases of goods, materials and services</th>\n",
       "      <th>COEFFICIENT OF VARIATION Total employment costs</th>\n",
       "    </tr>\n",
       "  </thead>\n",
       "  <tbody>\n",
       "    <tr>\n",
       "      <th>0</th>\n",
       "      <td>nan</td>\n",
       "      <td>nan</td>\n",
       "      <td>nan</td>\n",
       "      <td>nan</td>\n",
       "      <td>£ million</td>\n",
       "      <td>£ million</td>\n",
       "      <td>£ million</td>\n",
       "      <td>£ million</td>\n",
       "      <td>Ratio</td>\n",
       "      <td>Ratio</td>\n",
       "      <td>Ratio</td>\n",
       "      <td>Ratio</td>\n",
       "    </tr>\n",
       "    <tr>\n",
       "      <th>1</th>\n",
       "      <td>A-S (Part) 2</td>\n",
       "      <td>UK non-financial business economy</td>\n",
       "      <td>North East</td>\n",
       "      <td>2012.0</td>\n",
       "      <td>1344.6</td>\n",
       "      <td>471.1</td>\n",
       "      <td>1096.9</td>\n",
       "      <td>210</td>\n",
       "      <td>0.02</td>\n",
       "      <td>0.02</td>\n",
       "      <td>0.02</td>\n",
       "      <td>0.01</td>\n",
       "    </tr>\n",
       "    <tr>\n",
       "      <th>2</th>\n",
       "      <td>A-S (Part) 2</td>\n",
       "      <td>UK non-financial business economy</td>\n",
       "      <td>North East</td>\n",
       "      <td>2013.0</td>\n",
       "      <td>1381.9</td>\n",
       "      <td>471</td>\n",
       "      <td>947</td>\n",
       "      <td>226.1</td>\n",
       "      <td>0.02</td>\n",
       "      <td>0.02</td>\n",
       "      <td>0.02</td>\n",
       "      <td>0.01</td>\n",
       "    </tr>\n",
       "    <tr>\n",
       "      <th>3</th>\n",
       "      <td>A-S (Part) 2</td>\n",
       "      <td>UK non-financial business economy</td>\n",
       "      <td>North East</td>\n",
       "      <td>2014.0</td>\n",
       "      <td>1696.6</td>\n",
       "      <td>586.9</td>\n",
       "      <td>1160.9</td>\n",
       "      <td>237.7</td>\n",
       "      <td>0.02</td>\n",
       "      <td>0.02</td>\n",
       "      <td>0.02</td>\n",
       "      <td>0.01</td>\n",
       "    </tr>\n",
       "    <tr>\n",
       "      <th>4</th>\n",
       "      <td>A-S (Part) 2</td>\n",
       "      <td>UK non-financial business economy</td>\n",
       "      <td>North East</td>\n",
       "      <td>2015.0</td>\n",
       "      <td>1754.1</td>\n",
       "      <td>506.1</td>\n",
       "      <td>1526.9</td>\n",
       "      <td>253.1</td>\n",
       "      <td>0.02</td>\n",
       "      <td>0.02</td>\n",
       "      <td>0.03</td>\n",
       "      <td>0.01</td>\n",
       "    </tr>\n",
       "    <tr>\n",
       "      <th>5</th>\n",
       "      <td>A-S (Part) 2</td>\n",
       "      <td>UK non-financial business economy</td>\n",
       "      <td>North East</td>\n",
       "      <td>2016.0</td>\n",
       "      <td>1390.3</td>\n",
       "      <td>613.6</td>\n",
       "      <td>1046.4</td>\n",
       "      <td>240.8</td>\n",
       "      <td>0.01</td>\n",
       "      <td>0.02</td>\n",
       "      <td>0.02</td>\n",
       "      <td>0.01</td>\n",
       "    </tr>\n",
       "  </tbody>\n",
       "</table>\n",
       "</div>"
      ],
      "text/plain": [
       "  Standard Industrial Classification (Revised 2007)     Section           Division -  \\\n",
       "0                                                nan                                   \n",
       "1                                       A-S (Part) 2                                   \n",
       "2                                       A-S (Part) 2                                   \n",
       "3                                       A-S (Part) 2                                   \n",
       "4                                       A-S (Part) 2                                   \n",
       "5                                       A-S (Part) 2                                   \n",
       "\n",
       "  Standard Industrial Classification (Revised 2007)     Section           Division -  \\\n",
       "0                                                nan                                   \n",
       "1                  UK non-financial business economy                                   \n",
       "2                  UK non-financial business economy                                   \n",
       "3                  UK non-financial business economy                                   \n",
       "4                  UK non-financial business economy                                   \n",
       "5                  UK non-financial business economy                                   \n",
       "\n",
       "  Country and Region - Country and Region - STANDARD ERROR Total turnover  \\\n",
       "0                  nan                  nan                     £ million   \n",
       "1           North East               2012.0                        1344.6   \n",
       "2           North East               2013.0                        1381.9   \n",
       "3           North East               2014.0                        1696.6   \n",
       "4           North East               2015.0                        1754.1   \n",
       "5           North East               2016.0                        1390.3   \n",
       "\n",
       "  STANDARD ERROR Approximate gross value added at basic prices (aGVA)  \\\n",
       "0                                          £ million                    \n",
       "1                                              471.1                    \n",
       "2                                                471                    \n",
       "3                                              586.9                    \n",
       "4                                              506.1                    \n",
       "5                                              613.6                    \n",
       "\n",
       "  STANDARD ERROR Total purchases of goods, materials and services  \\\n",
       "0                                          £ million                \n",
       "1                                             1096.9                \n",
       "2                                                947                \n",
       "3                                             1160.9                \n",
       "4                                             1526.9                \n",
       "5                                             1046.4                \n",
       "\n",
       "  STANDARD ERROR Total employment costs  \\\n",
       "0                             £ million   \n",
       "1                                   210   \n",
       "2                                 226.1   \n",
       "3                                 237.7   \n",
       "4                                 253.1   \n",
       "5                                 240.8   \n",
       "\n",
       "  COEFFICIENT OF VARIATION Total turnover  \\\n",
       "0                                   Ratio   \n",
       "1                                    0.02   \n",
       "2                                    0.02   \n",
       "3                                    0.02   \n",
       "4                                    0.02   \n",
       "5                                    0.01   \n",
       "\n",
       "  COEFFICIENT OF VARIATION Approximate gross value added at basic prices (aGVA)  \\\n",
       "0                                              Ratio                              \n",
       "1                                               0.02                              \n",
       "2                                               0.02                              \n",
       "3                                               0.02                              \n",
       "4                                               0.02                              \n",
       "5                                               0.02                              \n",
       "\n",
       "  COEFFICIENT OF VARIATION Total purchases of goods, materials and services  \\\n",
       "0                                              Ratio                          \n",
       "1                                               0.02                          \n",
       "2                                               0.02                          \n",
       "3                                               0.02                          \n",
       "4                                               0.03                          \n",
       "5                                               0.02                          \n",
       "\n",
       "  COEFFICIENT OF VARIATION Total employment costs  \n",
       "0                                           Ratio  \n",
       "1                                            0.01  \n",
       "2                                            0.01  \n",
       "3                                            0.01  \n",
       "4                                            0.01  \n",
       "5                                            0.01  "
      ]
     },
     "metadata": {},
     "execution_count": 8
    }
   ],
   "metadata": {}
  },
  {
   "cell_type": "code",
   "execution_count": 9,
   "source": [
    "df.to_csv('secondary/imputing_demo.csv')"
   ],
   "outputs": [],
   "metadata": {}
  },
  {
   "cell_type": "code",
   "execution_count": null,
   "source": [],
   "outputs": [],
   "metadata": {}
  }
 ],
 "metadata": {
  "orig_nbformat": 4,
  "language_info": {
   "name": "python",
   "version": "3.9.2",
   "mimetype": "text/x-python",
   "codemirror_mode": {
    "name": "ipython",
    "version": 3
   },
   "pygments_lexer": "ipython3",
   "nbconvert_exporter": "python",
   "file_extension": ".py"
  },
  "kernelspec": {
   "name": "python3",
   "display_name": "Python 3.9.2 64-bit ('comp0087': conda)"
  },
  "interpreter": {
   "hash": "6b9679e1c6c858221750b0560d352a46169916bc602dce44bbd2a48d631c8c5d"
  }
 },
 "nbformat": 4,
 "nbformat_minor": 2
}