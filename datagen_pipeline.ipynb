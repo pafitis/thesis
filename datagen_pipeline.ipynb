{
 "cells": [
  {
   "cell_type": "code",
   "execution_count": 1,
   "source": [
    "import pandas as pd\n",
    "import numpy as np\n",
    "import pickle, logging, spacy\n",
    "import matplotlib.pyplot as plt\n",
    "from helpers.classes import Collection\n",
    "from tqdm import tqdm\n",
    "import requests\n",
    "from bs4 import BeautifulSoup\n",
    "from datetime import datetime\n",
    "import json"
   ],
   "outputs": [],
   "metadata": {}
  },
  {
   "cell_type": "code",
   "execution_count": null,
   "source": [
    "with open('pickles/collection_20210624_194932.pkl', 'rb') as f:\n",
    "    collection = pickle.load(f)\n",
    "# with open('pickles/collection_20210622_220215.pkl', 'rb') as f:\n",
    "#     collection = pickle.load(f)"
   ],
   "outputs": [],
   "metadata": {}
  },
  {
   "cell_type": "code",
   "execution_count": 3,
   "source": [
    "# bulletin_names contains all bulletins collected through scrapping\n",
    "bulletin_names = list(collection.bulletins.keys())\n",
    "\n",
    "# target bulletins are those with usable related datasets and main points\n",
    "target_bulletins = []\n",
    "for bulletin in bulletin_names:\n",
    "    if len(collection.bulletins.get(bulletin).get('main-points')) and len(collection.bulletins.get(bulletin).get('related-datasets')) > 0:\n",
    "        target_bulletins.append(bulletin)"
   ],
   "outputs": [],
   "metadata": {}
  },
  {
   "cell_type": "code",
   "execution_count": 4,
   "source": [
    "collection.bulletins.get(target_bulletins[0])"
   ],
   "outputs": [
    {
     "output_type": "execute_result",
     "data": {
      "text/plain": [
       "{'main-points': ['In 2019, approximate gross value added at basic prices (aGVA) of the UK non-financial business economy was estimated to be £1,313.9 billion; an increase of £42.8 billion (3.4%) compared with 2018.',\n",
       "  'The non-financial services sector, which accounted for over half (56.7%) of total aGVA in 2019, increased by £25 billion (3.5%) to £744.4 billion; transport and storage saw the highest increase in aGVA growth at £7.2 billion (8.6%) increasing from £84.4 billion to £91.6 billion.',\n",
       "  'Total turnover and purchases of the UK non-financial business economy were estimated to be £4,101.5 billion and £2,761.4 billion respectively; an increase of £70.5 billion (1.7%) and £25.8 billion (0.9%) compared with 2018.',\n",
       "  'Out of the 12 UK regions, 8 regions experienced growth in aGVA; the South East experienced the largest increase in aGVA of £17.3 billion to £214.4 billion, which was as increase of 8.8% in 2019.',\n",
       "  'West Midlands, Yorkshire and The Humber, Scotland and East Midlands, were the four regions decreasing year-on-year in aGVA; the largest percentage decrease was in West Midlands where aGVA fell by £2.5 billion (2.6%), from £94.5 billion to £92 billion.'],\n",
       " 'related-datasets': ['/businessindustryandtrade/business/businessservices/datasets/uknonfinancialbusinesseconomyannualbusinesssurveyregionalresultsqualitymeasures',\n",
       "  '/businessindustryandtrade/business/businessservices/datasets/uknonfinancialbusinesseconomyannualbusinesssurveyrevisionsandchangeonpreviousyear',\n",
       "  '/businessindustryandtrade/business/businessservices/datasets/uknonfinancialbusinesseconomyannualbusinesssurveyregionalresultssectionsas',\n",
       "  '/businessindustryandtrade/business/businessservices/datasets/uknonfinancialbusinesseconomyannualbusinesssurveychangesyearonyear',\n",
       "  '/businessindustryandtrade/business/businessservices/datasets/uknonfinancialbusinesseconomyannualbusinesssurveyemploymentsizeband',\n",
       "  '/businessindustryandtrade/business/businessservices/datasets/uknonfinancialbusinesseconomyannualbusinesssurveyqualitymeasures',\n",
       "  '/businessindustryandtrade/business/businessservices/datasets/uknonfinancialbusinesseconomyannualbusinesssurveyretailcommodities',\n",
       "  '/businessindustryandtrade/business/businessservices/datasets/uknonfinancialbusinesseconomyannualbusinesssurveysectionsas'],\n",
       " 'date-and-percent': [0, 1, 2, 3, 4],\n",
       " 'just-dates': []}"
      ]
     },
     "metadata": {},
     "execution_count": 4
    }
   ],
   "metadata": {}
  },
  {
   "cell_type": "code",
   "execution_count": 192,
   "source": [
    "# THE FOLLOWING WAS ADDED IN THE\n",
    "# CORE FUNCTIONALITY IN\n",
    "# helpers/classes.py\n",
    "\n",
    "datepercent_bulletins = []\n",
    "date_bulletins = []\n",
    "\n",
    "keywords = [\n",
    "    'fall', 'rise', 'increase', 'decrease', 'low', 'high',\n",
    "    'compare', 'most', 'least',\n",
    "    'growth', 'grow', 'decline', 'fall', 'rise',\n",
    "    'double', 'triple',\n",
    "    'million', 'billion', 'trillion', 'thousand', 'hundred'\n",
    "    ] \n",
    "\n",
    "for bulletin in tqdm(bulletin_names):\n",
    "    main_points = collection.bulletins.get(bulletin).get('main-points')\n",
    "    date_percent_points = []\n",
    "    date_points = []\n",
    "    for i, point in enumerate(main_points):\n",
    "        entities = nlp(point).ents\n",
    "        labels = [x.label_ for x in entities]\n",
    "        lemmatised = [x.lemma_ for x in entities]\n",
    "\n",
    "        if 'DATE' and 'PERCENT' in labels:\n",
    "            date_percent_points.append(i)\n",
    "        elif 'DATE' in labels:\n",
    "            date_points.append(i)\n",
    "\n",
    "    if len(date_percent_points) != 0:\n",
    "        datepercent_bulletins.append((bulletin, date_percent_points))\n",
    "        collection.bulletins[bulletin]['date-percent'] = \\\n",
    "            [main_points[x] for x in date_percent_points]\n",
    "    if len(date_points) != 0:\n",
    "        date_bulletins.append((bulletin, date_points))\n",
    "        collection.bulletins[bulletin]['date'] = \\\n",
    "            [main_points[x] for x in date_points]\n",
    "    else:\n",
    "        collection.bulletins[bulletin]['date'] = []\n",
    "        collection.bulletins[bulletin]['date-percent'] = []"
   ],
   "outputs": [
    {
     "output_type": "stream",
     "name": "stderr",
     "text": [
      "100%|██████████| 625/625 [00:52<00:00, 11.80it/s]\n"
     ]
    }
   ],
   "metadata": {}
  },
  {
   "cell_type": "markdown",
   "source": [
    "## Data generation\n",
    "### creates a dataframe with cols {bulletin, type, point, data}"
   ],
   "metadata": {}
  },
  {
   "cell_type": "code",
   "execution_count": 107,
   "source": [
    "dataset = []\n",
    "for bulletin in bulletin_names:\n",
    "    content = collection.bulletins.get(bulletin)\n",
    "    related_datasets = content.get('related-datasets')\n",
    "    if len(related_datasets) > 0:\n",
    "        date_and_percent = content.get('date-and-percent')\n",
    "        just_dates = content.get('just-dates')\n",
    "        main_points = content.get('main-points')\n",
    "        if len(date_and_percent) != 0:\n",
    "            for entry in date_and_percent:\n",
    "                point = main_points[entry]\n",
    "                row = {'bulletin': bulletin, 'type': 'date_and_percent', 'point': point, 'data': related_datasets}\n",
    "                dataset.append(row)\n",
    "        if len(just_dates) != 0:\n",
    "            for entry in just_dates:\n",
    "                point = main_points[entry]\n",
    "                row = {'bulletin': bulletin, 'type': 'just_dates','point': point, 'data': related_datasets}\n",
    "                dataset.append(row)\n",
    "\n",
    "# save to drive\n",
    "df = pd.DataFrame(dataset)\n",
    "df.to_pickle(f\"pickles/dataset_{str(datetime.now().strftime('%Y%m%d_%H%M%S'))}.pkl\")"
   ],
   "outputs": [],
   "metadata": {}
  },
  {
   "cell_type": "markdown",
   "source": [
    "## View data"
   ],
   "metadata": {}
  },
  {
   "cell_type": "code",
   "execution_count": 4,
   "source": [
    "with open('pickles/dataset_20210625_184837.pkl', 'rb') as f:\n",
    "    df = pickle.load(f)"
   ],
   "outputs": [],
   "metadata": {}
  },
  {
   "cell_type": "code",
   "execution_count": 7,
   "source": [
    "df"
   ],
   "outputs": [
    {
     "output_type": "execute_result",
     "data": {
      "text/plain": [
       "                                               bulletin              type  \\\n",
       "0     businessindustryandtrade/business/businessserv...  date_and_percent   \n",
       "1     businessindustryandtrade/business/businessserv...  date_and_percent   \n",
       "2     businessindustryandtrade/business/businessserv...  date_and_percent   \n",
       "3     businessindustryandtrade/business/businessserv...  date_and_percent   \n",
       "4     businessindustryandtrade/business/businessserv...  date_and_percent   \n",
       "...                                                 ...               ...   \n",
       "2010  peoplepopulationandcommunity/wellbeing/article...  date_and_percent   \n",
       "2011  peoplepopulationandcommunity/wellbeing/article...  date_and_percent   \n",
       "2012  peoplepopulationandcommunity/wellbeing/article...  date_and_percent   \n",
       "2013  peoplepopulationandcommunity/wellbeing/article...  date_and_percent   \n",
       "2014  peoplepopulationandcommunity/wellbeing/article...        just_dates   \n",
       "\n",
       "                                                  point  \\\n",
       "0     In 2019, approximate gross value added at basi...   \n",
       "1     The non-financial services sector, which accou...   \n",
       "2     Total turnover and purchases of the UK non-fin...   \n",
       "3     Out of the 12 UK regions, 8 regions experience...   \n",
       "4     West Midlands, Yorkshire and The Humber, Scotl...   \n",
       "...                                                 ...   \n",
       "2010  Trust in others in their neighbourhood was hig...   \n",
       "2011  Trust in others in their neighbourhood was hig...   \n",
       "2012  People in higher managerial occupations were m...   \n",
       "2013  Around 6 in 10 people (61%) reported feeling s...   \n",
       "2014  Our research highlights that personal characte...   \n",
       "\n",
       "                                                   data  \n",
       "0     [/businessindustryandtrade/business/businessse...  \n",
       "1     [/businessindustryandtrade/business/businessse...  \n",
       "2     [/businessindustryandtrade/business/businessse...  \n",
       "3     [/businessindustryandtrade/business/businessse...  \n",
       "4     [/businessindustryandtrade/business/businessse...  \n",
       "...                                                 ...  \n",
       "2010  [/peoplepopulationandcommunity/wellbeing/datas...  \n",
       "2011  [/peoplepopulationandcommunity/wellbeing/datas...  \n",
       "2012  [/peoplepopulationandcommunity/wellbeing/datas...  \n",
       "2013  [/peoplepopulationandcommunity/wellbeing/datas...  \n",
       "2014  [/peoplepopulationandcommunity/wellbeing/datas...  \n",
       "\n",
       "[2015 rows x 4 columns]"
      ],
      "text/html": [
       "<div>\n",
       "<style scoped>\n",
       "    .dataframe tbody tr th:only-of-type {\n",
       "        vertical-align: middle;\n",
       "    }\n",
       "\n",
       "    .dataframe tbody tr th {\n",
       "        vertical-align: top;\n",
       "    }\n",
       "\n",
       "    .dataframe thead th {\n",
       "        text-align: right;\n",
       "    }\n",
       "</style>\n",
       "<table border=\"1\" class=\"dataframe\">\n",
       "  <thead>\n",
       "    <tr style=\"text-align: right;\">\n",
       "      <th></th>\n",
       "      <th>bulletin</th>\n",
       "      <th>type</th>\n",
       "      <th>point</th>\n",
       "      <th>data</th>\n",
       "    </tr>\n",
       "  </thead>\n",
       "  <tbody>\n",
       "    <tr>\n",
       "      <th>0</th>\n",
       "      <td>businessindustryandtrade/business/businessserv...</td>\n",
       "      <td>date_and_percent</td>\n",
       "      <td>In 2019, approximate gross value added at basi...</td>\n",
       "      <td>[/businessindustryandtrade/business/businessse...</td>\n",
       "    </tr>\n",
       "    <tr>\n",
       "      <th>1</th>\n",
       "      <td>businessindustryandtrade/business/businessserv...</td>\n",
       "      <td>date_and_percent</td>\n",
       "      <td>The non-financial services sector, which accou...</td>\n",
       "      <td>[/businessindustryandtrade/business/businessse...</td>\n",
       "    </tr>\n",
       "    <tr>\n",
       "      <th>2</th>\n",
       "      <td>businessindustryandtrade/business/businessserv...</td>\n",
       "      <td>date_and_percent</td>\n",
       "      <td>Total turnover and purchases of the UK non-fin...</td>\n",
       "      <td>[/businessindustryandtrade/business/businessse...</td>\n",
       "    </tr>\n",
       "    <tr>\n",
       "      <th>3</th>\n",
       "      <td>businessindustryandtrade/business/businessserv...</td>\n",
       "      <td>date_and_percent</td>\n",
       "      <td>Out of the 12 UK regions, 8 regions experience...</td>\n",
       "      <td>[/businessindustryandtrade/business/businessse...</td>\n",
       "    </tr>\n",
       "    <tr>\n",
       "      <th>4</th>\n",
       "      <td>businessindustryandtrade/business/businessserv...</td>\n",
       "      <td>date_and_percent</td>\n",
       "      <td>West Midlands, Yorkshire and The Humber, Scotl...</td>\n",
       "      <td>[/businessindustryandtrade/business/businessse...</td>\n",
       "    </tr>\n",
       "    <tr>\n",
       "      <th>...</th>\n",
       "      <td>...</td>\n",
       "      <td>...</td>\n",
       "      <td>...</td>\n",
       "      <td>...</td>\n",
       "    </tr>\n",
       "    <tr>\n",
       "      <th>2010</th>\n",
       "      <td>peoplepopulationandcommunity/wellbeing/article...</td>\n",
       "      <td>date_and_percent</td>\n",
       "      <td>Trust in others in their neighbourhood was hig...</td>\n",
       "      <td>[/peoplepopulationandcommunity/wellbeing/datas...</td>\n",
       "    </tr>\n",
       "    <tr>\n",
       "      <th>2011</th>\n",
       "      <td>peoplepopulationandcommunity/wellbeing/article...</td>\n",
       "      <td>date_and_percent</td>\n",
       "      <td>Trust in others in their neighbourhood was hig...</td>\n",
       "      <td>[/peoplepopulationandcommunity/wellbeing/datas...</td>\n",
       "    </tr>\n",
       "    <tr>\n",
       "      <th>2012</th>\n",
       "      <td>peoplepopulationandcommunity/wellbeing/article...</td>\n",
       "      <td>date_and_percent</td>\n",
       "      <td>People in higher managerial occupations were m...</td>\n",
       "      <td>[/peoplepopulationandcommunity/wellbeing/datas...</td>\n",
       "    </tr>\n",
       "    <tr>\n",
       "      <th>2013</th>\n",
       "      <td>peoplepopulationandcommunity/wellbeing/article...</td>\n",
       "      <td>date_and_percent</td>\n",
       "      <td>Around 6 in 10 people (61%) reported feeling s...</td>\n",
       "      <td>[/peoplepopulationandcommunity/wellbeing/datas...</td>\n",
       "    </tr>\n",
       "    <tr>\n",
       "      <th>2014</th>\n",
       "      <td>peoplepopulationandcommunity/wellbeing/article...</td>\n",
       "      <td>just_dates</td>\n",
       "      <td>Our research highlights that personal characte...</td>\n",
       "      <td>[/peoplepopulationandcommunity/wellbeing/datas...</td>\n",
       "    </tr>\n",
       "  </tbody>\n",
       "</table>\n",
       "<p>2015 rows × 4 columns</p>\n",
       "</div>"
      ]
     },
     "metadata": {},
     "execution_count": 7
    }
   ],
   "metadata": {}
  },
  {
   "cell_type": "markdown",
   "source": [
    "## Generate CLOZES"
   ],
   "metadata": {}
  },
  {
   "cell_type": "markdown",
   "source": [
    "The following few cells show to handle the creation of Cloze-style questions from a point.\n",
    "\n",
    "The output of `generate_clozes_from_point` is a generator, and contains as attributes various useful properties\n",
    "\n",
    "    - cloze_id\n",
    "    - original point\n",
    "    - answer\n",
    "    - ..."
   ],
   "metadata": {}
  },
  {
   "cell_type": "code",
   "execution_count": 8,
   "source": [
    "from generate_cloze import generate_clozes_from_point, named_entity_answer_generator as answer_generator"
   ],
   "outputs": [],
   "metadata": {}
  },
  {
   "cell_type": "code",
   "execution_count": 57,
   "source": [
    "all_clozes = []\n",
    "for _, row in tqdm(df.iterrows()):\n",
    "    point = row.point\n",
    "    clozes = [c for c in generate_clozes_from_point(point, ne_answer_generator, tokenizer)]\n",
    "    all_clozes.extend(clozes)\n",
    "\n",
    "ids = []\n",
    "cloze_text = []\n",
    "source_text = []\n",
    "answer = []\n",
    "types = []\n",
    "for cloze in all_clozes:\n",
    "    ids.append(cloze.cloze_id)\n",
    "    cloze_text.append(cloze.cloze_text)\n",
    "    source_text.append(cloze.source_text)\n",
    "    answer.append(cloze.answer_text)\n",
    "    types.append(cloze.answer_type)\n",
    "\n",
    "clozes_df = pd.DataFrame(\n",
    "    {'ids': ids, 'cloze_text': cloze_text,\n",
    "    'source_text': source_text, 'answer_text': answer, \n",
    "    'answer_type': types})\n",
    "\n",
    "clozes_df.to_json('pickles/clozes_20210715_212425.json', default_handler=str)"
   ],
   "outputs": [
    {
     "output_type": "execute_result",
     "data": {
      "text/plain": [
       "['In TEMPORALMASK, approximate gross value added at basic prices (aGVA) of the UK non-financial business economy was estimated to be £1,313.9 billion; an increase of £42.8 billion (3.4%) compared with 2018.',\n",
       " 'In 2019, approximate gross value added at basic prices (aGVA) of the UK non-financial business economy was estimated to be NUMERICMASK; an increase of £42.8 billion (3.4%) compared with 2018.',\n",
       " 'In 2019, approximate gross value added at basic prices (aGVA) of the UK non-financial business economy was estimated to be £1,313.9 billion; an increase of NUMERICMASK (3.4%) compared with 2018.',\n",
       " 'In 2019, approximate gross value added at basic prices (aGVA) of the UK non-financial business economy was estimated to be £1,313.9 billion; an increase of £42.8 billion (NUMERICMASK) compared with 2018.',\n",
       " 'In 2019, approximate gross value added at basic prices (aGVA) of the UK non-financial business economy was estimated to be £1,313.9 billion; an increase of £42.8 billion (3.4%) compared with TEMPORALMASK.']"
      ]
     },
     "metadata": {},
     "execution_count": 57
    }
   ],
   "metadata": {}
  },
  {
   "cell_type": "code",
   "execution_count": 37,
   "source": [
    "df.iloc[22].point"
   ],
   "outputs": [
    {
     "output_type": "execute_result",
     "data": {
      "text/plain": [
       "'London had both the highest business birth rate at 15.7%, and death rate at 13.1%.'"
      ]
     },
     "metadata": {},
     "execution_count": 37
    }
   ],
   "metadata": {}
  },
  {
   "cell_type": "code",
   "execution_count": 20,
   "source": [
    "all_clozes = []\n",
    "\n",
    "for _, row in tqdm(df.iterrows()):\n",
    "    clozes = [c for c in generate_clozes_from_point(row.point, answer_generator)]\n",
    "    all_clozes.extend(clozes)"
   ],
   "outputs": [
    {
     "output_type": "stream",
     "name": "stderr",
     "text": [
      "2015it [06:51,  4.89it/s]\n"
     ]
    }
   ],
   "metadata": {}
  },
  {
   "cell_type": "code",
   "execution_count": null,
   "source": [],
   "outputs": [],
   "metadata": {}
  },
  {
   "cell_type": "code",
   "execution_count": 60,
   "source": [
    "ids = []\n",
    "cloze_text = []\n",
    "source_text = []\n",
    "answer = []\n",
    "types = []\n",
    "for cloze in all_clozes:\n",
    "    ids.append(cloze.cloze_id)\n",
    "    cloze_text.append(cloze.cloze_text)\n",
    "    source_text.append(cloze.source_text.text) # source_text is spacy.span convert to str\n",
    "    answer.append(cloze.answer_text)\n",
    "    types.append(cloze.answer_type)\n",
    "\n",
    "clozes_df = pd.DataFrame(\n",
    "    {'ids': ids, 'cloze_text': cloze_text,\n",
    "    'source_text': source_text, 'answer_text': answer, \n",
    "    'answer_type': types})\n",
    "\n",
    "clozes_df.to_json('pickles/clozes_20210824.json', default_handler=str)"
   ],
   "outputs": [],
   "metadata": {}
  },
  {
   "cell_type": "markdown",
   "source": [
    "# Download XLS files"
   ],
   "metadata": {}
  },
  {
   "cell_type": "code",
   "execution_count": 35,
   "source": [
    "for name in tqdm(target_bulletins):\n",
    "    bulletin = collection.bulletins.get(name)\n",
    "    related_datasets = bulletin.get('related-datasets')\n",
    "    for dataset in related_datasets:\n",
    "        url = 'https://www.ons.gov.uk' + dataset\n",
    "        log = requests.get(url)\n",
    "        soup = BeautifulSoup(log.content, features = 'html')\n",
    "        list_of_datsets = soup.findAll('a', {'class':'btn btn--primary btn--thick'}, href = True)\n",
    "        # take the most recent one\n",
    "        if len(list_of_datsets):\n",
    "            excel_file = 'https://www.ons.gov.uk' + list_of_datsets[0]['href']\n",
    "            download = requests.get(excel_file)\n",
    "\n",
    "            # change / to _ so you can save them \n",
    "            # also ignore the first / for naming convenience\n",
    "            savename = dataset.replace('/', '_')[1:]\n",
    "            with open(f'datasets/{savename}.xls', 'wb') as f:\n",
    "                f.write(download.content)"
   ],
   "outputs": [
    {
     "output_type": "stream",
     "name": "stderr",
     "text": [
      "100%|██████████| 328/328 [11:53<00:00,  2.17s/it]\n"
     ]
    }
   ],
   "metadata": {}
  }
 ],
 "metadata": {
  "interpreter": {
   "hash": "6b9679e1c6c858221750b0560d352a46169916bc602dce44bbd2a48d631c8c5d"
  },
  "kernelspec": {
   "name": "python3",
   "display_name": "Python 3.9.2 64-bit ('comp0087': conda)"
  },
  "language_info": {
   "name": "python",
   "version": "3.9.2",
   "mimetype": "text/x-python",
   "codemirror_mode": {
    "name": "ipython",
    "version": 3
   },
   "pygments_lexer": "ipython3",
   "nbconvert_exporter": "python",
   "file_extension": ".py"
  },
  "orig_nbformat": 4
 },
 "nbformat": 4,
 "nbformat_minor": 2
}