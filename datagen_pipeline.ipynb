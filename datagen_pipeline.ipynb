{
 "metadata": {
  "language_info": {
   "codemirror_mode": {
    "name": "ipython",
    "version": 3
   },
   "file_extension": ".py",
   "mimetype": "text/x-python",
   "name": "python",
   "nbconvert_exporter": "python",
   "pygments_lexer": "ipython3",
   "version": "3.9.2"
  },
  "orig_nbformat": 4,
  "kernelspec": {
   "name": "python3",
   "display_name": "Python 3.9.2 64-bit ('comp0087': conda)"
  },
  "interpreter": {
   "hash": "6b9679e1c6c858221750b0560d352a46169916bc602dce44bbd2a48d631c8c5d"
  }
 },
 "nbformat": 4,
 "nbformat_minor": 2,
 "cells": [
  {
   "cell_type": "code",
   "execution_count": 23,
   "metadata": {},
   "outputs": [],
   "source": [
    "import pandas as pd\n",
    "import numpy as np\n",
    "import pickle, logging, spacy\n",
    "import matplotlib.pyplot as plt\n",
    "from helpers.classes import Collection\n",
    "from tqdm import tqdm\n",
    "import requests\n",
    "from bs4 import BeautifulSoup\n",
    "from datetime import datetime\n",
    "import json"
   ]
  },
  {
   "cell_type": "code",
   "execution_count": 2,
   "metadata": {},
   "outputs": [],
   "source": [
    "with open('pickles/collection_20210624_194932.pkl', 'rb') as f:\n",
    "    collection = pickle.load(f)\n",
    "# with open('pickles/collection_20210622_220215.pkl', 'rb') as f:\n",
    "#     collection = pickle.load(f)"
   ]
  },
  {
   "cell_type": "code",
   "execution_count": 3,
   "metadata": {},
   "outputs": [],
   "source": [
    "# bulletin_names contains all bulletins collected through scrapping\n",
    "bulletin_names = list(collection.bulletins.keys())\n",
    "\n",
    "# target bulletins are those with usable related datasets and main points\n",
    "target_bulletins = []\n",
    "for bulletin in bulletin_names:\n",
    "    if len(collection.bulletins.get(bulletin).get('main-points')) and len(collection.bulletins.get(bulletin).get('related-datasets')) > 0:\n",
    "        target_bulletins.append(bulletin)"
   ]
  },
  {
   "cell_type": "code",
   "execution_count": 22,
   "metadata": {},
   "outputs": [
    {
     "output_type": "execute_result",
     "data": {
      "text/plain": [
       "{'main-points': ['In 2019, approximate gross value added at basic prices (aGVA) of the UK non-financial business economy was estimated to be £1,313.9 billion; an increase of £42.8 billion (3.4%) compared with 2018.',\n",
       "  'The non-financial services sector, which accounted for over half (56.7%) of total aGVA in 2019, increased by £25 billion (3.5%) to £744.4 billion; transport and storage saw the highest increase in aGVA growth at £7.2 billion (8.6%) increasing from £84.4 billion to £91.6 billion.',\n",
       "  'Total turnover and purchases of the UK non-financial business economy were estimated to be £4,101.5 billion and £2,761.4 billion respectively; an increase of £70.5 billion (1.7%) and £25.8 billion (0.9%) compared with 2018.',\n",
       "  'Out of the 12 UK regions, 8 regions experienced growth in aGVA; the South East experienced the largest increase in aGVA of £17.3 billion to £214.4 billion, which was as increase of 8.8% in 2019.',\n",
       "  'West Midlands, Yorkshire and The Humber, Scotland and East Midlands, were the four regions decreasing year-on-year in aGVA; the largest percentage decrease was in West Midlands where aGVA fell by £2.5 billion (2.6%), from £94.5 billion to £92 billion.'],\n",
       " 'related-datasets': ['/businessindustryandtrade/business/businessservices/datasets/uknonfinancialbusinesseconomyannualbusinesssurveyregionalresultsqualitymeasures',\n",
       "  '/businessindustryandtrade/business/businessservices/datasets/uknonfinancialbusinesseconomyannualbusinesssurveyrevisionsandchangeonpreviousyear',\n",
       "  '/businessindustryandtrade/business/businessservices/datasets/uknonfinancialbusinesseconomyannualbusinesssurveyregionalresultssectionsas',\n",
       "  '/businessindustryandtrade/business/businessservices/datasets/uknonfinancialbusinesseconomyannualbusinesssurveychangesyearonyear',\n",
       "  '/businessindustryandtrade/business/businessservices/datasets/uknonfinancialbusinesseconomyannualbusinesssurveyemploymentsizeband',\n",
       "  '/businessindustryandtrade/business/businessservices/datasets/uknonfinancialbusinesseconomyannualbusinesssurveyqualitymeasures',\n",
       "  '/businessindustryandtrade/business/businessservices/datasets/uknonfinancialbusinesseconomyannualbusinesssurveyretailcommodities',\n",
       "  '/businessindustryandtrade/business/businessservices/datasets/uknonfinancialbusinesseconomyannualbusinesssurveysectionsas'],\n",
       " 'date-and-percent': [0, 1, 2, 3, 4],\n",
       " 'just-dates': []}"
      ]
     },
     "metadata": {},
     "execution_count": 22
    }
   ],
   "source": [
    "collection.bulletins.get(target_bulletins[0])"
   ]
  },
  {
   "cell_type": "code",
   "execution_count": 192,
   "metadata": {},
   "outputs": [
    {
     "output_type": "stream",
     "name": "stderr",
     "text": [
      "100%|██████████| 625/625 [00:52<00:00, 11.80it/s]\n"
     ]
    }
   ],
   "source": [
    "# THE FOLLOWING WAS ADDED IN THE\n",
    "# CORE FUNCTIONALITY IN\n",
    "# helpers/classes.py\n",
    "\n",
    "datepercent_bulletins = []\n",
    "date_bulletins = []\n",
    "\n",
    "keywords = [\n",
    "    'fall', 'rise', 'increase', 'decrease', 'low', 'high',\n",
    "    'compare', 'most', 'least',\n",
    "    'growth', 'grow', 'decline', 'fall', 'rise',\n",
    "    'double', 'triple',\n",
    "    'million', 'billion', 'trillion', 'thousand', 'hundred'\n",
    "    ] \n",
    "\n",
    "for bulletin in tqdm(bulletin_names):\n",
    "    main_points = collection.bulletins.get(bulletin).get('main-points')\n",
    "    date_percent_points = []\n",
    "    date_points = []\n",
    "    for i, point in enumerate(main_points):\n",
    "        entities = nlp(point).ents\n",
    "        labels = [x.label_ for x in entities]\n",
    "        lemmatised = [x.lemma_ for x in entities]\n",
    "\n",
    "        if 'DATE' and 'PERCENT' in labels:\n",
    "            date_percent_points.append(i)\n",
    "        elif 'DATE' in labels:\n",
    "            date_points.append(i)\n",
    "\n",
    "    if len(date_percent_points) != 0:\n",
    "        datepercent_bulletins.append((bulletin, date_percent_points))\n",
    "        collection.bulletins[bulletin]['date-percent'] = \\\n",
    "            [main_points[x] for x in date_percent_points]\n",
    "    if len(date_points) != 0:\n",
    "        date_bulletins.append((bulletin, date_points))\n",
    "        collection.bulletins[bulletin]['date'] = \\\n",
    "            [main_points[x] for x in date_points]\n",
    "    else:\n",
    "        collection.bulletins[bulletin]['date'] = []\n",
    "        collection.bulletins[bulletin]['date-percent'] = []"
   ]
  },
  {
   "source": [
    "## Data generation\n",
    "### creates a dataframe with cols {bulletin, type, point, data}"
   ],
   "cell_type": "markdown",
   "metadata": {}
  },
  {
   "cell_type": "code",
   "execution_count": 107,
   "metadata": {},
   "outputs": [],
   "source": [
    "dataset = []\n",
    "for bulletin in bulletin_names:\n",
    "    content = collection.bulletins.get(bulletin)\n",
    "    related_datasets = content.get('related-datasets')\n",
    "    if len(related_datasets) > 0:\n",
    "        date_and_percent = content.get('date-and-percent')\n",
    "        just_dates = content.get('just-dates')\n",
    "        main_points = content.get('main-points')\n",
    "        if len(date_and_percent) != 0:\n",
    "            for entry in date_and_percent:\n",
    "                point = main_points[entry]\n",
    "                row = {'bulletin': bulletin, 'type': 'date_and_percent', 'point': point, 'data': related_datasets}\n",
    "                dataset.append(row)\n",
    "        if len(just_dates) != 0:\n",
    "            for entry in just_dates:\n",
    "                point = main_points[entry]\n",
    "                row = {'bulletin': bulletin, 'type': 'just_dates','point': point, 'data': related_datasets}\n",
    "                dataset.append(row)\n",
    "\n",
    "# save to drive\n",
    "df = pd.DataFrame(dataset)\n",
    "df.to_pickle(f\"pickles/dataset_{str(datetime.now().strftime('%Y%m%d_%H%M%S'))}.pkl\")"
   ]
  },
  {
   "source": [
    "## View data"
   ],
   "cell_type": "markdown",
   "metadata": {}
  },
  {
   "cell_type": "code",
   "execution_count": 38,
   "metadata": {},
   "outputs": [],
   "source": [
    "with open('pickles/dataset_20210625_184837.pkl', 'rb') as f:\n",
    "    df = pickle.load(f)"
   ]
  },
  {
   "cell_type": "code",
   "execution_count": 51,
   "metadata": {},
   "outputs": [
    {
     "output_type": "execute_result",
     "data": {
      "text/plain": [
       "                                            bulletin              type  \\\n",
       "0  businessindustryandtrade/business/businessserv...  date_and_percent   \n",
       "1  businessindustryandtrade/business/businessserv...  date_and_percent   \n",
       "2  businessindustryandtrade/business/businessserv...  date_and_percent   \n",
       "3  businessindustryandtrade/business/businessserv...  date_and_percent   \n",
       "4  businessindustryandtrade/business/businessserv...  date_and_percent   \n",
       "\n",
       "                                               point  \\\n",
       "0  In 2019, approximate gross value added at basi...   \n",
       "1  The non-financial services sector, which accou...   \n",
       "2  Total turnover and purchases of the UK non-fin...   \n",
       "3  Out of the 12 UK regions, 8 regions experience...   \n",
       "4  West Midlands, Yorkshire and The Humber, Scotl...   \n",
       "\n",
       "                                                data  \n",
       "0  [/businessindustryandtrade/business/businessse...  \n",
       "1  [/businessindustryandtrade/business/businessse...  \n",
       "2  [/businessindustryandtrade/business/businessse...  \n",
       "3  [/businessindustryandtrade/business/businessse...  \n",
       "4  [/businessindustryandtrade/business/businessse...  "
      ],
      "text/html": "<div>\n<style scoped>\n    .dataframe tbody tr th:only-of-type {\n        vertical-align: middle;\n    }\n\n    .dataframe tbody tr th {\n        vertical-align: top;\n    }\n\n    .dataframe thead th {\n        text-align: right;\n    }\n</style>\n<table border=\"1\" class=\"dataframe\">\n  <thead>\n    <tr style=\"text-align: right;\">\n      <th></th>\n      <th>bulletin</th>\n      <th>type</th>\n      <th>point</th>\n      <th>data</th>\n    </tr>\n  </thead>\n  <tbody>\n    <tr>\n      <th>0</th>\n      <td>businessindustryandtrade/business/businessserv...</td>\n      <td>date_and_percent</td>\n      <td>In 2019, approximate gross value added at basi...</td>\n      <td>[/businessindustryandtrade/business/businessse...</td>\n    </tr>\n    <tr>\n      <th>1</th>\n      <td>businessindustryandtrade/business/businessserv...</td>\n      <td>date_and_percent</td>\n      <td>The non-financial services sector, which accou...</td>\n      <td>[/businessindustryandtrade/business/businessse...</td>\n    </tr>\n    <tr>\n      <th>2</th>\n      <td>businessindustryandtrade/business/businessserv...</td>\n      <td>date_and_percent</td>\n      <td>Total turnover and purchases of the UK non-fin...</td>\n      <td>[/businessindustryandtrade/business/businessse...</td>\n    </tr>\n    <tr>\n      <th>3</th>\n      <td>businessindustryandtrade/business/businessserv...</td>\n      <td>date_and_percent</td>\n      <td>Out of the 12 UK regions, 8 regions experience...</td>\n      <td>[/businessindustryandtrade/business/businessse...</td>\n    </tr>\n    <tr>\n      <th>4</th>\n      <td>businessindustryandtrade/business/businessserv...</td>\n      <td>date_and_percent</td>\n      <td>West Midlands, Yorkshire and The Humber, Scotl...</td>\n      <td>[/businessindustryandtrade/business/businessse...</td>\n    </tr>\n  </tbody>\n</table>\n</div>"
     },
     "metadata": {},
     "execution_count": 51
    }
   ],
   "source": [
    "df.head()"
   ]
  },
  {
   "source": [
    "## Generate CLOZES"
   ],
   "cell_type": "markdown",
   "metadata": {}
  },
  {
   "source": [
    "The following few cells show to handle the creation of Cloze-style questions from a point.\n",
    "\n",
    "The output of `generate_clozes_from_point` is a generator, and contains as attributes various useful properties\n",
    "\n",
    "    - cloze_id\n",
    "    - original point\n",
    "    - answer\n",
    "    - ..."
   ],
   "cell_type": "markdown",
   "metadata": {}
  },
  {
   "cell_type": "code",
   "execution_count": 56,
   "metadata": {},
   "outputs": [],
   "source": [
    "from generate_cloze import generate_clozes_from_point, named_entity_answer_generator as answer_generator"
   ]
  },
  {
   "cell_type": "code",
   "execution_count": 57,
   "metadata": {},
   "outputs": [
    {
     "output_type": "execute_result",
     "data": {
      "text/plain": [
       "['In TEMPORALMASK, approximate gross value added at basic prices (aGVA) of the UK non-financial business economy was estimated to be £1,313.9 billion; an increase of £42.8 billion (3.4%) compared with 2018.',\n",
       " 'In 2019, approximate gross value added at basic prices (aGVA) of the UK non-financial business economy was estimated to be NUMERICMASK; an increase of £42.8 billion (3.4%) compared with 2018.',\n",
       " 'In 2019, approximate gross value added at basic prices (aGVA) of the UK non-financial business economy was estimated to be £1,313.9 billion; an increase of NUMERICMASK (3.4%) compared with 2018.',\n",
       " 'In 2019, approximate gross value added at basic prices (aGVA) of the UK non-financial business economy was estimated to be £1,313.9 billion; an increase of £42.8 billion (NUMERICMASK) compared with 2018.',\n",
       " 'In 2019, approximate gross value added at basic prices (aGVA) of the UK non-financial business economy was estimated to be £1,313.9 billion; an increase of £42.8 billion (3.4%) compared with TEMPORALMASK.']"
      ]
     },
     "metadata": {},
     "execution_count": 57
    }
   ],
   "source": [
    "[c.cloze_text for c in generate_clozes_from_point(df['point'][0], answer_generator)]"
   ]
  },
  {
   "cell_type": "code",
   "execution_count": 58,
   "metadata": {},
   "outputs": [
    {
     "output_type": "execute_result",
     "data": {
      "text/plain": [
       "['2019', '£1,313.9 billion', '£42.8 billion', '3.4%', '2018']"
      ]
     },
     "metadata": {},
     "execution_count": 58
    }
   ],
   "source": [
    "[c.answer_text for c in generate_clozes_from_point(df['point'][0], answer_generator)]"
   ]
  },
  {
   "cell_type": "code",
   "execution_count": 59,
   "metadata": {},
   "outputs": [
    {
     "output_type": "execute_result",
     "data": {
      "text/plain": [
       "[Cloze(cloze_id='ccf75a2c157eacc5253f0e8a55b1ded9f5386d58', point='In 2019, approximate gross value added at basic prices (aGVA) of the UK non-financial business economy was estimated to be £1,313.9 billion; an increase of £42.8 billion (3.4%) compared with 2018.', source_text=In 2019, approximate gross value added at basic prices (aGVA) of the UK non-financial business economy was estimated to be £1,313.9 billion; an increase of £42.8 billion (3.4%) compared with 2018., source_start=0, cloze_text='In TEMPORALMASK, approximate gross value added at basic prices (aGVA) of the UK non-financial business economy was estimated to be £1,313.9 billion; an increase of £42.8 billion (3.4%) compared with 2018.', answer_text='2019', answer_start=3, constituency_parse=None, root_label=None, answer_type='DATE', question_text=None),\n",
       " Cloze(cloze_id='fc3346f2545ca5059bdb5150b998300c5001bea5', point='In 2019, approximate gross value added at basic prices (aGVA) of the UK non-financial business economy was estimated to be £1,313.9 billion; an increase of £42.8 billion (3.4%) compared with 2018.', source_text=In 2019, approximate gross value added at basic prices (aGVA) of the UK non-financial business economy was estimated to be £1,313.9 billion; an increase of £42.8 billion (3.4%) compared with 2018., source_start=0, cloze_text='In 2019, approximate gross value added at basic prices (aGVA) of the UK non-financial business economy was estimated to be NUMERICMASK; an increase of £42.8 billion (3.4%) compared with 2018.', answer_text='£1,313.9 billion', answer_start=123, constituency_parse=None, root_label=None, answer_type='MONEY', question_text=None),\n",
       " Cloze(cloze_id='81aa32270d547a368e7b806646c72069ba4fac43', point='In 2019, approximate gross value added at basic prices (aGVA) of the UK non-financial business economy was estimated to be £1,313.9 billion; an increase of £42.8 billion (3.4%) compared with 2018.', source_text=In 2019, approximate gross value added at basic prices (aGVA) of the UK non-financial business economy was estimated to be £1,313.9 billion; an increase of £42.8 billion (3.4%) compared with 2018., source_start=0, cloze_text='In 2019, approximate gross value added at basic prices (aGVA) of the UK non-financial business economy was estimated to be £1,313.9 billion; an increase of NUMERICMASK (3.4%) compared with 2018.', answer_text='£42.8 billion', answer_start=156, constituency_parse=None, root_label=None, answer_type='MONEY', question_text=None),\n",
       " Cloze(cloze_id='f308eb661ad1d6c8021cf9e22d8e8c7d9c5ff50e', point='In 2019, approximate gross value added at basic prices (aGVA) of the UK non-financial business economy was estimated to be £1,313.9 billion; an increase of £42.8 billion (3.4%) compared with 2018.', source_text=In 2019, approximate gross value added at basic prices (aGVA) of the UK non-financial business economy was estimated to be £1,313.9 billion; an increase of £42.8 billion (3.4%) compared with 2018., source_start=0, cloze_text='In 2019, approximate gross value added at basic prices (aGVA) of the UK non-financial business economy was estimated to be £1,313.9 billion; an increase of £42.8 billion (NUMERICMASK) compared with 2018.', answer_text='3.4%', answer_start=171, constituency_parse=None, root_label=None, answer_type='PERCENT', question_text=None),\n",
       " Cloze(cloze_id='0a0bcf4b990f1926bc87fa662badadaf7e23d5fa', point='In 2019, approximate gross value added at basic prices (aGVA) of the UK non-financial business economy was estimated to be £1,313.9 billion; an increase of £42.8 billion (3.4%) compared with 2018.', source_text=In 2019, approximate gross value added at basic prices (aGVA) of the UK non-financial business economy was estimated to be £1,313.9 billion; an increase of £42.8 billion (3.4%) compared with 2018., source_start=0, cloze_text='In 2019, approximate gross value added at basic prices (aGVA) of the UK non-financial business economy was estimated to be £1,313.9 billion; an increase of £42.8 billion (3.4%) compared with TEMPORALMASK.', answer_text='2018', answer_start=191, constituency_parse=None, root_label=None, answer_type='DATE', question_text=None)]"
      ]
     },
     "metadata": {},
     "execution_count": 59
    }
   ],
   "source": [
    "[c for c in generate_clozes_from_point(df['point'][0], answer_generator)]"
   ]
  },
  {
   "source": [
    "# Download XLS files"
   ],
   "cell_type": "markdown",
   "metadata": {}
  },
  {
   "cell_type": "code",
   "execution_count": 35,
   "metadata": {},
   "outputs": [
    {
     "output_type": "stream",
     "name": "stderr",
     "text": [
      "100%|██████████| 328/328 [11:53<00:00,  2.17s/it]\n"
     ]
    }
   ],
   "source": [
    "for name in tqdm(target_bulletins):\n",
    "    bulletin = collection.bulletins.get(name)\n",
    "    related_datasets = bulletin.get('related-datasets')\n",
    "    for dataset in related_datasets:\n",
    "        url = 'https://www.ons.gov.uk' + dataset\n",
    "        log = requests.get(url)\n",
    "        soup = BeautifulSoup(log.content, features = 'html')\n",
    "        list_of_datsets = soup.findAll('a', {'class':'btn btn--primary btn--thick'}, href = True)\n",
    "        # take the most recent one\n",
    "        if len(list_of_datsets):\n",
    "            excel_file = 'https://www.ons.gov.uk' + list_of_datsets[0]['href']\n",
    "            download = requests.get(excel_file)\n",
    "\n",
    "            # change / to _ so you can save them \n",
    "            # also ignore the first / for naming convenience\n",
    "            savename = dataset.replace('/', '_')[1:]\n",
    "            with open(f'datasets/{savename}.xls', 'wb') as f:\n",
    "                f.write(download.content)"
   ]
  }
 ]
}